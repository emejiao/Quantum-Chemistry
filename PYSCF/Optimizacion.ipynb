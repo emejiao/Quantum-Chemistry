{
 "cells": [
  {
   "cell_type": "markdown",
   "id": "4174cc60-70d9-4794-b30d-134a6349f1d3",
   "metadata": {
    "tags": []
   },
   "source": [
    "<font color=blue size=6>**Optimización**\n",
    "    \n",
    "<font color=blue size=5>**Enrique Mejía Ospino**\n",
    "    \n",
    "<font color=blue size=5>**Química Cuántica Avanzada**\n",
    "    \n",
    "<font color=blue size=5>**Universidad Industrial de Santander**"
   ]
  },
  {
   "cell_type": "code",
   "execution_count": 1,
   "id": "894dd224-ddad-4101-b767-d5463106c5a4",
   "metadata": {},
   "outputs": [
    {
     "name": "stdout",
     "output_type": "stream",
     "text": [
      "\n",
      "Geometry optimization cycle 1\n",
      "Cartesian coordinates (Angstrom)\n",
      " Atom        New coordinates             dX        dY        dZ\n",
      "   N   0.000000   0.000000   0.000000    0.000000  0.000000  0.000000\n",
      "   N   0.000000   0.000000   1.200000    0.000000  0.000000  0.000000\n",
      "converged SCF energy = -108.914051975052\n",
      "--------------- SCF_Scanner gradients ---------------\n",
      "         x                y                z\n",
      "0 N    -0.0000000000     0.0000000000    -0.3121321959\n",
      "1 N     0.0000000000    -0.0000000000     0.3121321959\n",
      "----------------------------------------------\n",
      "cycle 1: E = -108.914051975  dE = -108.914  norm(grad) = 0.441422\n",
      "\n",
      "Geometry optimization cycle 2\n",
      "Cartesian coordinates (Angstrom)\n",
      " Atom        New coordinates             dX        dY        dZ\n",
      "   N   0.000000   0.000000   0.079377    0.000000  0.000000  0.079377\n",
      "   N   0.000000   0.000000   1.120623    0.000000  0.000000 -0.079377\n",
      "\n",
      "WARN: Large deviations found between the input molecule and the molecule from chkfile\n",
      "Initial guess density matrix may have large error.\n",
      "\n",
      "converged SCF energy = -108.95047828901\n",
      "--------------- SCF_Scanner gradients ---------------\n",
      "         x                y                z\n",
      "0 N     0.0000000000    -0.0000000000     0.1553466138\n",
      "1 N    -0.0000000000     0.0000000000    -0.1553466138\n",
      "----------------------------------------------\n",
      "cycle 2: E = -108.950478289  dE = -0.0364263  norm(grad) = 0.219693\n",
      "\n",
      "Geometry optimization cycle 3\n",
      "Cartesian coordinates (Angstrom)\n",
      " Atom        New coordinates             dX        dY        dZ\n",
      "   N   0.000000   0.000000   0.053007    0.000000  0.000000 -0.026370\n",
      "   N   0.000000   0.000000   1.146993    0.000000  0.000000  0.026370\n",
      "\n",
      "WARN: Large deviations found between the input molecule and the molecule from chkfile\n",
      "Initial guess density matrix may have large error.\n",
      "\n",
      "converged SCF energy = -108.954593583793\n",
      "--------------- SCF_Scanner gradients ---------------\n",
      "         x                y                z\n",
      "0 N    -0.0000000000    -0.0000000000    -0.0600815171\n",
      "1 N     0.0000000000     0.0000000000     0.0600815171\n",
      "----------------------------------------------\n",
      "cycle 3: E = -108.954593584  dE = -0.00411529  norm(grad) = 0.0849681\n",
      "\n",
      "Geometry optimization cycle 4\n",
      "Cartesian coordinates (Angstrom)\n",
      " Atom        New coordinates             dX        dY        dZ\n",
      "   N   0.000000   0.000000   0.060361    0.000000  0.000000  0.007354\n",
      "   N   0.000000   0.000000   1.139639    0.000000  0.000000 -0.007354\n",
      "\n",
      "WARN: Large deviations found between the input molecule and the molecule from chkfile\n",
      "Initial guess density matrix may have large error.\n",
      "\n",
      "converged SCF energy = -108.955544786969\n",
      "--------------- SCF_Scanner gradients ---------------\n",
      "         x                y                z\n",
      "0 N    -0.0000000000    -0.0000000000    -0.0074794574\n",
      "1 N     0.0000000000     0.0000000000     0.0074794574\n",
      "----------------------------------------------\n",
      "cycle 4: E = -108.955544787  dE = -0.000951203  norm(grad) = 0.0105776\n",
      "\n",
      "Geometry optimization cycle 5\n",
      "Cartesian coordinates (Angstrom)\n",
      " Atom        New coordinates             dX        dY        dZ\n",
      "   N   0.000000   0.000000   0.061407    0.000000  0.000000  0.001046\n",
      "   N   0.000000   0.000000   1.138593    0.000000  0.000000 -0.001046\n",
      "converged SCF energy = -108.955558739847\n",
      "--------------- SCF_Scanner gradients ---------------\n",
      "         x                y                z\n",
      "0 N     0.0000000000    -0.0000000000     0.0004373342\n",
      "1 N    -0.0000000000     0.0000000000    -0.0004373342\n",
      "----------------------------------------------\n",
      "cycle 5: E = -108.95555874  dE = -1.39529e-05  norm(grad) = 0.000618484\n",
      "\n",
      "Geometry optimization cycle 6\n",
      "Cartesian coordinates (Angstrom)\n",
      " Atom        New coordinates             dX        dY        dZ\n",
      "   N   0.000000   0.000000   0.061349    0.000000  0.000000 -0.000058\n",
      "   N   0.000000   0.000000   1.138651    0.000000  0.000000  0.000058\n",
      "converged SCF energy = -108.955558787298\n",
      "--------------- SCF_Scanner gradients ---------------\n",
      "         x                y                z\n",
      "0 N    -0.0000000000     0.0000000000    -0.0000031240\n",
      "1 N     0.0000000000    -0.0000000000     0.0000031240\n",
      "----------------------------------------------\n",
      "cycle 6: E = -108.955558787  dE = -4.74512e-08  norm(grad) = 4.41806e-06\n",
      "[[0.         0.         0.11593315]\n",
      " [0.         0.         2.1517382 ]]\n"
     ]
    }
   ],
   "source": [
    "from pyscf import gto, scf\n",
    "from pyscf.geomopt.berny_solver import optimize\n",
    "mol = gto.M(atom='N 0 0 0; N 0 0 1.2', basis='ccpvdz')\n",
    "mf = scf.RHF(mol)\n",
    "mol_eq = optimize(mf)\n",
    "print(mol_eq.atom_coords())"
   ]
  },
  {
   "cell_type": "code",
   "execution_count": 15,
   "id": "c8a4033f-b2fc-4c30-aee5-461bce27e521",
   "metadata": {},
   "outputs": [
    {
     "name": "stdout",
     "output_type": "stream",
     "text": [
      "converged SCF energy = -108.955558787295\n"
     ]
    }
   ],
   "source": [
    "mol1 = gto.Mole()\n",
    "mol1.atom ='''\n",
    "N   0.000000   0.000000   0.061349\n",
    "N   0.000000   0.000000   1.138651\n",
    "'''\n",
    "mol1.basis = 'ccpvdz'\n",
    "mol1.build()\n",
    "rhf_N2 = scf.RHF(mol1)\n",
    "e_N2 = rhf_N2.kernel()"
   ]
  },
  {
   "cell_type": "code",
   "execution_count": 25,
   "id": "121c9bef-b6ba-4f1d-9803-58d312a71011",
   "metadata": {},
   "outputs": [
    {
     "name": "stdout",
     "output_type": "stream",
     "text": [
      "overwrite output file: ./Data/dor_opt\n"
     ]
    },
    {
     "name": "stderr",
     "output_type": "stream",
     "text": [
      "WARN: Large deviations found between the input molecule and the molecule from chkfile\n",
      "Initial guess density matrix may have large error.\n"
     ]
    }
   ],
   "source": [
    "mol2 = gto.Mole()\n",
    "mol2.verbose = 4 # Esta función permite que en el archivo de salida se almacene con más o menos detalles información\n",
    "# del cálculo y los resultados, con 4 se almacena suficiente detalle\n",
    "mol2.output = './Data/dor_opt' # Este es el nombre del archivo de salida\n",
    "mol2.atom ='./molecules/dor.xyz'\n",
    "#mol2.basis = 'ccpvdz'\n",
    "mol2.build()\n",
    "mf2 = scf.RHF(mol2)\n",
    "dor_opt = optimize(mf2)"
   ]
  },
  {
   "cell_type": "code",
   "execution_count": null,
   "id": "18cff5ed-43a0-46ff-95ef-cc5a2366a7d8",
   "metadata": {},
   "outputs": [],
   "source": []
  }
 ],
 "metadata": {
  "kernelspec": {
   "display_name": "Python 3 (ipykernel)",
   "language": "python",
   "name": "python3"
  },
  "language_info": {
   "codemirror_mode": {
    "name": "ipython",
    "version": 3
   },
   "file_extension": ".py",
   "mimetype": "text/x-python",
   "name": "python",
   "nbconvert_exporter": "python",
   "pygments_lexer": "ipython3",
   "version": "3.8.11"
  }
 },
 "nbformat": 4,
 "nbformat_minor": 5
}
