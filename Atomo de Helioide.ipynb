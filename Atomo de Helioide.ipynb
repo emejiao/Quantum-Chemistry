{
 "cells": [
  {
   "cell_type": "markdown",
   "metadata": {
    "slideshow": {
     "slide_type": "slide"
    }
   },
   "source": [
    "<div class=\"alert alert-info\" role=\"alert\">\n",
    "  <h1 class=\"alert-heading\">Introducción a la Química Cuántica</h1>\n",
    "  <h3 class=\"alert-heading\">Prof. Enrique Mejía Ospino, emejia@uis.edu.co</h3>\n",
    "  <h4 class=\"alert-heading\">Escuela de Química</h4>\n",
    "  <h5 class=\"alert-heading\">Universidad Industrial de Santander</h5>\n",
    "  <p>\n",
    "  </div>"
   ]
  },
  {
   "cell_type": "markdown",
   "metadata": {},
   "source": [
    "<div class=\"alert alert-info\"> \n",
    "\n",
    "### **<h3 class=\"alert-heading\">Solución Mecánico-Cuántica de Átomos de Dos Electrones: Átomo Helioide</h3>**"
   ]
  },
  {
   "cell_type": "code",
   "execution_count": 1,
   "metadata": {},
   "outputs": [],
   "source": [
    "from IPython.display import HTML"
   ]
  },
  {
   "cell_type": "markdown",
   "metadata": {},
   "source": [
    "### Librerias usadas:"
   ]
  },
  {
   "cell_type": "code",
   "execution_count": 2,
   "metadata": {},
   "outputs": [],
   "source": [
    "import matplotlib.pylab as plt # Libreria para graficación y visualización\n",
    "import numpy as np # Librería para manipulación numerica, especialmente para arreglos de datos\n",
    "import sympy as sp\n",
    "%matplotlib inline"
   ]
  },
  {
   "cell_type": "markdown",
   "metadata": {},
   "source": [
    "<div class=\"alert alert-info\">\n",
    "\n",
    "### **Métodos aproximados: Átomos Polielectrónico**\n",
    "<p style='text-align: justify;'>\n",
    "Hemos visto en las dos lecciones anteriores un grupo de problemas para los que se conoce una\n",
    "solución analítica de la ecuación de Schrödinger. Esta es, sin embargo, una circunstancia excepcional, y la mayoría de problemas reales (naturales) carecen de solución analítica conocida. Por ello, es esencial el estudio de las técnicas que se emplean a luz de la mecánica cuántica para obtener soluciones aproximadas.\n",
    "    \n",
    "En segundo lugar, comenzaremos el estudio de los átomos polielectrónicos por medio del examen del átomo de helio. La presencia de los términos de repulsión culombiana entre los electrones\n",
    "complica notablemente el problema con respecto al caso del átomo hidrogenoide."
   ]
  },
  {
   "cell_type": "markdown",
   "metadata": {},
   "source": [
    "<div class=\"alert alert-info\">\n",
    "\n",
    "### **Métodos de Aproximación Variacional**\n",
    "<p style='text-align: justify;'>\n",
    "Sea φ una función normalizada, bien comportada y que cumple las condiciones de contorno del problema (llamada función de prueba). El teorema variacional dice que:\n",
    "\n",
    "$$\\large W = \\int\\varphi^{\\ast}\\hat{H}\\varphi dq\\geq E_0 $$\n",
    "    \n",
    "donde $\\hat{H}$ es el operador Hamiltoniano del sistema. El valor esperado de $\\hat{H}$ para esta función es un límite superior al valor de la energía del estado fundamental, $E_0$.\n",
    "\n",
    "**Demostración**:\n",
    "La integral variacional dada por la ecuación de arriba puede escribirse en la siguiente forma:\n",
    "$$\\large \\begin{equation}\\label{ecu2} \\int\\varphi^{\\ast}\\left(\\hat{H}-E_0 \\right)\\varphi dq\\geq 0 \\end{equation}$$\n",
    "   \n",
    "Sea $\\varphi=\\sum_{i} c_i \\psi_i$, siendo ψi funciones propias el operador hamiltoniano $\\hat{H}\\psi_i=E_i\\psi_i$\n",
    "\n",
    "$$\\large \\begin{equation} \n",
    "    \\int\\sum_{i}c_{i}^\\ast \\psi_{i}^\\ast\\left(\\hat{H}-E_{0}\\right)\\sum_{i}c_{j}\\psi_j dq=\\sum_{i}c_{i}^{\\ast}\\sum_{j}c_j\\int\\psi_{i}^{\\ast}\\left(\\hat{H}-E_0\\right)\\psi_j dq= \\nonumber \n",
    "\\end{equation}$$\n",
    "\n",
    "$$\\large \\begin{equation} \n",
    "    \\sum_{i}c_{i}^{\\ast}\\sum_{j}c_j\\left[\\int\\psi_{i}^{\\ast}\\hat{H}\\psi_j dq-\\int\\psi_{i}^{\\ast}E_0 \\psi_j dq\\right]=\\sum\\left|c_i\\right|^2\\left(E_i-E_0\\right)\\geq0 \n",
    "\\end{equation}$$\n",
    "\n",
    "$$\\large E_i \\geq E_0\\sum\\left|c_i\\right|^2$$\n",
    "\n",
    "Si $E_0$ es la energía del estado fundamental, está claro que $E_0 ≤ E_1 ≤ E_2 ≤ . . . $\n",
    "\n",
    "**La aplicación inmediata del teorema variacional da lugar a dos tipos de técnicas aproximadas**."
   ]
  },
  {
   "cell_type": "markdown",
   "metadata": {},
   "source": [
    "<div class=\"alert alert-warning\">\n",
    "\n",
    "### **Métodos Aproximación Variacional Simple**\n",
    "<p style='text-align: justify;'>\n",
    "se construye una función de prueba que tenga parámetros libres, y se minimiza W con respecto a estos parámetros. Cuanto menor se consiga hacer W más cerca estaremos de $E_0$ y más cerca, se supone, de la verdadera función de onda.\n",
    "\n",
    "Ej: En el problema del oscilador armónico 1D, podemos tratar de utilizar $ψ=(1+cξ^2)e^{−ξ^{2}}$ como función de prueba, donde $ξ=\\sqrt{β}x$, $β = \\frac{ωm}{\\hbar}$, y $c$ es un parámetro variacional de valor desconocido. Esta función es contínua, derivable, de cuadrado integrable, y se agota asintóticamente en $ξ → ±∞$. Podemos calcular:\n",
    "\n",
    "$$\\large S = \\left\\langle ψ \\mid ψ \\right\\rangle=\\sqrt{\\frac{\\pi}{2\\beta}}\\left(1 + \\frac{c}{2} + \\frac{3c^2}{16}\\right)$$\n",
    "\n",
    "$$\\large U = \\left\\langle ψ \\mid H \\midψ \\right\\rangle=\\frac{\\hbar^2 \\beta}{m}\\sqrt{\\frac{\\pi}{2\\beta}}\\left(\\frac{5}{8} - \\frac{c}{16} + \\frac{43c^2}{128}\\right)$$\n",
    "    \n",
    "y, minimizando $W = U/S$ con respecto al parámetro variacional:\n",
    "\n",
    "$$\\large \\frac{\\partial W}{\\partial c}=0, \\space \\space 23c^2 +56c -48 = 0 \\space ⇒ \\space c={−3.107, 0.6718}$$\n",
    "\n",
    "De ambas raices, $c = 0.6718$ produce la menor energía $W = 0.517\\hbarω$. Este valor aproximado es próximo, aunque mayor, que la energía exacta $E_0 = \\frac{1}{2}\\hbarω$.\n",
    "\n",
    "Además de esta técnica sencilla pero trabajosa, el teorema variacional se convierte en una de las principales herramientas de resolución aproximada a través del **método de variaciones lineal**."
   ]
  },
  {
   "cell_type": "code",
   "execution_count": 4,
   "metadata": {},
   "outputs": [
    {
     "data": {
      "image/png": "[encoded data removed]",
      "text/latex": [
       "$\\displaystyle \\left( \\left(c ξ^{2} + 1\\right) e^{- ξ^{2}}, \\  \\int\\limits_{-\\infty}^{\\infty} \\frac{\\left(c ξ^{2} + 1\\right)^{2} e^{- 2 ξ^{2}}}{\\sqrt{\\beta}}\\, dξ, \\  \\frac{\\sqrt{2} \\sqrt{\\pi} \\left(3 c^{2} + 8 c + 16\\right)}{32 \\sqrt{\\beta}}, \\  \\frac{\\sqrt{2} \\sqrt{\\pi} \\sqrt{\\beta} \\hbar^{2} \\left(43 c^{2} - 8 c + 80\\right)}{256 m}, \\  \\frac{\\beta \\hbar^{2} \\left(43 c^{2} - 8 c + 80\\right)}{8 m \\left(3 c^{2} + 8 c + 16\\right)}, \\  \\frac{2 \\beta \\hbar^{2} \\left(23 c^{2} + 56 c - 48\\right)}{m \\left(9 c^{4} + 48 c^{3} + 160 c^{2} + 256 c + 256\\right)}\\right)$"
      ],
      "text/plain": [
       "⎛                 ∞                                                           \n",
       "⎜                 ⌠                                                           \n",
       "⎜                 ⎮            2      2                                       \n",
       "⎜              2  ⎮  ⎛   2    ⎞   -2⋅ξ            ⎛   2           ⎞           \n",
       "⎜⎛   2    ⎞  -ξ   ⎮  ⎝c⋅ξ  + 1⎠ ⋅ℯ          √2⋅√π⋅⎝3⋅c  + 8⋅c + 16⎠  √2⋅√π⋅√β⋅\n",
       "⎜⎝c⋅ξ  + 1⎠⋅ℯ   , ⎮  ────────────────── dξ, ───────────────────────, ─────────\n",
       "⎜                 ⎮          √β                      32⋅√β                    \n",
       "⎜                 ⌡                                                           \n",
       "⎝                 -∞                                                          \n",
       "\n",
       "                                                                              \n",
       "                                                                              \n",
       "                                                                              \n",
       " 2 ⎛    2           ⎞     2 ⎛    2           ⎞              2 ⎛    2          \n",
       "h̅ ⋅⎝43⋅c  - 8⋅c + 80⎠  β⋅h̅ ⋅⎝43⋅c  - 8⋅c + 80⎠        2⋅β⋅h̅ ⋅⎝23⋅c  + 56⋅c \n",
       "─────────────────────, ───────────────────────, ──────────────────────────────\n",
       "   256⋅m                    ⎛   2           ⎞     ⎛   4       3        2      \n",
       "                        8⋅m⋅⎝3⋅c  + 8⋅c + 16⎠   m⋅⎝9⋅c  + 48⋅c  + 160⋅c  + 256\n",
       "                                                                              \n",
       "\n",
       "         ⎞\n",
       "         ⎟\n",
       "         ⎟\n",
       "  ⎞      ⎟\n",
       "- 48⎠      ⎟\n",
       "─────────⎟\n",
       "        ⎞⎟\n",
       "⋅c + 256⎠⎟\n",
       "         ⎠"
      ]
     },
     "execution_count": 4,
     "metadata": {},
     "output_type": "execute_result"
    }
   ],
   "source": [
    "from sympy import *\n",
    "#from sympy.physics.hydrogen import Psi_nlm, R_nl\n",
    "init_printing(use_unicode=True)\n",
    "c, k, beta, hbar, m, omega=symbols('c beta hbar m omega')\n",
    "var(\"x ξ\")\n",
    "(x, ξ)\n",
    "Psi= (1 + c*ξ**2)*sp.exp(-ξ**2)\n",
    "HP=(-hbar**2/(2*m))*(beta)*(diff(Psi, ξ, 2) - (ξ**2)*Psi)\n",
    "S=Integral(Psi**2*(1/(sqrt(beta))), (ξ, -oo, oo))\n",
    "U=Integral(Psi*HP*(1/(sqrt(beta))), (ξ, -oo, oo))\n",
    "W=(U.doit())/(S.doit())\n",
    "Wm=diff(W, c)\n",
    "Sm=S.doit()\n",
    "Um=U.doit()\n",
    "Psi, S, Sm.simplify(), Um.simplify(), W.simplify(), Wm.simplify()"
   ]
  },
  {
   "cell_type": "code",
   "execution_count": 5,
   "metadata": {},
   "outputs": [
    {
     "data": {
      "image/png": "[encoded data removed]",
      "text/latex": [
       "$\\displaystyle \\left( \\left[ - \\frac{28}{23} + \\frac{4 \\sqrt{118}}{23}, \\  - \\frac{4 \\sqrt{118}}{23} - \\frac{28}{23}\\right], \\  0.671787911513081, \\  -3.10657052020873\\right)$"
      ],
      "text/plain": [
       "⎛⎡  28   4⋅√118    4⋅√118   28⎤                                      ⎞\n",
       "⎜⎢- ── + ──────, - ────── - ──⎥, 0.671787911513081, -3.10657052020873⎟\n",
       "⎝⎣  23     23        23     23⎦                                      ⎠"
      ]
     },
     "execution_count": 5,
     "metadata": {},
     "output_type": "execute_result"
    }
   ],
   "source": [
    "Wm1=(2*((m*omega)/(hbar))*hbar**2)*((46*c**2+112*c-96))/((m)*(9*c**4+48*c**3+160*c**2+256*c+256))\n",
    "op=solve(Wm1, c)\n",
    "op, op[0].evalf(), op[1].evalf()"
   ]
  },
  {
   "cell_type": "code",
   "execution_count": 6,
   "metadata": {},
   "outputs": [
    {
     "data": {
      "image/png": "[encoded data removed]",
      "text/latex": [
       "$\\displaystyle \\left( 0.517152438599973 \\hbar \\omega, \\  3.23284756140003 \\hbar \\omega\\right)$"
      ],
      "text/plain": [
       "(0.517152438599973⋅h̅⋅ω, 3.23284756140003⋅h̅⋅ω)"
      ]
     },
     "execution_count": 6,
     "metadata": {},
     "output_type": "execute_result"
    }
   ],
   "source": [
    "W1 = (((((m*omega)/(hbar)))*(hbar**2))*((43/8)*c**2-c+10))/((m)*(3*c**2+8*c+16))\n",
    "\n",
    "p1=W1.subs(c,op[0]) # Primer punto crítico\n",
    "p2=W1.subs(c,op[1]) # Segundo punto crítico\n",
    "beta=(m*omega)/(hbar)\n",
    "p1.evalf(),p2.evalf()"
   ]
  },
  {
   "cell_type": "markdown",
   "metadata": {},
   "source": [
    "<div class=\"alert alert-warning\">\n",
    "\n",
    "### **Métodos Aproximación Variacional Lineal**\n",
    "<p style='text-align: justify'>\n",
    "Sean $f_1,f_2,...,f_n$ funciones linealmente independientes. Construimos la función de prueba $φ$ combiando linealmente la $f_i$ funciones.\n",
    "\n",
    "$$\\large \\begin{equation}\\label{ec1} \\varphi=c_1 f_1 + c_2 f_2 +........+c_n f_n =\\sum_{j}c_i f_i \n",
    "\\end{equation}$$\n",
    "\n",
    "Donde $φ$ es la función variacional de prueba, $c_i$ son parámetros variacionales que deben hacer mínima la integral variacional. $c_i$ y $f_i$ son reales.\n",
    "\n",
    "Planteamos la integral variacional:\n",
    "\n",
    "$$\\large \\begin{equation}\\label{ecu2} \n",
    "    W=\\frac{\\int\\varphi^{\\ast}\\hat{H}\\varphi dq}{\\int\\varphi^{\\ast}\\varphi dq} \n",
    "\\end{equation}$$\n",
    "    \n",
    "Calculamos por separado numerador y denominador de la integral variacional\n",
    "$$\\large \\begin{equation}\\label{ecu3} \n",
    "    \\int\\varphi^{\\ast}\\varphi dq=\\int\\sum_{i}c_{i}^{\\ast}f_{i}^{\\ast}\\sum_{j}c_j f_j dq=\\sum_{i}c_{i}^{\\ast}\\sum_{j}c_{j}\\int f_{i}^{\\ast}f_j dq=\\sum_{i}\\sum_{j}c_i c_j S_{ij} \n",
    "\\end{equation}$$\n",
    "\n",
    "Donde $S_{ij}$ es la integral de solapamiento.\n",
    "    \n",
    "$$\\begin{equation}\\label{ecu4} \n",
    "    \\int\\varphi^{\\ast}\\hat{H}\\varphi dq=\\int\\sum_{i}c_{i}^{\\ast}f_{i}^{\\ast}\\hat{H}\\sum_{j}c_{j}f_{j}=\\sum_{i}\\sum_{j}c_{i}^{\\ast}c_j\\int f_{i}^{\\ast}\\hat{H}f_j dq=\\sum_{i}\\sum_{j}c_{i}^{\\ast}c_j H_{ij} \n",
    "\\end{equation}$$\n",
    "\n",
    "Sustituyendo las ecuaciones (3) y (4) en (2):\n",
    "\n",
    "$$\\large \\begin{equation}\\label{ecu9} \n",
    "    W=\\frac{\\sum_{i}\\sum_{j}c_{i}c_{j}H_{ij}}{\\sum_{i}\\sum_{j}c_{i}c_{j}S_{ij}} \n",
    "\\end{equation}$$\n",
    "    \n",
    "Vamos a minimizar $W$, para aproximarnos tanto como sea posible a $E_0$. Para ello, derivamos $W$ respecto a los coeficientes $c_k$ de la combinación lineal, e igualamos a cero las derivadas. $\\frac{∂W}{∂c_k}=0$ con $k=1,2...n$, da como resultado:\n",
    "    \n",
    "$$\\large \\sum_{i=1}^{n}c_{i}\\left(H_{ki}-WS_{ki}\\right)=0$$\n",
    "    \n",
    "Para una función de prueba con dos funciones base $φ=c_1f_1+c_2f_2$, obtenemos el siguiente sistema:\n",
    "\n",
    "$$\\large \\begin{equation} \n",
    "\tc_1(H_{11}-WS_{11})+c_2(H_{12}-WS_{12})=0\\\\ \n",
    "\tc_1(H_{21}-WS_{21})+c_2(H_{22}-WS_{22})=0 \n",
    "\\end{equation}$$\n",
    "    \n",
    "Para que el sistema tenga solución única (compatible determinado), el determinante de los coeficientes debe anularse.\n",
    "\n",
    "$$\\large \\begin{equation} \n",
    "\t\\left| \\begin{array}{cc} \n",
    "\tH_{11}-WS_{11} & H_{12}-WS_{12}\\\\ \n",
    "\tH_{21}-WS_{21} & H_{22}-WS_{22} \n",
    "\t\\end{array} \n",
    "\t\\right|=0 \n",
    "\\end{equation}$$\n",
    "\n",
    "La resolución del determinante nos da los valores propios de $φ$, es decir, las energías, $W$. A partir de las energías se obtienen los coeficientes variacionales $c_1$ y $c_2$."
   ]
  },
  {
   "cell_type": "markdown",
   "metadata": {},
   "source": [
    "<div class=\"alert alert-success\">\n",
    "\n",
    "### **Método de Aproximación Perturbacional**\n",
    "<p style='text-align: justify;'>\n",
    "El segundo método aproximado que vamos a estudiar para resolver la ecuación de Schrödinger, en sistemas de dos electrones, es el método de perturbaciones. Este método compara el sistema sin solución (sistema perturbado), con otro, del que se dispone de solución analítica (sistema sin perturbar). A la diferencia entre ambos Hamiltonianos se le denomina perturbación. Para que el error sea bajo la perturbación debe ser lo más pequeña posible. Es decir, debemos elegir el sistema sin perturbar que tenga un Hamiltoniano lo más similar posible al sistema perturbado.\n",
    "\n",
    "Sea un Hamiltoniano independiente del tiempo, $\\hat{H}$, cuya ecuación, $\\hat{H}ϕ_n=E_nψ_n$, no tiene solución analítica (sistema perturbado).\n",
    "\n",
    "Sea $\\hat{H}^0$ el hamiltoniano de un sistema cuya ecuación de Schrödinger, $\\hat{H}^{(0)}ϕ^{(0)}_n=E^{(0)}_nψ^{(0)}_n$, sabemos resolver, y es sólo ligeramente diferente de $\\hat{H}$ (sistema sin perturbar).\n",
    "\n",
    "Según el método de perturbaciones, la energía del sistema perturbado viene dada por: $E_n=E^{(0)}_n+E^{(1)}_n$, siendo $E^{(1)}_n$, la corrección de primer orden en la energía.\n",
    "\n",
    "$$\\large \\begin{equation} \n",
    "\tE_n^{(1)}=\\int\\psi_n^{\\ast (0)}\\hat{H'}\\psi_n^{(0)}dq=\\left\\langle \\psi_n^{(0)}\\left|\\hat{H'}\\right|\\psi_n^{(0)}\\right\\rangle \n",
    "\\end{equation}$$\n",
    "\n",
    "Donde, $\\hat{H}'$, es la perturbación. $\\hat{H}'=\\hat{H}−\\hat{H}^0$  \n",
    "\n",
    "La función de onda del sistema perturbado vendrá dada por: $ψ_n=ψ^{(0)}_n+ψ^{(1)}_n$, siendo, $ψ^{(1)}_n$, la corrección de primer orden en la función de onda.\n",
    "    \n",
    "$$\\large \\begin{equation} \n",
    "\t\\psi_m^{(1)}=\\sum_{m\\neq n}\\frac{\\int\\psi_m^{\\ast (0)}\\hat{H'}\\psi_n^{(0)}dq}{E_m^{(0)}-E_n^{(0)}} \n",
    "\\end{equation}$$\n",
    "    \n",
    "De igual modo que se puede caluclar la corrección de segundo orden para la función de onda y la energía.\n",
    "\n",
    "$$\\large \\begin{equation} \n",
    "\tE_n=E_n^{(0)}+E_n^{(1)}+E_n^{(2)} \n",
    "\\end{equation}$$\n",
    "\n",
    "$$\\large \\begin{equation} \n",
    "\t\\psi_n=\\psi_n^{(0)}+\\psi_n^{(1)}+\\psi_n^{(2)} \n",
    "\\end{equation}$$\n",
    "    \n",
    "Donde, la corrección de segundo orden en la energía, viene dada por:\n",
    "\n",
    "$$\\large \\begin{equation} \n",
    "\tE_n^{(2)}=\\int\\psi_n^{\\ast (0)}\\hat{H'}\\psi_n^{(1)}dq. \n",
    "\\end{equation}$$"
   ]
  },
  {
   "cell_type": "markdown",
   "metadata": {},
   "source": [
    "<div class=\"alert alert-danger\">\n",
    "\n",
    "### **Tratamiento Perturbacional de átomo de Helio**\n",
    "<p style='text-align: justify;'>\n",
    "El helio tiene dos electrones y un núcleo de carga $+2e$. Situaremos el origen de coordenadas en el núcleo, dando coordenadas $(x_1,y_1,z_1)$, $(x_2,y_2,z_2)$ a los electrones $1$ y $2$. Para incluir cualquier ión helioide como $H^-$, $Li^+$, $Be^{+2}$..., tomamos como carga nuclear $+Ze$. Escribimos el Hamiltoniano del Helio bajo la aproximación de masa nuclear infinita $(\\frac{m_N}{m_e} → ∞)$ y empleando unidades atómicas.\n",
    "    \n",
    "$$\\large \\begin{equation} \\hat{H}=-\\frac{\\hbar^2}{2m}\\nabla_1^2-\\frac{\\hbar^2}{2m}\\nabla_2^2-\\frac{Ze^2}{r_1}-\\frac{Ze^2}{r_2}+\\frac{e^2}{r_{12}} \\end{equation}$$\n",
    "\n",
    "Debido al término $\\frac{e^2}{r_{12}}$ la ecuación de Schrödinger no es separable en ningún sistema de coordenadas y debemos utilizar métodos aproximados para resolverla.\n",
    "Aplicamos la teoría de perturbaciones, eligiendo como sistema sin perturbar el átomo de dos electrones sin interacción interelectrónica, cuyo Hamiltoniano viene dado por:\n",
    "\n",
    "$$\\large \\begin{equation} \\hat{H}^{0}=-\\frac{\\hbar^2}{2m}\\nabla_1^2-\\frac{\\hbar^2}{2m}\\nabla_2^2-\\frac{Ze^2}{r_1}-\\frac{Ze^2}{r_2} \\end{equation}$$\n",
    "    \n",
    "Dado que no existe interacción entre los electrones, estos se comportan como hidrogenoides. La función de onda resultante de resolver la ecuación, $\\large \\hat{H}^0ψ^{(0)}=E^{(0)}ψ^{0}$, es el resultado de multiplicar las funciones de onda del átomo hidrogenoide para cada electrón, $\\large ψ^{(0)}=ψ_1(\\vec{r}_1)ψ_2(\\vec{r}_2)=|n_1, l_1, m_1(1)\\rangle |n_2, l_2, m_2(2)\\rangle$ . Para el **estado fundamental** correspondería a:\n",
    "\n",
    "$$\\large \\begin{equation} \\psi^{(0)}=\\frac{1}{\\sqrt{\\pi}}\\left(\\frac{Z}{a_0}\\right)^{3/2}e^{-Zr_1/a_0}\\frac{1}{\\sqrt{\\pi}}\\left(\\frac{Z}{a_0}\\right)^{3/2}e^{-Zr_2/a_0} \\end{equation}$$\n",
    "\n",
    "Esta función también podemos representarla por: $ψ=1s(1)1s(2)$, siendo $1s(1)=\\frac{1}{\\sqrt{\\pi}}\\left(\\frac{Z}{a_0}\\right)^{3/2}e^{-Zr_1/a_0}$ y $1s(2)=\\frac{1}{\\sqrt{\\pi}}\\left(\\frac{Z}{a_0}\\right)^{3/2}e^{-Zr_2/a_0}$\n",
    "\n",
    "Por otra parte, la energía del sistema sin perturbar se obtiene como suma de energías de ambos electrones hidrogenoides.\n",
    "\n",
    "$$\\large \\begin{equation} E^{(0)}=\\frac{-Z^2e^2}{2a_0}+\\frac{-Z^2e^2}{2a_0}=\\frac{-4e^2}{a_0}=-108.8\\;eV \\end{equation}$$\n",
    "\n",
    "Si tenemos en cuenta que el valor experimental de la energía del Helio es $-79 eV$, con esta primera aproximación tenemos un error del 38%, como consecuencia de despreciar el término $\\large \\frac{e^2}{r_{12}}$.\n",
    "\n",
    "Ahora pasamos a calcular la perturbación, $\\large \\hat{H}'=\\hat{H}−\\hat{H}^0=\\frac{e^2}{r_{12}}$, que utilizaremos para obtener la corrección de primer orden en la energía.\n",
    "\n",
    "$$\\large \\begin{equation} E^{(1)}=\\left\\langle \\psi^{\\ast (0)}\\left|\\hat{H'}\\right|\\psi^{(0)}\\right\\rangle =\\frac{5Ze^2}{8a_0}=34\\;eV \\end{equation}$$\n",
    "\n",
    "Esta corrección de primer orden nos da una energía para el estado fundamental del átomo de Helio de:\n",
    "\n",
    "$$\\large \\begin{equation} E=E^{(0)}+E^{(1)}=-108.8+34=-74\\;eV \\end{equation}$$\n",
    "\n",
    "El error cometido desciende al 5.3%.\n",
    "Aplicando correcciones de segundo y tercer orden se obtiene una energía muy cercana a la experimental\n",
    "$$\\large \\begin{equation} E=E^{(0)}+E^{(1)}+E^{(2)}+E^{(3)}=-108.8+34-4.3+0.1=-79\\;eV \\end{equation}$$\n",
    "C. W. Scherr y R. E. Knight [Rev. Mod. Phys. 35 (1963) 436] han examinado las correcciones perturbativas hasta orden 13, obteniendo una mejor estimación de −2.90372433 hartree (-78,9813 eV) para la energía del estado fundamental."
   ]
  },
  {
   "cell_type": "markdown",
   "metadata": {},
   "source": [
    "<div class=\"alert alert-success\">\n",
    "\n",
    "### **Tratamiento Variacional de átomo de Helio**\n",
    "<p style='text-align: justify;'>\n",
    "Desde 1928 se ha llevado a cabo un extenso trabajo de obtener variacionalmente las mejores estimaciones de la energía del estado fundamental y primeros excitados del helio. Para ello se han utilizado funciones que dependen de $r_1$, $r_2$ y $r_{12}$, y que reciben el nombre de funciones explícitamente correlacionadas.\n",
    "\n",
    "Vamos, entonces a aplicar el teorema variacional, $W=∫φ^∗\\hat{H}φdq≥E_0$, utilizando como función de prueba:\n",
    "\n",
    "$$\\large \\begin{equation} \\varphi=\\frac{1}{\\sqrt{\\pi}}\\zeta^{3/2}e^{-\\zeta r_1}\\frac{1}{\\sqrt{\\pi}}\\zeta^{3/2}e^{-\\zeta r_2}=\\phi(1)\\phi(2) \\end{equation}$$\n",
    "\n",
    "Esta función de prueba la hemos obtenido a partir de orbitales $1s$ hidrogenoides para ambos electrones, cambiando el número atómico Z por el parámetro variacional $ζ$ (zeta).\n",
    "La interpretación física de $ζ$ es sencilla, un electrón tiende a apantallar al otro frente al núcleo, cada electrón está sometido a una carga nuclear efectiva menor que la carga nuclear total Z.\n",
    "\n",
    "El Hamiltoniano para el átomo de Helio, en unidades atómicas, tiene la forma:    \n",
    "\n",
    "$$\\large \\begin{equation} \\hat{H}=\\frac{1}{2}\\nabla_1^2-\\frac{1}{2}\\nabla_2^2-\\frac{Z}{r_1}-\\frac{Z}{r_2}+\\frac{1}{r_{12}} \\end{equation}$$\n",
    "\n",
    "Sustituyendo en la integral variacional:\n",
    "\n",
    "$$\\large \\begin{equation} W=\\left\\langle\\varphi\\left|\\hat{H}\\right|\\varphi\\right\\rangle=\\left\\langle\\phi(1)\\phi(2)\\left|\\frac{1}{2}\\nabla_1^2-\\frac{1}{2}\\nabla_2^2-\\frac{Z}{r_1}-\\frac{Z}{r_2}+\\frac{1}{r_{12}}\\right|\\phi(1)\\phi(2)\\right\\rangle \\end{equation}$$\n",
    "\n",
    "Aplicando la linealidad de la integral y separando en cinco integrales:\n",
    "\n",
    "$$\\begin{eqnarray} W=\\underbrace{\\left\\langle\\phi(1)\\left|-\\frac{1}{2}\\nabla_1^2\\right|\\phi(1)\\right\\rangle}_{\\zeta^2/2} \\underbrace{\\left\\langle \\phi(2)|\\phi(2)\\right\\rangle}_{1} + \\underbrace{\\left\\langle\\phi(2)\\left|-\\frac{1}{2}\\nabla_2^2\\right|\\phi(2)\\right\\rangle}_{\\zeta^2/2} \\underbrace{\\left\\langle \\phi(1)|\\phi(1)\\right\\rangle}_{1} + \\nonumber\\\\ \\underbrace{\\left\\langle\\phi(1)\\left|-\\frac{-Z}{r_1}\\right|\\phi(1)\\right\\rangle}_{-Z\\zeta} \\underbrace{\\left\\langle \\phi(2)|\\phi(2)\\right\\rangle}_{1} + \\underbrace{\\left\\langle\\phi(2)\\left|-\\frac{-Z}{r_2}\\right|\\phi(2)\\right\\rangle}_{-Z\\zeta} \\underbrace{\\left\\langle \\phi(1)|\\phi(1)\\right\\rangle}_{1}+\\nonumber\\\\ \\underbrace{\\left\\langle\\phi(1)\\phi(2)\\left|-\\frac{1}{r_{12}}\\right|\\phi(1)\\phi(2)\\right\\rangle}_{5\\zeta/8} \\end{eqnarray}$$\n",
    "\n",
    "Sumando las diferentes contribuciones a la energía variacional, obtenemos:\n",
    "\n",
    "$$\\large \\begin{equation} W=\\zeta^2-2Z\\zeta+\\frac{5\\zeta}{8} \\end{equation}$$\n",
    "\n",
    "La energía mínima, $W_{min}$, se obtiene derivando $W$ respecto del parámetro variacional e igualando a cero. De esta forma obtenemos el parámetro óptimo, $(ζ_{opt})$, que sustituido en $W$ da $W_{min}$.\n",
    "\n",
    "$$\\large \\begin{equation} \\frac{dW}{d\\zeta}=0=2\\zeta-2Z+5/8 \\end{equation}$$\n",
    "\n",
    "Despejando el parámetro óptimo,\n",
    "\n",
    "$$\\large \\begin{equation} \\zeta_{op}=Z-5/16 \\end{equation}$$\n",
    "\n",
    "Llevando el parámeto óptimo a la energía variacional, nos da:\n",
    "\n",
    "$$\\large \\begin{equation} W_{min}=\\left(Z-5/16\\right)^2-2Z\\left(Z-5/16\\right)+5/8\\left(Z-5/16\\right) \\end{equation}$$\n",
    "\n",
    "Sustituyendo $Z=2$ en la energía, se obtiene un valor (en electrón-voltios) de, $W_{min}=−77eV$, que comparada con el valor experimental de 79 eV nos arroja un error de 1.9%.\n",
    "\n",
    "**En uno de los primeros trabajos en este campo, Hylleraas utilizó la función de prueba\n",
    "$\\large φ = Ne^{−ζr_1}e^{−ζr_2} (1 + br_{12})$, donde $ζ$ y $b$ son los parámetros variacionales. En 1966 Frankowski y Pekeris [Phys. Rev. 146 (1966) 46] obtuvieron una energía de −2.9037437703 hartree para el estado fundamental, con un error estimado de sólo $10^{−11}$ hartree con respecto a la energía no relativista exacta. Lamentablemente, el uso de funciones explícitamente correlacionadas es muy complejo y difícilmente extensible a átomos polielectrónicos o a moléculas**."
   ]
  },
  {
   "cell_type": "markdown",
   "metadata": {},
   "source": [
    "<div class=\"alert alert-warning\">\n",
    "\n",
    "### **Spín Electrónico**\n",
    "<p style='text-align: justify;'>\n",
    "En 1925, buscando una explicación al hecho de que el espectro del Na y otros metales alcalinos consta de pares de líneas de frecuencia muy próxima (dobletes), Uhlenbeck y Goudsmit propusieron que el electr´on posee un momento angular intrínseco adicional al momento\n",
    "angular orbital. El nombre propuesto para este momento angular, espín (spin) o “giro”, provoca\n",
    "la imagen del electrón como una esfera cargada girando sobre sí misma. Este modelo clásico, sin embargo, no tiene nada que ver con la realidad intrínsecamente cuántica del fenómeno.\n",
    "En 1928, Dirac desarrolló la teoría cuántica relativista del electrón, demostrando que el espín aparece como una consecuencia de las simetrías del problema. En la formulación no relativista que estamos utilizando, sin embargo, el espín debe introducirse como una hipótesis adicional.\n",
    "El espín es un operador de momento angular, $\\hat{s}$, con componentes cartesianas $\\hat{s}_x$, $\\hat{s}_y$, y $\\hat{s}_z$. Al igual que ocurre con el momento angular ordinario, las relaciones de conmutación básicas son\n",
    "\n",
    "$$\\begin{equation} \n",
    "\t[\\hat{l}_x,\\hat{l}_y]=i\\hbar \\hat{l}_z\\;\\;\\rightarrow [\\hat{s}_x,\\hat{s}_y]=i\\hbar \\hat{s}_z \n",
    "\\end{equation}$$\n",
    "$$\\begin{equation} \n",
    "\t[\\hat{l}_y,\\hat{l}_z]=i\\hbar \\hat{l}_x\\;\\;\\rightarrow [\\hat{s}_y,\\hat{s}_z]=i\\hbar \\hat{s}_x \n",
    "\\end{equation}$$\n",
    "$$\\begin{equation} \n",
    "\t[\\hat{l}_z,\\hat{l}_x]=i\\hbar \\hat{l}_y\\;\\;\\rightarrow [\\hat{s}_z,\\hat{s}_x]=i\\hbar \\hat{s}_y \n",
    "\\end{equation}$$\n",
    "\n",
    "También se cumplen las mismas relaciones de conmutación para el cuadrado del momento angular y sus componentes.\n",
    "\n",
    "$$\\begin{equation} \n",
    "\t[\\hat{s}^2,\\hat{s}_x]=[\\hat{s}^2,\\hat{s}_y]=[\\hat{s}^2,\\hat{s}_z]=0 \n",
    "\\end{equation}$$\n",
    "\n",
    "Estas últimas relaciones de conmutación nos indican que el momento angular al cuadrado de spin conmuta con sus componentes, existiendo un conjunto completo de funciones propias de ambos operadores. Es decir, si consderamos los operadores $\\hat{s}^2$ y $\\hat{s}_z$, existe un conjunto completo de funciones popias comunes de ambos. Este conjunto completo de funciones propias está formado por dos miembros, llamados $α$ y $β$. Cualquier estado cuántico de spin viene dado por dichas funciones o por combinaciones lineales de las mismas.\n",
    "\n",
    "Escribimos las ecuaciones de valores propios para  $\\hat{s}^2$ y $\\hat{s}_z$ por analogía con las de  $\\hat{l}^2$ y $\\hat{l}_z$\n",
    "\n",
    "$$\\begin{equation} \n",
    "\t\\hat{s}^2\\alpha=\\hbar^2s(s+1)\\alpha \n",
    "\\end{equation}$$\n",
    "\n",
    "donde, $s=0,\\frac{1}{2},1,\\frac{3}{2},2...$\n",
    "    \n",
    "$$\\begin{equation} \n",
    "\t\\hat{s}_z\\alpha=m_s\\hbar\\alpha\n",
    "\\end{equation}$$\n",
    "\n",
    "donde, $m_s=−s, 1 − s, 2 − s, . . . , s − 1, s$\n",
    "\n",
    "Vemos que, a diferencia de lo que ocurre en el momento angular ordinario, el número cuántico de espín, $s$, puede tomar valores enteros o semienteros. Una partícula elemental dada tiene un valor de $s$ fijado por la naturaleza: (a) para los electrones, quarks, neutrones y protones, $s = \\frac{1}{2}$; (b) para los fotones, partículas $Z$ y $W$, $s = 1$; ...\n",
    "\n",
    "Las ecuaciones de valores propios del espín para el electrón quedaría de la sigueiente forma:\n",
    "    \n",
    "$$\\begin{eqnarray} \n",
    "\t\\hat{s}^2\\alpha & = & 3/4\\hbar^2\\alpha\\\\ \n",
    "\t\\hat{s}^2\\beta & = & 3/4\\hbar^2\\beta\\\\ \n",
    "\t\\hat{s}_z\\alpha & = & \\frac{1}{2}\\hbar\\alpha\\\\ \n",
    "  \\hat{s}_z\\beta & = & \\frac{-1}{2}\\hbar\\beta \n",
    "\\end{eqnarray}$$\n",
    "\n",
    "Se usan varios nombres comunes para las funciones $|s, m_s\\rangle$ de espín del electrón:\n",
    "    \n",
    "$$\\large |\\frac{1}{2}, +\\frac{1}{2}\\rangle = |+\\frac{1}{2}\\rangle = \\alpha = |+\\rangle = |\\uparrow \\rangle$$\n",
    "$$\\large |\\frac{1}{2}, -\\frac{1}{2}\\rangle = |-\\frac{1}{2}\\rangle = \\beta = |-\\rangle = |\\downarrow \\rangle$$\n",
    "\n",
    "Puesto que difieren en valor propio, $α$ y $β$ serán ortogonales, y si elegimos funciones normalizadas: $\\langle m_s|m_s'\\rangle = δ_{m_s,m_s'}$."
   ]
  },
  {
   "cell_type": "markdown",
   "metadata": {},
   "source": [
    "<div class=\"alert alert-danger\">\n",
    "\n",
    "### **Spín y Átomo Hidrogenoide**\n",
    "<p style='text-align: justify;'>\n",
    "Además de las propiedades orbitales, que hemos obtenido en el capítulo anterior, el átomo hidrogenoide posee un espín electrónico. Su función de onda completa es, por tanto, un espinorbital,\n",
    "\n",
    "$$\\large |n, l, m, m_s\\rangle = R_{nl}(r)Y_{lm}(\\theta, \\phi)|m_s\\rangle$$\n",
    "    \n",
    "caracterizado por los cuatro números cuánticos: principal $(n = 1, 2, ...)$, angular $(l = 0, 1, ...n − 1)$,azimutal $(m = 0,±1, ... ± l)$, y magnético de espín $(m_s = ±\\frac{1}{2})$. De los cuatro, sólo $n$ influye en la energía, de modo que cada nivel $E_n = −\\frac{Z^2}{2n^2}$ tiene una degeneración $g_n = 2n^2$.\n",
    "Una notación habitual para referirse a los espinorbitales $|n, l, m,+1/2 \\rangle$ y $|n, l, m,−1/2 \\rangle$ es $nlm$ y $\\overline{nlm}$, respectivamente, donde el número $l$ suele sustituirse por la letra espectroscópica correspondiente $(s, p, d, f, g,$ etc para $l = 0, 1, 2, . . . )$. También es común referirse a $nlm\\alpha$ y $nlm\\beta$."
   ]
  },
  {
   "cell_type": "markdown",
   "metadata": {},
   "source": [
    "<div class=\"alert alert-success\">\n",
    "\n",
    "### **Spín y Átomo Heliode**\n",
    "<p style='text-align: justify;'>\n",
    "Vamos a considerar el átomo de helio desde el punto de vista del spin del electrón y del principio de Pauli. Suponemos que el estado fundamental tiene una función de onda $1s(1)1s(2)$, donde $1s$ representa el orbital hidrogenoide y el número entre paréntesis se refiere al electrón. Para tener en cuenta el spin debemos multiplicar esta función espacial por una función propia de spin.\n",
    "Veamos las posibles funciones propias de spin:\n",
    "\n",
    "$$\\large \\begin{equation} \n",
    "\t\\alpha(1)\\alpha(2);\\;\\;\\beta(1)\\beta(2);\\;\\;\\alpha(1)\\beta(2);\\;\\;\\beta(1)\\alpha(2) \n",
    "\\end{equation}$$\n",
    "\n",
    "Las dos primeras funciones son simétricas respecto al intercambio de electrones y no distinguen entre ellos, siendo por tanto válidas para construir la función de onda del helio. La tercera y cuarta funciones no son válidas por violar el principio de indistinguibilidad. Además no son simétricas ni antisimétricas frente al intercambio de electrones. Para resolver este problema se construyen combinaciones lineales de la forma:\n",
    "\n",
    "$$\\large \\begin{equation} \n",
    "\t\\frac{1}{\\sqrt{2}}[\\alpha(1)\\beta(2)+\\beta(1)\\alpha(2)]\\\\ \n",
    "\t\\frac{1}{\\sqrt{2}}[\\alpha(1)\\beta(2)-\\beta(1)\\alpha(2)] \n",
    "\\end{equation}$$\n",
    "\n",
    "La primera de las combinacione es simétrica respecto al intecambio, mientras que la segunda es antisimétrica.\n",
    "\n",
    "El principio de Pauli exige que la función de onda helioide completa sea antisimétrica frente al\n",
    "intercambio de ambos electrones. La función orbital $1s(1)1s(2)$ es simétrica frente al intercambio,\n",
    "de modo que sólo puede combinarse con una función de spín antisimétrica:\n",
    "\n",
    "$$\\large \\begin{equation} \n",
    "\t\\psi^{(0)}=1s(1)1s(2)\\cdot\\frac{1}{\\sqrt{2}}[\\alpha(1)\\beta(2)-\\beta(1)\\alpha(2)]=\\frac{1}{\\sqrt{2}} \\left| \\begin{array}{cc} 1s(1)\\alpha(1) & 1s(1)\\beta(1)\\\\ 1s(2)\\alpha(2) & 1s(2)\\beta(2) \\end{array} \\right|\\end{equation}$$\n",
    "\n",
    "Veremos que $\\psi^{(0)}$ puede utilizarse como función de prueba para obtener de modo aproximado\n",
    "la energía del estado fundamental. Esta forma de escribir la función de onda recibe el nombre\n",
    "de determinante de Slater o función determinantal, y se puede generalizar a un sistema de N\n",
    "electrones.\n",
    "\n",
    "Consideremos ahora los estados excitados del helio. El de más baja energía, $1s(1)2s(2)$ o $1s(2)2s(1)$, que dan lugar a una función de onda espacial simétrica y otra antisimétrica:\n",
    "\n",
    "**Simétrica:** $\\frac{1}{\\sqrt{2}}[1s(1)2s(2)+2s(1)1s(2)] \\space \\space \\space \\space \\space \\space \\space \\space \\space \\space \\space \\space \\space \\space \\space \\space \\space \\space $\n",
    "**Antisimétrica:** $\\frac{1}{\\sqrt{2}}[1s(1)2s(2)-2s(1)1s(2)]$\n",
    "    \n",
    "Una función orbital simétrica sólo se puede combinar con una función espinorial antisimétrica, y\n",
    "viceversa. Esto da lugar a cuatro posibilidades, que se pueden describir como combinación de las\n",
    "cuatro funciones determinantales siguientes:\n",
    "\n",
    "$$\\begin{equation} \n",
    "\t\\frac{1}{\\sqrt{2}}[1s(1)2s(2)-2s(1)1s(2)]\\alpha(1)\\alpha(2) \n",
    "\\end{equation}$$\n",
    "$$\\begin{equation} \n",
    "\t\\frac{1}{\\sqrt{2}}[1s(1)2s(2)-2s(1)1s(2)]\\beta(1)\\beta(2) \n",
    "\\end{equation}$$\n",
    "$$\\begin{equation} \n",
    "\t\\frac{1}{\\sqrt{2}}[1s(1)2s(2)-2s(1)1s(2)]\\frac{1}{\\sqrt{2}}[\\alpha(1)\\beta(2)+\\beta(1)\\alpha(2)] \n",
    "\\end{equation}$$\n",
    "\n",
    "El siguiente nivel de energía se construye con la parte espacial simétrica, multiplicada por la única función de spin antisimétrica.\n",
    "\n",
    "$$\\begin{equation} \n",
    "\t\\frac{1}{\\sqrt{2}}[1s(1)2s(2)+2s(1)1s(2)]\\frac{1}{\\sqrt{2}}[\\alpha(1)\\beta(2)-\\beta(1)\\alpha(2)] \n",
    "\\end{equation}$$"
   ]
  },
  {
   "cell_type": "markdown",
   "metadata": {},
   "source": [
    "<div class=\"alert alert-info\">\n",
    "\n",
    "### **Tratamiento Variacional de átomo de Helio (II): La Aproximación Orbital**\n",
    "<p style='text-align: justify;'>\n",
    "En la aproximación orbital suponemos que cada electrón se puede describir mediante un\n",
    "espinorbital, y formamos una función de onda aproximada que sea compatible con el principio de\n",
    "Pauli, es decir, formamos un determinante de Slater o una combinación de unos pocos determinantes\n",
    "de Slater fijada por la simetría. La configuración del estado fundamental del helio sería $1s(1)1s(1)$, o $1s^2$ para abreviar. Esta función de onda aproximada será.\n",
    "    \n",
    "$$\\large \\begin{equation} \n",
    "\t\\psi^{(0)}=\\overbrace{1s(1)1s(2)}^{\\psi_{orb}}\\cdot \\underbrace{\\frac{1}{\\sqrt{2}}[\\alpha(1)\\beta(2)-\\beta(1)\\alpha(2)]}_{\\Sigma}=\\frac{1}{\\sqrt{2}} \\left| \\begin{array}{cc} 1s(1)\\alpha(1) & 1s(2)\\alpha(2)\\\\ 1s(1)\\beta(1) & 1s(2)\\beta(2) \\end{array} \\right|\\end{equation}$$\n",
    "\n",
    "que está normalizada si el orbital $1s$ lo está. Su energía aproximada será:\n",
    "\n",
    "$$\\large \\begin{equation} W=\\left\\langle\\psi^{(0)}\\left|\\hat{H}\\right|\\psi^{(0)}\\right\\rangle=\\left\\langle\\psi^{(0)}|\\underbrace{-\\frac{1}{2}\\nabla_1^2-\\frac{Z}{r_1}}_{h_1}\\underbrace{-\\frac{1}{2}\\nabla_2^2-\\frac{Z}{r_2}}_{h_2}+\\frac{1}{r_{12}}|\\psi^{(0)}\\right\\rangle \\end{equation}$$    \n",
    "    \n",
    "    \n",
    "    \n",
    "$$\\large \\begin{eqnarray} W=\\underbrace{\\left\\langle 1s(1)\\left|h_1 \\right|1s(1)\\right\\rangle}_{h_{1s}} \\underbrace{\\left\\langle 1s(2)|1s(2)\\right\\rangle}_{1}\\underbrace{\\left\\langle \\Sigma|\\Sigma\\right\\rangle}_{1} + \\underbrace{\\left\\langle 1s(1)|1s(1)\\right\\rangle}_{1} \\underbrace{\\left\\langle 1s(2)\\left|h_2 \\right|1s(2)\\right\\rangle}_{h_{1s}} \\underbrace{\\left\\langle \\Sigma|\\Sigma\\right\\rangle}_{1} + \\underbrace{\\left\\langle 1s(1)1s(2)\\left|\\frac{1}{r_{12}} \\right|1s(1)1s(2)\\right\\rangle}_{J_{1s, 1s}} \\underbrace{\\left\\langle \\Sigma|\\Sigma\\right\\rangle}_{1} = 2h_{1s} + J_{1s,1s} \\end{eqnarray}$$    \n",
    "$J_{1s,1s}$ recibe el nombre de integral culombiana. Para continuar necesitamos dar forma a la función radial del orbital: $1s = R_{1s}(r)Y_{00}(\\theta, \\varphi)$. La forma más simple es emplear una **función tipo Slater (STO)**, definida por:   \n",
    "    \n",
    "$$\\large \\begin{equation} \\text{STO:} \\space \\space \\space \\space \\chi_{n, \\zeta}=N_{n,\\zeta}r^{n-1}e^{-\\zeta r} \\space \\space \\space \\space \\text{donde} \\space \\space \\space \\space N_{n, \\zeta}=\\sqrt{\\frac{(2\\zeta)^{2n+1}}{(2n)!}} \\end{equation}$$\n",
    "\n",
    "Si empleamos un único STO con $n = 1$ para representar la función radial del orbital $1s$ las integrales necesarias son:\n",
    "$$\\left\\langle \\hat{T} \\right\\rangle=\\left\\langle\\chi_{1\\zeta} \\left|-\\frac{1}{2}\\nabla^2\\right|\\chi_{1\\zeta}\\right\\rangle= \\frac{1}{2}\\zeta^2$$\n",
    "$${\\left\\langle \\hat{V}_{nuc} \\right\\rangle}_{1s}=\\left\\langle\\chi_{1\\zeta} \\left|-\\frac{Z}{r}\\right|\\chi_{1\\zeta}\\right\\rangle= -Z\\zeta^2, \\space \\space \\space \\space J_{1s,1s}=\\frac{5}{8}\\zeta$$    \n",
    "Minimizando la energía aproximada:    \n",
    "$$W=2 \\left ({\\left\\langle \\hat{T} \\right\\rangle}_{1s} + {\\left\\langle \\hat{V}_{nuc} \\right\\rangle}_{1s} \\right) + J_{1s,1s}= \\zeta^2 + \\left (\\frac{5}{8}-2Z \\right )\\zeta \\Rightarrow \\frac{dW}{d\\zeta}=2\\zeta + \\left(\\frac{5}{8}-2Z \\right)=0 \\Rightarrow \\zeta_{opt}= Z-\\frac{5}{16}$$\n",
    "**En el He**: $\\zeta_{opt} = \\frac{27}{16}$, $W_{opt} = \\frac{−729}{256} = −2.847656$ hartree.\n",
    "\n",
    "Sin abandonar la aproximación orbital, hay dos estrategias básicas para mejorar este resultado\n",
    "aumentando la flexibilidad variacional de la función $R_{1s}$:\n",
    "\n",
    "***Función de Eckart:*** podemos permitir que la función orbital de ambos electrones sea\n",
    "diferente: $\\psi_{orb} =\\frac{1}{sqrt{2}} [\\chi_{1,\\zeta}(1)\\chi_{1,\\zeta'}(2) + \\chi_{1,\\zeta'}(1)\\chi_{1,\\zeta}(2)]$. La solución de mínima energía es: $\\zeta = 1.188531$, $\\zeta' = 2.183178$, y $W_{opt} = −2.8756613$ hartree. La generalización de este método da lugar a las técnicas conocidas como **Unrestricted Hartree-Fock (UHF)**.\n",
    "\n",
    "***Método de Hartree-Fock:*** la función radial $R_{1s}(r)$ se puede escribir como una combinaci´on\n",
    "lineal de tantos **STOs** como se quiera: $R1s(r) =\\sum_{k=0}^n \\chi_{n_{k},\\zeta_{k}}(r)c_{k}$. Los coeficientes $c_k$ óptimos se obtienen resolviendo las ecuaciones de Fock. La selección de los mejores $\\zeta_{k}$ es un proceso fuertemente no lineal que se conoce como optimización de la base de cálculo. Por ejemplo, T. Koga y cols. [Phys. Rev. A. 47 (1993) 4510] han publicado la siguiente solución para el He, con energía $E = −2.861680$ hartree:    \n",
    "    \n",
    "\n",
    "| $n_k$        | $\\zeta_k$                   | $ c_k$                  |\n",
    "|------------  |-----------------------------|-----------------------  |\n",
    "| 2            | 6.717358                    | 0.00066288              |\n",
    "| 1            | 3.290281                    | 0.09610467              |\n",
    "| 1            | 1.993592                    | 0.23501324              |\n",
    "| 1            | 1.394235                    | 0.69339797              |\n",
    "\n",
    "En alusión al número de exponentes orbitales libres por cada par de electrones, éste cálculo se denomina $HF-4\\zeta$, mientras que el cálculo que emplea un único **STO** sería $HF-\n",
    "1\\zeta$. Este método se puede extender fácilmente a átomos y moléculas generales, y representa el límite de la aproximación orbital."
   ]
  },
  {
   "cell_type": "code",
   "execution_count": 1,
   "metadata": {},
   "outputs": [
    {
     "data": {
      "text/plain": [
       "[<matplotlib.lines.Line2D at 0x27fff92a0a0>]"
      ]
     },
     "execution_count": 1,
     "metadata": {},
     "output_type": "execute_result"
    },
    {
     "data": {
      "image/png": "[encoded data removed]",
      "text/plain": [
       "<Figure size 288x216 with 1 Axes>"
      ]
     },
     "metadata": {
      "needs_background": "light"
     },
     "output_type": "display_data"
    }
   ],
   "source": [
    "import numpy as np\n",
    "import scipy.special as sp\n",
    "import matplotlib.pyplot as plt\n",
    "#%matplotlib inline # Allows plotting in the notebook\n",
    "\n",
    "x = np.linspace(-5,5,num=1000)\n",
    "r = abs(x)\n",
    "\n",
    "zeta = 1.0\n",
    "\n",
    "psi_STO = (zeta**3/np.pi)**(0.5)*np.exp(-zeta*r)\n",
    "\n",
    "plt.figure(figsize=(4,3))\n",
    "plt.plot(x,psi_STO)"
   ]
  },
  {
   "cell_type": "markdown",
   "metadata": {},
   "source": [
    "<div class=\"alert alert-warning\">\n",
    "\n",
    "### **Tratamiento Variacional de átomo de Helio (III): Interacción de configuraciones.**\n",
    "<p style='text-align: justify;'>\n",
    "La aproximación orbital es útil para muchos propósitos, pero da lugar a energías y funciones de onda que difieren significativamente de las soluciones exactas. Aún así, existen formas sistemáticas de corregir la solución orbital.\n",
    "Supongamos que partimos de una colección de espinorbitales ${\\psi_a,  \\psi_b,  \\psi_c, . . . }$, cuyo número, $M$, es mayor que el número de electrones del sistema, $N$. Esto nos permite construir\n",
    "$\\large \\binom{M}{N} = \\frac{M!}{N!(M-N)!}$ determinantes de Slater diferentes. La función de onda se puede aproximar como combinación lineal de los determinantes, eligiendo los coeficientes de mezcla de modo que hagan mínima la energía. Esta versión del método de variaciones recibe el nombre de interacción de configuraciones completa (full CI). A medida que se añaden más espinorbitales, el método tiende a la solución exacta.\n",
    "\n",
    "\n",
    "**Ejemplo**: Sean $\\large \\{a, b, c, d\\}$ cuatro espinorbitales del He. Podemos formar $\\large \\binom{4}{2} = \\frac{4!}{2!(4-2)!}=6$ determinantes:\n",
    "$Φ_1 =\\parallel a \\space \\space b \\parallel$, $Φ_2 =\\parallel a \\space \\space c \\parallel$, $Φ_3 =\\parallel a \\space \\space d \\parallel$, $Φ_4 =\\parallel b \\space \\space c \\parallel$, $Φ_5 =\\parallel b \\space \\space d \\parallel$, $Φ_6 =\\parallel c \\space \\space d \\parallel$, donde hemos empleado la notación     \n",
    "\n",
    "$$\\large \\begin{equation} \n",
    "\\parallel a \\space \\space b \\parallel=\\frac{1}{\\sqrt{2}} \\left| \\begin{array}{cc} a(1) & b(1)\\\\ a(2) & b(2) \\end{array} \\right|\\end{equation}$$\n",
    "\n",
    "\n",
    "La función de onda **CI** será entonces $\\large Φ = \\sum_{i=0}^{6} Φ_i c_i$, donde los coeficientes ci son los parámetros variacionales. Las propiedades de simetría y momento angular, como examinaremos en el próximo capítulo, determinan que algunos determinantes se mezclen entre sí y que otros no lo haga.\n",
    "\n",
    "<center><img src=\"tabla1.png\"></center>\n",
    "<center>Resumen de algunos cálculos HF, UHF y CI</center>\n",
    "\n",
    "    \n",
    "\n",
    "**• El cálculo orbital con base mínima está bastante lejos de la solución exacta. Lamentablemente, abundan los textos de química general o enlace químico, donde ésto se vende como verdad última.**\n",
    "    \n",
    "**• Para bases amplias, el cálculo HF mejora sensiblemente. El error en la energía del cálculo HF límite se denomina energía de correlación.**\n",
    "    \n",
    "**• La estrategia UHF recupera gran parte del error de correlación con un esfuerzo pequeño.**\n",
    "    \n",
    "**• Para que el cálculo CI sea efectivo es importante incorporar funciones de momento angular superior al de los orbitales ocupados en la configuración fundamental: funciones de polarización.**\n",
    "    \n",
    "**• Los cálculos CI convergen lentamente hacia la solución exacta. El cociente eficacia/esfuerzo sigue una ley logarítmica.**"
   ]
  },
  {
   "cell_type": "code",
   "execution_count": 7,
   "metadata": {},
   "outputs": [
    {
     "data": {
      "image/png": "[encoded data removed]",
      "text/latex": [
       "$\\displaystyle - \\frac{\\frac{\\partial}{\\partial r_{1}} r_{1}^{2} \\frac{\\partial}{\\partial r_{1}} 2 \\sqrt{ξ^{3}} e^{- r_{1} ξ}}{r_{1}^{2}}$"
      ],
      "text/plain": [
       "    ⎛       ⎛     ____       ⎞⎞ \n",
       "  ∂ ⎜  2  ∂ ⎜    ╱  3   -r₁⋅ξ⎟⎟ \n",
       "-───⎜r₁ ⋅───⎝2⋅╲╱  ξ  ⋅ℯ     ⎠⎟ \n",
       " ∂r₁⎝    ∂r₁                  ⎠ \n",
       "────────────────────────────────\n",
       "                2               \n",
       "              r₁                "
      ]
     },
     "execution_count": 7,
     "metadata": {},
     "output_type": "execute_result"
    }
   ],
   "source": [
    "a, n, ξ=symbols('a n ξ')\n",
    "var(\"r1 r2 Z\")\n",
    "(r1, r2, Z)\n",
    "#R_nl(n, l, r, Z)\n",
    "na=(-1/(r1**2))*(Derivative((r1**2)*(Derivative(R_nl(1, 0, r1, ξ), r1)), r1))\n",
    "na"
   ]
  },
  {
   "cell_type": "code",
   "execution_count": 8,
   "metadata": {},
   "outputs": [
    {
     "data": {
      "image/png": "[encoded data removed]",
      "text/latex": [
       "$\\displaystyle \\left( \\int\\limits_{0}^{\\infty}\\int\\limits_{0}^{\\infty} 4 r_{1}^{2} r_{2}^{2} ξ^{3} e^{- r_{1} ξ} e^{- r_{2} ξ}\\, dr_{1}\\, dr_{2}, \\  - \\frac{\\frac{\\partial}{\\partial r_{1}} r_{1}^{2} \\frac{\\partial}{\\partial r_{1}} 2 \\sqrt{ξ^{3}} e^{- r_{1} ξ}}{r_{1}^{2}}, \\  \\frac{\\left(- 2 Z + ξ \\left(- 1.0 r_{1} ξ + 2.0\\right)\\right) \\sqrt{ξ^{3}} e^{- r_{1} ξ}}{r_{1}}, \\  \\frac{\\left(- 2 Z + ξ \\left(- 1.0 r_{2} ξ + 2.0\\right)\\right) \\sqrt{ξ^{3}} e^{- r_{2} ξ}}{r_{2}}\\right)$"
      ],
      "text/plain": [
       "⎛                                                ⎛       ⎛     ____       ⎞⎞  \n",
       "⎜∞ ∞                                           ∂ ⎜  2  ∂ ⎜    ╱  3   -r₁⋅ξ⎟⎟  \n",
       "⎜⌠ ⌠                                         -───⎜r₁ ⋅───⎝2⋅╲╱  ξ  ⋅ℯ     ⎠⎟  \n",
       "⎜⎮ ⎮     2   2  3  -r₁⋅ξ  -r₂⋅ξ               ∂r₁⎝    ∂r₁                  ⎠  \n",
       "⎜⎮ ⎮ 4⋅r₁ ⋅r₂ ⋅ξ ⋅ℯ     ⋅ℯ      d(r₁) d(r₂), ────────────────────────────────,\n",
       "⎜⌡ ⌡                                                         2                \n",
       "⎝0 0                                                       r₁                 \n",
       "\n",
       "                                                                              \n",
       "                                 ____                                         \n",
       "                                ╱  3   -r₁⋅ξ                                 ╱\n",
       " (-2⋅Z + ξ⋅(-1.0⋅r₁⋅ξ + 2.0))⋅╲╱  ξ  ⋅ℯ       (-2⋅Z + ξ⋅(-1.0⋅r₂⋅ξ + 2.0))⋅╲╱ \n",
       " ───────────────────────────────────────────, ────────────────────────────────\n",
       "                      r₁                                           r₂         \n",
       "                                                                              \n",
       "\n",
       "           ⎞\n",
       "____       ⎟\n",
       "  3   -r₂⋅ξ⎟\n",
       " ξ  ⋅ℯ     ⎟\n",
       "───────────⎟\n",
       "           ⎟\n",
       "           ⎠"
      ]
     },
     "execution_count": 8,
     "metadata": {},
     "output_type": "execute_result"
    }
   ],
   "source": [
    "a, n, ξ=symbols('a n ξ')\n",
    "var(\"r1 r2 Z\")\n",
    "(r1, r2, Z)\n",
    "#R_nl(n, l, r, Z)\n",
    "HP1=(0.5)*(-1/(r1**2))*(diff((r1**2)*(diff(R_nl(1, 0, r1, ξ), r1)), r1))-(Z/(r1))*(R_nl(1, 0, r1, ξ))\n",
    "HP2=(0.5)*(-1/(r2**2))*(diff((r2**2)*(diff(R_nl(1, 0, r2, ξ), r2)), r2))-(Z/(r2))*(R_nl(1, 0, r2, ξ))\n",
    "Pr=Integral(R_nl(1, 0, r1, ξ)*R_nl(1, 0, r2, ξ) * r1**2 * r2**2, (r1, 0, oo), (r2, 0, oo))\n",
    "nabla1=(-1/(r1**2))*(Derivative((r1**2)*(Derivative(R_nl(1, 0, r1, ξ), r1)), r1))\n",
    "Pr, nabla1, HP1.simplify(), HP2.simplify()"
   ]
  },
  {
   "cell_type": "code",
   "execution_count": 9,
   "metadata": {},
   "outputs": [
    {
     "data": {
      "text/latex": [
       "$\\displaystyle \\left( \\begin{cases} - Z ξ + 0.5 ξ^{2} & \\text{for}\\: \\left|{\\arg{\\left(ξ \\right)}}\\right| < \\frac{\\pi}{2} \\\\\\int\\limits_{0}^{\\infty} 2 r_{1}^{2} \\left(- \\frac{2 Z \\sqrt{ξ^{3}} e^{- r_{1} ξ}}{r_{1}} - \\frac{0.5 \\left(2 r_{1}^{2} ξ^{2} \\sqrt{ξ^{3}} e^{- r_{1} ξ} - 4 r_{1} ξ \\sqrt{ξ^{3}} e^{- r_{1} ξ}\\right)}{r_{1}^{2}}\\right) \\sqrt{ξ^{3}} e^{- r_{1} ξ}\\, dr_{1} & \\text{otherwise} \\end{cases}, \\  \\begin{cases} - Z ξ + 0.5 ξ^{2} & \\text{for}\\: \\left|{\\arg{\\left(ξ \\right)}}\\right| < \\frac{\\pi}{2} \\\\\\int\\limits_{0}^{\\infty} 2 r_{2}^{2} \\left(- \\frac{2 Z \\sqrt{ξ^{3}} e^{- r_{2} ξ}}{r_{2}} - \\frac{0.5 \\left(2 r_{2}^{2} ξ^{2} \\sqrt{ξ^{3}} e^{- r_{2} ξ} - 4 r_{2} ξ \\sqrt{ξ^{3}} e^{- r_{2} ξ}\\right)}{r_{2}^{2}}\\right) \\sqrt{ξ^{3}} e^{- r_{2} ξ}\\, dr_{2} & \\text{otherwise} \\end{cases}\\right)$"
      ],
      "text/plain": [
       "⎛⎧                                                           2                \n",
       "⎜⎪                                               -Z⋅ξ + 0.5⋅ξ                 \n",
       "⎜⎪                                                                            \n",
       "⎜⎪                                                                            \n",
       "⎜⎪∞                                                                           \n",
       "⎜⎪⌠                                                                           \n",
       "⎜⎪⎮       ⎛         ____              ⎛            ____                    ___\n",
       "⎜⎨⎮       ⎜        ╱  3   -r₁⋅ξ       ⎜    2  2   ╱  3   -r₁⋅ξ            ╱  3\n",
       "⎜⎪⎮     2 ⎜  2⋅Z⋅╲╱  ξ  ⋅ℯ        0.5⋅⎝2⋅r₁ ⋅ξ ⋅╲╱  ξ  ⋅ℯ      - 4⋅r₁⋅ξ⋅╲╱  ξ \n",
       "⎜⎪⎮ 2⋅r₁ ⋅⎜- ────────────────── - ────────────────────────────────────────────\n",
       "⎜⎪⎮       ⎜          r₁                                      2                \n",
       "⎜⎪⎮       ⎝                                                r₁                 \n",
       "⎜⎪⌡                                                                           \n",
       "⎜⎪0                                                                           \n",
       "⎝⎩                                                                            \n",
       "\n",
       "                                                π  ⎧                          \n",
       "                                 for │arg(ξ)│ < ─  ⎪                          \n",
       "                                                2  ⎪                          \n",
       "                                                   ⎪                          \n",
       "                                                   ⎪∞                         \n",
       "                                                   ⎪⌠                         \n",
       "_       ⎞⎞                                         ⎪⎮       ⎛         ____    \n",
       "   -r₁⋅ξ⎟⎟    ____                               , ⎨⎮       ⎜        ╱  3   -r\n",
       " ⋅ℯ     ⎠⎟   ╱  3   -r₁⋅ξ                          ⎪⎮     2 ⎜  2⋅Z⋅╲╱  ξ  ⋅ℯ  \n",
       "─────────⎟⋅╲╱  ξ  ⋅ℯ      d(r₁)     otherwise      ⎪⎮ 2⋅r₂ ⋅⎜- ───────────────\n",
       "         ⎟                                         ⎪⎮       ⎜          r₂     \n",
       "         ⎠                                         ⎪⎮       ⎝                 \n",
       "                                                   ⎪⌡                         \n",
       "                                                   ⎪0                         \n",
       "                                                   ⎩                          \n",
       "\n",
       "                                 2                                            \n",
       "                     -Z⋅ξ + 0.5⋅ξ                                             \n",
       "                                                                              \n",
       "                                                                              \n",
       "                                                                              \n",
       "                                                                              \n",
       "          ⎛            ____                    ____       ⎞⎞                  \n",
       "₂⋅ξ       ⎜    2  2   ╱  3   -r₂⋅ξ            ╱  3   -r₂⋅ξ⎟⎟    ____          \n",
       "      0.5⋅⎝2⋅r₂ ⋅ξ ⋅╲╱  ξ  ⋅ℯ      - 4⋅r₂⋅ξ⋅╲╱  ξ  ⋅ℯ     ⎠⎟   ╱  3   -r₂⋅ξ   \n",
       "─── - ─────────────────────────────────────────────────────⎟⋅╲╱  ξ  ⋅ℯ      d(\n",
       "                                 2                         ⎟                  \n",
       "                               r₂                          ⎠                  \n",
       "                                                                              \n",
       "                                                                              \n",
       "                                                                              \n",
       "\n",
       "                    π⎞\n",
       "     for │arg(ξ)│ < ─⎟\n",
       "                    2⎟\n",
       "                     ⎟\n",
       "                     ⎟\n",
       "                     ⎟\n",
       "                     ⎟\n",
       "                     ⎟\n",
       "                     ⎟\n",
       "r₂)     otherwise    ⎟\n",
       "                     ⎟\n",
       "                     ⎟\n",
       "                     ⎟\n",
       "                     ⎟\n",
       "                     ⎠"
      ]
     },
     "execution_count": 9,
     "metadata": {},
     "output_type": "execute_result"
    }
   ],
   "source": [
    "H1=Integral(R_nl(1, 0, r1, ξ)*HP1*r1**2, (r1, 0, oo))\n",
    "H2=Integral(R_nl(1, 0, r2, ξ)*HP2*r2**2, (r2, 0, oo))\n",
    "H1.doit(), H2.doit()"
   ]
  },
  {
   "cell_type": "code",
   "execution_count": 10,
   "metadata": {},
   "outputs": [
    {
     "data": {
      "image/png": "[encoded data removed]",
      "text/latex": [
       "$\\displaystyle \\left( - 2 Z + 2.0 ξ + 0.625, \\  \\left[ Z - 0.3125\\right]\\right)$"
      ],
      "text/plain": [
       "(-2⋅Z + 2.0⋅ξ + 0.625, [Z - 0.3125])"
      ]
     },
     "execution_count": 10,
     "metadata": {},
     "output_type": "execute_result"
    }
   ],
   "source": [
    "W=0.5*ξ**2 - Z*ξ + 0.5*ξ**2 - Z*ξ + (5/8)*ξ\n",
    "Wmin=diff(W, ξ)\n",
    "ξopt=solve(Wmin, ξ)\n",
    "Wmin, ξopt"
   ]
  },
  {
   "cell_type": "code",
   "execution_count": null,
   "metadata": {},
   "outputs": [],
   "source": []
  }
 ],
 "metadata": {
  "kernelspec": {
   "display_name": "Python 3 (ipykernel)",
   "language": "python",
   "name": "python3"
  },
  "language_info": {
   "codemirror_mode": {
    "name": "ipython",
    "version": 3
   },
   "file_extension": ".py",
   "mimetype": "text/x-python",
   "name": "python",
   "nbconvert_exporter": "python",
   "pygments_lexer": "ipython3",
   "version": "3.7.11"
  }
 },
 "nbformat": 4,
 "nbformat_minor": 4
}
