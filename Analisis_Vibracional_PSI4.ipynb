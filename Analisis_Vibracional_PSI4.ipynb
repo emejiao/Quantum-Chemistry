{
 "cells": [
  {
   "cell_type": "markdown",
   "id": "69f2a083-4291-4c35-86c3-67d3167bd8e9",
   "metadata": {},
   "source": [
    "<div class=\"alert alert-success\" role=\"alert\">\n",
    "  <h1 class=\"alert-heading\">Análisis Vibracional</h1>\n",
    "  <h3 class=\"alert-heading\">Prof. Enrique Mejía Ospino, emejia@uis.edu.co</h3>\n",
    "  <h4 class=\"alert-heading\">Escuela de Química</h4>\n",
    "  <h4 class=\"alert-heading\">Universidad Industrial de Santander</h4>\n",
    "  </div>"
   ]
  },
  {
   "cell_type": "markdown",
   "id": "30fc743c-be9d-4d2e-a886-bbebf36e3563",
   "metadata": {},
   "source": [
    "**<font color=blue> Vamos  atilizar el modulo *PSI4* para desarrollar algunos ejercicios de cálculo mecánico-cuántico. En este Cuaderno de Jupyter realizaremos análisis vibracional de algunas moleculas sencillas.** "
   ]
  },
  {
   "cell_type": "code",
   "execution_count": 14,
   "id": "dec71b99",
   "metadata": {},
   "outputs": [],
   "source": [
    "import psi4\n",
    "import numpy as np\n",
    "import matplotlib.pyplot as plt\n",
    "import fortecubeview # Visualizar moléculas\n",
    "import h5py\n",
    "import pandas as pd\n",
    "#import CHE525_Vib as vib\n",
    "%matplotlib inline"
   ]
  },
  {
   "cell_type": "markdown",
   "id": "ac7d68e0-6cbe-40a6-b519-f5c144a909bd",
   "metadata": {
    "tags": []
   },
   "source": [
    "**<font color=blue> Definimos la geometría de la molécula (H2O), en este caso en formato Z-matriz, se asigna la capacidad de memoria, la base, se optimiza la molécula, se remueve los scratch y se determina la energía y los modos vibracionales y sus intensidades en el IR. Adicionalemente el proceso y los resultados son almacenados en archivo *out_H2O:vib.dat* en el que se puede encontrar información más completa que incluye *análisis termoquímico*.** "
   ]
  },
  {
   "cell_type": "code",
   "execution_count": 16,
   "id": "2d75ddad-2bd5-4181-92d7-5ea14c0b05e8",
   "metadata": {},
   "outputs": [
    {
     "name": "stdout",
     "output_type": "stream",
     "text": [
      "Optimizer: Optimization complete!\n",
      "The Hartree-Fock ground state energy of the water is: -76.02705347811751 Eh\n",
      "{'CURRENT DIPOLE X': 4.0856043002547217e-16, 'CURRENT DIPOLE Y': -6.278739589878272e-15, 'CURRENT DIPOLE Z': 2.044038806759091, 'CURRENT ENERGY': -76.02705347811752, 'CURRENT REFERENCE ENERGY': -76.02705347811752, 'ENTHALPY': -76.00025453530507, 'ENTHALPY CORRECTION': 0.026798942812444146, 'GIBBS FREE ENERGY': -76.02162966377215, 'GIBBS FREE ENERGY CORRECTION': 0.005423814345375175, 'HF TOTAL ENERGY': -76.02705347811752, 'NUCLEAR REPULSION ENERGY': 9.302025704896552, 'ONE-ELECTRON ENERGY': -123.34097998720974, 'PCM POLARIZATION ENERGY': 0.0, 'PE ENERGY': 0.0, 'SCF DIPOLE X': 4.0856043002547217e-16, 'SCF DIPOLE Y': -6.278739589878272e-15, 'SCF DIPOLE Z': 2.044038806759091, 'SCF ITERATION ENERGY': -76.02705347811752, 'SCF ITERATIONS': 10.0, 'SCF TOTAL ENERGY': -76.02705347811752, 'THERMAL ENERGY': -76.00119871985312, 'THERMAL ENERGY CORRECTION': 0.025854758264397867, 'TWO-ELECTRON ENERGY': 38.01190080419567, 'ZERO K ENTHALPY': -76.00403281200691, 'ZPVE': 0.02302066611060682, 'CURRENT DIPOLE': array([ 1.60740041e-16, -2.47024623e-15,  8.04186745e-01]), 'CURRENT GRADIENT': <psi4.core.Matrix object at 0x7fe8fe270290>, 'HF TOTAL GRADIENT': <psi4.core.Matrix object at 0x7fe8ed32ac50>, 'SCF DIPOLE': array([ 1.60740041e-16, -2.47024623e-15,  8.04186745e-01]), 'SCF TOTAL GRADIENT': <psi4.core.Matrix object at 0x7fea16ad5230>}\n"
     ]
    }
   ],
   "source": [
    "import pandas as pd\n",
    "# Especificación del tamño de memoria que se utilizará en el cálculo\n",
    "psi4.set_memory('500 MB')\n",
    "numpy_memory = 2 # Arreglos NumPy no pueden exceder 2 MB en tamaño\n",
    "\n",
    "# archivo de salida\n",
    "psi4.core.set_output_file('./Data/out_H2O_vib.dat', False)\n",
    "\n",
    "# especificando la base\n",
    "basis = 'cc-pvdz'\n",
    "\n",
    "# Set computation options\n",
    "psi4.set_options({'basis': basis,\n",
    "                  'scf_type': 'pk',\n",
    "                  'e_convergence': 1e-8})\n",
    "\n",
    "# ==> Definimos la Molécula con simetría inicial C1 <==\n",
    "mol = psi4.geometry(\"\"\"\n",
    "O\n",
    "H 1 1.1\n",
    "H 1 1.1 2 104\n",
    "symmetry c1\n",
    "\"\"\")\n",
    "\n",
    "# Optimizamos la molécula \n",
    "E_psi = psi4.optimize('scf')\n",
    "psi4.core.clean()  #  Función para remover los scratch\n",
    "\n",
    "# Determinamos la energía y los modos vibracionales utilizando HF y cc-pvdz como base\n",
    "scf_e, scf_wfn = psi4.frequency('scf/cc-pvdz', molecule=mol, return_wfn=True)\n",
    "print(f\"The Hartree-Fock ground state energy of the water is: {E_psi} Eh\")\n",
    "vibinfo = scf_wfn.frequency_analysis\n",
    "psivars = psi4.core.variables()\n",
    "\n",
    "# Imprimimos los resultados aunque se recomienda revisar el archivo de salida\n",
    "freq1=(list(psi4.vibanal_wfn(scf_wfn)['omega']))\n",
    "Int_IR=(list(psi4.vibanal_wfn(scf_wfn)['IR_intensity']))\n",
    "freq1 = pd.DataFrame(freq1[3])[1:].values[:,0][0]\n",
    "#Int_IR = pd.DataFrame(Int_IR[3])[1:].values[:,0][0]\n",
    "#freq=freq1.real; freq = freq[freq > 100]; len1 = len(Int_IR)-len(freq); Int = Int_IR[len1:]\n",
    "#Ana_vib = pd.concat([pd.DataFrame(freq) , pd.DataFrame(Int)], axis=1)\n",
    "#Ana_vib.set_axis(['cm^-1', 'IR activ [km/mol]'], axis=1, inplace=True)\n",
    "print(psi4.core.variables())"
   ]
  },
  {
   "cell_type": "code",
   "execution_count": 19,
   "id": "2ad83842-e36c-4bfa-a1ed-378a19fb4b49",
   "metadata": {},
   "outputs": [
    {
     "data": {
      "text/html": [
       "<div>\n",
       "<style scoped>\n",
       "    .dataframe tbody tr th:only-of-type {\n",
       "        vertical-align: middle;\n",
       "    }\n",
       "\n",
       "    .dataframe tbody tr th {\n",
       "        vertical-align: top;\n",
       "    }\n",
       "\n",
       "    .dataframe thead th {\n",
       "        text-align: right;\n",
       "    }\n",
       "</style>\n",
       "<table border=\"1\" class=\"dataframe\">\n",
       "  <thead>\n",
       "    <tr style=\"text-align: right;\">\n",
       "      <th></th>\n",
       "      <th>0</th>\n",
       "    </tr>\n",
       "  </thead>\n",
       "  <tbody>\n",
       "    <tr>\n",
       "      <th>1</th>\n",
       "      <td>[5.1223419656477694e-05j, 4.883955028207133e-0...</td>\n",
       "    </tr>\n",
       "  </tbody>\n",
       "</table>\n",
       "</div>"
      ],
      "text/plain": [
       "                                                   0\n",
       "1  [5.1223419656477694e-05j, 4.883955028207133e-0..."
      ]
     },
     "execution_count": 19,
     "metadata": {},
     "output_type": "execute_result"
    }
   ],
   "source": [
    "pd.DataFrame(freq1[3])[1:].values[0"
   ]
  },
  {
   "cell_type": "code",
   "execution_count": 3,
   "id": "269d69da-bf42-42a0-8cb9-b010ca891386",
   "metadata": {},
   "outputs": [
    {
     "name": "stdout",
     "output_type": "stream",
     "text": [
      "-76.02162966377193\n"
     ]
    }
   ],
   "source": [
    "print(psivars['GIBBS FREE ENERGY'])"
   ]
  },
  {
   "cell_type": "code",
   "execution_count": 4,
   "id": "947772b4-3856-4c02-89ed-3a57e180ca83",
   "metadata": {},
   "outputs": [
    {
     "data": {
      "text/html": [
       "<div>\n",
       "<style scoped>\n",
       "    .dataframe tbody tr th:only-of-type {\n",
       "        vertical-align: middle;\n",
       "    }\n",
       "\n",
       "    .dataframe tbody tr th {\n",
       "        vertical-align: top;\n",
       "    }\n",
       "\n",
       "    .dataframe thead th {\n",
       "        text-align: right;\n",
       "    }\n",
       "</style>\n",
       "<table border=\"1\" class=\"dataframe\">\n",
       "  <thead>\n",
       "    <tr style=\"text-align: right;\">\n",
       "      <th></th>\n",
       "      <th>0</th>\n",
       "      <th>0</th>\n",
       "    </tr>\n",
       "  </thead>\n",
       "  <tbody>\n",
       "    <tr>\n",
       "      <th>0</th>\n",
       "      <td>1775.448213</td>\n",
       "      <td>80.715628</td>\n",
       "    </tr>\n",
       "    <tr>\n",
       "      <th>1</th>\n",
       "      <td>4115.546506</td>\n",
       "      <td>21.188691</td>\n",
       "    </tr>\n",
       "    <tr>\n",
       "      <th>2</th>\n",
       "      <td>4213.909774</td>\n",
       "      <td>60.526986</td>\n",
       "    </tr>\n",
       "  </tbody>\n",
       "</table>\n",
       "</div>"
      ],
      "text/plain": [
       "             0          0\n",
       "0  1775.448213  80.715628\n",
       "1  4115.546506  21.188691\n",
       "2  4213.909774  60.526986"
      ]
     },
     "execution_count": 4,
     "metadata": {},
     "output_type": "execute_result"
    }
   ],
   "source": [
    "Ana_vib.head()"
   ]
  },
  {
   "cell_type": "code",
   "execution_count": 5,
   "id": "9629065a-3408-49b5-8f31-e5c31cae0625",
   "metadata": {},
   "outputs": [],
   "source": [
    "import py3Dmol\n",
    "H2O = '''3\n",
    "\n",
    "O            0.000000000000     0.000000000000    -0.063241040968\n",
    "H            0.000000000000    -0.763664017586     0.501840606446\n",
    "H            0.000000000000     0.763664017586     0.501840606446\n",
    "'''"
   ]
  },
  {
   "cell_type": "code",
   "execution_count": 6,
   "id": "418a73a0-dc99-466a-87a9-8486c4cb5d5d",
   "metadata": {},
   "outputs": [
    {
     "data": {
      "application/3dmoljs_load.v0": "<div id=\"3dmolviewer_1636061642374596\"  style=\"position: relative; width: 100px; height: 100px\">\n        <p id=\"3dmolwarning_1636061642374596\" style=\"background-color:#ffcccc;color:black\">You appear to be running in JupyterLab (or JavaScript failed to load for some other reason).  You need to install the 3dmol extension: <br>\n        <tt>jupyter labextension install jupyterlab_3dmol</tt></p>\n        </div>\n<script>\n\nvar loadScriptAsync = function(uri){\n  return new Promise((resolve, reject) => {\n    var tag = document.createElement('script');\n    tag.src = uri;\n    tag.async = true;\n    tag.onload = () => {\n      resolve();\n    };\n  var firstScriptTag = document.getElementsByTagName('script')[0];\n  firstScriptTag.parentNode.insertBefore(tag, firstScriptTag);\n});\n};\n\nif(typeof $3Dmolpromise === 'undefined') {\n$3Dmolpromise = null;\n  $3Dmolpromise = loadScriptAsync('https://3dmol.org/build/3Dmol.js');\n}\n\nvar viewer_1636061642374596 = null;\nvar warn = document.getElementById(\"3dmolwarning_1636061642374596\");\nif(warn) {\n    warn.parentNode.removeChild(warn);\n}\n$3Dmolpromise.then(function() {\nviewer_1636061642374596 = $3Dmol.createViewer($(\"#3dmolviewer_1636061642374596\"),{backgroundColor:\"white\"});\nviewer_1636061642374596.zoomTo();\n\tviewer_1636061642374596.addModel(\"3\\n\\nO            0.000000000000     0.000000000000    -0.063241040968\\nH            0.000000000000    -0.763664017586     0.501840606446\\nH            0.000000000000     0.763664017586     0.501840606446\\n\",\"xyz\");\n\tviewer_1636061642374596.setStyle({\"stick\": {}});\n\tviewer_1636061642374596.zoomTo();\nviewer_1636061642374596.render();\n});\n</script>",
      "text/html": [
       "<div id=\"3dmolviewer_1636061642374596\"  style=\"position: relative; width: 100px; height: 100px\">\n",
       "        <p id=\"3dmolwarning_1636061642374596\" style=\"background-color:#ffcccc;color:black\">You appear to be running in JupyterLab (or JavaScript failed to load for some other reason).  You need to install the 3dmol extension: <br>\n",
       "        <tt>jupyter labextension install jupyterlab_3dmol</tt></p>\n",
       "        </div>\n",
       "<script>\n",
       "\n",
       "var loadScriptAsync = function(uri){\n",
       "  return new Promise((resolve, reject) => {\n",
       "    var tag = document.createElement('script');\n",
       "    tag.src = uri;\n",
       "    tag.async = true;\n",
       "    tag.onload = () => {\n",
       "      resolve();\n",
       "    };\n",
       "  var firstScriptTag = document.getElementsByTagName('script')[0];\n",
       "  firstScriptTag.parentNode.insertBefore(tag, firstScriptTag);\n",
       "});\n",
       "};\n",
       "\n",
       "if(typeof $3Dmolpromise === 'undefined') {\n",
       "$3Dmolpromise = null;\n",
       "  $3Dmolpromise = loadScriptAsync('https://3dmol.org/build/3Dmol.js');\n",
       "}\n",
       "\n",
       "var viewer_1636061642374596 = null;\n",
       "var warn = document.getElementById(\"3dmolwarning_1636061642374596\");\n",
       "if(warn) {\n",
       "    warn.parentNode.removeChild(warn);\n",
       "}\n",
       "$3Dmolpromise.then(function() {\n",
       "viewer_1636061642374596 = $3Dmol.createViewer($(\"#3dmolviewer_1636061642374596\"),{backgroundColor:\"white\"});\n",
       "viewer_1636061642374596.zoomTo();\n",
       "\tviewer_1636061642374596.addModel(\"3\\n\\nO            0.000000000000     0.000000000000    -0.063241040968\\nH            0.000000000000    -0.763664017586     0.501840606446\\nH            0.000000000000     0.763664017586     0.501840606446\\n\",\"xyz\");\n",
       "\tviewer_1636061642374596.setStyle({\"stick\": {}});\n",
       "\tviewer_1636061642374596.zoomTo();\n",
       "viewer_1636061642374596.render();\n",
       "});\n",
       "</script>"
      ]
     },
     "metadata": {},
     "output_type": "display_data"
    }
   ],
   "source": [
    "xyzview = py3Dmol.view(width=100,height=100)\n",
    "xyzview.addModel(H2O,'xyz')\n",
    "xyzview.setStyle({'stick':{}})\n",
    "xyzview.zoomTo()\n",
    "xyzview.show()"
   ]
  },
  {
   "cell_type": "code",
   "execution_count": 7,
   "id": "8808c1d4-f770-4287-82ed-29eb5f6580fb",
   "metadata": {},
   "outputs": [],
   "source": [
    "v1_H2O = '''3\n",
    "\n",
    "O            0.000000000000     0.000000000000    -0.063241040968    -0.00 -0.00 -0.07\n",
    "H            0.000000000000    -0.763664017586     0.501840606446    -0.00  0.43  0.56\n",
    "H            0.000000000000     0.763664017586     0.501840606446     0.00 -0.43  0.56\n",
    "'''"
   ]
  },
  {
   "cell_type": "code",
   "execution_count": 8,
   "id": "d9d22419-b059-4254-a41f-3005c8e8ca1d",
   "metadata": {},
   "outputs": [
    {
     "data": {
      "application/3dmoljs_load.v0": "<div id=\"3dmolviewer_16360616653340237\"  style=\"position: relative; width: 200px; height: 200px\">\n        <p id=\"3dmolwarning_16360616653340237\" style=\"background-color:#ffcccc;color:black\">You appear to be running in JupyterLab (or JavaScript failed to load for some other reason).  You need to install the 3dmol extension: <br>\n        <tt>jupyter labextension install jupyterlab_3dmol</tt></p>\n        </div>\n<script>\n\nvar loadScriptAsync = function(uri){\n  return new Promise((resolve, reject) => {\n    var tag = document.createElement('script');\n    tag.src = uri;\n    tag.async = true;\n    tag.onload = () => {\n      resolve();\n    };\n  var firstScriptTag = document.getElementsByTagName('script')[0];\n  firstScriptTag.parentNode.insertBefore(tag, firstScriptTag);\n});\n};\n\nif(typeof $3Dmolpromise === 'undefined') {\n$3Dmolpromise = null;\n  $3Dmolpromise = loadScriptAsync('https://3dmol.org/build/3Dmol.js');\n}\n\nvar viewer_16360616653340237 = null;\nvar warn = document.getElementById(\"3dmolwarning_16360616653340237\");\nif(warn) {\n    warn.parentNode.removeChild(warn);\n}\n$3Dmolpromise.then(function() {\nviewer_16360616653340237 = $3Dmol.createViewer($(\"#3dmolviewer_16360616653340237\"),{backgroundColor:\"white\"});\nviewer_16360616653340237.zoomTo();\n\tviewer_16360616653340237.addModel(\"3\\n\\nO            0.000000000000     0.000000000000    -0.063241040968    -0.00 -0.00 -0.07\\nH            0.000000000000    -0.763664017586     0.501840606446    -0.00  0.43  0.56\\nH            0.000000000000     0.763664017586     0.501840606446     0.00 -0.43  0.56\\n\",\"v1_H2O\",{\"vibrate\": {\"frames\": 20, \"amplitude\": 1}});\n\tviewer_16360616653340237.setStyle({\"stick\": {}});\n\tviewer_16360616653340237.animate({\"loop\": \"backAndForth\"});\n\tviewer_16360616653340237.zoomTo();\nviewer_16360616653340237.render();\n});\n</script>",
      "text/html": [
       "<div id=\"3dmolviewer_16360616653340237\"  style=\"position: relative; width: 200px; height: 200px\">\n",
       "        <p id=\"3dmolwarning_16360616653340237\" style=\"background-color:#ffcccc;color:black\">You appear to be running in JupyterLab (or JavaScript failed to load for some other reason).  You need to install the 3dmol extension: <br>\n",
       "        <tt>jupyter labextension install jupyterlab_3dmol</tt></p>\n",
       "        </div>\n",
       "<script>\n",
       "\n",
       "var loadScriptAsync = function(uri){\n",
       "  return new Promise((resolve, reject) => {\n",
       "    var tag = document.createElement('script');\n",
       "    tag.src = uri;\n",
       "    tag.async = true;\n",
       "    tag.onload = () => {\n",
       "      resolve();\n",
       "    };\n",
       "  var firstScriptTag = document.getElementsByTagName('script')[0];\n",
       "  firstScriptTag.parentNode.insertBefore(tag, firstScriptTag);\n",
       "});\n",
       "};\n",
       "\n",
       "if(typeof $3Dmolpromise === 'undefined') {\n",
       "$3Dmolpromise = null;\n",
       "  $3Dmolpromise = loadScriptAsync('https://3dmol.org/build/3Dmol.js');\n",
       "}\n",
       "\n",
       "var viewer_16360616653340237 = null;\n",
       "var warn = document.getElementById(\"3dmolwarning_16360616653340237\");\n",
       "if(warn) {\n",
       "    warn.parentNode.removeChild(warn);\n",
       "}\n",
       "$3Dmolpromise.then(function() {\n",
       "viewer_16360616653340237 = $3Dmol.createViewer($(\"#3dmolviewer_16360616653340237\"),{backgroundColor:\"white\"});\n",
       "viewer_16360616653340237.zoomTo();\n",
       "\tviewer_16360616653340237.addModel(\"3\\n\\nO            0.000000000000     0.000000000000    -0.063241040968    -0.00 -0.00 -0.07\\nH            0.000000000000    -0.763664017586     0.501840606446    -0.00  0.43  0.56\\nH            0.000000000000     0.763664017586     0.501840606446     0.00 -0.43  0.56\\n\",\"v1_H2O\",{\"vibrate\": {\"frames\": 20, \"amplitude\": 1}});\n",
       "\tviewer_16360616653340237.setStyle({\"stick\": {}});\n",
       "\tviewer_16360616653340237.animate({\"loop\": \"backAndForth\"});\n",
       "\tviewer_16360616653340237.zoomTo();\n",
       "viewer_16360616653340237.render();\n",
       "});\n",
       "</script>"
      ]
     },
     "metadata": {},
     "output_type": "display_data"
    }
   ],
   "source": [
    "view_m1 = py3Dmol.view(width=200,height=200)\n",
    "view_m1.addModel(v1_H2O,'v1_H2O',{'vibrate': {'frames':20,'amplitude':1}})\n",
    "view_m1.setStyle({'stick':{}})\n",
    "#xyzview.setBackgroundColor('0xeeeeee')\n",
    "view_m1.animate({'loop': 'backAndForth'})\n",
    "view_m1.zoomTo()\n",
    "view_m1.show()"
   ]
  },
  {
   "cell_type": "code",
   "execution_count": 9,
   "id": "f0dcea07-c6e0-4778-9694-b6806f158684",
   "metadata": {},
   "outputs": [],
   "source": [
    "v2_H2O = '''3\n",
    "\n",
    "O            0.000000000000     0.000000000000    -0.063241040968    -0.00 -0.00  0.05\n",
    "H            0.000000000000    -0.763664017586     0.501840606446    -0.00  0.58 -0.40\n",
    "H            0.000000000000     0.763664017586     0.501840606446    -0.00 -0.58 -0.40\n",
    "'''"
   ]
  },
  {
   "cell_type": "code",
   "execution_count": 10,
   "id": "466faf1c-f7f1-47c7-b018-4c8abb5376f6",
   "metadata": {},
   "outputs": [
    {
     "data": {
      "application/3dmoljs_load.v0": "<div id=\"3dmolviewer_16360616797917304\"  style=\"position: relative; width: 200px; height: 200px\">\n        <p id=\"3dmolwarning_16360616797917304\" style=\"background-color:#ffcccc;color:black\">You appear to be running in JupyterLab (or JavaScript failed to load for some other reason).  You need to install the 3dmol extension: <br>\n        <tt>jupyter labextension install jupyterlab_3dmol</tt></p>\n        </div>\n<script>\n\nvar loadScriptAsync = function(uri){\n  return new Promise((resolve, reject) => {\n    var tag = document.createElement('script');\n    tag.src = uri;\n    tag.async = true;\n    tag.onload = () => {\n      resolve();\n    };\n  var firstScriptTag = document.getElementsByTagName('script')[0];\n  firstScriptTag.parentNode.insertBefore(tag, firstScriptTag);\n});\n};\n\nif(typeof $3Dmolpromise === 'undefined') {\n$3Dmolpromise = null;\n  $3Dmolpromise = loadScriptAsync('https://3dmol.org/build/3Dmol.js');\n}\n\nvar viewer_16360616797917304 = null;\nvar warn = document.getElementById(\"3dmolwarning_16360616797917304\");\nif(warn) {\n    warn.parentNode.removeChild(warn);\n}\n$3Dmolpromise.then(function() {\nviewer_16360616797917304 = $3Dmol.createViewer($(\"#3dmolviewer_16360616797917304\"),{backgroundColor:\"white\"});\nviewer_16360616797917304.zoomTo();\n\tviewer_16360616797917304.addModel(\"3\\n\\nO            0.000000000000     0.000000000000    -0.063241040968    -0.00 -0.00  0.05\\nH            0.000000000000    -0.763664017586     0.501840606446    -0.00  0.58 -0.40\\nH            0.000000000000     0.763664017586     0.501840606446    -0.00 -0.58 -0.40\\n\",\"v2_H2O\",{\"vibrate\": {\"frames\": 20, \"amplitude\": 1}});\n\tviewer_16360616797917304.setStyle({\"stick\": {}});\n\tviewer_16360616797917304.animate({\"loop\": \"backAndForth\"});\n\tviewer_16360616797917304.zoomTo();\nviewer_16360616797917304.render();\n});\n</script>",
      "text/html": [
       "<div id=\"3dmolviewer_16360616797917304\"  style=\"position: relative; width: 200px; height: 200px\">\n",
       "        <p id=\"3dmolwarning_16360616797917304\" style=\"background-color:#ffcccc;color:black\">You appear to be running in JupyterLab (or JavaScript failed to load for some other reason).  You need to install the 3dmol extension: <br>\n",
       "        <tt>jupyter labextension install jupyterlab_3dmol</tt></p>\n",
       "        </div>\n",
       "<script>\n",
       "\n",
       "var loadScriptAsync = function(uri){\n",
       "  return new Promise((resolve, reject) => {\n",
       "    var tag = document.createElement('script');\n",
       "    tag.src = uri;\n",
       "    tag.async = true;\n",
       "    tag.onload = () => {\n",
       "      resolve();\n",
       "    };\n",
       "  var firstScriptTag = document.getElementsByTagName('script')[0];\n",
       "  firstScriptTag.parentNode.insertBefore(tag, firstScriptTag);\n",
       "});\n",
       "};\n",
       "\n",
       "if(typeof $3Dmolpromise === 'undefined') {\n",
       "$3Dmolpromise = null;\n",
       "  $3Dmolpromise = loadScriptAsync('https://3dmol.org/build/3Dmol.js');\n",
       "}\n",
       "\n",
       "var viewer_16360616797917304 = null;\n",
       "var warn = document.getElementById(\"3dmolwarning_16360616797917304\");\n",
       "if(warn) {\n",
       "    warn.parentNode.removeChild(warn);\n",
       "}\n",
       "$3Dmolpromise.then(function() {\n",
       "viewer_16360616797917304 = $3Dmol.createViewer($(\"#3dmolviewer_16360616797917304\"),{backgroundColor:\"white\"});\n",
       "viewer_16360616797917304.zoomTo();\n",
       "\tviewer_16360616797917304.addModel(\"3\\n\\nO            0.000000000000     0.000000000000    -0.063241040968    -0.00 -0.00  0.05\\nH            0.000000000000    -0.763664017586     0.501840606446    -0.00  0.58 -0.40\\nH            0.000000000000     0.763664017586     0.501840606446    -0.00 -0.58 -0.40\\n\",\"v2_H2O\",{\"vibrate\": {\"frames\": 20, \"amplitude\": 1}});\n",
       "\tviewer_16360616797917304.setStyle({\"stick\": {}});\n",
       "\tviewer_16360616797917304.animate({\"loop\": \"backAndForth\"});\n",
       "\tviewer_16360616797917304.zoomTo();\n",
       "viewer_16360616797917304.render();\n",
       "});\n",
       "</script>"
      ]
     },
     "metadata": {},
     "output_type": "display_data"
    }
   ],
   "source": [
    "view_m2 = py3Dmol.view(width=200,height=200)\n",
    "view_m2.addModel(v2_H2O,'v2_H2O',{'vibrate': {'frames':20,'amplitude':1}})\n",
    "view_m2.setStyle({'stick':{}})\n",
    "#xyzview.setBackgroundColor('0xeeeeee')\n",
    "view_m2.animate({'loop': 'backAndForth'})\n",
    "view_m2.zoomTo()\n",
    "view_m2.show()"
   ]
  },
  {
   "cell_type": "code",
   "execution_count": 11,
   "id": "c5722bb5-cd3b-4a34-bda0-81fca0e328fd",
   "metadata": {},
   "outputs": [],
   "source": [
    "v3_H2O = '''3\n",
    "\n",
    "O            0.000000000000     0.000000000000    -0.063241040968    -0.00 -0.07 -0.00\n",
    "H            0.000000000000    -0.763664017586     0.501840606446     0.00  0.56 -0.43\n",
    "H            0.000000000000     0.763664017586     0.501840606446    0.00  0.56  0.43\n",
    "'''"
   ]
  },
  {
   "cell_type": "code",
   "execution_count": 12,
   "id": "7664e139-dafb-4bf2-b149-9dc8be98088a",
   "metadata": {},
   "outputs": [
    {
     "data": {
      "application/3dmoljs_load.v0": "<div id=\"3dmolviewer_16360617054182332\"  style=\"position: relative; width: 200px; height: 200px\">\n        <p id=\"3dmolwarning_16360617054182332\" style=\"background-color:#ffcccc;color:black\">You appear to be running in JupyterLab (or JavaScript failed to load for some other reason).  You need to install the 3dmol extension: <br>\n        <tt>jupyter labextension install jupyterlab_3dmol</tt></p>\n        </div>\n<script>\n\nvar loadScriptAsync = function(uri){\n  return new Promise((resolve, reject) => {\n    var tag = document.createElement('script');\n    tag.src = uri;\n    tag.async = true;\n    tag.onload = () => {\n      resolve();\n    };\n  var firstScriptTag = document.getElementsByTagName('script')[0];\n  firstScriptTag.parentNode.insertBefore(tag, firstScriptTag);\n});\n};\n\nif(typeof $3Dmolpromise === 'undefined') {\n$3Dmolpromise = null;\n  $3Dmolpromise = loadScriptAsync('https://3dmol.org/build/3Dmol.js');\n}\n\nvar viewer_16360617054182332 = null;\nvar warn = document.getElementById(\"3dmolwarning_16360617054182332\");\nif(warn) {\n    warn.parentNode.removeChild(warn);\n}\n$3Dmolpromise.then(function() {\nviewer_16360617054182332 = $3Dmol.createViewer($(\"#3dmolviewer_16360617054182332\"),{backgroundColor:\"white\"});\nviewer_16360617054182332.zoomTo();\n\tviewer_16360617054182332.addModel(\"3\\n\\nO            0.000000000000     0.000000000000    -0.063241040968    -0.00 -0.07 -0.00\\nH            0.000000000000    -0.763664017586     0.501840606446     0.00  0.56 -0.43\\nH            0.000000000000     0.763664017586     0.501840606446    0.00  0.56  0.43\\n\",\"v3_H2O\",{\"vibrate\": {\"frames\": 20, \"amplitude\": 1}});\n\tviewer_16360617054182332.setStyle({\"stick\": {}});\n\tviewer_16360617054182332.animate({\"loop\": \"backAndForth\"});\n\tviewer_16360617054182332.zoomTo();\nviewer_16360617054182332.render();\n});\n</script>",
      "text/html": [
       "<div id=\"3dmolviewer_16360617054182332\"  style=\"position: relative; width: 200px; height: 200px\">\n",
       "        <p id=\"3dmolwarning_16360617054182332\" style=\"background-color:#ffcccc;color:black\">You appear to be running in JupyterLab (or JavaScript failed to load for some other reason).  You need to install the 3dmol extension: <br>\n",
       "        <tt>jupyter labextension install jupyterlab_3dmol</tt></p>\n",
       "        </div>\n",
       "<script>\n",
       "\n",
       "var loadScriptAsync = function(uri){\n",
       "  return new Promise((resolve, reject) => {\n",
       "    var tag = document.createElement('script');\n",
       "    tag.src = uri;\n",
       "    tag.async = true;\n",
       "    tag.onload = () => {\n",
       "      resolve();\n",
       "    };\n",
       "  var firstScriptTag = document.getElementsByTagName('script')[0];\n",
       "  firstScriptTag.parentNode.insertBefore(tag, firstScriptTag);\n",
       "});\n",
       "};\n",
       "\n",
       "if(typeof $3Dmolpromise === 'undefined') {\n",
       "$3Dmolpromise = null;\n",
       "  $3Dmolpromise = loadScriptAsync('https://3dmol.org/build/3Dmol.js');\n",
       "}\n",
       "\n",
       "var viewer_16360617054182332 = null;\n",
       "var warn = document.getElementById(\"3dmolwarning_16360617054182332\");\n",
       "if(warn) {\n",
       "    warn.parentNode.removeChild(warn);\n",
       "}\n",
       "$3Dmolpromise.then(function() {\n",
       "viewer_16360617054182332 = $3Dmol.createViewer($(\"#3dmolviewer_16360617054182332\"),{backgroundColor:\"white\"});\n",
       "viewer_16360617054182332.zoomTo();\n",
       "\tviewer_16360617054182332.addModel(\"3\\n\\nO            0.000000000000     0.000000000000    -0.063241040968    -0.00 -0.07 -0.00\\nH            0.000000000000    -0.763664017586     0.501840606446     0.00  0.56 -0.43\\nH            0.000000000000     0.763664017586     0.501840606446    0.00  0.56  0.43\\n\",\"v3_H2O\",{\"vibrate\": {\"frames\": 20, \"amplitude\": 1}});\n",
       "\tviewer_16360617054182332.setStyle({\"stick\": {}});\n",
       "\tviewer_16360617054182332.animate({\"loop\": \"backAndForth\"});\n",
       "\tviewer_16360617054182332.zoomTo();\n",
       "viewer_16360617054182332.render();\n",
       "});\n",
       "</script>"
      ]
     },
     "metadata": {},
     "output_type": "display_data"
    }
   ],
   "source": [
    "view_m3 = py3Dmol.view(width=200,height=200)\n",
    "view_m3.addModel(v3_H2O,'v3_H2O',{'vibrate': {'frames':20,'amplitude':1}})\n",
    "view_m3.setStyle({'stick':{}})\n",
    "#xyzview.setBackgroundColor('0xeeeeee')\n",
    "view_m3.animate({'loop': 'backAndForth'})\n",
    "view_m3.zoomTo()\n",
    "view_m3.show()"
   ]
  },
  {
   "cell_type": "code",
   "execution_count": null,
   "id": "d1676f6b-a52e-4ad5-9166-0253b87a38d9",
   "metadata": {},
   "outputs": [],
   "source": []
  },
  {
   "cell_type": "markdown",
   "id": "5bdba180-36ff-4147-b6f9-3f75284e8132",
   "metadata": {},
   "source": [
    "**<font color=blue> Realizamos el mismo análisis con una molécula más compleja (Benceno) extarida de la base de datos *pubchem*.** "
   ]
  },
  {
   "cell_type": "code",
   "execution_count": 13,
   "id": "a00f897a-aff7-4b67-b826-79d3958bf73e",
   "metadata": {},
   "outputs": [
    {
     "name": "stdout",
     "output_type": "stream",
     "text": [
      "\tSearching PubChem database for benzene (single best match returned)\n",
      "\tFound 1 result(s)\n",
      "Optimizer: Optimization complete!\n",
      "Warning: used thermodynamics relations inappropriate for low-frequency modes: ['449.7207' '449.7230']\n",
      "The Hartree-Fock ground state energy of the water is: -230.72234959709084 Eh\n",
      "Warning: used thermodynamics relations inappropriate for low-frequency modes: ['449.7207' '449.7230']\n",
      "Warning: used thermodynamics relations inappropriate for low-frequency modes: ['449.7207' '449.7230']\n"
     ]
    }
   ],
   "source": [
    "import pandas as pd\n",
    "# Especificación del tamño de memoria que se utilizará en el cálculo\n",
    "psi4.set_memory('1000 MB')\n",
    "numpy_memory = 2 # Arreglos NumPy no pueden exceder 2 MB en tamaño\n",
    "\n",
    "# archivo de salida\n",
    "psi4.core.set_output_file('./Data/out_benceno_vib.dat', False)\n",
    "\n",
    "# especificando la base\n",
    "basis = 'cc-pvdz'\n",
    "\n",
    "# Set computation options\n",
    "psi4.set_options({'basis': basis,\n",
    "                  'scf_type': 'pk',\n",
    "                  'e_convergence': 1e-8})\n",
    "\n",
    "# ==> Definimos la Molécula con simetría inicial C1 <==\n",
    "mol = psi4.geometry(\"\"\"\n",
    "pubchem:benzene\n",
    "symmetry c1\n",
    "\"\"\")\n",
    "\n",
    "# Optimizamos la molécula \n",
    "E_psi = psi4.optimize('scf')\n",
    "psi4.core.clean()  #  Función para remover los scratch\n",
    "\n",
    "\n",
    "# Determinamos la energía y los modos vibracionales utilizando HF y cc-pvdz como base\n",
    "scf_e, scf_wfn = psi4.frequency('scf/cc-pvdz', molecule=mol, return_wfn=True)\n",
    "print(f\"The Hartree-Fock ground state energy of the water is: {E_psi} Eh\")\n",
    "vibinfo = scf_wfn.frequency_analysis\n",
    "\n",
    "#get_dipole_field_strength(scf_wfn)\n",
    "# Imprimimos los resultados aunque se recomienda revisar el archivo de salida\n",
    "freq1=(list(psi4.vibanal_wfn(scf_wfn)['omega']))\n",
    "Int_IR=(list(psi4.vibanal_wfn(scf_wfn)['IR_intensity']))\n",
    "\n",
    "freq1 = pd.DataFrame(freq1[3])[1:].values[:,0][0]\n",
    "Int_IR = pd.DataFrame(Int_IR[3])[1:].values[:,0][0]\n",
    "\n",
    "freq=freq1.real; freq = freq[freq > 100]; len1 = len(Int_IR)-len(freq); Int = Int_IR[len1:]\n",
    "Ana_vib = pd.concat([pd.DataFrame(freq) , pd.DataFrame(Int)], axis=1)\n",
    "Ana_vib.set_axis(['cm^-1', 'IR activ [km/mol]'], axis=1, inplace=True)\n",
    "Ana_vib.to_excel('./Data/mol1.xlsx')"
   ]
  },
  {
   "cell_type": "code",
   "execution_count": 16,
   "id": "67f1b741-8cde-430e-9809-2c81eb9f0e78",
   "metadata": {},
   "outputs": [
    {
     "data": {
      "text/plain": [
       "Datum(numeric=True, label='infrared intensity', units='km/mol', data=array([4.20681261e-13, 5.29419657e-11, 3.65906502e-11, 1.92848825e-11,\n",
       "       3.21212861e-11, 2.66221767e-11, 2.21273898e-08, 2.89986931e-08,\n",
       "       4.42748462e-09, 2.92026197e-08, 1.06405304e+02, 2.98265604e-08,\n",
       "       3.31953541e-08, 1.48475847e-08, 5.50302040e-10, 3.93066645e-08,\n",
       "       1.82678169e-07, 5.58270651e-08, 4.41586841e-07, 4.32278986e+00,\n",
       "       4.32278241e+00, 2.30699588e-08, 4.68087063e-09, 6.77992404e-09,\n",
       "       5.62075540e-09, 9.34828702e-11, 1.18947566e+01, 1.18945189e+01,\n",
       "       4.24833866e-09, 1.06699229e-08, 1.14856249e-06, 4.52185672e-07,\n",
       "       6.84352943e-07, 4.84218327e+01, 4.84212433e+01, 2.19989669e-06]), comment='', doi=None, glossary='')"
      ]
     },
     "execution_count": 16,
     "metadata": {},
     "output_type": "execute_result"
    }
   ],
   "source": [
    "vibinfo['omega']\n",
    "vibinfo['IR_intensity']"
   ]
  },
  {
   "cell_type": "code",
   "execution_count": 17,
   "id": "4af7da3b-d527-41f7-92c5-8619a9d31a67",
   "metadata": {},
   "outputs": [
    {
     "data": {
      "text/html": [
       "<div>\n",
       "<style scoped>\n",
       "    .dataframe tbody tr th:only-of-type {\n",
       "        vertical-align: middle;\n",
       "    }\n",
       "\n",
       "    .dataframe tbody tr th {\n",
       "        vertical-align: top;\n",
       "    }\n",
       "\n",
       "    .dataframe thead th {\n",
       "        text-align: right;\n",
       "    }\n",
       "</style>\n",
       "<table border=\"1\" class=\"dataframe\">\n",
       "  <thead>\n",
       "    <tr style=\"text-align: right;\">\n",
       "      <th></th>\n",
       "      <th>cm^-1</th>\n",
       "      <th>IR activ [km/mol]</th>\n",
       "    </tr>\n",
       "  </thead>\n",
       "  <tbody>\n",
       "    <tr>\n",
       "      <th>0</th>\n",
       "      <td>449.720658</td>\n",
       "      <td>2.212739e-08</td>\n",
       "    </tr>\n",
       "    <tr>\n",
       "      <th>1</th>\n",
       "      <td>449.723041</td>\n",
       "      <td>2.899869e-08</td>\n",
       "    </tr>\n",
       "    <tr>\n",
       "      <th>2</th>\n",
       "      <td>660.846332</td>\n",
       "      <td>4.427485e-09</td>\n",
       "    </tr>\n",
       "    <tr>\n",
       "      <th>3</th>\n",
       "      <td>660.847695</td>\n",
       "      <td>2.920262e-08</td>\n",
       "    </tr>\n",
       "    <tr>\n",
       "      <th>4</th>\n",
       "      <td>752.662312</td>\n",
       "      <td>1.064053e+02</td>\n",
       "    </tr>\n",
       "    <tr>\n",
       "      <th>5</th>\n",
       "      <td>771.256036</td>\n",
       "      <td>2.982656e-08</td>\n",
       "    </tr>\n",
       "    <tr>\n",
       "      <th>6</th>\n",
       "      <td>948.651895</td>\n",
       "      <td>3.319535e-08</td>\n",
       "    </tr>\n",
       "    <tr>\n",
       "      <th>7</th>\n",
       "      <td>948.654672</td>\n",
       "      <td>1.484758e-08</td>\n",
       "    </tr>\n",
       "    <tr>\n",
       "      <th>8</th>\n",
       "      <td>1080.955833</td>\n",
       "      <td>5.503020e-10</td>\n",
       "    </tr>\n",
       "    <tr>\n",
       "      <th>9</th>\n",
       "      <td>1085.773740</td>\n",
       "      <td>3.930666e-08</td>\n",
       "    </tr>\n",
       "    <tr>\n",
       "      <th>10</th>\n",
       "      <td>1090.191749</td>\n",
       "      <td>1.826782e-07</td>\n",
       "    </tr>\n",
       "    <tr>\n",
       "      <th>11</th>\n",
       "      <td>1090.194665</td>\n",
       "      <td>5.582707e-08</td>\n",
       "    </tr>\n",
       "    <tr>\n",
       "      <th>12</th>\n",
       "      <td>1116.804849</td>\n",
       "      <td>4.415868e-07</td>\n",
       "    </tr>\n",
       "    <tr>\n",
       "      <th>13</th>\n",
       "      <td>1130.947528</td>\n",
       "      <td>4.322790e+00</td>\n",
       "    </tr>\n",
       "    <tr>\n",
       "      <th>14</th>\n",
       "      <td>1130.950950</td>\n",
       "      <td>4.322782e+00</td>\n",
       "    </tr>\n",
       "    <tr>\n",
       "      <th>15</th>\n",
       "      <td>1188.558032</td>\n",
       "      <td>2.306996e-08</td>\n",
       "    </tr>\n",
       "    <tr>\n",
       "      <th>16</th>\n",
       "      <td>1273.161888</td>\n",
       "      <td>4.680871e-09</td>\n",
       "    </tr>\n",
       "    <tr>\n",
       "      <th>17</th>\n",
       "      <td>1273.165021</td>\n",
       "      <td>6.779924e-09</td>\n",
       "    </tr>\n",
       "    <tr>\n",
       "      <th>18</th>\n",
       "      <td>1341.464200</td>\n",
       "      <td>5.620755e-09</td>\n",
       "    </tr>\n",
       "    <tr>\n",
       "      <th>19</th>\n",
       "      <td>1477.560009</td>\n",
       "      <td>9.348287e-11</td>\n",
       "    </tr>\n",
       "    <tr>\n",
       "      <th>20</th>\n",
       "      <td>1627.179233</td>\n",
       "      <td>1.189476e+01</td>\n",
       "    </tr>\n",
       "    <tr>\n",
       "      <th>21</th>\n",
       "      <td>1627.180720</td>\n",
       "      <td>1.189452e+01</td>\n",
       "    </tr>\n",
       "    <tr>\n",
       "      <th>22</th>\n",
       "      <td>1787.699502</td>\n",
       "      <td>4.248339e-09</td>\n",
       "    </tr>\n",
       "    <tr>\n",
       "      <th>23</th>\n",
       "      <td>1787.706332</td>\n",
       "      <td>1.066992e-08</td>\n",
       "    </tr>\n",
       "    <tr>\n",
       "      <th>24</th>\n",
       "      <td>3328.177767</td>\n",
       "      <td>1.148562e-06</td>\n",
       "    </tr>\n",
       "    <tr>\n",
       "      <th>25</th>\n",
       "      <td>3339.955824</td>\n",
       "      <td>4.521857e-07</td>\n",
       "    </tr>\n",
       "    <tr>\n",
       "      <th>26</th>\n",
       "      <td>3339.962350</td>\n",
       "      <td>6.843529e-07</td>\n",
       "    </tr>\n",
       "    <tr>\n",
       "      <th>27</th>\n",
       "      <td>3359.163053</td>\n",
       "      <td>4.842183e+01</td>\n",
       "    </tr>\n",
       "    <tr>\n",
       "      <th>28</th>\n",
       "      <td>3359.169154</td>\n",
       "      <td>4.842124e+01</td>\n",
       "    </tr>\n",
       "    <tr>\n",
       "      <th>29</th>\n",
       "      <td>3371.162620</td>\n",
       "      <td>2.199897e-06</td>\n",
       "    </tr>\n",
       "  </tbody>\n",
       "</table>\n",
       "</div>"
      ],
      "text/plain": [
       "          cm^-1  IR activ [km/mol]\n",
       "0    449.720658       2.212739e-08\n",
       "1    449.723041       2.899869e-08\n",
       "2    660.846332       4.427485e-09\n",
       "3    660.847695       2.920262e-08\n",
       "4    752.662312       1.064053e+02\n",
       "5    771.256036       2.982656e-08\n",
       "6    948.651895       3.319535e-08\n",
       "7    948.654672       1.484758e-08\n",
       "8   1080.955833       5.503020e-10\n",
       "9   1085.773740       3.930666e-08\n",
       "10  1090.191749       1.826782e-07\n",
       "11  1090.194665       5.582707e-08\n",
       "12  1116.804849       4.415868e-07\n",
       "13  1130.947528       4.322790e+00\n",
       "14  1130.950950       4.322782e+00\n",
       "15  1188.558032       2.306996e-08\n",
       "16  1273.161888       4.680871e-09\n",
       "17  1273.165021       6.779924e-09\n",
       "18  1341.464200       5.620755e-09\n",
       "19  1477.560009       9.348287e-11\n",
       "20  1627.179233       1.189476e+01\n",
       "21  1627.180720       1.189452e+01\n",
       "22  1787.699502       4.248339e-09\n",
       "23  1787.706332       1.066992e-08\n",
       "24  3328.177767       1.148562e-06\n",
       "25  3339.955824       4.521857e-07\n",
       "26  3339.962350       6.843529e-07\n",
       "27  3359.163053       4.842183e+01\n",
       "28  3359.169154       4.842124e+01\n",
       "29  3371.162620       2.199897e-06"
      ]
     },
     "execution_count": 17,
     "metadata": {},
     "output_type": "execute_result"
    }
   ],
   "source": [
    "Ana_vib"
   ]
  },
  {
   "cell_type": "markdown",
   "id": "3cb89064-09a9-436e-8863-ba5a94aa5087",
   "metadata": {},
   "source": [
    "**<font color=green> Dibujamos la molécula usando el modulo *fortecubeview*.** "
   ]
  },
  {
   "cell_type": "code",
   "execution_count": 191,
   "id": "bf817c3d-4fab-49e1-b6af-f0a6635f5c77",
   "metadata": {},
   "outputs": [
    {
     "name": "stdout",
     "output_type": "stream",
     "text": [
      "\tSearching PubChem database for Aspirin (single best match returned)\n",
      "\tFound 1 result(s)\n"
     ]
    },
    {
     "data": {
      "application/vnd.jupyter.widget-view+json": {
       "model_id": "5951baed0d9d4d1da9f8b3b717aa5ff0",
       "version_major": 2,
       "version_minor": 0
      },
      "text/plain": [
       "Renderer(camera=OrthographicCamera(bottom=-5.0, children=(DirectionalLight(color='white', intensity=0.5, posit…"
      ]
     },
     "metadata": {},
     "output_type": "display_data"
    },
    {
     "data": {
      "text/plain": [
       "<fortecubeview.mol_viewer.MolViewer at 0x7f4418993450>"
      ]
     },
     "execution_count": 191,
     "metadata": {},
     "output_type": "execute_result"
    }
   ],
   "source": [
    "molc = psi4.geometry(\"\"\"pubchem:Aspirin\"\"\")\n",
    "fortecubeview.geom(molecule = molc)"
   ]
  },
  {
   "cell_type": "code",
   "execution_count": 18,
   "id": "7cdf3fb6-952d-496f-98b1-f8c9f16573da",
   "metadata": {},
   "outputs": [
    {
     "data": {
      "application/3dmoljs_load.v0": "<div id=\"3dmolviewer_16347604350324996\"  style=\"position: relative; width: 250px; height: 250px\">\n        <p id=\"3dmolwarning_16347604350324996\" style=\"background-color:#ffcccc;color:black\">You appear to be running in JupyterLab (or JavaScript failed to load for some other reason).  You need to install the 3dmol extension: <br>\n        <tt>jupyter labextension install jupyterlab_3dmol</tt></p>\n        </div>\n<script>\n\nvar loadScriptAsync = function(uri){\n  return new Promise((resolve, reject) => {\n    var tag = document.createElement('script');\n    tag.src = uri;\n    tag.async = true;\n    tag.onload = () => {\n      resolve();\n    };\n  var firstScriptTag = document.getElementsByTagName('script')[0];\n  firstScriptTag.parentNode.insertBefore(tag, firstScriptTag);\n});\n};\n\nif(typeof $3Dmolpromise === 'undefined') {\n$3Dmolpromise = null;\n  $3Dmolpromise = loadScriptAsync('https://3dmol.org/build/3Dmol.js');\n}\n\nvar viewer_16347604350324996 = null;\nvar warn = document.getElementById(\"3dmolwarning_16347604350324996\");\nif(warn) {\n    warn.parentNode.removeChild(warn);\n}\n$3Dmolpromise.then(function() {\nviewer_16347604350324996 = $3Dmol.createViewer($(\"#3dmolviewer_16347604350324996\"),{backgroundColor:\"white\"});\nviewer_16347604350324996.zoomTo();\n\tviewer_16347604350324996.addModel(\"12\\n\\nH          1.21943       -0.16516        2.15996\\nC          0.68248       -0.09239        1.20875\\nC         -0.70744       -0.03519        1.19732\\nH         -1.26436       -0.06297        2.13935\\nC         -1.38982        0.05722       -0.01143\\nH         -2.48356        0.10214       -0.02044\\nC         -0.68242        0.09248       -1.20876\\nH         -1.21940        0.16520       -2.15990\\nC          0.70748        0.03523       -1.19730\\nH          1.26413        0.06285       -2.13946\\nC          1.38989       -0.05717        0.01143\\nH          2.48360       -0.10222        0.02049\\n\",\"molc\");\n\tviewer_16347604350324996.setStyle({\"stick\": {}});\n\tviewer_16347604350324996.animate({\"loop\": \"backAndForth\"});\n\tviewer_16347604350324996.zoomTo();\nviewer_16347604350324996.render();\n});\n</script>",
      "text/html": [
       "<div id=\"3dmolviewer_16347604350324996\"  style=\"position: relative; width: 250px; height: 250px\">\n",
       "        <p id=\"3dmolwarning_16347604350324996\" style=\"background-color:#ffcccc;color:black\">You appear to be running in JupyterLab (or JavaScript failed to load for some other reason).  You need to install the 3dmol extension: <br>\n",
       "        <tt>jupyter labextension install jupyterlab_3dmol</tt></p>\n",
       "        </div>\n",
       "<script>\n",
       "\n",
       "var loadScriptAsync = function(uri){\n",
       "  return new Promise((resolve, reject) => {\n",
       "    var tag = document.createElement('script');\n",
       "    tag.src = uri;\n",
       "    tag.async = true;\n",
       "    tag.onload = () => {\n",
       "      resolve();\n",
       "    };\n",
       "  var firstScriptTag = document.getElementsByTagName('script')[0];\n",
       "  firstScriptTag.parentNode.insertBefore(tag, firstScriptTag);\n",
       "});\n",
       "};\n",
       "\n",
       "if(typeof $3Dmolpromise === 'undefined') {\n",
       "$3Dmolpromise = null;\n",
       "  $3Dmolpromise = loadScriptAsync('https://3dmol.org/build/3Dmol.js');\n",
       "}\n",
       "\n",
       "var viewer_16347604350324996 = null;\n",
       "var warn = document.getElementById(\"3dmolwarning_16347604350324996\");\n",
       "if(warn) {\n",
       "    warn.parentNode.removeChild(warn);\n",
       "}\n",
       "$3Dmolpromise.then(function() {\n",
       "viewer_16347604350324996 = $3Dmol.createViewer($(\"#3dmolviewer_16347604350324996\"),{backgroundColor:\"white\"});\n",
       "viewer_16347604350324996.zoomTo();\n",
       "\tviewer_16347604350324996.addModel(\"12\\n\\nH          1.21943       -0.16516        2.15996\\nC          0.68248       -0.09239        1.20875\\nC         -0.70744       -0.03519        1.19732\\nH         -1.26436       -0.06297        2.13935\\nC         -1.38982        0.05722       -0.01143\\nH         -2.48356        0.10214       -0.02044\\nC         -0.68242        0.09248       -1.20876\\nH         -1.21940        0.16520       -2.15990\\nC          0.70748        0.03523       -1.19730\\nH          1.26413        0.06285       -2.13946\\nC          1.38989       -0.05717        0.01143\\nH          2.48360       -0.10222        0.02049\\n\",\"molc\");\n",
       "\tviewer_16347604350324996.setStyle({\"stick\": {}});\n",
       "\tviewer_16347604350324996.animate({\"loop\": \"backAndForth\"});\n",
       "\tviewer_16347604350324996.zoomTo();\n",
       "viewer_16347604350324996.render();\n",
       "});\n",
       "</script>"
      ]
     },
     "metadata": {},
     "output_type": "display_data"
    }
   ],
   "source": [
    "molc = '''12\n",
    "\n",
    "H          1.21943       -0.16516        2.15996\n",
    "C          0.68248       -0.09239        1.20875\n",
    "C         -0.70744       -0.03519        1.19732\n",
    "H         -1.26436       -0.06297        2.13935\n",
    "C         -1.38982        0.05722       -0.01143\n",
    "H         -2.48356        0.10214       -0.02044\n",
    "C         -0.68242        0.09248       -1.20876\n",
    "H         -1.21940        0.16520       -2.15990\n",
    "C          0.70748        0.03523       -1.19730\n",
    "H          1.26413        0.06285       -2.13946\n",
    "C          1.38989       -0.05717        0.01143\n",
    "H          2.48360       -0.10222        0.02049\n",
    "'''\n",
    "view_m4 = py3Dmol.view(width=250,height=250)\n",
    "view_m4.addModel(molc,'molc')\n",
    "view_m4.setStyle({'stick':{}})\n",
    "#xyzview.setBackgroundColor('0xeeeeee')\n",
    "view_m4.animate({'loop': 'backAndForth'})\n",
    "view_m4.zoomTo()\n",
    "view_m4.show()"
   ]
  },
  {
   "cell_type": "code",
   "execution_count": null,
   "id": "c2d4dd2a-eb6d-4ac3-b5ac-b1797505664c",
   "metadata": {},
   "outputs": [],
   "source": []
  },
  {
   "cell_type": "markdown",
   "id": "242b4a3e-8a92-4f37-8a32-59a41052ab43",
   "metadata": {},
   "source": [
    "**<font color=red> Vamos ahora atilizar el modulo *PSI4* para desarrollar algunos ejercicios de cálculo mecánico-cuántico. En este Cuaderno de Jupyter Realizaremos el Análisis Vibracional utilizando el paquete desarrollado por el Prof. Tom Allison. *Advertencia: Cada vez que se requiera ejecutar un calculo con este paquete, se debe reiniciar el kernel*.** "
   ]
  },
  {
   "cell_type": "markdown",
   "id": "8ea4c016-d1b4-485c-b36b-3f633ce76ffd",
   "metadata": {},
   "source": [
    "**<font color=green> Inicializamos las condiciones de maquina.** "
   ]
  },
  {
   "cell_type": "code",
   "execution_count": 9,
   "id": "b6b829e0-d505-45d3-b860-239db009edff",
   "metadata": {},
   "outputs": [],
   "source": [
    "psi4.core.clean()\n",
    "psi4.core.clean_options()\n",
    "psi4.set_memory('2000 MB')  # Memoria que sera utilizada en el cálculo\n",
    "psi4.set_num_threads(8)    # Cnatida de hilos a utilzar, tener en cuenta que un núcleo soporta 24 hilos "
   ]
  },
  {
   "cell_type": "markdown",
   "id": "5a4faec7-ffb8-4884-a117-cee2117842ad",
   "metadata": {},
   "source": [
    "**<font color=green>Podemos realizar los mismos calculos sobre el ángulo *H-O-H* y graficar los resultados.** "
   ]
  },
  {
   "cell_type": "code",
   "execution_count": 14,
   "id": "cc90a9a0-bce4-4156-9294-9b787d6c511a",
   "metadata": {},
   "outputs": [
    {
     "name": "stdout",
     "output_type": "stream",
     "text": [
      "Optimizer: Optimization complete!\n"
     ]
    }
   ],
   "source": [
    "psi4.core.set_output_file('./Data/H2O_Vib.dat', False) # Archivo de salida\n",
    "# Vamos a definir otra forma de flexibilizar unos de los parámetros structurales, en este casp el ángulo\n",
    "# entre los hidrógeno, utilizamos el formato Z-matrix\n",
    "HOH_v= \"\"\"\n",
    "    o\n",
    " h   1 ho2     \n",
    " h    1 ho3         2 hoh3      \n",
    "\n",
    "ho2=        0.95\n",
    "ho3=        0.95\n",
    "hoh3=       107.0\"\"\"\n",
    "\n",
    "# Método de Cálculo\n",
    "method='scf/6-31G*'\n",
    "\n",
    "# Definimos la geometría de la molécula de acuerdo psi4  \n",
    "HOH = psi4.geometry(HOH_v) \n",
    "\n",
    "# Optimizamos la geometría\n",
    "E0, wfn0 = psi4.optimize(method, molecule = HOH, return_wfn = True) # optimización inicial\n",
    "\n",
    "# visualización de los modos normales de vibración.\n",
    "psi4.set_options({\"normal_modes_write\": True})\n",
    "\n",
    "# Adiciona algunos caracteres al nombre del archivo de salida \n",
    "psi4.set_options({\"writer_file_label\": \"h2o-hf\"})\n",
    "\n",
    "# Calcula la frecuencias usando la geometría optimizada\n",
    "psi4.frequencies(method)\n",
    "\n",
    "# Calculamos las intensidades IR usand el paquete CHE525_vib desarrollado por el Prof. Tom Allison de \n",
    "# Stony Brook University, la función eps ajusta los pasos!\n",
    "#vib_results = vib.dipder(method,HOH, eps = 0.01)\n",
    "\n",
    "# Mostramos los resultados en pantalla\n",
    "vib=[(np.array(vib_results['om'])).real, np.array(vib_results['IR_Intensity'])]\n",
    "Results_vib = pd.DataFrame(vib).T.set_axis(['cm^-1', 'IR active [km/mol]'], axis=1, inplace=False)\n",
    "Results_vib \n",
    "# Convertimos a DataFrame y Guardamos el archivo!\n",
    "Results_vib.to_csv('vib_results.csv')"
   ]
  },
  {
   "cell_type": "code",
   "execution_count": 9,
   "id": "4245251e-5660-4d63-9658-3980e92d7a0c",
   "metadata": {},
   "outputs": [
    {
     "name": "stdout",
     "output_type": "stream",
     "text": [
      "converged SCF energy = -230.618848332477\n",
      "converged SCF energy = -230.036761709751\n"
     ]
    },
    {
     "data": {
      "text/html": [
       "<div>\n",
       "<style scoped>\n",
       "    .dataframe tbody tr th:only-of-type {\n",
       "        vertical-align: middle;\n",
       "    }\n",
       "\n",
       "    .dataframe tbody tr th {\n",
       "        vertical-align: top;\n",
       "    }\n",
       "\n",
       "    .dataframe thead th {\n",
       "        text-align: right;\n",
       "    }\n",
       "</style>\n",
       "<table border=\"1\" class=\"dataframe\">\n",
       "  <thead>\n",
       "    <tr style=\"text-align: right;\">\n",
       "      <th></th>\n",
       "      <th>Values</th>\n",
       "      <th>units</th>\n",
       "    </tr>\n",
       "  </thead>\n",
       "  <tbody>\n",
       "    <tr>\n",
       "      <th>ZPE</th>\n",
       "      <td>0.082564</td>\n",
       "      <td>Eh</td>\n",
       "    </tr>\n",
       "    <tr>\n",
       "      <th>E_int</th>\n",
       "      <td>-229.949117</td>\n",
       "      <td>Eh</td>\n",
       "    </tr>\n",
       "    <tr>\n",
       "      <th>H_tot</th>\n",
       "      <td>-229.948173</td>\n",
       "      <td>Eh</td>\n",
       "    </tr>\n",
       "    <tr>\n",
       "      <th>G_tot</th>\n",
       "      <td>-229.979914</td>\n",
       "      <td>Eh</td>\n",
       "    </tr>\n",
       "    <tr>\n",
       "      <th>Cv_tot</th>\n",
       "      <td>0.000029</td>\n",
       "      <td>Eh/K</td>\n",
       "    </tr>\n",
       "  </tbody>\n",
       "</table>\n",
       "</div>"
      ],
      "text/plain": [
       "            Values units\n",
       "ZPE       0.082564    Eh\n",
       "E_int  -229.949117    Eh\n",
       "H_tot  -229.948173    Eh\n",
       "G_tot  -229.979914    Eh\n",
       "Cv_tot    0.000029  Eh/K"
      ]
     },
     "execution_count": 9,
     "metadata": {},
     "output_type": "execute_result"
    }
   ],
   "source": [
    "from pyscf import gto\n",
    "from pyscf.hessian import thermo\n",
    "\n",
    "# First compute nuclear Hessian.\n",
    "mol = gto.M(\n",
    "    atom = '''c   1.217739890298750 -0.703062453466927  0.000000000000000\n",
    "h   2.172991468538160 -1.254577209307266  0.000000000000000\n",
    "c   1.217739890298750  0.703062453466927  0.000000000000000\n",
    "h   2.172991468538160  1.254577209307266  0.000000000000000\n",
    "c   0.000000000000000  1.406124906933854  0.000000000000000\n",
    "h   0.000000000000000  2.509154418614532  0.000000000000000\n",
    "c  -1.217739890298750  0.703062453466927  0.000000000000000\n",
    "h  -2.172991468538160  1.254577209307266  0.000000000000000\n",
    "c  -1.217739890298750 -0.703062453466927  0.000000000000000\n",
    "h  -2.172991468538160 -1.254577209307266  0.000000000000000\n",
    "c   0.000000000000000 -1.406124906933854  0.000000000000000\n",
    "h   0.000000000000000 -2.509154418614532  0.000000000000000''',\n",
    "    basis = '631g')\n",
    "\n",
    "#Usamos RHF\n",
    "mf = mol.RHF().run()\n",
    "hessian = mf.Hessian().kernel()\n",
    "\n",
    "# Usamos dft\n",
    "mf2 = mol.KS().run()\n",
    "mf2.xc = 'b3lyp'\n",
    "hessian2 = mf2.Hessian().kernel()\n",
    "\n",
    "# Frequency analysis HF\n",
    "freq_info = thermo.harmonic_analysis(mf.mol, hessian)\n",
    "# Thermochemistry analysis at 298.15 K and 1 atmospheric pressure\n",
    "thermo_info = thermo.thermo(mf, freq_info['freq_au'], 298.15, 101325)\n",
    "Thermo=(thermo_info['ZPE'], thermo_info['E_tot' ], thermo_info['H_tot'], thermo_info['G_tot' ], thermo_info['Cv_tot'])\n",
    "Thermo1=pd.DataFrame(Thermo, index=['ZPE', 'E_int', 'H_tot', 'G_tot', 'Cv_tot'], columns=['Values', 'units'])\n",
    "Thermo1\n",
    "\n",
    "# Frequency analysis DFT\n",
    "freq_info2 = thermo.harmonic_analysis(mf2.mol, hessian2)\n",
    "# Thermochemistry analysis at 298.15 K and 1 atmospheric pressure\n",
    "thermo_info2 = thermo.thermo(mf2, freq_info2['freq_au'], 298.15, 101325)\n",
    "Thermo2=(thermo_info2['ZPE'], thermo_info2['E_tot' ], thermo_info2['H_tot'], thermo_info2['G_tot' ], \n",
    "         thermo_info2['Cv_tot'])\n",
    "Thermo3=pd.DataFrame(Thermo2, index=['ZPE', 'E_int', 'H_tot', 'G_tot', 'Cv_tot'], columns=['Values', 'units'])\n",
    "Thermo3\n",
    "\n",
    "#print('Rotation constant')\n",
    "#print(thermo_info['rot_const'])\n",
    "\n",
    "#print('Zero-point energy')\n",
    "#print(thermo_info['ZPE'   ])\n",
    "\n",
    "#print('Internal energy at 0 K')\n",
    "#print(thermo_info['E_0K'  ])\n",
    "\n",
    "#print('Internal energy at 298.15 K')\n",
    "#print(thermo_info['E_tot' ])\n",
    "\n",
    "#print('Enthalpy energy at 298.15 K')\n",
    "#print(thermo_info['H_tot' ])\n",
    "\n",
    "#print('Gibbs free energy at 298.15 K')\n",
    "#print(thermo_info['G_tot' ])\n",
    "\n",
    "#print('Heat capacity at 298.15 K')\n",
    "#print(thermo_info['Cv_tot'])"
   ]
  },
  {
   "cell_type": "code",
   "execution_count": 10,
   "id": "cb97d917-1898-4148-a3ab-2f68c20a686b",
   "metadata": {},
   "outputs": [
    {
     "data": {
      "text/html": [
       "<div>\n",
       "<style scoped>\n",
       "    .dataframe tbody tr th:only-of-type {\n",
       "        vertical-align: middle;\n",
       "    }\n",
       "\n",
       "    .dataframe tbody tr th {\n",
       "        vertical-align: top;\n",
       "    }\n",
       "\n",
       "    .dataframe thead th {\n",
       "        text-align: right;\n",
       "    }\n",
       "</style>\n",
       "<table border=\"1\" class=\"dataframe\">\n",
       "  <thead>\n",
       "    <tr style=\"text-align: right;\">\n",
       "      <th></th>\n",
       "      <th>Values</th>\n",
       "      <th>units</th>\n",
       "    </tr>\n",
       "  </thead>\n",
       "  <tbody>\n",
       "    <tr>\n",
       "      <th>ZPE</th>\n",
       "      <td>0.106252</td>\n",
       "      <td>Eh</td>\n",
       "    </tr>\n",
       "    <tr>\n",
       "      <th>E_int</th>\n",
       "      <td>-230.508726</td>\n",
       "      <td>Eh</td>\n",
       "    </tr>\n",
       "    <tr>\n",
       "      <th>H_tot</th>\n",
       "      <td>-230.507782</td>\n",
       "      <td>Eh</td>\n",
       "    </tr>\n",
       "    <tr>\n",
       "      <th>G_tot</th>\n",
       "      <td>-230.537520</td>\n",
       "      <td>Eh</td>\n",
       "    </tr>\n",
       "    <tr>\n",
       "      <th>Cv_tot</th>\n",
       "      <td>0.000023</td>\n",
       "      <td>Eh/K</td>\n",
       "    </tr>\n",
       "  </tbody>\n",
       "</table>\n",
       "</div>"
      ],
      "text/plain": [
       "            Values units\n",
       "ZPE       0.106252    Eh\n",
       "E_int  -230.508726    Eh\n",
       "H_tot  -230.507782    Eh\n",
       "G_tot  -230.537520    Eh\n",
       "Cv_tot    0.000023  Eh/K"
      ]
     },
     "execution_count": 10,
     "metadata": {},
     "output_type": "execute_result"
    }
   ],
   "source": [
    "Thermo1"
   ]
  },
  {
   "cell_type": "code",
   "execution_count": 2,
   "id": "b1115f88-b482-43f4-9148-7a5a9ed3b6ce",
   "metadata": {},
   "outputs": [
    {
     "data": {
      "text/plain": [
       "-2080.239102768038"
      ]
     },
     "execution_count": 2,
     "metadata": {},
     "output_type": "execute_result"
    }
   ],
   "source": [
    "from ase.calculators.psi4 import Psi4\n",
    "from ase.build import molecule\n",
    "import numpy as np\n",
    "from ase.vibrations import Infrared\n",
    "\n",
    "atoms = molecule('H2O')\n",
    "\n",
    "calc = Psi4(atoms = atoms,\n",
    "        method = 'b3lyp',\n",
    "        memory = '500MB', \n",
    "        basis = '6-311g_d_p_',\n",
    "        scf_type = 'pk',\n",
    "        e_convergence= 1e-8)# this is the default, be aware!\n",
    "\n",
    "atoms.calc = calc\n",
    "#calc.get_dipole_moment(atoms)\n",
    "atoms.get_potential_energy()\n",
    "#print(atoms.get_forces())\n",
    "#print(atoms.get_dipole_moments())"
   ]
  },
  {
   "cell_type": "code",
   "execution_count": 23,
   "id": "46ecd6fb-da44-44f3-93de-380bd3401164",
   "metadata": {},
   "outputs": [
    {
     "name": "stdout",
     "output_type": "stream",
     "text": [
      "Warning: used thermodynamics relations inappropriate for low-frequency modes: ['587.3937' '597.5385' '615.8506']\n"
     ]
    },
    {
     "data": {
      "text/plain": [
       "(-76.02600197570148, <psi4.core.RHF at 0x7f68c6ee5710>)"
      ]
     },
     "execution_count": 23,
     "metadata": {},
     "output_type": "execute_result"
    }
   ],
   "source": [
    "calc.psi4.frequency('scf/cc-pvdz', molecule=calc.molecule, return_wfn=True)"
   ]
  },
  {
   "cell_type": "code",
   "execution_count": 3,
   "id": "cf55646d-7f4c-4ca8-80ce-129d996955f3",
   "metadata": {},
   "outputs": [
    {
     "name": "stdout",
     "output_type": "stream",
     "text": [
      "      Step     Time          Energy         fmax\n",
      "BFGS:    0 13:47:19    -2080.239103        0.3591\n",
      "BFGS:    1 13:47:21    -2080.241104        0.1336\n",
      "BFGS:    2 13:47:22    -2080.241287        0.0360\n",
      "BFGS:    3 13:47:25    -2080.241348        0.0315\n",
      "BFGS:    4 13:47:26    -2080.241397        0.0114\n",
      "BFGS:    5 13:47:28    -2080.241399        0.0034\n",
      "---------------------\n",
      "  #    meV     cm^-1\n",
      "---------------------\n",
      "  0    7.1i     57.1i\n",
      "  1    3.2i     25.7i\n",
      "  2    0.6i      4.5i\n",
      "  3    0.0       0.4 \n",
      "  4    0.3       2.7 \n",
      "  5    3.4      27.7 \n",
      "  6  203.0    1636.9 \n",
      "  7  472.4    3810.4 \n",
      "  8  484.5    3907.7 \n",
      "---------------------\n",
      "Zero-point energy: 0.582 eV\n"
     ]
    }
   ],
   "source": [
    "import pandas as pd\n",
    "from ase. vibrations import Vibrations\n",
    "from ase . optimize import BFGS\n",
    "opt = BFGS(atoms)\n",
    "opt.run(fmax = 0.01)\n",
    "vib = Vibrations(atoms)\n",
    "data1=vib.run ()\n",
    "data=pd.DataFrame(vib.summary())"
   ]
  },
  {
   "cell_type": "code",
   "execution_count": 4,
   "id": "03f26ab7-8a49-4fff-a1a7-a6c8773dcca5",
   "metadata": {},
   "outputs": [],
   "source": [
    "data1"
   ]
  },
  {
   "cell_type": "code",
   "execution_count": null,
   "id": "a8866d20-39db-4fbc-a122-47b00c3eb99f",
   "metadata": {},
   "outputs": [],
   "source": []
  }
 ],
 "metadata": {
  "kernelspec": {
   "display_name": "psi4",
   "language": "python",
   "name": "psi4"
  },
  "language_info": {
   "codemirror_mode": {
    "name": "ipython",
    "version": 3
   },
   "file_extension": ".py",
   "mimetype": "text/x-python",
   "name": "python",
   "nbconvert_exporter": "python",
   "pygments_lexer": "ipython3",
   "version": "3.7.11"
  }
 },
 "nbformat": 4,
 "nbformat_minor": 5
}
