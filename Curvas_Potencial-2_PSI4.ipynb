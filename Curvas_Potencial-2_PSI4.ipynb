{
 "cells": [
  {
   "cell_type": "markdown",
   "id": "2a96a9d8",
   "metadata": {},
   "source": [
    "<div class=\"alert alert-success\" role=\"alert\">\n",
    "  <h1 class=\"alert-heading\">Curvas de Potencial</h1>\n",
    "  <h3 class=\"alert-heading\">Prof. Enrique Mejía Ospino, emejia@uis.edu.co</h3>\n",
    "  <h4 class=\"alert-heading\">Escuela de Química</h4>\n",
    "  <h4 class=\"alert-heading\">Universidad Industrial de Santander</h4>\n",
    "  </div>"
   ]
  },
  {
   "cell_type": "markdown",
   "id": "eb1f011c",
   "metadata": {},
   "source": [
    "**<font color=green size=5>OPCIÓN 1**\n",
    "\n",
    "**<font color=green> Vamos  atilizar el modulo *PSI4* para desarrollar algunos ejercicios de cálculo mecánico-cuántico. En este Cuaderno de Jupyter obtenemos curvas de potencial 2D de moléculas diatómicas y triatómicas.** "
   ]
  },
  {
   "cell_type": "code",
   "execution_count": 1,
   "id": "a90a130f",
   "metadata": {},
   "outputs": [],
   "source": [
    "import psi4\n",
    "import numpy as np\n",
    "import matplotlib.pyplot as plt\n",
    "import fortecubeview # Visualizar moléculas\n",
    "import h5py\n",
    "import pandas as pd\n",
    "%matplotlib inline"
   ]
  },
  {
   "cell_type": "markdown",
   "id": "4737eb12",
   "metadata": {},
   "source": [
    "**<font color=green> Inicializamos las condiciones de maquina.** "
   ]
  },
  {
   "cell_type": "code",
   "execution_count": 2,
   "id": "b2ba8c7a",
   "metadata": {},
   "outputs": [
    {
     "name": "stdout",
     "output_type": "stream",
     "text": [
      "\n",
      "  Memory set to   1.863 GiB by Python driver.\n",
      "  Threads set to 8 by Python driver.\n"
     ]
    }
   ],
   "source": [
    "psi4.core.clean()\n",
    "psi4.core.clean_options()\n",
    "psi4.set_memory('2000 MB')  # Memoria que sera utilizada en el cálculo\n",
    "psi4.set_num_threads(8)    # Cantida de hilos a utilzar, tener en cuenta que un núcleo soporta 24 hilos \n",
    "psi4.core.set_output_file('./Data/pc1.dat', False)"
   ]
  },
  {
   "cell_type": "markdown",
   "id": "47017eaf",
   "metadata": {},
   "source": [
    "**<font color=green> Definimos la geometría de la molécula (HF), en este caso en formato Z-matriz y asignando la distancia entre los dos átomos con una variable *R*.** "
   ]
  },
  {
   "cell_type": "code",
   "execution_count": 3,
   "id": "dcad26fa",
   "metadata": {},
   "outputs": [],
   "source": [
    "HF = \"\"\"H\n",
    "        Cl 1 **R**\"\"\"\n",
    "rvals = np.arange(0.8, 3.5, 0.05)#[0.8, 0.85, 0.9, 0.95, 1.0]"
   ]
  },
  {
   "cell_type": "markdown",
   "id": "a8fbb8ad",
   "metadata": {},
   "source": [
    "**<font color=green> Dibujamos la molécula usando el modulo *fortecubeview*.** "
   ]
  },
  {
   "cell_type": "code",
   "execution_count": 4,
   "id": "affd1b4d",
   "metadata": {},
   "outputs": [
    {
     "data": {
      "application/vnd.jupyter.widget-view+json": {
       "model_id": "2690eb602e9e4afcadc989dbc2c03898",
       "version_major": 2,
       "version_minor": 0
      },
      "text/plain": [
       "Renderer(camera=OrthographicCamera(bottom=-5.0, children=(DirectionalLight(color='white', intensity=0.5, posit…"
      ]
     },
     "metadata": {},
     "output_type": "display_data"
    },
    {
     "data": {
      "text/plain": [
       "<fortecubeview.mol_viewer.MolViewer at 0x7f43fc163450>"
      ]
     },
     "execution_count": 4,
     "metadata": {},
     "output_type": "execute_result"
    }
   ],
   "source": [
    "HF1 = psi4.geometry(\"\"\"\n",
    "H\n",
    "F 1 0.96\n",
    "\"\"\")\n",
    "fortecubeview.geom(molecule = HF1)"
   ]
  },
  {
   "cell_type": "markdown",
   "id": "73b26ea1",
   "metadata": {},
   "source": [
    "**<font color=green> Obtenemos los valores de energía para los diferentes valor de *R* utilizando *Hatree Fock (HF)* como métdo de cálculo y la base *cc-pVDZ*.** "
   ]
  },
  {
   "cell_type": "code",
   "execution_count": 27,
   "id": "865ecab3",
   "metadata": {
    "tags": []
   },
   "outputs": [
    {
     "data": {
      "text/plain": [
       "[<matplotlib.lines.Line2D at 0x7f3a29b92290>]"
      ]
     },
     "execution_count": 27,
     "metadata": {},
     "output_type": "execute_result"
    },
    {
     "data": {
      "image/png": "[encoded data removed]",
      "text/plain": [
       "<Figure size 432x288 with 1 Axes>"
      ]
     },
     "metadata": {
      "needs_background": "light"
     },
     "output_type": "display_data"
    }
   ],
   "source": [
    "molecules =[]\n",
    "energies = []\n",
    "for r in rvals:\n",
    "    molecule = psi4.geometry(HF.replace(\"**R**\", str(r)))\n",
    "    molecules.append(molecule)\n",
    "for mol in molecules:\n",
    "    energy = psi4.energy(\"SCF/cc-pVDZ\", molecule=mol)\n",
    "    energies.append(energy)\n",
    "#print(rvals)\n",
    "#print(energies)\n",
    "r=pd.Series(rvals)\n",
    "e=pd.Series(energies)\n",
    "re=pd.concat([r, e], axis=1)\n",
    "pd.DataFrame(re).to_excel('./Data/pc1.xlsx')\n",
    "re1=pd.read_excel('./Data/pc1.xlsx')\n",
    "import matplotlib.pyplot as plt\n",
    "plt.plot(re[0], re[1], 'ro')"
   ]
  },
  {
   "cell_type": "markdown",
   "id": "64d1ce49",
   "metadata": {},
   "source": [
    "**<font color=green> Es posible encontrar las constantes de anharmonicidad con una simple función del modulo *PSI4*.** "
   ]
  },
  {
   "cell_type": "code",
   "execution_count": 8,
   "id": "c75d44f9",
   "metadata": {},
   "outputs": [
    {
     "name": "stdout",
     "output_type": "stream",
     "text": [
      "\n",
      "\n",
      "Performing a fit to 5 data points\n",
      "{'re': 0.9014127115146683, 'r0': 0.9099199770094608, 'we': 4440.843494322671, 'wexe': 95.78946345244576, 'nu': 4249.264567417779, 'E(re)': -100.01969593667131, 'ZPVE(harmonic)': 2220.4217471613356, 'ZPVE(anharmonic)': 2196.474381298224, 'Be': 21.677645890444822, 'B0': 21.274191980104035, 'ae': 0.8069078206815757, 'De': 0.0020661669418187}\n",
      "\n",
      "Warning: fewer than 3 points provided with a r < r(min(E))!\n",
      "\n",
      "Warning: fewer than 3 points provided with a r > r(min(E))!\n",
      "\n",
      "Optimizing geometry based on current surface:\n",
      "\n",
      "       E =  -100.01969338231866, x =      0.9000000, grad =    -0.00362268369998\n",
      "       E =  -100.01969593659948, x =      0.9014052, grad =    -0.00001915552689\n",
      "       E =  -100.01969593667131, x =      0.9014127, grad =    -0.00000000054338\n",
      " Final E =  -100.01969593667131, x =      0.9014127, grad =    -0.00000000054338\n",
      "\n",
      "Equilibrium Energy  -100.01969593667131 Hartrees\n",
      "Gradient              -0.00000000054338\n",
      "Quadratic Force Constant     11.1203430 MDYNE/A\n",
      "Cubic Force Constant        -84.0450430 MDYNE/A**2\n",
      "Quartic Force Constant      574.8631179 MDYNE/A**3\n",
      "\n",
      "re       =   0.901413 A  check:   0.901413\n",
      "r0       =   0.909920 A\n",
      "E at re  =   -100.0196959367 Eh\n",
      "we       =  4440.8435 cm-1\n",
      "wexe     =    95.7895 cm-1\n",
      "nu       =  4249.2646 cm-1\n",
      "ZPVE(we) =  2220.4217 cm-1\n",
      "ZPVE(nu) =  2196.4744 cm-1\n",
      "Be       =    21.6776 cm-1\n",
      "B0       =    21.2742 cm-1\n",
      "ae       =     0.8069 cm-1\n",
      "De       =  0.0020662 cm-1\n"
     ]
    }
   ],
   "source": [
    "data = psi4.diatomic.anharmonicity(rvals, energies)\n",
    "print(data)"
   ]
  },
  {
   "cell_type": "markdown",
   "id": "471e3fb5",
   "metadata": {},
   "source": [
    "**<font color=green> Ahora vamos a utilizar un arreglo más grande de valores de *R* y la molécula de Nitrógeno (N2) con el fín de graficar los resultados.** "
   ]
  },
  {
   "cell_type": "code",
   "execution_count": 22,
   "id": "6889b9ea",
   "metadata": {},
   "outputs": [],
   "source": [
    "N2 = \"\"\"N\n",
    "N 1 **d**\"\"\"\n",
    "rvalsn2 = np.linspace(0.7, 4, 50)"
   ]
  },
  {
   "cell_type": "code",
   "execution_count": 23,
   "id": "c8d3f839",
   "metadata": {},
   "outputs": [
    {
     "data": {
      "application/vnd.jupyter.widget-view+json": {
       "model_id": "cf1f215877b9422eb5228ee7865d0f44",
       "version_major": 2,
       "version_minor": 0
      },
      "text/plain": [
       "Renderer(camera=OrthographicCamera(bottom=-5.0, children=(DirectionalLight(color='white', intensity=0.5, posit…"
      ]
     },
     "metadata": {},
     "output_type": "display_data"
    },
    {
     "data": {
      "text/plain": [
       "<fortecubeview.mol_viewer.MolViewer at 0x7f9415d22950>"
      ]
     },
     "execution_count": 23,
     "metadata": {},
     "output_type": "execute_result"
    }
   ],
   "source": [
    "fortecubeview.geom(molecule = psi4.geometry(\"\"\"\n",
    "N\n",
    "N 1 0.96\n",
    "\"\"\"))"
   ]
  },
  {
   "cell_type": "markdown",
   "id": "510a53d7",
   "metadata": {},
   "source": [
    "**<font color=green>Obtenemos las energías.** "
   ]
  },
  {
   "cell_type": "code",
   "execution_count": 24,
   "id": "e41182ae",
   "metadata": {},
   "outputs": [
    {
     "name": "stdout",
     "output_type": "stream",
     "text": [
      "[-107.61328499556676, -108.20671302723397, -108.57267687584789, -108.7873685659031, -108.9013630274154, -108.9487751919064, -108.95281817650954, -108.92928220136847, -108.88885084341396, -108.8387108185418, -108.78366675277363, -108.72689212839404, -108.67043027682622, -108.61553976379848, -108.5629454349645, -108.51302431075433, -108.4659377801964, -108.42171824638487, -108.38032101754214, -108.34165372308381, -108.30559366670136, -108.27199960609711, -108.24072076544572, -108.21160377725118, -108.18449763667309, -108.15925687295793, -108.13574335554257, -108.11382720236898, -108.09338716330657, -108.07431071050308, -108.05649395245494, -108.03984142230155, -108.0242657641167, -108.00968733414071, -107.99603373246785, -107.98323927848811, -107.97124444080362, -107.95999523232824, -107.94944258381591, -107.93954171516972, -107.93025152676448, -107.92153403575684, -107.91335387615239, -107.9056778788538, -107.89847473519663, -107.89171474189004, -107.88536961814586, -107.87941238224215, -107.87381727353859, -107.86855970678911]\n"
     ]
    }
   ],
   "source": [
    "molecules =[]\n",
    "energies = []\n",
    "for r in rvalsn2:\n",
    "    molecule = psi4.geometry(N2.replace(\"**d**\", str(r)))\n",
    "    molecules.append(molecule)\n",
    "for mol in molecules:\n",
    "    energy = psi4.energy(\"SCF/cc-pVDZ\", molecule=mol)\n",
    "    energies.append(energy)\n",
    "#print(rvals)\n",
    "print(energies)"
   ]
  },
  {
   "cell_type": "markdown",
   "id": "07ee06e3",
   "metadata": {},
   "source": [
    "**<font color=green>Graficamos.** "
   ]
  },
  {
   "cell_type": "code",
   "execution_count": 12,
   "id": "f7f88518",
   "metadata": {},
   "outputs": [
    {
     "data": {
      "image/png": "[encoded data removed]",
      "text/plain": [
       "<Figure size 432x288 with 1 Axes>"
      ]
     },
     "metadata": {
      "needs_background": "light"
     },
     "output_type": "display_data"
    }
   ],
   "source": [
    "fig, ax = plt.subplots()\n",
    "ax.scatter(rvalsn2, energies, color='red', edgecolors=(0, 0, 0))\n",
    "ax.set_xlabel('d(A)')\n",
    "ax.set_ylabel('Energy')\n",
    "plt.show()"
   ]
  },
  {
   "cell_type": "markdown",
   "id": "09b8f74f",
   "metadata": {},
   "source": [
    "**<font color=blue size=5>OPCIÓN 2**\n",
    "\n",
    "**<font color=blue> Vamos  atilizar el modulo *PSI4* para desarrollar algunos ejercicios de cálculo mecánico-cuántico. En este Cuaderno de Jupyter obtenemos curvas de potencial 2D de moléculas diatómicas y triatómicas.** "
   ]
  },
  {
   "cell_type": "code",
   "execution_count": 25,
   "id": "06b2ddec",
   "metadata": {},
   "outputs": [],
   "source": [
    "# Definimos la Molécula\n",
    "n2 = \"\"\"\n",
    "n\n",
    "n   1 hh2     \n",
    "\n",
    "hh2 = {0}\"\"\"\n",
    "\n",
    "# M´wtodos de cálculo\n",
    "method1 = 'scf/cc-pvdz'\n",
    "method2 = 'casscf/cc-pvdz'\n",
    "\n",
    "psi4.core.set_output_file('./Data/n2-cas-symm.dat', False) "
   ]
  },
  {
   "cell_type": "code",
   "execution_count": 27,
   "id": "5205594c",
   "metadata": {},
   "outputs": [],
   "source": [
    "rn =[]\n",
    "energies = []\n",
    "rn2 = np.linspace(0.7, 4, 60)\n",
    "for r in rn2:\n",
    "    molecula = psi4.geometry(n2.format(r))\n",
    "    molecula.reset_point_group('d2h')\n",
    "    psi4.set_options({'fail_on_maxiter':'false'})\n",
    "    psi4.set_options({'restricted_docc':[1,0,0,0,0,1,0,0]})\n",
    "    psi4.set_options({'active':[2,0,1,1,0,2,1,1]})\n",
    "    Ei, wfni = psi4.energy(method1, molecule = molecula, return_wfn = True)\n",
    "    rn.append(r)\n",
    "    energies.append(Ei)\n",
    "    #psi4.molden(wfni,\"n2-cas-symm.\"+str(r)+\".molden\") # Guarda cada uno en formato molden \n",
    "    \n",
    "#np.savetxt(\"n2-cas-symm.csv\", energies, delimiter=\",\",header='H-H Distance,E',comments='')"
   ]
  },
  {
   "cell_type": "code",
   "execution_count": 32,
   "id": "d724e6d0",
   "metadata": {},
   "outputs": [
    {
     "data": {
      "image/png": "[encoded data removed]",
      "text/plain": [
       "<Figure size 432x288 with 1 Axes>"
      ]
     },
     "metadata": {
      "needs_background": "light"
     },
     "output_type": "display_data"
    }
   ],
   "source": [
    "fig, ax = plt.subplots()\n",
    "ax.scatter(rn, energies, color='red', edgecolors=(0, 0, 0))\n",
    "ax.set_xlabel('d(A)')\n",
    "ax.set_ylabel('Energy')\n",
    "ax.set_title('potential curve of $N_2$')\n",
    "plt.show()\n",
    "Edf=pd.DataFrame(energies)"
   ]
  },
  {
   "cell_type": "markdown",
   "id": "825a4cce",
   "metadata": {},
   "source": [
    "**<font color=green>Podemos realizar los mismos calculos sobre el ángulo *H-O-H* y graficar los resultados.** "
   ]
  },
  {
   "cell_type": "code",
   "execution_count": 30,
   "id": "5fd16c88",
   "metadata": {},
   "outputs": [],
   "source": [
    "# Vamos a definir otra forma de flexibilizar unos de los parámetros structurales, en este casp el ángulo\n",
    "# entre los hidrógeno, utilizamos el formato Z-matrix\n",
    "H2O_angle = \"\"\"\n",
    "O\n",
    "H 1 0.96\n",
    "H 1 0.96 2 {}\n",
    "\"\"\"\n",
    "\n",
    "# Scan del ángulo se realizará en el interválo de 30 330, en incrementos de 5 grados\n",
    "scan = {}\n",
    "for angle in range(30, 331, 10):\n",
    "    # Llamamos la molécula en sus diferentesa ángulos\n",
    "    mol = psi4.geometry(H2O_angle.format(angle))\n",
    "    # se evoca psi4\n",
    "    e = psi4.energy('scf/cc-pvdz', molecule=mol) # usamos HF y la base cc-pvdz\n",
    "    \n",
    "    # guardamos los resultados\n",
    "    scan[angle] = e"
   ]
  },
  {
   "cell_type": "code",
   "execution_count": 31,
   "id": "2b8ce2b9",
   "metadata": {},
   "outputs": [
    {
     "data": {
      "image/png": "[encoded data removed]",
      "text/plain": [
       "<Figure size 432x288 with 1 Axes>"
      ]
     },
     "metadata": {
      "needs_background": "light"
     },
     "output_type": "display_data"
    }
   ],
   "source": [
    "# Visualizar el pérfil de energía\n",
    "x = list(scan.keys())\n",
    "y = list(scan.values())\n",
    "plt.plot(x,y,'bo-')\n",
    "plt.xlabel(r'H-O-H Bond Angle ($^{o}$)')\n",
    "plt.ylabel('Molecular Energy ($E_h$)')\n",
    "plt.show()"
   ]
  },
  {
   "cell_type": "code",
   "execution_count": 19,
   "id": "fbbed4fd",
   "metadata": {},
   "outputs": [
    {
     "data": {
      "application/vnd.jupyter.widget-view+json": {
       "model_id": "ff0e878de566486b97d845dce9f20f2d",
       "version_major": 2,
       "version_minor": 0
      },
      "text/plain": [
       "Renderer(camera=OrthographicCamera(bottom=-5.0, children=(DirectionalLight(color='white', intensity=0.5, posit…"
      ]
     },
     "metadata": {},
     "output_type": "display_data"
    },
    {
     "data": {
      "text/plain": [
       "<fortecubeview.mol_viewer.MolViewer at 0x7fccfc4f4690>"
      ]
     },
     "execution_count": 19,
     "metadata": {},
     "output_type": "execute_result"
    }
   ],
   "source": [
    "xyz = \"\"\"\n",
    "O                     0.000000000000     0.000000000000    -0.065775570547\n",
    "H                     0.000000000000    -0.759061990794     0.521953018286\n",
    "H                     0.000000000000     0.759061990794     0.521953018286\n",
    "\"\"\"\n",
    "fortecubeview.geom(xyz = xyz)"
   ]
  },
  {
   "cell_type": "markdown",
   "id": "caa52b1c",
   "metadata": {},
   "source": [
    "**<font color=green>Vamos a realizar la curva de potencial angular de la molécula de peróxido de hidrógeno (HOOH), aquí se variará el ángulo dihedro *dih4* manteniendo fijos los demás átomos.** "
   ]
  },
  {
   "cell_type": "code",
   "execution_count": 35,
   "id": "f342fa95",
   "metadata": {},
   "outputs": [],
   "source": [
    "HOOH_ang= \"\"\"\n",
    "    o\n",
    " o   1 oo2     \n",
    " h    1 ho3         2 hoo3      \n",
    " h    2 ho4         1 hoo4          3 dih4   \n",
    " \n",
    "oo2=        1.462461\n",
    "ho3=        0.954335\n",
    "hoo3=       101.178\n",
    "ho4=        0.954364\n",
    "hoo4=       101.183\n",
    "dih4=       {0}\"\"\""
   ]
  },
  {
   "cell_type": "code",
   "execution_count": 36,
   "id": "4e805a1e",
   "metadata": {},
   "outputs": [],
   "source": [
    "# Archivo de salida\n",
    "psi4.core.set_output_file('./Data/PES_rot_rig.dat', False)\n",
    "\n",
    "E_theta = np.empty((0,2)) # Una marix 2D para almacenar los resultados\n",
    "for theta in range(0, 361, 5): # Se scanearán estos ángulos\n",
    "    # Optimizamos la molécula en sus diferentesa ángulos\n",
    "    HOOH = psi4.geometry(HOOH_ang.format(theta))\n",
    "    # Calculamos la energía\n",
    "    Ei, wfni = psi4.energy('scf/6-31G', molecule = HOOH, return_wfn = True) # usamos HF y la base 6-31G\n",
    "    E_theta = np.append(E_theta, [[theta,Ei]], axis=0) # Almacenamos los resultados, theta y Energía\n",
    "    # Guardamos en el formato molden cada una de las estructuras optimizadas para cada ángulo\n",
    "    psi4.molden(wfni,\"./Data/PES_rot_rig.\"+str(theta)+\".molden\")\n",
    "\n",
    "np.savetxt(\"./Data/PES_rot_rig.csv\", E_theta, delimiter=\",\",header='H-O-O-H Dihedral Angle,E_rigid',comments='')\n",
    "PES=pd.DataFrame(E_theta)"
   ]
  },
  {
   "cell_type": "code",
   "execution_count": 38,
   "id": "98045325",
   "metadata": {},
   "outputs": [
    {
     "data": {
      "image/png": "[encoded data removed]",
      "text/plain": [
       "<Figure size 432x288 with 1 Axes>"
      ]
     },
     "metadata": {
      "needs_background": "light"
     },
     "output_type": "display_data"
    }
   ],
   "source": [
    "# Visualizar el pérfil de energía\n",
    "x = PES[0]\n",
    "y = PES[1]\n",
    "plt.plot(x,y,'ko-')\n",
    "plt.xlabel(r'H-O-O-H Dihedral Angle ($^{o}$)')\n",
    "plt.ylabel('Molecular Energy ($E_h$)')\n",
    "plt.show()"
   ]
  },
  {
   "cell_type": "markdown",
   "id": "b8a22b2e",
   "metadata": {},
   "source": [
    "**<font color=green>Vamos a realizar la curva de potencial angular de la molécula de peróxido de hidrógeno (HOOH), aquí se variará el ángulo dihedro *dih4* pero ahora permitiendo que las demás coordenadas (ángulos, enlaces) se otimizan con cada variación.** "
   ]
  },
  {
   "cell_type": "code",
   "execution_count": 23,
   "id": "11ae9716",
   "metadata": {},
   "outputs": [],
   "source": [
    "# Archivo de salida\n",
    "psi4.core.set_output_file('./Data/PES_rot_relax.dat', False)\n",
    "\n",
    "E_theta = np.empty((0,2)) # Una marix 2D para almacenar los resultados\n",
    "for theta in range(0, 361, 5): # Se scanearán estos ángulos\n",
    "    # Optimizamos la molécula en sus diferentesa ángulos\n",
    "    HOOH = psi4.geometry(HOOH_ang.format(theta))\n",
    "    # Reseteamos la simetría\n",
    "    HOOH.reset_point_group('c1')\n",
    "    # mantenemos fijo el angulo dihedro que esta entre los atomos 4, 2, 1 y 3 mientras se optimiza la molécula\n",
    "    psi4.set_module_options('optking', {'frozen_dihedral': '4 2 1 3 '})\n",
    "    # Calculamos la energía\n",
    "    Ei, wfni = psi4.energy('scf/6-31G', molecule = HOOH, return_wfn = True) # usamos HF y la base 6-31G\n",
    "    E_theta = np.append(E_theta, [[theta,Ei]], axis=0) # Almacenamos los resultados, theta y Energía\n",
    "    # Guardamos en el formato molden cada una de las estructuras optimizadas para cada ángulo\n",
    "    #psi4.molden(wfni,\"/home/emejia/Documents/PES_rot_relax.\"+str(theta)+\".molden\")\n",
    "\n",
    "np.savetxt(\"./Data/PES_rot_relax.csv\", E_theta, delimiter=\",\",header='H-O-O-H Dihedral Angle,E_rigid',comments='')\n",
    "PES2=pd.DataFrame(E_theta)"
   ]
  },
  {
   "cell_type": "code",
   "execution_count": 24,
   "id": "532f35c7",
   "metadata": {},
   "outputs": [
    {
     "data": {
      "image/png": "[encoded data removed]",
      "text/plain": [
       "<Figure size 432x288 with 1 Axes>"
      ]
     },
     "metadata": {
      "needs_background": "light"
     },
     "output_type": "display_data"
    }
   ],
   "source": [
    "# Visualizar el pérfil de energía\n",
    "x = PES2[0]\n",
    "y = PES2[1]\n",
    "plt.plot(x,y,'yo-')\n",
    "plt.xlabel(r'H-O-O-H Dihedral Angle ($^{o}$)')\n",
    "plt.ylabel('Molecular Energy ($E_h$)')\n",
    "plt.show()"
   ]
  },
  {
   "cell_type": "markdown",
   "id": "8f3d5424",
   "metadata": {},
   "source": [
    "**<font color=green size=5>Ejemplo del etano** "
   ]
  },
  {
   "cell_type": "code",
   "execution_count": 25,
   "id": "83e3520b",
   "metadata": {},
   "outputs": [],
   "source": [
    "geometry = \"\"\"\n",
    "C\n",
    "C 1 1.5307\n",
    "H 1 1.0936 2 111.3578\n",
    "H 1 1.0936 2 111.3578 3 120\n",
    "H 1 1.0936 2 111.3578 3 240\n",
    "H 2 1.0936 1 111.3578 3 60\n",
    "H 2 1.0936 1 111.3578 3 180\n",
    "H 2 1.0936 1 111.3578 3 300\n",
    "\"\"\""
   ]
  },
  {
   "cell_type": "code",
   "execution_count": 26,
   "id": "e607d52f",
   "metadata": {},
   "outputs": [],
   "source": [
    "ethane = psi4.geometry(geometry)\n",
    "E, wfn = psi4.energy('scf/6-31g',molecule=ethane, return_wfn=True)\n",
    "psi4.molden(wfn,'ethane.molden')"
   ]
  },
  {
   "cell_type": "code",
   "execution_count": 27,
   "id": "b13cf236",
   "metadata": {},
   "outputs": [
    {
     "data": {
      "application/vnd.jupyter.widget-view+json": {
       "model_id": "b85331e2ce72452ba94a47c30cf10336",
       "version_major": 2,
       "version_minor": 0
      },
      "text/plain": [
       "JsmolView(layout=Layout(align_self='stretch', height='400px'))"
      ]
     },
     "metadata": {},
     "output_type": "display_data"
    }
   ],
   "source": [
    "from jupyter_jsmol import JsmolView\n",
    "view1 = JsmolView.from_file(\"ethane.molden\", inline=False) \n",
    "view1"
   ]
  },
  {
   "cell_type": "code",
   "execution_count": 20,
   "id": "0f145437",
   "metadata": {},
   "outputs": [
    {
     "data": {
      "application/vnd.jupyter.widget-view+json": {
       "model_id": "a5437d041e37465196427bea88527470",
       "version_major": 2,
       "version_minor": 0
      },
      "text/plain": [
       "Renderer(camera=OrthographicCamera(bottom=-5.0, children=(DirectionalLight(color='white', intensity=0.5, posit…"
      ]
     },
     "metadata": {},
     "output_type": "display_data"
    },
    {
     "data": {
      "text/plain": [
       "<fortecubeview.mol_viewer.MolViewer at 0x7fcd67f66390>"
      ]
     },
     "execution_count": 20,
     "metadata": {},
     "output_type": "execute_result"
    }
   ],
   "source": [
    "fortecubeview.geom(molecule = psi4.geometry(geometry))"
   ]
  },
  {
   "cell_type": "code",
   "execution_count": 28,
   "id": "21009d27",
   "metadata": {},
   "outputs": [],
   "source": [
    "x = []\n",
    "y = []\n",
    "\n",
    "dihedrals = np.arange (0,360, 5)\n",
    "for d in dihedrals:\n",
    "    geometry = f\"\"\"\n",
    "    C\n",
    "    C 1 1.5307\n",
    "    H 1 1.0936 2 111.3578\n",
    "    H 1 1.0936 2 111.3578 3 120\n",
    "    H 1 1.0936 2 111.3578 3 240\n",
    "    H 2 1.0936 1 111.3578 3 {d}\n",
    "    H 2 1.0936 1 111.3578 3 {d+120}\n",
    "    H 2 1.0936 1 111.3578 3 {d+240}\n",
    "    \"\"\"\n",
    "\n",
    "    ethane = psi4.geometry(geometry)\n",
    "    E, wfn = psi4.energy('scf/6-31g',molecule=ethane, return_wfn=True)\n",
    "    #print (d,E)\n",
    "    x.append(d)\n",
    "    y.append(E)"
   ]
  },
  {
   "cell_type": "code",
   "execution_count": 29,
   "id": "2ca5dcf4",
   "metadata": {},
   "outputs": [
    {
     "data": {
      "image/png": "[encoded data removed]",
      "text/plain": [
       "<Figure size 432x288 with 1 Axes>"
      ]
     },
     "metadata": {
      "needs_background": "light"
     },
     "output_type": "display_data"
    }
   ],
   "source": [
    "# Visualizar el pérfil de energía\n",
    "plt.plot(x,y,'yo-')\n",
    "plt.xlabel(r'C2H6 Dihedral Angle ($^{o}$)')\n",
    "plt.ylabel('Molecular Energy ($E_h$)')\n",
    "plt.show()"
   ]
  },
  {
   "cell_type": "markdown",
   "id": "59f7a822",
   "metadata": {},
   "source": [
    "**<font color=green size=5>Otro Ejemplo** "
   ]
  },
  {
   "cell_type": "code",
   "execution_count": 28,
   "id": "2a08ec75",
   "metadata": {},
   "outputs": [],
   "source": [
    "geometry2 = \"\"\"\n",
    "C\n",
    "C 1 1.5307\n",
    "Br 1 2.0 2 111.3578\n",
    "H 1 1.0936 2 111.3578 3 120\n",
    "H 1 1.0936 2 111.3578 3 240\n",
    "Br 2 2.0 1 111.3578 3 60\n",
    "H 2 1.0936 1 111.3578 3 180\n",
    "H 2 1.0936 1 111.3578 3 300\n",
    "\"\"\""
   ]
  },
  {
   "cell_type": "code",
   "execution_count": 29,
   "id": "53214ca8",
   "metadata": {},
   "outputs": [],
   "source": [
    "dibromoethane = psi4.geometry(geometry2)\n",
    "E, wfn = psi4.energy('scf/6-31g',molecule=dibromoethane, return_wfn=True)\n",
    "psi4.molden(wfn,'dibromoethane.molden')"
   ]
  },
  {
   "cell_type": "code",
   "execution_count": 30,
   "id": "d6a2524f",
   "metadata": {},
   "outputs": [
    {
     "data": {
      "application/vnd.jupyter.widget-view+json": {
       "model_id": "e258081d101e41ab96d5df0458d4534d",
       "version_major": 2,
       "version_minor": 0
      },
      "text/plain": [
       "JsmolView(layout=Layout(align_self='stretch', height='400px'))"
      ]
     },
     "metadata": {},
     "output_type": "display_data"
    }
   ],
   "source": [
    "view2 = JsmolView.from_file(\"dibromoethane.molden\", inline=False) \n",
    "view2"
   ]
  },
  {
   "cell_type": "code",
   "execution_count": 33,
   "id": "917e23fe",
   "metadata": {},
   "outputs": [
    {
     "data": {
      "application/vnd.jupyter.widget-view+json": {
       "model_id": "d2aaf8ceadca4c5da24c1f99cfc17176",
       "version_major": 2,
       "version_minor": 0
      },
      "text/plain": [
       "Renderer(camera=OrthographicCamera(bottom=-5.0, children=(DirectionalLight(color='white', intensity=0.5, posit…"
      ]
     },
     "metadata": {},
     "output_type": "display_data"
    },
    {
     "data": {
      "text/plain": [
       "<fortecubeview.mol_viewer.MolViewer at 0x7fcd66976450>"
      ]
     },
     "execution_count": 33,
     "metadata": {},
     "output_type": "execute_result"
    }
   ],
   "source": [
    "fortecubeview.geom(molecule = psi4.geometry(geometry2))"
   ]
  },
  {
   "cell_type": "code",
   "execution_count": 31,
   "id": "a8bbf35c",
   "metadata": {},
   "outputs": [
    {
     "name": "stdout",
     "output_type": "stream",
     "text": [
      "0 -5220.740264303788\n",
      "10 -5220.741971414078\n",
      "20 -5220.746521799029\n",
      "30 -5220.752513883853\n",
      "40 -5220.758417209648\n",
      "50 -5220.763123593801\n",
      "60 -5220.766127661486\n",
      "70 -5220.767429989411\n",
      "80 -5220.767362600076\n",
      "90 -5220.766443859077\n",
      "100 -5220.765267071247\n",
      "110 -5220.764392406117\n",
      "120 -5220.764230623308\n",
      "130 -5220.764944179847\n",
      "140 -5220.766412525115\n",
      "150 -5220.7682828029\n",
      "160 -5220.770086750213\n",
      "170 -5220.771378183419\n",
      "180 -5220.771845559349\n",
      "190 -5220.7713781795\n",
      "200 -5220.770086757661\n",
      "210 -5220.7682828024645\n",
      "220 -5220.766412522154\n",
      "230 -5220.764944176592\n",
      "240 -5220.764230624346\n",
      "250 -5220.764392410886\n",
      "260 -5220.765267066805\n",
      "270 -5220.766443863179\n",
      "280 -5220.767362601479\n",
      "290 -5220.767429984719\n",
      "300 -5220.7661276699755\n",
      "310 -5220.76312359371\n",
      "320 -5220.758417207655\n",
      "330 -5220.752513875583\n",
      "340 -5220.746521801229\n",
      "350 -5220.741971419475\n"
     ]
    }
   ],
   "source": [
    "x = []\n",
    "y = []\n",
    "\n",
    "dihedrals = np.arange (0,360, 5)\n",
    "for d in dihedrals:\n",
    "    geometry = f\"\"\"\n",
    "    C\n",
    "    C 1 1.5307\n",
    "    Br 1 2.0 2 111.3578\n",
    "    H 1 1.0936 2 111.3578 3 120\n",
    "    H 1 1.0936 2 111.3578 3 240\n",
    "    Br 2 2.0 1 111.3578 3 {d}\n",
    "    H 2 1.0936 1 111.3578 3 {d+120}\n",
    "    H 2 1.0936 1 111.3578 3 {d+240}\n",
    "    \"\"\"\n",
    "\n",
    "    dibromoethane = psi4.geometry(geometry)\n",
    "    E, wfn = psi4.energy('scf/6-31g',molecule=dibromoethane, return_wfn=True)\n",
    "    #print (d,E)\n",
    "    x.append(d)\n",
    "    y.append(E)"
   ]
  },
  {
   "cell_type": "code",
   "execution_count": 32,
   "id": "b0a0faa3",
   "metadata": {},
   "outputs": [
    {
     "data": {
      "image/png": "[encoded data removed]",
      "text/plain": [
       "<Figure size 432x288 with 1 Axes>"
      ]
     },
     "metadata": {
      "needs_background": "light"
     },
     "output_type": "display_data"
    }
   ],
   "source": [
    "# Visualizar el pérfil de energía\n",
    "plt.plot(x,y,'yo-')\n",
    "plt.xlabel(r'C2H6 Dihedral Angle ($^{o}$)')\n",
    "plt.ylabel('Molecular Energy ($E_h$)')\n",
    "plt.show()"
   ]
  },
  {
   "cell_type": "code",
   "execution_count": 36,
   "id": "6b576f7e",
   "metadata": {},
   "outputs": [
    {
     "name": "stdout",
     "output_type": "stream",
     "text": [
      "Total number of IJK combinations =: 1\n",
      "Num. of IJK with (Gi,Gj,Gk)=(0,0,0) =: 1\n",
      "    thread 0: first_ijk=0,  last_ijk=0\n"
     ]
    }
   ],
   "source": [
    "!cat ijk.dat"
   ]
  },
  {
   "cell_type": "code",
   "execution_count": null,
   "id": "b491a23d",
   "metadata": {},
   "outputs": [],
   "source": []
  }
 ],
 "metadata": {
  "kernelspec": {
   "display_name": "psi4",
   "language": "python",
   "name": "psi4"
  },
  "language_info": {
   "codemirror_mode": {
    "name": "ipython",
    "version": 3
   },
   "file_extension": ".py",
   "mimetype": "text/x-python",
   "name": "python",
   "nbconvert_exporter": "python",
   "pygments_lexer": "ipython3",
   "version": "3.7.11"
  }
 },
 "nbformat": 4,
 "nbformat_minor": 5
}
