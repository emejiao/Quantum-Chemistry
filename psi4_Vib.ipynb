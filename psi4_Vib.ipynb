{
 "cells": [
  {
   "cell_type": "markdown",
   "id": "69f2a083-4291-4c35-86c3-67d3167bd8e9",
   "metadata": {},
   "source": [
    "<div class=\"alert alert-success\" role=\"alert\">\n",
    "  <h1 class=\"alert-heading\">Análisis Vibracional</h1>\n",
    "  <h3 class=\"alert-heading\">Prof. Enrique Mejía Ospino, emejia@uis.edu.co</h3>\n",
    "  <h4 class=\"alert-heading\">Escuela de Química</h4>\n",
    "  <h4 class=\"alert-heading\">Universidad Industrial de Santander</h4>\n",
    "  </div>"
   ]
  },
  {
   "cell_type": "markdown",
   "id": "30fc743c-be9d-4d2e-a886-bbebf36e3563",
   "metadata": {},
   "source": [
    "**<font color=red> Vamos  atilizar el modulo *PSI4* para desarrollar algunos ejercicios de cálculo mecánico-cuántico. En este Cuaderno de Jupyter Realizaremos el Análisis Vibracional utilizando el paquete desarrollado por el Prof. Tom Allison. *Advertencia: Cada vez que se requiera ejecutar un calculo con este paquete, se debe reiniciar el kernel*.** "
   ]
  },
  {
   "cell_type": "code",
   "execution_count": 2,
   "id": "dec71b99",
   "metadata": {},
   "outputs": [],
   "source": [
    "import psi4\n",
    "import numpy as np\n",
    "import matplotlib.pyplot as plt\n",
    "import fortecubeview # Visualizar moléculas\n",
    "import h5py\n",
    "import pandas as pd\n",
    "import CHE525_Vib as vib\n",
    "#from qcelemental import Datum\n",
    "%matplotlib inline"
   ]
  },
  {
   "cell_type": "markdown",
   "id": "1df651c4-f085-4fa5-bdc9-69fd0a0ee1ce",
   "metadata": {},
   "source": [
    "**<font color=green> Inicializamos las condiciones de maquina.** "
   ]
  },
  {
   "cell_type": "code",
   "execution_count": 3,
   "id": "072f36f2-8349-42ef-a133-4e015547031a",
   "metadata": {},
   "outputs": [
    {
     "name": "stdout",
     "output_type": "stream",
     "text": [
      "\n",
      "  Memory set to   1.863 GiB by Python driver.\n",
      "  Threads set to 8 by Python driver.\n"
     ]
    }
   ],
   "source": [
    "psi4.core.clean()\n",
    "psi4.core.clean_options()\n",
    "psi4.set_memory('2000 MB')  # Memoria que sera utilizada en el cálculo\n",
    "psi4.set_num_threads(8)    # Cnatida de hilos a utilzar, tener en cuenta que un núcleo soporta 24 hilos "
   ]
  },
  {
   "cell_type": "markdown",
   "id": "f78a170b-2186-4546-9c40-2be73df534b9",
   "metadata": {},
   "source": [
    "**<font color=green>Podemos realizar los mismos calculos sobre el ángulo *H-O-H* y graficar los resultados.** "
   ]
  },
  {
   "cell_type": "code",
   "execution_count": 4,
   "id": "1ab20c14-586b-4a3a-98c9-0830ff7f8669",
   "metadata": {},
   "outputs": [
    {
     "name": "stdout",
     "output_type": "stream",
     "text": [
      "Optimizer: Optimization complete!\n"
     ]
    },
    {
     "name": "stderr",
     "output_type": "stream",
     "text": [
      "/home/emejia/Documents/QC_Notebook/CHE525_Vib.py:25: FutureWarning: Using scalar QCVariable ` DIPOLE X` [D] instead of array ` DIPOLE` [e a0] is deprecated, and in 1.5 it will stop working\n",
      "\n",
      "  D[0] = wfn_in.variable(' DIPOLE X')\n",
      "/home/emejia/Documents/QC_Notebook/CHE525_Vib.py:26: FutureWarning: Using scalar QCVariable ` DIPOLE Y` [D] instead of array ` DIPOLE` [e a0] is deprecated, and in 1.5 it will stop working\n",
      "\n",
      "  D[1] = wfn_in.variable(' DIPOLE Y')\n",
      "/home/emejia/Documents/QC_Notebook/CHE525_Vib.py:27: FutureWarning: Using scalar QCVariable ` DIPOLE Z` [D] instead of array ` DIPOLE` [e a0] is deprecated, and in 1.5 it will stop working\n",
      "\n",
      "  D[2] = wfn_in.variable(' DIPOLE Z')\n"
     ]
    },
    {
     "name": "stdout",
     "output_type": "stream",
     "text": [
      "Initial dipole:\n",
      "[0.         0.         0.86511907]\n",
      "Working on mode 6 with frequency (1826.6144622158488+0j)\n"
     ]
    },
    {
     "name": "stderr",
     "output_type": "stream",
     "text": [
      "/home/emejia/Documents/QC_Notebook/CHE525_Vib.py:25: FutureWarning: Using scalar QCVariable ` DIPOLE X` [D] instead of array ` DIPOLE` [e a0] is deprecated, and in 1.5 it will stop working\n",
      "\n",
      "  D[0] = wfn_in.variable(' DIPOLE X')\n",
      "/home/emejia/Documents/QC_Notebook/CHE525_Vib.py:26: FutureWarning: Using scalar QCVariable ` DIPOLE Y` [D] instead of array ` DIPOLE` [e a0] is deprecated, and in 1.5 it will stop working\n",
      "\n",
      "  D[1] = wfn_in.variable(' DIPOLE Y')\n",
      "/home/emejia/Documents/QC_Notebook/CHE525_Vib.py:27: FutureWarning: Using scalar QCVariable ` DIPOLE Z` [D] instead of array ` DIPOLE` [e a0] is deprecated, and in 1.5 it will stop working\n",
      "\n",
      "  D[2] = wfn_in.variable(' DIPOLE Z')\n"
     ]
    },
    {
     "name": "stdout",
     "output_type": "stream",
     "text": [
      "D1 = \n",
      "[0.        0.        0.8684319]\n",
      "Working on mode 7 with frequency (4070.306766552159+0j)\n"
     ]
    },
    {
     "name": "stderr",
     "output_type": "stream",
     "text": [
      "/home/emejia/Documents/QC_Notebook/CHE525_Vib.py:25: FutureWarning: Using scalar QCVariable ` DIPOLE X` [D] instead of array ` DIPOLE` [e a0] is deprecated, and in 1.5 it will stop working\n",
      "\n",
      "  D[0] = wfn_in.variable(' DIPOLE X')\n",
      "/home/emejia/Documents/QC_Notebook/CHE525_Vib.py:26: FutureWarning: Using scalar QCVariable ` DIPOLE Y` [D] instead of array ` DIPOLE` [e a0] is deprecated, and in 1.5 it will stop working\n",
      "\n",
      "  D[1] = wfn_in.variable(' DIPOLE Y')\n",
      "/home/emejia/Documents/QC_Notebook/CHE525_Vib.py:27: FutureWarning: Using scalar QCVariable ` DIPOLE Z` [D] instead of array ` DIPOLE` [e a0] is deprecated, and in 1.5 it will stop working\n",
      "\n",
      "  D[2] = wfn_in.variable(' DIPOLE Z')\n"
     ]
    },
    {
     "name": "stdout",
     "output_type": "stream",
     "text": [
      "D1 = \n",
      "[0.         0.         0.86374229]\n",
      "Working on mode 8 with frequency (4188.62278792277+0j)\n",
      "D1 = \n",
      "[0.         0.00244304 0.8651162 ]\n"
     ]
    },
    {
     "name": "stderr",
     "output_type": "stream",
     "text": [
      "/home/emejia/Documents/QC_Notebook/CHE525_Vib.py:25: FutureWarning: Using scalar QCVariable ` DIPOLE X` [D] instead of array ` DIPOLE` [e a0] is deprecated, and in 1.5 it will stop working\n",
      "\n",
      "  D[0] = wfn_in.variable(' DIPOLE X')\n",
      "/home/emejia/Documents/QC_Notebook/CHE525_Vib.py:26: FutureWarning: Using scalar QCVariable ` DIPOLE Y` [D] instead of array ` DIPOLE` [e a0] is deprecated, and in 1.5 it will stop working\n",
      "\n",
      "  D[1] = wfn_in.variable(' DIPOLE Y')\n",
      "/home/emejia/Documents/QC_Notebook/CHE525_Vib.py:27: FutureWarning: Using scalar QCVariable ` DIPOLE Z` [D] instead of array ` DIPOLE` [e a0] is deprecated, and in 1.5 it will stop working\n",
      "\n",
      "  D[2] = wfn_in.variable(' DIPOLE Z')\n"
     ]
    },
    {
     "data": {
      "text/html": [
       "<div>\n",
       "<style scoped>\n",
       "    .dataframe tbody tr th:only-of-type {\n",
       "        vertical-align: middle;\n",
       "    }\n",
       "\n",
       "    .dataframe tbody tr th {\n",
       "        vertical-align: top;\n",
       "    }\n",
       "\n",
       "    .dataframe thead th {\n",
       "        text-align: right;\n",
       "    }\n",
       "</style>\n",
       "<table border=\"1\" class=\"dataframe\">\n",
       "  <thead>\n",
       "    <tr style=\"text-align: right;\">\n",
       "      <th></th>\n",
       "      <th>cm^-1</th>\n",
       "      <th>IR active [km/mol]</th>\n",
       "    </tr>\n",
       "  </thead>\n",
       "  <tbody>\n",
       "    <tr>\n",
       "      <th>0</th>\n",
       "      <td>1826.614462</td>\n",
       "      <td>106.991344</td>\n",
       "    </tr>\n",
       "    <tr>\n",
       "      <th>1</th>\n",
       "      <td>4070.306767</td>\n",
       "      <td>18.479164</td>\n",
       "    </tr>\n",
       "    <tr>\n",
       "      <th>2</th>\n",
       "      <td>4188.622788</td>\n",
       "      <td>58.185038</td>\n",
       "    </tr>\n",
       "  </tbody>\n",
       "</table>\n",
       "</div>"
      ],
      "text/plain": [
       "         cm^-1  IR active [km/mol]\n",
       "0  1826.614462          106.991344\n",
       "1  4070.306767           18.479164\n",
       "2  4188.622788           58.185038"
      ]
     },
     "execution_count": 4,
     "metadata": {},
     "output_type": "execute_result"
    }
   ],
   "source": [
    "psi4.core.set_output_file('./Data/H2O_Vib.dat', False) # Archivo de salida\n",
    "# Vamos a definir otra forma de flexibilizar unos de los parámetros structurales, en este casp el ángulo\n",
    "# entre los hidrógeno, utilizamos el formato Z-matrix\n",
    "HOH_v= \"\"\"\n",
    "    o\n",
    " h   1 ho2     \n",
    " h    1 ho3         2 hoh3      \n",
    "\n",
    "ho2=        0.95\n",
    "ho3=        0.95\n",
    "hoh3=       107.0\"\"\"\n",
    "\n",
    "# Método de Cálculo\n",
    "method='scf/6-31G*'\n",
    "\n",
    "# Definimos la geometría de la molécula de acuerdo psi4  \n",
    "HOH = psi4.geometry(HOH_v) \n",
    "\n",
    "# Optimizamos la geometría\n",
    "E0, wfn0 = psi4.optimize(method, molecule = HOH, return_wfn = True) # optimización inicial\n",
    "\n",
    "# visualización de los modos normales de vibración.\n",
    "psi4.set_options({\"normal_modes_write\": True})\n",
    "\n",
    "# Adiciona algunos caracteres al nombre del archivo de salida \n",
    "psi4.set_options({\"writer_file_label\": \"h2o-hf\"})\n",
    "\n",
    "# Calcula la frecuencias usando la geometría optimizada\n",
    "psi4.frequencies(method)\n",
    "vib_results = {}\n",
    "# Calculamos las intensidades IR usand el paquete CHE525_vib desarrollado por el Prof. Tom Allison de \n",
    "# Stony Brook University, la función eps ajusta los pasos!\n",
    "vib_results = vib.dipder(method,HOH, eps = 0.01)\n",
    "\n",
    "# Mostramos los resultados en pantalla\n",
    "vib=[(np.array(vib_results['om'])).real, np.array(vib_results['IR_Intensity'])]\n",
    "Results_vib = pd.DataFrame(vib).T.set_axis(['cm^-1', 'IR active [km/mol]'], axis=1, inplace=False)\n",
    "Results_vib \n",
    "# Convertimos a DataFrame y Guardamos el archivo!\n",
    "#Results_vib.to_excel('vib_results.csv')"
   ]
  },
  {
   "cell_type": "code",
   "execution_count": 6,
   "id": "8abc072d-8b7d-40db-b638-37afae021d28",
   "metadata": {},
   "outputs": [
    {
     "data": {
      "text/plain": [
       "{'dipder': [array([0.        , 0.        , 0.33128267]),\n",
       "  array([ 0.        ,  0.        , -0.13767832]),\n",
       "  array([ 0.        ,  0.24430354, -0.00028698])],\n",
       " 'om': [(1826.6144622158488+0j),\n",
       "  (4070.306766552159+0j),\n",
       "  (4188.62278792277+0j)],\n",
       " 'IR_Intensity': [106.99134396605204, 18.479163883782483, 58.185038180021465]}"
      ]
     },
     "execution_count": 6,
     "metadata": {},
     "output_type": "execute_result"
    }
   ],
   "source": [
    "vib_results"
   ]
  },
  {
   "cell_type": "code",
   "execution_count": null,
   "id": "c2bdbca7-c8e3-4d4d-b0c0-a7787015fcc0",
   "metadata": {},
   "outputs": [],
   "source": []
  }
 ],
 "metadata": {
  "kernelspec": {
   "display_name": "psi4",
   "language": "python",
   "name": "psi4"
  },
  "language_info": {
   "codemirror_mode": {
    "name": "ipython",
    "version": 3
   },
   "file_extension": ".py",
   "mimetype": "text/x-python",
   "name": "python",
   "nbconvert_exporter": "python",
   "pygments_lexer": "ipython3",
   "version": "3.7.11"
  }
 },
 "nbformat": 4,
 "nbformat_minor": 5
}
