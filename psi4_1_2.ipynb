{
 "cells": [
  {
   "cell_type": "markdown",
   "id": "69f2a083-4291-4c35-86c3-67d3167bd8e9",
   "metadata": {},
   "source": [
    "<div class=\"alert alert-success\" role=\"alert\">\n",
    "  <h1 class=\"alert-heading\">Análisis Vibracional</h1>\n",
    "  <h3 class=\"alert-heading\">Prof. Enrique Mejía Ospino, emejia@uis.edu.co</h3>\n",
    "  <h4 class=\"alert-heading\">Escuela de Química</h4>\n",
    "  <h4 class=\"alert-heading\">Universidad Industrial de Santander</h4>\n",
    "  </div>"
   ]
  },
  {
   "cell_type": "markdown",
   "id": "30fc743c-be9d-4d2e-a886-bbebf36e3563",
   "metadata": {},
   "source": [
    "**<font color=blue> Vamos  atilizar el modulo *PSI4* para desarrollar algunos ejercicios de cálculo mecánico-cuántico. En este Cuaderno de Jupyter realizaremos análisis vibracional de algunas moleculas sencillas.** "
   ]
  },
  {
   "cell_type": "code",
   "execution_count": 1,
   "id": "dec71b99",
   "metadata": {},
   "outputs": [],
   "source": [
    "# Importamos modulos =================================================================\n",
    "import psi4\n",
    "import numpy as np  \n",
    "import matplotlib.pyplot as plt\n",
    "import h5py\n",
    "import fortecubeview # Visualizar moléculas\n",
    "import pandas as pd\n",
    "%matplotlib inline"
   ]
  },
  {
   "cell_type": "code",
   "execution_count": 2,
   "id": "6994d7ea-1e66-45be-995f-df661fae76a7",
   "metadata": {},
   "outputs": [],
   "source": [
    "# Inicialización Psi4 =================================================================\n",
    "\n",
    "psi4.core.clean()\n",
    "psi4.core.clean_options()\n",
    "psi4.set_memory('2000 MB')  # Can make this much larger on Seawulf, each compute node has more than 100 GB RAM\n",
    "psi4.set_num_threads(4)    # Can make this much larger on Seawulf, each compute node can support 24 threads. \n",
    "                          # But it doesn't help much for small molecules...\n",
    "psi4.core.set_output_file('./Data/OCS_pythonics.dat', False) \n",
    "# this command sets psi4's output to a file. Comment this line out if you want to see the output on the terminal."
   ]
  },
  {
   "cell_type": "code",
   "execution_count": 3,
   "id": "4b8757a1-62e6-40b9-a881-9a16950f59e8",
   "metadata": {},
   "outputs": [],
   "source": [
    "# Geometría de la molécula de OCS ============================================\n",
    "OCS_120 = psi4.geometry(\"\"\"\n",
    " o\n",
    " c    1 co2     \n",
    " s    2 sc3         1 sco3      \n",
    " \n",
    "co2=        1.380000\n",
    "sc3=        1.780000\n",
    "sco3=       120.000\n",
    "\"\"\")\n",
    "OCS_120.reset_point_group('c1') # simetría!"
   ]
  },
  {
   "cell_type": "code",
   "execution_count": 8,
   "id": "704b2a5c-6512-4794-b5d1-57c515fefd84",
   "metadata": {
    "scrolled": true,
    "tags": []
   },
   "outputs": [
    {
     "name": "stdout",
     "output_type": "stream",
     "text": [
      "Working on OCS_linear\n",
      "Optimizer: Optimization complete!\n",
      "Working on OCS_bent\n",
      "Optimizer: Optimization complete!\n",
      "Energías en posiciones iniciales con diferentes métodos:\n",
      "{'OCS_bent': {'scf/3-21G': -507.5063893205801, 'scf/6-311G*': -510.1193187715536}, 'OCS_linear': {'scf/3-21G': -507.57113391033636, 'scf/6-311G*': -510.18337850323314}}\n",
      "scf/6-311G* energies after optimization:\n",
      "{'OCS_bent': -510.21076698642946, 'OCS_linear': -510.3125229088429}\n"
     ]
    }
   ],
   "source": [
    "# Inicialización de los cálculos ================================================\n",
    "\n",
    "methods = ['scf/3-21G', 'scf/6-311G*'] # Lista de métodos. El último será usado para la otimización!\n",
    "mol_names = ['OCS_linear' , 'OCS_bent'] # Simetrías\n",
    "\n",
    "# Initialización de diccionario de Python para almacenar los resultados ======================\n",
    "    \n",
    "molecules = {} # Para almacenar las moléculas\n",
    "E0 = {}        # Para almacenar la energías no optimizadas\n",
    "Eopt = {}      # Para almacenar las energías optimizadas\n",
    "wfn_opt = {}   # Para almacenar la funciones de onda optimizadas\n",
    "\n",
    "# Geometría de la molécula de OCS ============================================\n",
    "molecules['OCS_bent'] = psi4.geometry(\"\"\"\n",
    " o\n",
    " c    1 co2     \n",
    " s    2 sc3         1 sco3      \n",
    " \n",
    "co2=        1.380000\n",
    "sc3=        1.780000\n",
    "sco3=       120.000\n",
    "\"\"\")\n",
    "\n",
    "molecules['OCS_bent'].reset_point_group('c1') # \n",
    "E0['OCS_bent'] = {} # Inicializamos\n",
    "Eopt['OCS_bent'] = 0 #\n",
    "\n",
    "# ejemplo de cargar desde un archivo\n",
    "f = open('./Data/OCS_linear.xyz') #usamos la función ´open´ de Python para cargar un archivo xyz.\n",
    "molecules['OCS_linear'] = psi4.geometry(f.read())\n",
    "molecules['OCS_linear'].reset_point_group('c1') # \n",
    "E0['OCS_linear'] = {} # Inicializamos\n",
    "Eopt['OCS_linear'] = 0 # \n",
    "\n",
    "# Corremos los calculos. Usamos un loop ========================\n",
    "\n",
    "for mol_name in mol_names:\n",
    "    print('Working on ' + mol_name)    \n",
    "    for meth_j in methods:                 #loop over methods\n",
    "        E0[mol_name][meth_j] = psi4.energy(meth_j, molecule = molecules[mol_name])\n",
    "    \n",
    "    # usamos esta parate para controlar casos especiales\n",
    "    if mol_name == 'OCS_bent':\n",
    "        psi4.set_module_options('optking',{'frozen_bend': '1 2 3'})\n",
    "        \n",
    "    Eopt[mol_name], wfn_opt[mol_name] = psi4.optimize(methods[-1], molecule = molecules[mol_name], \n",
    "                                                      return_wfn = True)\n",
    "    psi4.driver.molden(wfn_opt[mol_name], './Data/' + mol_name + '.molden')\n",
    "\n",
    "\n",
    "# Impresión de Resultados en pantalla =================================================================\n",
    "\n",
    "print('Energías en posiciones iniciales con diferentes métodos:')\n",
    "print(E0)\n",
    "print(methods[-1] + ' energies after optimization:')\n",
    "print(Eopt)\n",
    "\n",
    "#%%\n",
    "# Guardar los resultados optimizados usando Pandas\n",
    "df = pd.DataFrame(data = Eopt, index = [0]) # DataFrame\n",
    "df.to_excel('./Data/Lab1starter_Eopt.xlsx')  # guardamos en un archivo excel.\n",
    "\n",
    "#%%\n",
    "# Guardamos los resultados iniciales usando Pandas\n",
    "df = pd.DataFrame(E0)\n",
    "df.to_excel('./Data/Lab1starter_E0.xlsx')  #"
   ]
  },
  {
   "cell_type": "code",
   "execution_count": null,
   "id": "6ae85710-eba7-4235-8dc0-a86ca65f41b1",
   "metadata": {},
   "outputs": [],
   "source": [
    "# Save data to a spreadsheet using Pandas ==========================================\n",
    "#\n",
    "#  d = {'Details': [method1, method2, 'Global opt.'], 'Energies': [E0_1, E0_2, Eopt]} # create dictionary to load into Pandas dataframe.\n",
    "#  df = pd.DataFrame(data = d)     # create Pandas dataframe\n",
    "#  df.to_csv('Lab1starter_OCS_results.csv')  # save dataframe to .csv spreadsheet file.\n",
    " \n",
    "# Or of course you can also extract the results from the raw .dat file\n",
    "# generated by Psi4"
   ]
  }
 ],
 "metadata": {
  "kernelspec": {
   "display_name": "psi4",
   "language": "python",
   "name": "p4env"
  },
  "language_info": {
   "codemirror_mode": {
    "name": "ipython",
    "version": 3
   },
   "file_extension": ".py",
   "mimetype": "text/x-python",
   "name": "python",
   "nbconvert_exporter": "python",
   "pygments_lexer": "ipython3",
   "version": "3.7.10"
  }
 },
 "nbformat": 4,
 "nbformat_minor": 5
}
