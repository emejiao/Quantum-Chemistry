{
 "cells": [
  {
   "cell_type": "code",
   "execution_count": 1,
   "id": "dec71b99",
   "metadata": {},
   "outputs": [],
   "source": [
    "import psi4\n",
    "import numpy as np\n",
    "import matplotlib.pyplot as plt"
   ]
  },
  {
   "cell_type": "code",
   "execution_count": 2,
   "id": "d6aa5d0a",
   "metadata": {},
   "outputs": [],
   "source": [
    "mol_tmpl = \"\"\"H\n",
    "F 1 **R**\"\"\"\n",
    "rvals = [0.8, 0.85, 0.9, 0.95, 1.0]"
   ]
  },
  {
   "cell_type": "code",
   "execution_count": 4,
   "id": "0cbd01d0",
   "metadata": {},
   "outputs": [
    {
     "name": "stdout",
     "output_type": "stream",
     "text": [
      "[0.8, 0.85, 0.9, 0.95, 1.0]\n",
      "[-100.00264748473292, -100.0158498498068, -100.01969338232173, -100.0170231094692, -100.00985995181797]\n"
     ]
    }
   ],
   "source": [
    "molecules =[]\n",
    "energies = []\n",
    "for r in rvals:\n",
    "    molecule = psi4.geometry(mol_tmpl.replace(\"**R**\", str(r)))\n",
    "    molecules.append(molecule)\n",
    "for mol in molecules:\n",
    "    energy = psi4.energy(\"SCF/cc-pVDZ\", molecule=mol)\n",
    "    energies.append(energy)\n",
    "print(rvals)\n",
    "print(energies)"
   ]
  },
  {
   "cell_type": "code",
   "execution_count": 5,
   "id": "7422fe79-e245-4541-9b0f-6ef56c0394fe",
   "metadata": {},
   "outputs": [],
   "source": [
    "data = psi4.diatomic.anharmonicity(rvals, energies)"
   ]
  },
  {
   "cell_type": "code",
   "execution_count": 6,
   "id": "1e553d26-ef17-4b14-82c9-967e5c538d82",
   "metadata": {},
   "outputs": [
    {
     "name": "stdout",
     "output_type": "stream",
     "text": [
      "{'re': 0.9014127115106682, 'r0': 0.9099199770006021, 'we': 4440.843496024022, 'wexe': 95.7894648733589, 'nu': 4249.264566277304, 'ZPVE(harmonic)': 2196.4743817936715, 'ZPVE(anharmonic)': 2196.4743817936715, 'Be': 21.67764589063722, 'B0': 21.274191980518275, 'ae': 0.8069078202378885, 'De': 0.0020661669402905576}\n"
     ]
    }
   ],
   "source": [
    "print(data)"
   ]
  },
  {
   "cell_type": "code",
   "execution_count": 7,
   "id": "0d1b59b9-108a-456a-b5d7-1a2f5c3ead3a",
   "metadata": {},
   "outputs": [],
   "source": [
    "mol_N = \"\"\"N\n",
    "N 1 **d**\"\"\"\n",
    "rvals = np.linspace(0.7, 4, num=50)"
   ]
  },
  {
   "cell_type": "code",
   "execution_count": 8,
   "id": "5203c5ea-ee0a-4b97-976a-8d5f69c22196",
   "metadata": {},
   "outputs": [
    {
     "name": "stdout",
     "output_type": "stream",
     "text": [
      "[-107.61328499557617, -108.20671302725181, -108.57267687586783, -108.787368565912, -108.90136302742354, -108.94877519190139, -108.9528181765125, -108.92928220136366, -108.88885084341119, -108.8387108185511, -108.78366675277606, -108.7268921283916, -108.67043027682888, -108.61553976379732, -108.56294543496186, -108.51302431075447, -108.46593778019886, -108.42171824638447, -108.38032101754283, -108.34165372308462, -108.3055936666997, -108.27199960609857, -108.24072076544708, -108.21160377725151, -108.18449763667321, -108.15925687295945, -108.13574335554237, -108.1138272023683, -108.09338716330625, -108.07431071050529, -108.0564939524554, -108.03984142230166, -108.02426576411666, -108.00968733414118, -107.9960337324694, -107.98323927848882, -107.97124444080326, -107.95999523232967, -107.94944258381634, -107.9395417151696, -107.93025152676434, -107.92153403575566, -107.91335387615102, -107.90567787885402, -107.89847473519632, -107.89171474188933, -107.88536961814641, -107.87941238224175, -107.87381727353922, -107.86855970678997]\n"
     ]
    }
   ],
   "source": [
    "molecules =[]\n",
    "energies = []\n",
    "for r in rvals:\n",
    "    molecule = psi4.geometry(mol_N.replace(\"**d**\", str(r)))\n",
    "    molecules.append(molecule)\n",
    "for mol in molecules:\n",
    "    energy = psi4.energy(\"SCF/cc-pVDZ\", molecule=mol)\n",
    "    energies.append(energy)\n",
    "#print(rvals)\n",
    "print(energies)"
   ]
  },
  {
   "cell_type": "code",
   "execution_count": 9,
   "id": "959384d3-4e48-4933-9654-da406ca634a4",
   "metadata": {},
   "outputs": [
    {
     "data": {
      "image/png": "[encoded data removed]",
      "text/plain": [
       "<Figure size 432x288 with 1 Axes>"
      ]
     },
     "metadata": {
      "needs_background": "light"
     },
     "output_type": "display_data"
    }
   ],
   "source": [
    "fig, ax = plt.subplots()\n",
    "ax.scatter(rvals, energies, color='red', edgecolors=(0, 0, 0))\n",
    "ax.set_xlabel('d(A)')\n",
    "ax.set_ylabel('Energy')\n",
    "plt.show()"
   ]
  },
  {
   "cell_type": "code",
   "execution_count": 10,
   "id": "5a5bf252",
   "metadata": {},
   "outputs": [
    {
     "name": "stdout",
     "output_type": "stream",
     "text": [
      "0.7 : -107.61328499557617\n",
      "0.7673469387755102 : -108.20671302725181\n",
      "0.8346938775510204 : -108.57267687586783\n",
      "0.9020408163265305 : -108.787368565912\n",
      "0.9693877551020408 : -108.90136302742354\n",
      "1.036734693877551 : -108.94877519190139\n",
      "1.1040816326530611 : -108.9528181765125\n",
      "1.1714285714285713 : -108.92928220136366\n",
      "1.2387755102040816 : -108.88885084341119\n",
      "1.306122448979592 : -108.8387108185511\n",
      "1.373469387755102 : -108.78366675277606\n",
      "1.4408163265306122 : -108.7268921283916\n",
      "1.5081632653061225 : -108.67043027682888\n",
      "1.5755102040816327 : -108.61553976379732\n",
      "1.6428571428571428 : -108.56294543496186\n",
      "1.7102040816326531 : -108.51302431075447\n",
      "1.7775510204081633 : -108.46593778019886\n",
      "1.8448979591836734 : -108.42171824638447\n",
      "1.9122448979591837 : -108.38032101754283\n",
      "1.9795918367346939 : -108.34165372308462\n",
      "2.0469387755102044 : -108.3055936666997\n",
      "2.1142857142857143 : -108.27199960609857\n",
      "2.1816326530612242 : -108.24072076544708\n",
      "2.2489795918367346 : -108.21160377725151\n",
      "2.316326530612245 : -108.18449763667321\n",
      "2.3836734693877553 : -108.15925687295945\n",
      "2.4510204081632656 : -108.13574335554237\n",
      "2.5183673469387755 : -108.1138272023683\n",
      "2.5857142857142854 : -108.09338716330625\n",
      "2.6530612244897958 : -108.07431071050529\n",
      "2.720408163265306 : -108.0564939524554\n",
      "2.7877551020408164 : -108.03984142230166\n",
      "2.855102040816327 : -108.02426576411666\n",
      "2.922448979591837 : -108.00968733414118\n",
      "2.9897959183673466 : -107.9960337324694\n",
      "3.057142857142857 : -107.98323927848882\n",
      "3.1244897959183673 : -107.97124444080326\n",
      "3.1918367346938776 : -107.95999523232967\n",
      "3.259183673469388 : -107.94944258381634\n",
      "3.3265306122448983 : -107.9395417151696\n",
      "3.3938775510204087 : -107.93025152676434\n",
      "3.461224489795918 : -107.92153403575566\n",
      "3.5285714285714285 : -107.91335387615102\n",
      "3.595918367346939 : -107.90567787885402\n",
      "3.663265306122449 : -107.89847473519632\n",
      "3.7306122448979595 : -107.89171474188933\n",
      "3.79795918367347 : -107.88536961814641\n",
      "3.8653061224489793 : -107.87941238224175\n",
      "3.9326530612244897 : -107.87381727353922\n",
      "4.0 : -107.86855970678997\n"
     ]
    }
   ],
   "source": [
    "for num, r in enumerate(rvals):\n",
    "    print(r, ':', energies[num])"
   ]
  },
  {
   "cell_type": "code",
   "execution_count": 11,
   "id": "d0052805",
   "metadata": {},
   "outputs": [],
   "source": [
    "import psi4\n",
    "\n",
    "import numpy as np\n",
    "import os\n",
    "import matplotlib.pyplot as plt"
   ]
  },
  {
   "cell_type": "code",
   "execution_count": 12,
   "id": "a6d4adb4",
   "metadata": {},
   "outputs": [
    {
     "name": "stdout",
     "output_type": "stream",
     "text": [
      "The HF energy of He is -2.8551883987268125\n"
     ]
    }
   ],
   "source": [
    "he_geo = psi4.geometry(\"\"\"\n",
    "0 1\n",
    "He 0.0 0.0 0.0\n",
    "\"\"\")\n",
    "\n",
    "#Request the HF calculation using the correlation consistent basis set cc-pvdz. \n",
    "e = psi4.energy(\"HF/cc-pvdz\", molecule=he_geo)\n",
    "\n",
    "\n",
    "#Print the energy. The units are given in atomic units or hartrees. \n",
    "print(f\"The HF energy of He is {e}\")\n"
   ]
  },
  {
   "cell_type": "code",
   "execution_count": 20,
   "id": "18076c52-6a78-45a9-ae7b-7b3bc8cce159",
   "metadata": {},
   "outputs": [
    {
     "name": "stdout",
     "output_type": "stream",
     "text": [
      "Optimizer: Optimization complete!\n",
      "The Hartree-Fock ground state energy of the water is: -76.0270534781175 Eh\n",
      "The Hartree-Fock ground state energy of the water is: None Eh\n"
     ]
    },
    {
     "data": {
      "text/plain": [
       "{'q': QCAspect(lbl='normal mode', units='a0 u^1/2', data=array([[-5.28918462e-18,  8.17118131e-18,  2.81797636e-17,\n",
       "         -2.78269472e-09,  1.00000000e+00,  6.93802272e-19,\n",
       "         -1.33032121e-18, -1.81828889e-18, -7.82527511e-18],\n",
       "        [ 7.31252106e-01,  2.50750877e-01, -1.19678934e-01,\n",
       "          8.72672895e-14,  3.46465482e-18, -5.61189292e-01,\n",
       "         -7.35429948e-16,  7.32748174e-15, -2.70440171e-01],\n",
       "        [ 3.82154312e-01, -1.63799720e-01,  8.07079843e-01,\n",
       "          9.01970634e-14, -1.95586519e-17,  2.52655866e-01,\n",
       "         -2.69990833e-01,  1.97534360e-01,  6.03469750e-15],\n",
       "        [ 2.20673062e-01,  7.16708656e-01, -1.59977955e-01,\n",
       "          3.42837126e-14, -6.26271321e-19,  6.41902762e-01,\n",
       "         -3.87375133e-16,  1.08829762e-16, -2.03242353e-17],\n",
       "        [-8.31514048e-02,  3.08809987e-01,  1.86486902e-01,\n",
       "          7.88432775e-15, -2.22263664e-18, -2.69735126e-01,\n",
       "          4.17526214e-01,  5.70676669e-01,  5.38690851e-01],\n",
       "        [-2.49253923e-01,  2.77092700e-01,  4.82827402e-01,\n",
       "          4.49486395e-15, -2.03738431e-17, -1.03363583e-01,\n",
       "          5.37795812e-01, -3.93469475e-01, -4.16224968e-01],\n",
       "        [-1.21388020e-13, -2.32206022e-14, -5.88433741e-14,\n",
       "          1.00000000e+00,  2.78269472e-09, -4.70677897e-16,\n",
       "          3.86274520e-17,  5.78556845e-18, -3.14768992e-18],\n",
       "        [-8.31514048e-02,  3.08809987e-01,  1.86486902e-01,\n",
       "          7.92319203e-15, -5.40883458e-18, -2.69735126e-01,\n",
       "         -4.17526214e-01, -5.70676669e-01,  5.38690851e-01],\n",
       "        [ 4.41107706e-01, -3.59325439e-01, -7.76473048e-02,\n",
       "          4.07453171e-14,  1.05547693e-17,  2.30204972e-01,\n",
       "          5.37795812e-01, -3.93469475e-01,  4.16224968e-01]]), comment='normalized mass-weighted', doi=None, glossary=''),\n",
       " 'omega': QCAspect(lbl='frequency', units='cm^-1', data=array([0.00000000e+00+7.71741291e-05j, 0.00000000e+00+4.46786441e-05j,\n",
       "        0.00000000e+00+2.56721591e-05j, 0.00000000e+00+6.20849288e-11j,\n",
       "        0.00000000e+00+5.44906547e-15j, 9.20519909e-05+0.00000000e+00j,\n",
       "        1.77544821e+03+0.00000000e+00j, 4.11554651e+03+0.00000000e+00j,\n",
       "        4.21390977e+03+0.00000000e+00j]), comment='', doi=None, glossary=''),\n",
       " 'degeneracy': QCAspect(lbl='degeneracy', units='', data=array([6, 6, 6, 6, 6, 6, 1, 1, 1]), comment='', doi=None, glossary=''),\n",
       " 'TRV': QCAspect(lbl='translation/rotation/vibration', units='', data=['TR', 'TR', 'TR', 'TR', 'TR', 'TR', 'V', 'V', 'V'], comment='', doi=None, glossary=''),\n",
       " 'gamma': QCAspect(lbl='irreducible representation', units='', data=[None, None, None, None, None, None, 'A', 'A', 'A'], comment='', doi=None, glossary=''),\n",
       " 'w': QCAspect(lbl='normal mode', units='a0', data=array([[-1.32250634e-18,  2.04312004e-18,  7.04606073e-18,\n",
       "         -6.95784260e-10,  2.50039739e-01,  1.73478139e-19,\n",
       "         -3.32633168e-19, -4.54644479e-19, -1.95662975e-18],\n",
       "        [ 1.82842086e-01,  6.26976838e-02, -2.99244895e-02,\n",
       "          2.18202903e-14,  8.66301386e-19, -1.40319624e-01,\n",
       "         -1.83886712e-16,  1.83216162e-15, -6.76207899e-02],\n",
       "        [ 9.55537644e-02, -4.09564393e-02,  2.01802033e-01,\n",
       "          2.25528502e-14, -4.89044022e-18,  6.31740068e-02,\n",
       "         -6.75084375e-02,  4.93914398e-02,  1.50891419e-15],\n",
       "        [ 2.19814709e-01,  7.13920872e-01, -1.59355689e-01,\n",
       "          3.41503591e-14, -6.23835312e-19,  6.39405951e-01,\n",
       "         -3.85868359e-16,  1.08406446e-16, -2.02451801e-17],\n",
       "        [-8.28279705e-02,  3.07608808e-01,  1.85761523e-01,\n",
       "          7.85366005e-15, -2.21399125e-18, -2.68685937e-01,\n",
       "          4.15902161e-01,  5.68456906e-01,  5.36595503e-01],\n",
       "        [-2.48284399e-01,  2.76014891e-01,  4.80949347e-01,\n",
       "          4.47738026e-15, -2.02945949e-17, -1.02961529e-01,\n",
       "          5.35703946e-01, -3.91938996e-01, -4.14605977e-01],\n",
       "        [-1.20915857e-13, -2.31302809e-14, -5.86144909e-14,\n",
       "          9.96110297e-01,  2.77187086e-09, -4.68847100e-16,\n",
       "          3.84772027e-17,  5.76306431e-18, -3.13544634e-18],\n",
       "        [-8.28279705e-02,  3.07608808e-01,  1.85761523e-01,\n",
       "          7.89237316e-15, -5.38779582e-18, -2.68685937e-01,\n",
       "         -4.15902161e-01, -5.68456906e-01,  5.36595503e-01],\n",
       "        [ 4.39391928e-01, -3.57927770e-01, -7.73452799e-02,\n",
       "          4.05868299e-14,  1.05137143e-17,  2.29309543e-01,\n",
       "          5.35703946e-01, -3.91938996e-01,  4.14605977e-01]]), comment='un-mass-weighted', doi=None, glossary=''),\n",
       " 'mu': QCAspect(lbl='reduced mass', units='u', data=array([ 2.7830996 ,  1.10031058,  2.67864539,  1.00782503, 15.99491462,\n",
       "         1.5622834 ,  1.08170784,  1.04607065,  1.08197207]), comment='', doi=None, glossary=''),\n",
       " 'x': QCAspect(lbl='normal mode', units='a0', data=array([[-2.20628767e-18,  2.14314486e-18,  1.15319830e-17,\n",
       "         -6.98501223e-10,  1.00000000e+00,  2.16832643e-19,\n",
       "         -3.45955740e-19, -4.64999441e-19, -2.03524491e-18],\n",
       "        [ 3.05028586e-01,  6.57671680e-02, -4.89761184e-02,\n",
       "          2.19054962e-14,  3.46465482e-18, -1.75387373e-01,\n",
       "         -1.91251714e-16,  1.87389085e-15, -7.03377166e-02],\n",
       "        [ 1.59408757e-01, -4.29615396e-02,  3.30280665e-01,\n",
       "          2.26409166e-14, -1.95586519e-17,  7.89620350e-02,\n",
       "         -7.02122749e-02,  5.05163769e-02,  1.56954065e-15],\n",
       "        [ 3.66708625e-01,  7.48872224e-01, -2.60810567e-01,\n",
       "          3.42837126e-14, -2.49494466e-18,  7.99202040e-01,\n",
       "         -4.01323099e-16,  1.10875506e-16, -2.10586085e-17],\n",
       "        [-1.38178793e-01,  3.22668382e-01,  3.04027855e-01,\n",
       "          7.88432775e-15, -8.85455750e-18, -3.35834141e-01,\n",
       "          4.32559810e-01,  5.81404054e-01,  5.58155303e-01],\n",
       "        [-4.14203540e-01,  2.89527724e-01,  7.87149006e-01,\n",
       "          4.49486395e-15, -8.11654778e-17, -1.28692991e-01,\n",
       "          5.57159877e-01, -4.00865780e-01, -4.31264375e-01],\n",
       "        [-2.01719383e-13, -2.42626678e-14, -9.59318035e-14,\n",
       "          1.00000000e+00,  1.10857213e-08, -5.86018253e-16,\n",
       "          4.00182857e-17,  5.89432359e-18, -3.26142502e-18],\n",
       "        [-1.38178793e-01,  3.22668382e-01,  3.04027855e-01,\n",
       "          7.92319203e-15, -2.15477581e-17, -3.35834141e-01,\n",
       "         -4.32559810e-01, -5.81404054e-01,  5.58155303e-01],\n",
       "        [ 7.33021053e-01, -3.75450804e-01, -1.26587676e-01,\n",
       "          4.07453171e-14,  4.20481736e-17,  2.86617061e-01,\n",
       "          5.57159877e-01, -4.00865780e-01,  4.31264375e-01]]), comment='normalized un-mass-weighted', doi=None, glossary=''),\n",
       " 'IR_intensity': QCAspect(lbl='infrared intensity', units='km/mol', data=array([ 43.60779003,  98.86489229,  27.89130274, 130.86459113,\n",
       "         32.98262492,  62.61433576,  80.71574144,  21.18884391,\n",
       "         60.52691149]), comment='', doi=None, glossary=''),\n",
       " 'k': QCAspect(lbl='force constant', units='mDyne/A', data=array([-9.76612898e-15, -1.29409300e-15, -1.04013629e-15, -2.28879949e-27,\n",
       "        -2.79818363e-34,  7.79967351e-15,  2.00898285e+00,  1.04391774e+01,\n",
       "         1.13197478e+01]), comment='', doi=None, glossary=''),\n",
       " 'Qtp0': QCAspect(lbl='Turning point v=0', units='a0 u^1/2', data=array([0.00000000e+00, 0.00000000e+00, 0.00000000e+00, 0.00000000e+00,\n",
       "        0.00000000e+00, 1.14365628e+03, 2.60410271e-01, 1.71040263e-01,\n",
       "        1.69032221e-01]), comment='', doi=None, glossary=''),\n",
       " 'Xtp0': QCAspect(lbl='Turning point v=0', units='a0', data=array([0.00000000e+00, 0.00000000e+00, 0.00000000e+00, 0.00000000e+00,\n",
       "        0.00000000e+00, 9.14988448e+02, 2.50382009e-01, 1.67231409e-01,\n",
       "        1.62503033e-01]), comment='', doi=None, glossary=''),\n",
       " 'DQ0': QCAspect(lbl='RMS deviation v=0', units='a0 u^1/2', data=array([0.00000000e+00, 0.00000000e+00, 0.00000000e+00, 0.00000000e+00,\n",
       "        0.00000000e+00, 8.08687113e+02, 1.84137868e-01, 1.20943730e-01,\n",
       "        1.19523829e-01]), comment='', doi=None, glossary=''),\n",
       " 'theta_vib': QCAspect(lbl='char temp', units='K', data=array([0.00000000e+00, 0.00000000e+00, 0.00000000e+00, 0.00000000e+00,\n",
       "        0.00000000e+00, 1.32442320e-04, 2.55447468e+03, 5.92135511e+03,\n",
       "        6.06287795e+03]), comment='', doi=None, glossary='')}"
      ]
     },
     "execution_count": 20,
     "metadata": {},
     "output_type": "execute_result"
    }
   ],
   "source": [
    "# ==> Set Basic Psi4 Options <==\n",
    "# Memory specification\n",
    "psi4.set_memory('500 MB')\n",
    "numpy_memory = 2 # No NumPy array can exceed 2 MB in size\n",
    "\n",
    "# set output file\n",
    "psi4.core.set_output_file('out_H2O.dat', False)\n",
    "\n",
    "# specify the basis\n",
    "basis = 'cc-pvdz'\n",
    "#basis = 'sto-3g'\n",
    "\n",
    "\n",
    "# Set computation options\n",
    "psi4.set_options({'basis': basis,\n",
    "                  'scf_type': 'pk',\n",
    "                  'e_convergence': 1e-8})\n",
    "\n",
    "\n",
    "# ==> Define Molecule <==\n",
    "# Define our model of water -- \n",
    "# we will distort the molecule later, which may require C1 symmetry\n",
    "mol = psi4.geometry(\"\"\"\n",
    "O\n",
    "H 1 1.1\n",
    "H 1 1.1 2 104\n",
    "symmetry c1\n",
    "\"\"\")\n",
    "\n",
    "# compute energy\n",
    "\n",
    "SCF_E_psi = psi4.optimize('scf')\n",
    "psi4.core.clean()\n",
    "#e, wfn = psi4.frequencies('scf', return_wfn=True)\n",
    "scf_e, scf_wfn = psi4.frequency('scf/cc-pvdz', molecule=mol, return_wfn=True)\n",
    "print(f\"The Hartree-Fock ground state energy of the water is: {SCF_E_psi} Eh\")\n",
    "print(f\"The Hartree-Fock ground state energy of the water is: {scf_wfn.frequencies().print_out()} Eh\")\n",
    "psi4.vibanal_wfn(scf_wfn)\n",
    "#scf_wfn.frequencies().print_out()"
   ]
  },
  {
   "cell_type": "code",
   "execution_count": 48,
   "id": "6eaff4fb-14f5-430a-8fb3-1ff9cbda8c66",
   "metadata": {},
   "outputs": [
    {
     "name": "stdout",
     "output_type": "stream",
     "text": [
      "1060.1674976555682\n",
      "1135.4462342939867\n",
      "1175.3183135437678\n",
      "2178.8815224003138\n",
      "2983.264104649782\n",
      "3236.623036411969\n"
     ]
    }
   ],
   "source": [
    "for i in np.arange(6):\n",
    "    print(scf_wfn.frequencies().get(0, i))"
   ]
  },
  {
   "cell_type": "code",
   "execution_count": 24,
   "id": "197793c2-1dfb-4842-9c56-a20dcf47013a",
   "metadata": {},
   "outputs": [],
   "source": [
    "# ==> Scanning a Bond Angle: Flexible Water <==\n",
    "# Import a library to visualize energy profile\n",
    "import matplotlib.pyplot as plt\n",
    "%matplotlib inline\n",
    "\n",
    "# Define flexible water molecule using Z-matrix\n",
    "flexible_water = \"\"\"\n",
    "O\n",
    "H 1 0.96\n",
    "H 1 0.96 2 {}\n",
    "\"\"\"\n",
    "\n",
    "# Scan over bond angle range between 90 & 180, in 5 degree increments\n",
    "scan = {}\n",
    "for angle in range(30, 331, 5):\n",
    "    # Make molecule\n",
    "    mol = psi4.geometry(flexible_water.format(angle))\n",
    "    # Call Psi4\n",
    "    e = psi4.energy('scf/cc-pvdz', molecule=mol)\n",
    "    #e = psi4.energy('scf/sto-3g', molecule=mol)\n",
    "\n",
    "    # Save energy in dictionary\n",
    "    scan[angle] = e"
   ]
  },
  {
   "cell_type": "code",
   "execution_count": 25,
   "id": "b61dc460-2dc7-4140-a0a9-6ebc13945d73",
   "metadata": {},
   "outputs": [
    {
     "data": {
      "image/png": "[encoded data removed]",
      "text/plain": [
       "<Figure size 432x288 with 1 Axes>"
      ]
     },
     "metadata": {
      "needs_background": "light"
     },
     "output_type": "display_data"
    }
   ],
   "source": [
    "# Visualize energy profile\n",
    "x = list(scan.keys())\n",
    "y = list(scan.values())\n",
    "plt.plot(x,y,'ro-')\n",
    "plt.xlabel('H-O-H Bond Angle ($^{\\circ}$)')\n",
    "plt.ylabel('Molecular Energy ($E_h$)')\n",
    "plt.show()"
   ]
  },
  {
   "cell_type": "code",
   "execution_count": 22,
   "id": "7d2d5b7b-bb71-42c7-9b6e-1cf8e9cff3ea",
   "metadata": {
    "scrolled": true
   },
   "outputs": [
    {
     "name": "stdout",
     "output_type": "stream",
     "text": [
      "The Hartree-Fock ground state energy of the H atom in SI units is: -2.179849658362048e-18 J\n",
      "The Hartree-Fock ground state energy of the H atom in atomic units is: -0.49999480092533594 Eh\n"
     ]
    }
   ],
   "source": [
    "# ==> Compute H atom energy with Hartree-Fock using Psi4 <==\n",
    "\n",
    "# the H atom has a charge of 0, spin multiplicity of 2 (m_s=1/2)\n",
    "# and we place it at the xyz origin (0,0,0)\n",
    "\n",
    "h_atom = psi4.geometry(\"\"\"\n",
    "0 2\n",
    "H 0 0 0\n",
    "\"\"\")\n",
    "\n",
    "# specify the basis\n",
    "basis = 'd-aug-cc-pv5z'\n",
    "\n",
    "# set computation options\n",
    "psi4.set_options({'basis': basis,\n",
    "                  'reference': 'rohf',\n",
    "                  'scf_type': 'pk'})\n",
    "\n",
    "# compute energy\n",
    "e = psi4.energy('scf')\n",
    "psi4.core.clean()\n",
    "\n",
    "print(f\"The Hartree-Fock ground state energy of the H atom in SI units is: {e * psi4.constants.hartree2J} J\")\n",
    "print(f\"The Hartree-Fock ground state energy of the H atom in atomic units is: {e} Eh\")"
   ]
  },
  {
   "cell_type": "code",
   "execution_count": 50,
   "id": "578329fa-245e-42ff-9303-74f6ad06db86",
   "metadata": {},
   "outputs": [
    {
     "name": "stdout",
     "output_type": "stream",
     "text": [
      "The Hartree-Fock ground state energy of the water is: -75.98979578705956 Eh\n"
     ]
    }
   ],
   "source": [
    "# ==> Set Basic Psi4 Options <==\n",
    "# Memory specification\n",
    "psi4.set_memory('500 MB')\n",
    "numpy_memory = 2 # No NumPy array can exceed 2 MB in size\n",
    "\n",
    "# set output file\n",
    "psi4.core.set_output_file('outputh2o.dat', False)\n",
    "\n",
    "# specify the basis\n",
    "basis = 'cc-pvdz'\n",
    "#basis = 'sto-3g'\n",
    "\n",
    "\n",
    "# Set computation options\n",
    "psi4.set_options({'basis': basis,\n",
    "                  'scf_type': 'pk',\n",
    "                  'e_convergence': 1e-8})\n",
    "\n",
    "\n",
    "# ==> Define Molecule <==\n",
    "# Define our model of water -- \n",
    "# we will distort the molecule later, which may require C1 symmetry\n",
    "mol = psi4.geometry(\"\"\"\n",
    "O\n",
    "H 1 1.1\n",
    "H 1 1.1 2 104\n",
    "symmetry c1\n",
    "\"\"\")\n",
    "\n",
    "# compute energy\n",
    "\n",
    "SCF_E_psi = psi4.energy('scf')\n",
    "psi4.core.clean()\n",
    "\n",
    "print(f\"The Hartree-Fock ground state energy of the water is: {SCF_E_psi} Eh\")"
   ]
  },
  {
   "cell_type": "code",
   "execution_count": 64,
   "id": "9d44b160-89a8-4b23-adfc-115f9cceb3c3",
   "metadata": {},
   "outputs": [
    {
     "name": "stdout",
     "output_type": "stream",
     "text": [
      "The omp2 ground state energy of the water is: -76.22932292357125 Eh\n"
     ]
    }
   ],
   "source": [
    "psi4.set_memory('500 MB')\n",
    "psi4.core.set_output_file('outputh2o.dat', False)\n",
    "basis = 'cc-pvdz'\n",
    "mol = psi4.geometry(\"\"\"\n",
    "0 1\n",
    "o\n",
    "h 1 0.958\n",
    "h 1 0.958 2 104.4776 \n",
    "\"\"\")\n",
    "\n",
    "psi4.set_options({'basis': basis,\n",
    "                'guess': 'sad', 'freeze_core': 'true',  'scf_type': 'cd',  'mp2_type': 'cd'})\n",
    "emp=psi4.energy('omp2', molecule=mol)\n",
    "print(f\"The omp2 ground state energy of the water is: {emp} Eh\")"
   ]
  },
  {
   "cell_type": "code",
   "execution_count": 25,
   "id": "70ccbaf8-adbc-4e1a-9ced-cfc59f354500",
   "metadata": {},
   "outputs": [
    {
     "name": "stdout",
     "output_type": "stream",
     "text": [
      "Number of occupied orbitals: 5\n",
      "Number of basis functions: 7\n"
     ]
    }
   ],
   "source": [
    "# ==> Compute static 1e- and 2e- quantities with Psi4 <==\n",
    "wfn = psi4.core.Wavefunction.build(mol, psi4.core.get_global_option('basis'))\n",
    "\n",
    "# number of spin alpha orbitals (doubly occupied for closed-shell systems)\n",
    "ndocc = wfn.nalpha()\n",
    "nbf = wfn.basisset().nbf()\n",
    "\n",
    "print(F'Number of occupied orbitals: {ndocc}')\n",
    "print(F'Number of basis functions: {nbf}') "
   ]
  },
  {
   "cell_type": "code",
   "execution_count": 26,
   "id": "018ee460-acfa-4309-99a3-8b125d29426d",
   "metadata": {},
   "outputs": [
    {
     "name": "stdout",
     "output_type": "stream",
     "text": [
      "Shape of S is (7, 7)\n"
     ]
    }
   ],
   "source": [
    "# Construct a molecular integrals object\n",
    "mints = psi4.core.MintsHelper(wfn.basisset())\n",
    "\n",
    "# Overlap matrix as a psi4 Matrix object\n",
    "S_matrix = mints.ao_overlap()\n",
    "\n",
    "# Overlap matrix converted into an ndarray\n",
    "S = np.asarray(S_matrix) \n",
    "\n",
    "print(F'Shape of S is {S.shape}')"
   ]
  },
  {
   "cell_type": "code",
   "execution_count": 27,
   "id": "2bc1b1d1-9c1b-46be-a65f-5a594bf69f2d",
   "metadata": {},
   "outputs": [
    {
     "name": "stdout",
     "output_type": "stream",
     "text": [
      "[[ 1.00000000e+00  2.36703937e-01  0.00000000e+00  0.00000000e+00\n",
      "   0.00000000e+00  3.84055925e-02  3.84055925e-02]\n",
      " [ 2.36703937e-01  1.00000000e+00 -9.64852854e-18  0.00000000e+00\n",
      "   0.00000000e+00  3.86138794e-01  3.86138794e-01]\n",
      " [ 0.00000000e+00 -9.64852854e-18  1.00000000e+00  0.00000000e+00\n",
      "   0.00000000e+00  2.09726923e-01  2.09726923e-01]\n",
      " [ 0.00000000e+00  0.00000000e+00  0.00000000e+00  1.00000000e+00\n",
      "   0.00000000e+00  0.00000000e+00  0.00000000e+00]\n",
      " [ 0.00000000e+00  0.00000000e+00  0.00000000e+00  0.00000000e+00\n",
      "   1.00000000e+00 -2.68438220e-01  2.68438220e-01]\n",
      " [ 3.84055925e-02  3.86138794e-01  2.09726923e-01  0.00000000e+00\n",
      "  -2.68438220e-01  1.00000000e+00  1.81759851e-01]\n",
      " [ 3.84055925e-02  3.86138794e-01  2.09726923e-01  0.00000000e+00\n",
      "   2.68438220e-01  1.81759851e-01  1.00000000e+00]]\n"
     ]
    }
   ],
   "source": [
    "print(S) #the full matrix may be somewhat hard to read based on the basis set"
   ]
  },
  {
   "cell_type": "code",
   "execution_count": 28,
   "id": "3c1a7a2a-0b0e-46f0-b0e0-0f7b371a5601",
   "metadata": {},
   "outputs": [
    {
     "name": "stdout",
     "output_type": "stream",
     "text": [
      "Here is a peak at the first 4 x 4 elements of the matrix:\n",
      "[[ 1.00000000e+00  2.36703937e-01  0.00000000e+00  0.00000000e+00]\n",
      " [ 2.36703937e-01  1.00000000e+00 -9.64852854e-18  0.00000000e+00]\n",
      " [ 0.00000000e+00 -9.64852854e-18  1.00000000e+00  0.00000000e+00]\n",
      " [ 0.00000000e+00  0.00000000e+00  0.00000000e+00  1.00000000e+00]]\n"
     ]
    }
   ],
   "source": [
    "# Look at the first few elements\n",
    "def peak(S,nrows=4,ncols=4):\n",
    "    print(F'Here is a peak at the first {nrows} x {ncols} elements of the matrix:\\n{S[:nrows,:ncols]}')\n",
    "    \n",
    "peak(S)"
   ]
  },
  {
   "cell_type": "code",
   "execution_count": 29,
   "id": "b21ad0d7-fee9-4ec9-864b-54c06fcaaeb8",
   "metadata": {},
   "outputs": [
    {
     "name": "stdout",
     "output_type": "stream",
     "text": [
      "Q:(T/F) The AO basis is orthonormal? A: False\n"
     ]
    },
    {
     "data": {
      "text/plain": [
       "False"
      ]
     },
     "execution_count": 29,
     "metadata": {},
     "output_type": "execute_result"
    }
   ],
   "source": [
    "# example of testing for orthonormality\n",
    "\n",
    "# define a function\n",
    "def isBasisOrthonormal(S):\n",
    "    # get the number of rows of S\n",
    "    size_S = S.shape[0] \n",
    "    \n",
    "    # construct an identity matrix, I -- \"eye\", get it?!? Ha ha! Math is so funny!\n",
    "    identity_matrix = np.eye(size_S) \n",
    "\n",
    "    # are all elements of S numerically close to the identity matrix? \n",
    "    # We won't test for equality because there can be very small numerical \n",
    "    # differences that we don't care about\n",
    "    orthonormal_check = np.allclose(S, identity_matrix)\n",
    "\n",
    "    print(F'Q:(T/F) The AO basis is orthonormal? A: {orthonormal_check}')\n",
    "    return orthonormal_check\n",
    "\n",
    "# use the function\n",
    "isBasisOrthonormal(S)"
   ]
  },
  {
   "cell_type": "code",
   "execution_count": 6,
   "id": "3d2bf7a8-0b7e-4509-8b77-e22df8ec3d4d",
   "metadata": {},
   "outputs": [
    {
     "name": "stdout",
     "output_type": "stream",
     "text": [
      "Available color schemes: ['emory', 'national', 'bright', 'electron', 'wow']\n"
     ]
    }
   ],
   "source": [
    "import fortecubeview\n",
    "\n",
    "# shows the color schemes currently available\n",
    "print(f'Available color schemes: {fortecubeview.colorschemes}')"
   ]
  },
  {
   "cell_type": "code",
   "execution_count": 7,
   "id": "d1cf6537-e136-4175-972b-3dd728ca3b50",
   "metadata": {},
   "outputs": [
    {
     "data": {
      "application/vnd.jupyter.widget-view+json": {
       "model_id": "71af24c51d0947a2a3f1caa7cebe9063",
       "version_major": 2,
       "version_minor": 0
      },
      "text/plain": [
       "Renderer(camera=OrthographicCamera(bottom=-5.0, children=(DirectionalLight(color='white', intensity=0.5, posit…"
      ]
     },
     "metadata": {},
     "output_type": "display_data"
    },
    {
     "data": {
      "text/plain": [
       "<fortecubeview.mol_viewer.MolViewer at 0x7f15a5d466d0>"
      ]
     },
     "execution_count": 7,
     "metadata": {},
     "output_type": "execute_result"
    }
   ],
   "source": [
    "xyz = \"\"\"\n",
    "O                     0.000000000000     0.000000000000    -0.065775570547\n",
    "H                     0.000000000000    -0.759061990794     0.521953018286\n",
    "H                     0.000000000000     0.759061990794     0.521953018286\n",
    "\"\"\"\n",
    "\n",
    "fortecubeview.geom(xyz = xyz)"
   ]
  },
  {
   "cell_type": "code",
   "execution_count": 8,
   "id": "2c282586-6639-4d07-8588-638a77bbc724",
   "metadata": {},
   "outputs": [
    {
     "data": {
      "application/vnd.jupyter.widget-view+json": {
       "model_id": "6e6a73e410c247fdab0fdff920e47ccb",
       "version_major": 2,
       "version_minor": 0
      },
      "text/plain": [
       "Renderer(camera=OrthographicCamera(bottom=-5.0, children=(DirectionalLight(color='white', intensity=0.5, posit…"
      ]
     },
     "metadata": {},
     "output_type": "display_data"
    },
    {
     "data": {
      "text/plain": [
       "<fortecubeview.mol_viewer.MolViewer at 0x7f15a5db6350>"
      ]
     },
     "execution_count": 8,
     "metadata": {},
     "output_type": "execute_result"
    }
   ],
   "source": [
    "import psi4\n",
    "\n",
    "h2o = psi4.geometry(\"\"\"\n",
    "O\n",
    "H 1 0.96\n",
    "H 1 0.96 2 104.5\n",
    "\"\"\")\n",
    "fortecubeview.geom(molecule = h2o)"
   ]
  },
  {
   "cell_type": "code",
   "execution_count": 10,
   "id": "106440aa-6c72-4c20-8564-6bf6af09e706",
   "metadata": {},
   "outputs": [
    {
     "name": "stdout",
     "output_type": "stream",
     "text": [
      "Available color schemes: ['emory', 'national', 'bright', 'electron', 'wow']\n"
     ]
    }
   ],
   "source": [
    "import fortecubeview\n",
    "\n",
    "# shows the color schemes currently available\n",
    "print(f'Available color schemes: {fortecubeview.colorschemes}')"
   ]
  },
  {
   "cell_type": "code",
   "execution_count": 11,
   "id": "73d7df5b-1a97-4d93-83d6-eee115efd7dd",
   "metadata": {},
   "outputs": [
    {
     "name": "stdout",
     "output_type": "stream",
     "text": [
      "CubeViewer: listing cube files from the directory .\n",
      "load_cubes: no cube files found in directory .\n",
      "CubeViewer: no cube files provided. The widget will not be displayed\n"
     ]
    },
    {
     "data": {
      "text/plain": [
       "<fortecubeview.cube_viewer.CubeViewer at 0x7f15a5cd8f50>"
      ]
     },
     "execution_count": 11,
     "metadata": {},
     "output_type": "execute_result"
    }
   ],
   "source": [
    "fortecubeview.plot(width=500,height=300,colorscheme='emory',sumlevel=0.75)"
   ]
  },
  {
   "cell_type": "code",
   "execution_count": null,
   "id": "70f715f9-5171-436a-9886-aacec9778ffd",
   "metadata": {},
   "outputs": [],
   "source": []
  }
 ],
 "metadata": {
  "kernelspec": {
   "display_name": "psi4",
   "language": "python",
   "name": "p4env"
  },
  "language_info": {
   "codemirror_mode": {
    "name": "ipython",
    "version": 3
   },
   "file_extension": ".py",
   "mimetype": "text/x-python",
   "name": "python",
   "nbconvert_exporter": "python",
   "pygments_lexer": "ipython3",
   "version": "3.7.10"
  }
 },
 "nbformat": 4,
 "nbformat_minor": 5
}
