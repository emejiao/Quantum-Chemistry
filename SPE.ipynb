{
 "cells": [
  {
   "cell_type": "markdown",
   "id": "5f058c5c-f433-41a4-a278-9d99f00f254b",
   "metadata": {
    "tags": []
   },
   "source": [
    "<font color=magenta size=6>**Energía (Single Point Energy, SPE)**\n",
    "    \n",
    "<font color=magenta size=5>**Enrique Mejía Ospino**\n",
    "    \n",
    "<font color=magenta size=5>**Química Cuántica Avanzada**\n",
    "    \n",
    "<font color=magenta size=5>**Universidad Industrial de Santander**"
   ]
  },
  {
   "cell_type": "markdown",
   "id": "d2d763cc-394a-46a1-8831-0cd98da2866e",
   "metadata": {},
   "source": [
    "**<font color=blue> Vamos  atilizar el modulo *pyscf* para desarrollar algunos ejercicios de cálculo mecánico-cuántico. En este Cuaderno de Jupyter realizaremos SPE sobre algunas moleculas sencillas. En el primer se muestra una forma sencilla de calcular la spe de una molécula de agua usando el método de cálculo RHF y la bas ccpdvz.** "
   ]
  },
  {
   "cell_type": "code",
   "execution_count": 2,
   "id": "6dd00d55-6dc7-4d43-9d54-7692a2dbff6f",
   "metadata": {},
   "outputs": [],
   "source": [
    "import pyscf\n",
    "from pyscf import gto, scf, dft, solvent, lo\n",
    "from pyscf.tools import molden\n",
    "import psi4\n",
    "import numpy as np  \n",
    "import matplotlib.pyplot as plt\n",
    "import pandas as pd\n",
    "%matplotlib inline"
   ]
  },
  {
   "cell_type": "code",
   "execution_count": 3,
   "id": "fa3603d6-f36d-4ca6-961f-3d9d7caf720e",
   "metadata": {},
   "outputs": [
    {
     "name": "stdout",
     "output_type": "stream",
     "text": [
      "overwrite output file: ./Data/out_h2o\n"
     ]
    },
    {
     "data": {
      "text/plain": [
       "-75.25017799679806"
      ]
     },
     "execution_count": 3,
     "metadata": {},
     "output_type": "execute_result"
    }
   ],
   "source": [
    "mol = gto.Mole()\n",
    "mol.verbose = 4 # Esta función permite que en el archivo de salida se almacene con más o menos detalles información\n",
    "# del cálculo y los resultados, con 4 se almacena suficiente detalle\n",
    "mol.output = './Data/out_h2o' # Este es el nombre del archivo de salida \n",
    "mol.atom = '''\n",
    "O 0 0      0\n",
    "H 0 -2.757 2.587\n",
    "H 0  2.757 2.587''' # La molécula\n",
    "mol.basis = 'ccpvdz' # La base\n",
    "mol.symmetry = 1 # Algunas características\n",
    "mol.build()\n",
    "\n",
    "mf = scf.RHF(mol) # El cálculo\n",
    "\n",
    "mf.kernel()"
   ]
  },
  {
   "cell_type": "markdown",
   "id": "a6566af8-0126-4d94-98a4-3b6095da63ed",
   "metadata": {},
   "source": [
    "**<font color=blue> En este ejemplo se realiza el cálculos utilizando diferentes métodos HF y post-HF.** "
   ]
  },
  {
   "cell_type": "code",
   "execution_count": 4,
   "id": "ac4502a6-822c-4a91-b857-79d98ca3a4f1",
   "metadata": {},
   "outputs": [
    {
     "name": "stdout",
     "output_type": "stream",
     "text": [
      "overwrite output file: ./Data/out_h2o_MTS\n",
      "E(RHF) = -76.026765673118\n",
      "E(CCSD) = -76.240108919632\n"
     ]
    },
    {
     "data": {
      "text/plain": [
       "array([-75.69026295, -75.62543282, -75.59436658, -75.52958448,\n",
       "       -75.474847  ])"
      ]
     },
     "execution_count": 4,
     "metadata": {},
     "output_type": "execute_result"
    }
   ],
   "source": [
    "mol = gto.Mole()\n",
    "mol.output = './Data/out_h2o_MTS'\n",
    "mol.build(\n",
    "    atom = '''\n",
    "      o     0    0       0\n",
    "      h     0    -.757   .587\n",
    "      h     0    .757    .587''',  # in Angstrom\n",
    "    basis = 'ccpvdz',\n",
    "    symmetry = True,\n",
    ")\n",
    "mol.verbose = 4\n",
    "#mol.output = 'out_h2o_MTS'\n",
    "\n",
    "# Después de inicializar la molécula, aplicamos (.apply) el método de cálculo SCF o\n",
    "# post-SCF\n",
    "\n",
    "mf = mol.apply('RHF').run()\n",
    "ccobj = mol.apply('CCSD').run()\n",
    "tdobj = mol.apply('TDHF').run(nstates=5)\n",
    "print('E(RHF) = %.12f' % mf.e_tot)\n",
    "print('E(CCSD) = %.12f' % ccobj.e_tot)\n",
    "tdobj.e_tot\n",
    "\n",
    "# O\n",
    "\n",
    "#mf = mol.RHF().run()\n",
    "#ccobj = mol.CCSD(frozen=2).run()\n",
    "#tdobj = mol.TDHF().run(nstates=5)\n",
    "#print('E(RHF) = %.12f' % mf.e_tot)\n",
    "#print('E(CCSD) = %.12f' % ccobj.e_tot)\n",
    "#print('E(TDHF) =')\n",
    "#tdobj.e_tot"
   ]
  },
  {
   "cell_type": "markdown",
   "id": "98efb7c2-03aa-4b84-a580-fbc3f846626b",
   "metadata": {},
   "source": [
    "**<font color=blue> En este ejemplo se realiza el cálculo sobre una molécula que se puede cargar en formato .xyz.** "
   ]
  },
  {
   "cell_type": "code",
   "execution_count": 5,
   "id": "d554b3df-1fcc-47d9-9431-28474c605362",
   "metadata": {},
   "outputs": [
    {
     "name": "stdout",
     "output_type": "stream",
     "text": [
      "overwrite output file: ./Data/out_glycine\n",
      "E(RHF/631g) = -282.761598059558\n",
      "E(DFT/631g) = -282.125635849190\n"
     ]
    }
   ],
   "source": [
    "mol = gto.Mole()\n",
    "mol.output = './Data/out_glycine'\n",
    "mol.verbose = 4\n",
    "mol.atom = open('/home/emejia/pyscf/examples/scf/glycine.xyz').read()\n",
    "mol.basis = '6-31g*'\n",
    "mol.build()\n",
    "\n",
    "mf = scf.RHF(mol)\n",
    "mf.kernel()\n",
    "print('E(RHF/631g) = %.12f' % mf.e_tot)\n",
    "mf = dft.RKS(mol)\n",
    "mf.kernel()\n",
    "print('E(DFT/631g) = %.12f' % mf.e_tot)"
   ]
  },
  {
   "cell_type": "markdown",
   "id": "29821b11-dbb8-4cb3-9ce9-74a840fff81f",
   "metadata": {},
   "source": [
    "**<font color=blue> En este ejemplo se realiza el cálculos incluyendo el efecto del solvente.** "
   ]
  },
  {
   "cell_type": "code",
   "execution_count": 5,
   "id": "98e663b9-485b-4b01-87e3-9f461e2bcba8",
   "metadata": {},
   "outputs": [
    {
     "name": "stdout",
     "output_type": "stream",
     "text": [
      "converged SCF energy = -112.354508567381\n",
      "\n",
      "WARN: ddPCM is an experimental feature. It is still in testing.\n",
      "Features and APIs may be changed in the future.\n",
      "\n",
      "converged SCF energy = -112.893027302141  <S^2> = 0  2S+1 = 1\n",
      "converged SCF energy = -112.892936171586  <S^2> = 9.2370556e-14  2S+1 = 1\n"
     ]
    },
    {
     "data": {
      "text/plain": [
       "<pyscf.solvent._attach_solvent._for_scf.<locals>.SCFWithSolvent at 0x7f5b30eaf310>"
      ]
     },
     "execution_count": 5,
     "metadata": {},
     "output_type": "execute_result"
    }
   ],
   "source": [
    "mol = gto.M(atom='''\n",
    "C        0.000000    0.000000             -0.542500\n",
    "O        0.000000    0.000000              0.677500\n",
    "H        0.000000    0.9353074360871938   -1.082500\n",
    "H        0.000000   -0.9353074360871938   -1.082500\n",
    "            ''',\n",
    "            verbose = 3)\n",
    "mol.output='./Data/ef_solv_out'\n",
    "mf = scf.RHF(mol)\n",
    "solvent.ddCOSMO(mf).run()\n",
    "\n",
    "mf = dft.UKS(mol)\n",
    "mf.xc = 'b3lyp'\n",
    "solvent.ddPCM(mf).run()\n",
    "\n",
    "# Once solvent module is imported, PySCF-1.6.1 and newer supports the .ddCOSMO\n",
    "# and .ddPCM methods to create solvent model.\n",
    "\n",
    "mf = mf.ddCOSMO()\n",
    "# Adjust solvent model by modifying the attribute .with_solvent\n",
    "mf.with_solvent.eps = 32.613  # methanol dielectric constant\n",
    "mf.run()"
   ]
  },
  {
   "cell_type": "code",
   "execution_count": 6,
   "id": "af61db5b-4504-4214-96cb-f1f8ea721401",
   "metadata": {},
   "outputs": [
    {
     "name": "stdout",
     "output_type": "stream",
     "text": [
      "converged SCF energy = -113.816355914777\n",
      "Excited State energies (eV)\n",
      "[ 4.45151654 10.29445097 11.70411689]\n",
      "converged SCF energy = -113.816355914777\n",
      "Excited State energies (eV)\n",
      "[ 4.43194897  9.8880442  11.67397748]\n"
     ]
    }
   ],
   "source": [
    "from pyscf import gto\n",
    "from pyscf import __all__\n",
    "\n",
    "mol = gto.M(atom='''\n",
    "C        0.000000    0.000000             -0.542500\n",
    "O        0.000000    0.000000              0.677500\n",
    "H        0.000000    0.9353074360871938   -1.082500\n",
    "H        0.000000   -0.9353074360871938   -1.082500\n",
    "            ''',\n",
    "            verbose = 3,\n",
    "            basis = '631g')\n",
    "#\n",
    "# Solvent does not respond to the change of electronic structure in vertical\n",
    "# excitation. The calculation can be started with an SCF with fully relaxed\n",
    "# solvent and followed by a regular TDDFT method\n",
    "#\n",
    "mf = mol.RHF().ddCOSMO().run()\n",
    "td = mf.TDA()\n",
    "td.kernel()\n",
    "\n",
    "\n",
    "#\n",
    "# Equilibrium solvation allows the solvent rapidly responds to the electronic\n",
    "# structure of excited states. The system should converge to equilibrium\n",
    "# between solvent and the excited state of the solute.\n",
    "#\n",
    "mf = mol.RHF().ddCOSMO().run()\n",
    "td = mf.TDA().ddCOSMO()\n",
    "td.with_solvent.equilibrium_solvation = True\n",
    "td.kernel()\n",
    "\n",
    "#\n",
    "# Switch off the fast solvent\n",
    "#\n",
    "td.with_solvent.equilibrium_solvation = False\n",
    "#td.kernel()"
   ]
  },
  {
   "cell_type": "code",
   "execution_count": 6,
   "id": "07cb9006-1dce-4012-81db-f66253b67545",
   "metadata": {},
   "outputs": [
    {
     "name": "stdout",
     "output_type": "stream",
     "text": [
      "model name\t: Intel(R) Core(TM) i5-8250U CPU @ 1.60GHz\n",
      "MemTotal:        8277196 kB\n",
      "OMP_NUM_THREADS=None\n",
      "\n",
      "converged SCF energy = -229.412681529859\n",
      "    CPU time for C6H6 3-21g RHF      1.33 sec, wall time      0.19 sec\n",
      "E(MP2) = -229.946761429545  E_corr = -0.534079899685633\n",
      "    CPU time for C6H6 3-21g MP2      0.34 sec, wall time      0.05 sec\n",
      "CASSCF energy = -229.489635419041\n",
      "CASCI E = -229.489635419041  E(CI) = -6.46551128162392  S^2 = 0.0000000\n",
      "    CPU time for C6H6 3-21g CASSCF      6.50 sec, wall time      0.85 sec\n",
      "E(CCSD) = -229.9883806714248  E_corr = -0.5756991415653785\n",
      "    CPU time for C6H6 3-21g CCSD     51.61 sec, wall time      6.95 sec\n",
      "converged SCF energy = -230.81975465152\n",
      "    CPU time for C6H6 3-21g B3LYP     22.77 sec, wall time      4.60 sec\n",
      "converged SCF energy = -230.820000977398\n",
      "    CPU time for C6H6 3-21g density-fit RHF     22.27 sec, wall time      4.28 sec\n",
      "converged SCF energy = -230.708074851859\n",
      "    CPU time for C6H6 6-31g** RHF      6.61 sec, wall time      0.85 sec\n",
      "E(MP2) = -231.51075218688  E_corr = -0.802677335021091\n",
      "    CPU time for C6H6 6-31g** MP2      2.52 sec, wall time      0.33 sec\n",
      "CASSCF energy = -230.783230989119\n",
      "CASCI E = -230.783230989119  E(CI) = -6.43267115387283  S^2 = 0.0000000\n",
      "    CPU time for C6H6 6-31g** CASSCF     25.58 sec, wall time      3.33 sec\n",
      "E(CCSD) = -231.5494019744891  E_corr = -0.8413271226299578\n",
      "    CPU time for C6H6 6-31g** CCSD    528.11 sec, wall time     81.78 sec\n",
      "converged SCF energy = -232.097306980774\n",
      "    CPU time for C6H6 6-31g** B3LYP     47.56 sec, wall time      9.64 sec\n",
      "converged SCF energy = -232.097316119584\n",
      "    CPU time for C6H6 6-31g** density-fit RHF     44.80 sec, wall time      9.06 sec\n",
      "converged SCF energy = -230.773635936466\n",
      "    CPU time for C6H6 cc-pVTZ RHF    475.27 sec, wall time     61.77 sec\n",
      "E(MP2) = -231.818145146411  E_corr = -1.04450920994486\n",
      "    CPU time for C6H6 cc-pVTZ MP2    296.81 sec, wall time     46.41 sec\n",
      "CASSCF energy = -230.846646576254\n",
      "CASCI E = -230.846646576254  E(CI) = -6.43327281638145  S^2 = 0.0000000\n",
      "    CPU time for C6H6 cc-pVTZ CASSCF   3363.11 sec, wall time    449.62 sec\n",
      "E(CCSD) = -231.8447235051264  E_corr = -1.071087568659731\n",
      "    CPU time for C6H6 cc-pVTZ CCSD   8749.16 sec, wall time   1947.47 sec\n",
      "converged SCF energy = -232.176226837229\n",
      "    CPU time for C6H6 cc-pVTZ B3LYP    556.02 sec, wall time     83.49 sec\n",
      "converged SCF energy = -232.176259080886\n",
      "    CPU time for C6H6 cc-pVTZ density-fit RHF    158.69 sec, wall time     30.68 sec\n"
     ]
    }
   ],
   "source": [
    "import os\n",
    "import time\n",
    "import pyscf\n",
    "from pyscf.tools.mo_mapping import mo_comps\n",
    "\n",
    "log = pyscf.lib.logger.Logger(verbose=5)\n",
    "with open('/proc/cpuinfo') as f:\n",
    "    for line in f:\n",
    "        if 'model name' in line:\n",
    "            log.note(line[:-1])\n",
    "            break\n",
    "with open('/proc/meminfo') as f:\n",
    "    log.note(f.readline()[:-1])\n",
    "log.note('OMP_NUM_THREADS=%s\\n', os.environ.get('OMP_NUM_THREADS', None))\n",
    "\n",
    "\n",
    "for bas in ('3-21g', '6-31g**', 'cc-pVTZ'):\n",
    "    mol = pyscf.M(atom = '''\n",
    "c   1.217739890298750 -0.703062453466927  0.000000000000000\n",
    "h   2.172991468538160 -1.254577209307266  0.000000000000000\n",
    "c   1.217739890298750  0.703062453466927  0.000000000000000\n",
    "h   2.172991468538160  1.254577209307266  0.000000000000000\n",
    "c   0.000000000000000  1.406124906933854  0.000000000000000\n",
    "h   0.000000000000000  2.509154418614532  0.000000000000000\n",
    "c  -1.217739890298750  0.703062453466927  0.000000000000000\n",
    "h  -2.172991468538160  1.254577209307266  0.000000000000000\n",
    "c  -1.217739890298750 -0.703062453466927  0.000000000000000\n",
    "h  -2.172991468538160 -1.254577209307266  0.000000000000000\n",
    "c   0.000000000000000 -1.406124906933854  0.000000000000000\n",
    "h   0.000000000000000 -2.509154418614532  0.000000000000000\n",
    "''',\n",
    "                  basis = bas)\n",
    "    cpu0 = time.clock(), time.time()\n",
    "\n",
    "    mf = mol.RHF().run()\n",
    "    cpu0 = log.timer('C6H6 %s RHF'%bas, *cpu0)\n",
    "\n",
    "    mymp2 = mf.MP2().run()\n",
    "    cpu0 = log.timer('C6H6 %s MP2'%bas, *cpu0)\n",
    "\n",
    "    mymc = mf.CASSCF(6, 6)\n",
    "    idx_2pz = mo_comps('2pz', mol, mf.mo_coeff).argsort()[-6:]\n",
    "    mo = mymc.sort_mo(idx_2pz, base=0)\n",
    "    mymc.kernel(mo)\n",
    "    cpu0 = log.timer('C6H6 %s CASSCF'%bas, *cpu0)\n",
    "\n",
    "    mycc = mf.CCSD().run()\n",
    "    cpu0 = log.timer('C6H6 %s CCSD'%bas, *cpu0)\n",
    "\n",
    "    mf = mol.RKS().run(xc='b3lyp')\n",
    "    cpu0 = log.timer('C6H6 %s B3LYP'%bas, *cpu0)\n",
    "\n",
    "    mf = mf.density_fit().run()\n",
    "    cpu0 = log.timer('C6H6 %s density-fit RHF'%bas, *cpu0)"
   ]
  },
  {
   "cell_type": "markdown",
   "id": "869c7f1a-ea0d-490b-bba2-8e69e004bc9a",
   "metadata": {},
   "source": [
    "**<font color=blue> En este ejemplo se realiza el cálculos PSE utlizando el modulo *PSI4*.** "
   ]
  },
  {
   "cell_type": "code",
   "execution_count": 17,
   "id": "7217b13c-33c8-4fc6-a293-f0fd1e1e2991",
   "metadata": {},
   "outputs": [],
   "source": [
    "# Inicialización Psi4 =================================================================\n",
    "import psi4\n",
    "psi4.core.clean()\n",
    "psi4.core.clean_options()\n",
    "psi4.set_memory('2000 MB')  # Memoria que sera utilizada en el cálculo\n",
    "psi4.set_num_threads(4)    # Cantidad de hilos a utilzar, tener en cuenta que un núcleo soporta 24 hilos. \n",
    "                          \n",
    "psi4.core.set_output_file('./Data/pse1.dat', False) \n",
    "# Este comando nos permite guardar el archivo de salida en alguna parte del computador."
   ]
  },
  {
   "cell_type": "markdown",
   "id": "8c0af6b6-8cae-46e2-b384-17aeb1044dbb",
   "metadata": {},
   "source": [
    "**<font color=cian> Se carga la molécula, en este ejemplo se hará desde un archivo en formato *xyz*:** "
   ]
  },
  {
   "cell_type": "code",
   "execution_count": 18,
   "id": "3362439e-ed90-48fd-9b86-7a931e220461",
   "metadata": {},
   "outputs": [],
   "source": [
    "# Inicialización de los cálculos ================================================\n",
    "\n",
    "# En este ejemplo se carga la molécula de un archivo en formato .xyz\n",
    "f = open('./molecules/benzene.xyz')\n",
    "molecula = psi4.geometry(f.read())\n",
    "molecula.reset_point_group('c1') # Simetría!"
   ]
  },
  {
   "cell_type": "markdown",
   "id": "42ffac60-3c57-4e41-a780-a3cc134419b2",
   "metadata": {},
   "source": [
    "**<font color=red> Si lo desea, puede dibujar la molécula, existen algunos modulos de visualización, aquí empleamos el modulo *fortecubeview*.** "
   ]
  },
  {
   "cell_type": "code",
   "execution_count": 19,
   "id": "1ab1f7b2-d077-4ec0-96c2-a9425c920137",
   "metadata": {},
   "outputs": [
    {
     "data": {
      "application/vnd.jupyter.widget-view+json": {
       "model_id": "af7d0d39a4e34ea2b216dc01e0c37754",
       "version_major": 2,
       "version_minor": 0
      },
      "text/plain": [
       "Renderer(camera=OrthographicCamera(bottom=-5.0, children=(DirectionalLight(color='white', intensity=0.5, posit…"
      ]
     },
     "metadata": {},
     "output_type": "display_data"
    },
    {
     "data": {
      "text/plain": [
       "<fortecubeview.mol_viewer.MolViewer at 0x7f624b3c1ed0>"
      ]
     },
     "execution_count": 19,
     "metadata": {},
     "output_type": "execute_result"
    }
   ],
   "source": [
    "import fortecubeview as fcv # Visualizar moléculas\n",
    "fcv.geom(molecule = molecula)"
   ]
  },
  {
   "cell_type": "markdown",
   "id": "a25d7436-8a1c-4aaa-b314-87deda77278b",
   "metadata": {},
   "source": [
    "**<font color=blue> Realizamos el cálculo, seleccionando el métod y las bases inicialmente, en este caso vamos a emplear dos *bases* diferentes.** "
   ]
  },
  {
   "cell_type": "code",
   "execution_count": 20,
   "id": "b63e2dba-1c64-4408-9f1d-ce02d3cafb37",
   "metadata": {
    "scrolled": true,
    "tags": []
   },
   "outputs": [
    {
     "name": "stdout",
     "output_type": "stream",
     "text": [
      "Optimizer: Optimization complete!\n",
      "Energías en las posiciones iniciales con los dos métodos:\n",
      "\n",
      "Energía con el scf/3-21G es -229.4176723388107 Hatrees\n",
      "Energía con el scf/6-311G* es -230.7417261352083 Hatrees\n",
      "Energía de optimización con el scf/3-21G es -229.41937144999395 Hatrees\n",
      "\n"
     ]
    }
   ],
   "source": [
    "# Métodos de cálculos.\n",
    "metodo1 = 'scf/3-21G'  # Métodos de cálculos.\n",
    "metodo2 = 'scf/6-311G*'\n",
    "\n",
    "E0_1, wfn1 = psi4.energy(metodo1, molecule = molecula, return_wfn = True)  # cálculo de energía usando metodo1\n",
    "E0_2, wfn2 = psi4.energy(metodo2, molecule = molecula, return_wfn = True)  # cálculo de energía usando metodo2\n",
    "\n",
    "Eopt1, wfn_opt1 = psi4.optimize(metodo1, molecule = molecula, return_wfn = True)\n",
    "psi4.driver.molden(wfn_opt1, './Data/molecula1.molden') # archivo de salida en formato .molden.\n",
    "psi4.driver.molden(wfn2, './Data/molecula2.molden') # archivo de salida en formato .molden.\n",
    "\n",
    "# Impresión de Resultados =================================================================\n",
    "print('Energías en las posiciones iniciales con los dos métodos:')\n",
    "print()\n",
    "print('Energía con el ' + metodo1 + ' es ' + str(E0_1) + ' Hatrees')\n",
    "print('Energía con el ' + metodo2 + ' es ' + str(E0_2) + ' Hatrees')\n",
    "print('Energía de optimización con el ' + metodo1 + ' es ' + str(Eopt1) + ' Hatrees')\n",
    "print()"
   ]
  },
  {
   "cell_type": "code",
   "execution_count": 25,
   "id": "e96fbefd-5ef9-46f8-b93b-e2808f464cd4",
   "metadata": {},
   "outputs": [
    {
     "name": "stdout",
     "output_type": "stream",
     "text": [
      "\tSearching PubChem database for 80-69-3 (single best match returned)\n",
      "\tFound 1 result(s)\n",
      "Optimizer: Optimization complete!\n",
      "\n",
      "Singlet-Triplet gap (vertical, UHF)   =     4.14 eV\n",
      "\n",
      "\n",
      "Singlet-Triplet gap (vertical, ROHF)  =     4.39 eV\n",
      "\n"
     ]
    }
   ],
   "source": [
    "import psi4\n",
    "hartree2ev = psi4.constants.hartree2ev\n",
    "\n",
    "psi4.set_output_file(\"benzeno_out.dat\", False)\n",
    "\n",
    "benz = psi4.geometry(\"\"\"\n",
    "                        pubchem:80-69-3\"\"\")\n",
    "\n",
    "psi4.set_options({\"REFERENCE\"                : \"RHF\",\n",
    "                  \"MAX_ENERGY_G_CONVERGENCE\" : 8,\n",
    "                  \"BASIS\"                    : \"STO-3G\",\n",
    "                  \"DF_BASIS_SCF\"             : \"CC-PVDZ-RI\"})\n",
    "\n",
    "psi4.optimize('scf')\n",
    "\n",
    "psi4.set_options({\"REFERENCE\"    : \"RHF\",\n",
    "                  \"BASIS\"        : \"CC-PVDZ\",\n",
    "                  \"DF_BASIS_SCF\" : \"CC-PVDZ-JKFIT\"})\n",
    "\n",
    "e_sing_rhf = psi4.energy('scf')\n",
    "\n",
    "benz.set_multiplicity(3)\n",
    "\n",
    "psi4.set_options({\"REFERENCE\" : \"ROHF\"})\n",
    "e_trip_rohf = psi4.energy('scf')\n",
    "psi4.set_options({\"REFERENCE\" : \"UHF\"})\n",
    "e_trip_uhf  = psi4.energy('scf')\n",
    "\n",
    "vertical_uhf  = hartree2ev * (e_trip_uhf  - e_sing_rhf)\n",
    "vertical_rohf = hartree2ev * (e_trip_rohf - e_sing_rhf)\n",
    "psi4.core.print_out(\"\\nSinglet-Triplet gap (vertical, UHF)   = %8.2f eV\\n\" % vertical_uhf)\n",
    "psi4.core.print_out(\"\\nSinglet-Triplet gap (vertical, ROHF)  = %8.2f eV\\n\" % vertical_rohf)\n",
    "print(\"\\nSinglet-Triplet gap (vertical, UHF)   = %8.2f eV\\n\" % vertical_uhf)\n",
    "print(\"\\nSinglet-Triplet gap (vertical, ROHF)  = %8.2f eV\\n\" % vertical_rohf)\n",
    "#e_sing_rhf"
   ]
  },
  {
   "cell_type": "code",
   "execution_count": null,
   "id": "246a9d0d-272c-4e5b-9185-675327918f8a",
   "metadata": {},
   "outputs": [],
   "source": [
    "e_sing_rhf, e_trip_rohf, e_trip_uhf, vertical_uhf, vertical_rohf"
   ]
  },
  {
   "cell_type": "code",
   "execution_count": 31,
   "id": "e0abf000-126f-4e5e-a2c7-a750fadfe15e",
   "metadata": {},
   "outputs": [],
   "source": [
    "import numpy as np\n",
    "\n",
    "import psi4\n",
    "\n",
    "from psi4.driver.procrouting.response.scf_response import tdscf_excitations\n",
    "from psi4 import frequencies\n",
    "\n",
    "psi4.core.set_output_file(\"moxy.out\")\n",
    "\n",
    "moxy = psi4.geometry(\"\"\"0 1\n",
    "C  0.152133 -0.035800  0.485797\n",
    "C -1.039475  0.615938 -0.061249\n",
    "C  1.507144  0.097806 -0.148460\n",
    "O -0.828215 -0.788248 -0.239431\n",
    "H  0.153725 -0.249258  1.552136\n",
    "H -1.863178  0.881921  0.593333\n",
    "H -0.949807  1.214210 -0.962771\n",
    "H  2.076806 -0.826189 -0.036671\n",
    "H  2.074465  0.901788  0.325106\n",
    "H  1.414895  0.315852 -1.212218\n",
    "\"\"\", name=\"(S)-methyloxirane\")\n",
    "\n",
    "psi4.set_options({\n",
    "    'save_jk': True,\n",
    "})\n",
    "\n",
    "e, wfn = psi4.energy(\"HF/cc-pvdz\", return_wfn=True, molecule=moxy)\n",
    "res = tdscf_excitations(wfn, states=8, triplets=\"also\")\n",
    "\n",
    "# get poles and residues to plot OPA and ECD spectra\n",
    "poles = [r[\"EXCITATION ENERGY\"] for r in res]\n",
    "opa_residues = [np.linalg.norm(r[\"LENGTH-GAUGE ELECTRIC DIPOLE TRANSITION MOMENT\"])**2 for r in res]\n",
    "ecd_residues = [r[\"LENGTH-GAUGE ROTATORY STRENGTH\"] for r in res]\n",
    "\n",
    "#opa_spectrum = spectrum(poles=poles, residues=opa_residues, gamma=0.01, out_units=\"nm\")\n",
    "#ecd_spectrum = spectrum(poles=poles, residues=ecd_residues, kind=\"ECD\", gamma=0.01, out_units=\"nm\")\n",
    "poles\n",
    "opa_residues\n",
    "res\n",
    "e\n",
    "wfn\n",
    "psi4.molden(wfn,\"./Data/wfn_angular.molden\")"
   ]
  },
  {
   "cell_type": "code",
   "execution_count": 1,
   "id": "835561b8-04c3-4fbf-8915-3e63233169ca",
   "metadata": {},
   "outputs": [
    {
     "name": "stderr",
     "output_type": "stream",
     "text": [
      "/home/emejia/psi4conda/envs/psi4/lib/python3.7/site-packages/pyscf/lib/misc.py:46: H5pyDeprecationWarning: Using default_file_mode other than 'r' is deprecated. Pass the mode to h5py.File() instead.\n",
      "  h5py.get_config().default_file_mode = 'a'\n"
     ]
    },
    {
     "name": "stdout",
     "output_type": "stream",
     "text": [
      "\n",
      "Geometry optimization cycle 1\n",
      "Cartesian coordinates (Angstrom)\n",
      " Atom        New coordinates             dX        dY        dZ\n",
      "   N   0.000000   0.000000   0.000000    0.000000  0.000000  0.000000\n",
      "   N   0.000000   0.000000   1.200000    0.000000  0.000000  0.000000\n",
      "converged SCF energy = -108.914051975052\n",
      "--------------- SCF_Scanner gradients ---------------\n",
      "         x                y                z\n",
      "0 N    -0.0000000000    -0.0000000000    -0.3121321959\n",
      "1 N     0.0000000000     0.0000000000     0.3121321959\n",
      "----------------------------------------------\n",
      "cycle 1: E = -108.914051975  dE = -108.914  norm(grad) = 0.441422\n",
      "\n",
      "Geometry optimization cycle 2\n",
      "Cartesian coordinates (Angstrom)\n",
      " Atom        New coordinates             dX        dY        dZ\n",
      "   N   0.000000   0.000000   0.079377    0.000000  0.000000  0.079377\n",
      "   N   0.000000   0.000000   1.120623    0.000000  0.000000 -0.079377\n",
      "\n",
      "WARN: Large deviations found between the input molecule and the molecule from chkfile\n",
      "Initial guess density matrix may have large error.\n",
      "\n",
      "converged SCF energy = -108.95047828901\n",
      "--------------- SCF_Scanner gradients ---------------\n",
      "         x                y                z\n",
      "0 N    -0.0000000000    -0.0000000000     0.1553466138\n",
      "1 N     0.0000000000     0.0000000000    -0.1553466138\n",
      "----------------------------------------------\n",
      "cycle 2: E = -108.950478289  dE = -0.0364263  norm(grad) = 0.219693\n",
      "\n",
      "Geometry optimization cycle 3\n",
      "Cartesian coordinates (Angstrom)\n",
      " Atom        New coordinates             dX        dY        dZ\n",
      "   N   0.000000   0.000000   0.053007    0.000000  0.000000 -0.026370\n",
      "   N   0.000000   0.000000   1.146993    0.000000  0.000000  0.026370\n",
      "\n",
      "WARN: Large deviations found between the input molecule and the molecule from chkfile\n",
      "Initial guess density matrix may have large error.\n",
      "\n",
      "converged SCF energy = -108.954593583793\n",
      "--------------- SCF_Scanner gradients ---------------\n",
      "         x                y                z\n",
      "0 N     0.0000000000     0.0000000000    -0.0600815171\n",
      "1 N    -0.0000000000    -0.0000000000     0.0600815171\n",
      "----------------------------------------------\n",
      "cycle 3: E = -108.954593584  dE = -0.00411529  norm(grad) = 0.0849681\n",
      "\n",
      "Geometry optimization cycle 4\n",
      "Cartesian coordinates (Angstrom)\n",
      " Atom        New coordinates             dX        dY        dZ\n",
      "   N   0.000000   0.000000   0.060361    0.000000  0.000000  0.007354\n",
      "   N   0.000000   0.000000   1.139639    0.000000  0.000000 -0.007354\n",
      "\n",
      "WARN: Large deviations found between the input molecule and the molecule from chkfile\n",
      "Initial guess density matrix may have large error.\n",
      "\n",
      "converged SCF energy = -108.955544786969\n",
      "--------------- SCF_Scanner gradients ---------------\n",
      "         x                y                z\n",
      "0 N    -0.0000000000    -0.0000000000    -0.0074794574\n",
      "1 N     0.0000000000     0.0000000000     0.0074794574\n",
      "----------------------------------------------\n",
      "cycle 4: E = -108.955544787  dE = -0.000951203  norm(grad) = 0.0105776\n",
      "\n",
      "Geometry optimization cycle 5\n",
      "Cartesian coordinates (Angstrom)\n",
      " Atom        New coordinates             dX        dY        dZ\n",
      "   N   0.000000   0.000000   0.061407    0.000000  0.000000  0.001046\n",
      "   N   0.000000   0.000000   1.138593    0.000000  0.000000 -0.001046\n",
      "converged SCF energy = -108.955558739847\n",
      "--------------- SCF_Scanner gradients ---------------\n",
      "         x                y                z\n",
      "0 N    -0.0000000000    -0.0000000000     0.0004373342\n",
      "1 N     0.0000000000     0.0000000000    -0.0004373342\n",
      "----------------------------------------------\n",
      "cycle 5: E = -108.95555874  dE = -1.39529e-05  norm(grad) = 0.000618484\n",
      "\n",
      "Geometry optimization cycle 6\n",
      "Cartesian coordinates (Angstrom)\n",
      " Atom        New coordinates             dX        dY        dZ\n",
      "   N   0.000000   0.000000   0.061349    0.000000  0.000000 -0.000058\n",
      "   N   0.000000   0.000000   1.138651    0.000000  0.000000  0.000058\n",
      "converged SCF energy = -108.955558787298\n",
      "--------------- SCF_Scanner gradients ---------------\n",
      "         x                y                z\n",
      "0 N    -0.0000000000     0.0000000000    -0.0000031240\n",
      "1 N     0.0000000000    -0.0000000000     0.0000031240\n",
      "----------------------------------------------\n",
      "cycle 6: E = -108.955558787  dE = -4.74514e-08  norm(grad) = 4.41806e-06\n",
      "[[0.         0.         0.11593315]\n",
      " [0.         0.         2.1517382 ]]\n"
     ]
    }
   ],
   "source": [
    "from pyscf import gto, scf\n",
    "from pyscf.geomopt.berny_solver import optimize\n",
    "mol = gto.M(atom='N 0 0 0; N 0 0 1.2', basis='ccpvdz')\n",
    "mf = scf.RHF(mol)\n",
    "mol_eq = optimize(mf)\n",
    "print(mol_eq.atom_coords())"
   ]
  },
  {
   "cell_type": "code",
   "execution_count": 2,
   "id": "87c7c6f2-d987-4db7-85fe-1071d4c133e7",
   "metadata": {},
   "outputs": [
    {
     "name": "stdout",
     "output_type": "stream",
     "text": [
      "Collecting pyberny\n",
      "  Downloading pyberny-0.6.3-py3-none-any.whl (27 kB)\n",
      "Requirement already satisfied: numpy<2.0,>=1.15 in /home/emejia/psi4conda/envs/psi4/lib/python3.7/site-packages (from pyberny) (1.19.2)\n",
      "Installing collected packages: pyberny\n",
      "Successfully installed pyberny-0.6.3\n",
      "Note: you may need to restart the kernel to use updated packages.\n"
     ]
    }
   ],
   "source": [
    "pip install -U pyberny"
   ]
  },
  {
   "cell_type": "code",
   "execution_count": null,
   "id": "2f4f7822-bd50-4c3a-82d8-60179ac07120",
   "metadata": {},
   "outputs": [],
   "source": []
  }
 ],
 "metadata": {
  "kernelspec": {
   "display_name": "psi4",
   "language": "python",
   "name": "psi4"
  },
  "language_info": {
   "codemirror_mode": {
    "name": "ipython",
    "version": 3
   },
   "file_extension": ".py",
   "mimetype": "text/x-python",
   "name": "python",
   "nbconvert_exporter": "python",
   "pygments_lexer": "ipython3",
   "version": "3.7.11"
  }
 },
 "nbformat": 4,
 "nbformat_minor": 5
}
