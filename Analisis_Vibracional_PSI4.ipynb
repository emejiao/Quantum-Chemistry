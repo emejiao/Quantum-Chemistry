{
 "cells": [
  {
   "cell_type": "markdown",
   "id": "69f2a083-4291-4c35-86c3-67d3167bd8e9",
   "metadata": {},
   "source": [
    "<div class=\"alert alert-success\" role=\"alert\">\n",
    "  <h1 class=\"alert-heading\">Análisis Vibracional</h1>\n",
    "  <h3 class=\"alert-heading\">Prof. Enrique Mejía Ospino, emejia@uis.edu.co</h3>\n",
    "  <h4 class=\"alert-heading\">Escuela de Química</h4>\n",
    "  <h4 class=\"alert-heading\">Universidad Industrial de Santander</h4>\n",
    "  </div>"
   ]
  },
  {
   "cell_type": "markdown",
   "id": "30fc743c-be9d-4d2e-a886-bbebf36e3563",
   "metadata": {},
   "source": [
    "**<font color=blue> Vamos  atilizar el modulo *PSI4* para desarrollar algunos ejercicios de cálculo mecánico-cuántico. En este Cuaderno de Jupyter realizaremos análisis vibracional de algunas moleculas sencillas.** "
   ]
  },
  {
   "cell_type": "code",
   "execution_count": 2,
   "id": "dec71b99",
   "metadata": {},
   "outputs": [],
   "source": [
    "import psi4\n",
    "import numpy as np\n",
    "import matplotlib.pyplot as plt\n",
    "#import fortecubeview # Visualizar moléculas\n",
    "import h5py\n",
    "import pandas as pd\n",
    "#import CHE525_Vib as vib\n",
    "%matplotlib inline"
   ]
  },
  {
   "cell_type": "markdown",
   "id": "ac7d68e0-6cbe-40a6-b519-f5c144a909bd",
   "metadata": {
    "tags": []
   },
   "source": [
    "**<font color=blue> Definimos la geometría de la molécula (H2O), en este caso en formato Z-matriz, se asigna la capacidad de memoria, la base, se optimiza la molécula, se remueve los scratch y se determina la energía y los modos vibracionales y sus intensidades en el IR. Adicionalemente el proceso y los resultados son almacenados en archivo *out_H2O:vib.dat* en el que se puede encontrar información más completa que incluye *análisis termoquímico*.** "
   ]
  },
  {
   "cell_type": "code",
   "execution_count": 3,
   "id": "2d75ddad-2bd5-4181-92d7-5ea14c0b05e8",
   "metadata": {},
   "outputs": [
    {
     "name": "stdout",
     "output_type": "stream",
     "text": [
      "Optimizer: Optimization complete!\n",
      "The Hartree-Fock ground state energy of the water is: -76.02705347811745 Eh\n"
     ]
    }
   ],
   "source": [
    "import pandas as pd\n",
    "# Especificación del tamño de memoria que se utilizará en el cálculo\n",
    "psi4.set_memory('500 MB')\n",
    "numpy_memory = 2 # Arreglos NumPy no pueden exceder 2 MB en tamaño\n",
    "\n",
    "# archivo de salida\n",
    "psi4.core.set_output_file('./Data/out_H2O_vib.dat', False)\n",
    "\n",
    "# especificando la base\n",
    "basis = 'cc-pvdz'\n",
    "\n",
    "# Set computation options\n",
    "psi4.set_options({'basis': basis,\n",
    "                  'scf_type': 'pk',\n",
    "                  'e_convergence': 1e-8})\n",
    "\n",
    "# ==> Definimos la Molécula con simetría inicial C1 <==\n",
    "mol = psi4.geometry(\"\"\"\n",
    "O\n",
    "H 1 1.1\n",
    "H 1 1.1 2 104\n",
    "symmetry c1\n",
    "\"\"\")\n",
    "\n",
    "# Optimizamos la molécula \n",
    "E_psi = psi4.optimize('scf')\n",
    "psi4.core.clean()  #  Función para remover los scratch\n",
    "\n",
    "# Determinamos la energía y los modos vibracionales utilizando HF y cc-pvdz como base\n",
    "scf_e, scf_wfn = psi4.frequency('scf/cc-pvdz', molecule=mol, return_wfn=True)\n",
    "print(f\"The Hartree-Fock ground state energy of the water is: {E_psi} Eh\")\n",
    "vibinfo = scf_wfn.frequency_analysis\n",
    "psivars = psi4.core.variables()"
   ]
  },
  {
   "cell_type": "code",
   "execution_count": 60,
   "id": "2ad83842-e36c-4bfa-a1ed-378a19fb4b49",
   "metadata": {},
   "outputs": [
    {
     "data": {
      "text/html": [
       "<div>\n",
       "<style scoped>\n",
       "    .dataframe tbody tr th:only-of-type {\n",
       "        vertical-align: middle;\n",
       "    }\n",
       "\n",
       "    .dataframe tbody tr th {\n",
       "        vertical-align: top;\n",
       "    }\n",
       "\n",
       "    .dataframe thead th {\n",
       "        text-align: right;\n",
       "    }\n",
       "</style>\n",
       "<table border=\"1\" class=\"dataframe\">\n",
       "  <thead>\n",
       "    <tr style=\"text-align: right;\">\n",
       "      <th></th>\n",
       "      <th>cm-1</th>\n",
       "      <th>IR activ [km/mol]</th>\n",
       "    </tr>\n",
       "  </thead>\n",
       "  <tbody>\n",
       "    <tr>\n",
       "      <th>0</th>\n",
       "      <td>1775.448213</td>\n",
       "      <td>80.715741</td>\n",
       "    </tr>\n",
       "    <tr>\n",
       "      <th>1</th>\n",
       "      <td>4115.546506</td>\n",
       "      <td>21.188844</td>\n",
       "    </tr>\n",
       "    <tr>\n",
       "      <th>2</th>\n",
       "      <td>4213.909774</td>\n",
       "      <td>60.526911</td>\n",
       "    </tr>\n",
       "  </tbody>\n",
       "</table>\n",
       "</div>"
      ],
      "text/plain": [
       "          cm-1  IR activ [km/mol]\n",
       "0  1775.448213          80.715741\n",
       "1  4115.546506          21.188844\n",
       "2  4213.909774          60.526911"
      ]
     },
     "execution_count": 60,
     "metadata": {},
     "output_type": "execute_result"
    }
   ],
   "source": [
    "# Generamos una tabla de Frecuecias vs Intensidad de los modos calculados\n",
    "freq_h2o=(list(psi4.vibanal_wfn(scf_wfn)['omega'])) #\n",
    "Int_h2o=(list(psi4.vibanal_wfn(scf_wfn)['IR_intensity']))\n",
    "freq_h2o = pd.DataFrame(pd.DataFrame(freq_h2o[2]).values.real)\n",
    "Int_h2o = pd.DataFrame(Int_h2o[2])\n",
    "TMV_h2o = pd.concat([freq_h2o , Int_h2o], axis=1)\n",
    "TMV_h2o.set_axis(['cm-1', 'IR activ [km/mol]'], axis=1, inplace=True)\n",
    "TMV_h2o = TMV_h2o[TMV_h2o['cm-1']>1].reset_index(drop=True)\n",
    "TMV_h2o.to_excel('./Data/TMV_h2o.xlsx')\n",
    "TMV_h2o"
   ]
  },
  {
   "cell_type": "code",
   "execution_count": 2,
   "id": "269d69da-bf42-42a0-8cb9-b010ca891386",
   "metadata": {},
   "outputs": [
    {
     "ename": "NameError",
     "evalue": "name 'psivars' is not defined",
     "output_type": "error",
     "traceback": [
      "\u001b[0;31m---------------------------------------------------------------------------\u001b[0m",
      "\u001b[0;31mNameError\u001b[0m                                 Traceback (most recent call last)",
      "\u001b[0;32m<ipython-input-2-0cdcde5fda1e>\u001b[0m in \u001b[0;36m<module>\u001b[0;34m\u001b[0m\n\u001b[0;32m----> 1\u001b[0;31m \u001b[0mprint\u001b[0m\u001b[0;34m(\u001b[0m\u001b[0mpsivars\u001b[0m\u001b[0;34m[\u001b[0m\u001b[0;34m'GIBBS FREE ENERGY'\u001b[0m\u001b[0;34m]\u001b[0m\u001b[0;34m)\u001b[0m\u001b[0;34m\u001b[0m\u001b[0;34m\u001b[0m\u001b[0m\n\u001b[0m",
      "\u001b[0;31mNameError\u001b[0m: name 'psivars' is not defined"
     ]
    }
   ],
   "source": [
    "print(psivars['GIBBS FREE ENERGY'])"
   ]
  },
  {
   "cell_type": "code",
   "execution_count": 3,
   "id": "9629065a-3408-49b5-8f31-e5c31cae0625",
   "metadata": {},
   "outputs": [],
   "source": [
    "import py3Dmol\n",
    "H2O = '''3\n",
    "\n",
    "O            0.000000000000     0.000000000000    -0.063241040968\n",
    "H            0.000000000000    -0.763664017586     0.501840606446\n",
    "H            0.000000000000     0.763664017586     0.501840606446\n",
    "'''"
   ]
  },
  {
   "cell_type": "code",
   "execution_count": 4,
   "id": "418a73a0-dc99-466a-87a9-8486c4cb5d5d",
   "metadata": {},
   "outputs": [
    {
     "data": {
      "application/3dmoljs_load.v0": "<div id=\"3dmolviewer_16674890751846714\"  style=\"position: relative; width: 100px; height: 100px\">\n        <p id=\"3dmolwarning_16674890751846714\" style=\"background-color:#ffcccc;color:black\">You appear to be running in JupyterLab (or JavaScript failed to load for some other reason).  You need to install the 3dmol extension: <br>\n        <tt>jupyter labextension install jupyterlab_3dmol</tt></p>\n        </div>\n<script>\n\nvar loadScriptAsync = function(uri){\n  return new Promise((resolve, reject) => {\n    var tag = document.createElement('script');\n    tag.src = uri;\n    tag.async = true;\n    tag.onload = () => {\n      resolve();\n    };\n  var firstScriptTag = document.getElementsByTagName('script')[0];\n  firstScriptTag.parentNode.insertBefore(tag, firstScriptTag);\n});\n};\n\nif(typeof $3Dmolpromise === 'undefined') {\n$3Dmolpromise = null;\n  $3Dmolpromise = loadScriptAsync('https://cdn.jsdelivr.net/npm/3dmol@latest/build/3Dmol-min.min.js');\n}\n\nvar viewer_16674890751846714 = null;\nvar warn = document.getElementById(\"3dmolwarning_16674890751846714\");\nif(warn) {\n    warn.parentNode.removeChild(warn);\n}\n$3Dmolpromise.then(function() {\nviewer_16674890751846714 = $3Dmol.createViewer($(\"#3dmolviewer_16674890751846714\"),{backgroundColor:\"white\"});\nviewer_16674890751846714.zoomTo();\n\tviewer_16674890751846714.addModel(\"3\\n\\nO            0.000000000000     0.000000000000    -0.063241040968\\nH            0.000000000000    -0.763664017586     0.501840606446\\nH            0.000000000000     0.763664017586     0.501840606446\\n\",\"xyz\");\n\tviewer_16674890751846714.setStyle({\"stick\": {}});\n\tviewer_16674890751846714.zoomTo();\nviewer_16674890751846714.render();\n});\n</script>",
      "text/html": [
       "<div id=\"3dmolviewer_16674890751846714\"  style=\"position: relative; width: 100px; height: 100px\">\n",
       "        <p id=\"3dmolwarning_16674890751846714\" style=\"background-color:#ffcccc;color:black\">You appear to be running in JupyterLab (or JavaScript failed to load for some other reason).  You need to install the 3dmol extension: <br>\n",
       "        <tt>jupyter labextension install jupyterlab_3dmol</tt></p>\n",
       "        </div>\n",
       "<script>\n",
       "\n",
       "var loadScriptAsync = function(uri){\n",
       "  return new Promise((resolve, reject) => {\n",
       "    var tag = document.createElement('script');\n",
       "    tag.src = uri;\n",
       "    tag.async = true;\n",
       "    tag.onload = () => {\n",
       "      resolve();\n",
       "    };\n",
       "  var firstScriptTag = document.getElementsByTagName('script')[0];\n",
       "  firstScriptTag.parentNode.insertBefore(tag, firstScriptTag);\n",
       "});\n",
       "};\n",
       "\n",
       "if(typeof $3Dmolpromise === 'undefined') {\n",
       "$3Dmolpromise = null;\n",
       "  $3Dmolpromise = loadScriptAsync('https://cdn.jsdelivr.net/npm/3dmol@latest/build/3Dmol-min.min.js');\n",
       "}\n",
       "\n",
       "var viewer_16674890751846714 = null;\n",
       "var warn = document.getElementById(\"3dmolwarning_16674890751846714\");\n",
       "if(warn) {\n",
       "    warn.parentNode.removeChild(warn);\n",
       "}\n",
       "$3Dmolpromise.then(function() {\n",
       "viewer_16674890751846714 = $3Dmol.createViewer($(\"#3dmolviewer_16674890751846714\"),{backgroundColor:\"white\"});\n",
       "viewer_16674890751846714.zoomTo();\n",
       "\tviewer_16674890751846714.addModel(\"3\\n\\nO            0.000000000000     0.000000000000    -0.063241040968\\nH            0.000000000000    -0.763664017586     0.501840606446\\nH            0.000000000000     0.763664017586     0.501840606446\\n\",\"xyz\");\n",
       "\tviewer_16674890751846714.setStyle({\"stick\": {}});\n",
       "\tviewer_16674890751846714.zoomTo();\n",
       "viewer_16674890751846714.render();\n",
       "});\n",
       "</script>"
      ]
     },
     "metadata": {},
     "output_type": "display_data"
    }
   ],
   "source": [
    "xyzview = py3Dmol.view(width=100,height=100)\n",
    "xyzview.addModel(H2O,'xyz')\n",
    "xyzview.setStyle({'stick':{}})\n",
    "xyzview.zoomTo()\n",
    "xyzview.show()"
   ]
  },
  {
   "cell_type": "code",
   "execution_count": 5,
   "id": "8808c1d4-f770-4287-82ed-29eb5f6580fb",
   "metadata": {},
   "outputs": [],
   "source": [
    "v1_H2O = '''3\n",
    "\n",
    "O            0.000000000000     0.000000000000    -0.063241040968    -0.00 -0.00 -0.07\n",
    "H            0.000000000000    -0.763664017586     0.501840606446    -0.00  0.43  0.56\n",
    "H            0.000000000000     0.763664017586     0.501840606446     0.00 -0.43  0.56\n",
    "'''"
   ]
  },
  {
   "cell_type": "code",
   "execution_count": 6,
   "id": "d9d22419-b059-4254-a41f-3005c8e8ca1d",
   "metadata": {},
   "outputs": [
    {
     "data": {
      "application/3dmoljs_load.v0": "<div id=\"3dmolviewer_1667489093303546\"  style=\"position: relative; width: 200px; height: 200px\">\n        <p id=\"3dmolwarning_1667489093303546\" style=\"background-color:#ffcccc;color:black\">You appear to be running in JupyterLab (or JavaScript failed to load for some other reason).  You need to install the 3dmol extension: <br>\n        <tt>jupyter labextension install jupyterlab_3dmol</tt></p>\n        </div>\n<script>\n\nvar loadScriptAsync = function(uri){\n  return new Promise((resolve, reject) => {\n    var tag = document.createElement('script');\n    tag.src = uri;\n    tag.async = true;\n    tag.onload = () => {\n      resolve();\n    };\n  var firstScriptTag = document.getElementsByTagName('script')[0];\n  firstScriptTag.parentNode.insertBefore(tag, firstScriptTag);\n});\n};\n\nif(typeof $3Dmolpromise === 'undefined') {\n$3Dmolpromise = null;\n  $3Dmolpromise = loadScriptAsync('https://cdn.jsdelivr.net/npm/3dmol@latest/build/3Dmol-min.min.js');\n}\n\nvar viewer_1667489093303546 = null;\nvar warn = document.getElementById(\"3dmolwarning_1667489093303546\");\nif(warn) {\n    warn.parentNode.removeChild(warn);\n}\n$3Dmolpromise.then(function() {\nviewer_1667489093303546 = $3Dmol.createViewer($(\"#3dmolviewer_1667489093303546\"),{backgroundColor:\"white\"});\nviewer_1667489093303546.zoomTo();\n\tviewer_1667489093303546.addModel(\"3\\n\\nO            0.000000000000     0.000000000000    -0.063241040968    -0.00 -0.00 -0.07\\nH            0.000000000000    -0.763664017586     0.501840606446    -0.00  0.43  0.56\\nH            0.000000000000     0.763664017586     0.501840606446     0.00 -0.43  0.56\\n\",\"v1_H2O\",{\"vibrate\": {\"frames\": 20, \"amplitude\": 1}});\n\tviewer_1667489093303546.setStyle({\"stick\": {}});\n\tviewer_1667489093303546.animate({\"loop\": \"backAndForth\"});\n\tviewer_1667489093303546.zoomTo();\nviewer_1667489093303546.render();\n});\n</script>",
      "text/html": [
       "<div id=\"3dmolviewer_1667489093303546\"  style=\"position: relative; width: 200px; height: 200px\">\n",
       "        <p id=\"3dmolwarning_1667489093303546\" style=\"background-color:#ffcccc;color:black\">You appear to be running in JupyterLab (or JavaScript failed to load for some other reason).  You need to install the 3dmol extension: <br>\n",
       "        <tt>jupyter labextension install jupyterlab_3dmol</tt></p>\n",
       "        </div>\n",
       "<script>\n",
       "\n",
       "var loadScriptAsync = function(uri){\n",
       "  return new Promise((resolve, reject) => {\n",
       "    var tag = document.createElement('script');\n",
       "    tag.src = uri;\n",
       "    tag.async = true;\n",
       "    tag.onload = () => {\n",
       "      resolve();\n",
       "    };\n",
       "  var firstScriptTag = document.getElementsByTagName('script')[0];\n",
       "  firstScriptTag.parentNode.insertBefore(tag, firstScriptTag);\n",
       "});\n",
       "};\n",
       "\n",
       "if(typeof $3Dmolpromise === 'undefined') {\n",
       "$3Dmolpromise = null;\n",
       "  $3Dmolpromise = loadScriptAsync('https://cdn.jsdelivr.net/npm/3dmol@latest/build/3Dmol-min.min.js');\n",
       "}\n",
       "\n",
       "var viewer_1667489093303546 = null;\n",
       "var warn = document.getElementById(\"3dmolwarning_1667489093303546\");\n",
       "if(warn) {\n",
       "    warn.parentNode.removeChild(warn);\n",
       "}\n",
       "$3Dmolpromise.then(function() {\n",
       "viewer_1667489093303546 = $3Dmol.createViewer($(\"#3dmolviewer_1667489093303546\"),{backgroundColor:\"white\"});\n",
       "viewer_1667489093303546.zoomTo();\n",
       "\tviewer_1667489093303546.addModel(\"3\\n\\nO            0.000000000000     0.000000000000    -0.063241040968    -0.00 -0.00 -0.07\\nH            0.000000000000    -0.763664017586     0.501840606446    -0.00  0.43  0.56\\nH            0.000000000000     0.763664017586     0.501840606446     0.00 -0.43  0.56\\n\",\"v1_H2O\",{\"vibrate\": {\"frames\": 20, \"amplitude\": 1}});\n",
       "\tviewer_1667489093303546.setStyle({\"stick\": {}});\n",
       "\tviewer_1667489093303546.animate({\"loop\": \"backAndForth\"});\n",
       "\tviewer_1667489093303546.zoomTo();\n",
       "viewer_1667489093303546.render();\n",
       "});\n",
       "</script>"
      ]
     },
     "metadata": {},
     "output_type": "display_data"
    }
   ],
   "source": [
    "view_m1 = py3Dmol.view(width=200,height=200)\n",
    "view_m1.addModel(v1_H2O,'v1_H2O',{'vibrate': {'frames':20,'amplitude':1}})\n",
    "view_m1.setStyle({'stick':{}})\n",
    "#xyzview.setBackgroundColor('0xeeeeee')\n",
    "view_m1.animate({'loop': 'backAndForth'})\n",
    "view_m1.zoomTo()\n",
    "view_m1.show()"
   ]
  },
  {
   "cell_type": "code",
   "execution_count": 8,
   "id": "f0dcea07-c6e0-4778-9694-b6806f158684",
   "metadata": {},
   "outputs": [],
   "source": [
    "v2_H2O = '''3\n",
    "\n",
    "O            0.000000000000     0.000000000000    -0.063241040968    -0.00 -0.00  0.05\n",
    "H            0.000000000000    -0.763664017586     0.501840606446    -0.00  0.58 -0.40\n",
    "H            0.000000000000     0.763664017586     0.501840606446    -0.00 -0.58 -0.40\n",
    "'''"
   ]
  },
  {
   "cell_type": "code",
   "execution_count": 9,
   "id": "466faf1c-f7f1-47c7-b018-4c8abb5376f6",
   "metadata": {},
   "outputs": [
    {
     "data": {
      "application/3dmoljs_load.v0": "<div id=\"3dmolviewer_16674893173552423\"  style=\"position: relative; width: 200px; height: 200px\">\n        <p id=\"3dmolwarning_16674893173552423\" style=\"background-color:#ffcccc;color:black\">You appear to be running in JupyterLab (or JavaScript failed to load for some other reason).  You need to install the 3dmol extension: <br>\n        <tt>jupyter labextension install jupyterlab_3dmol</tt></p>\n        </div>\n<script>\n\nvar loadScriptAsync = function(uri){\n  return new Promise((resolve, reject) => {\n    var tag = document.createElement('script');\n    tag.src = uri;\n    tag.async = true;\n    tag.onload = () => {\n      resolve();\n    };\n  var firstScriptTag = document.getElementsByTagName('script')[0];\n  firstScriptTag.parentNode.insertBefore(tag, firstScriptTag);\n});\n};\n\nif(typeof $3Dmolpromise === 'undefined') {\n$3Dmolpromise = null;\n  $3Dmolpromise = loadScriptAsync('https://cdn.jsdelivr.net/npm/3dmol@latest/build/3Dmol-min.min.js');\n}\n\nvar viewer_16674893173552423 = null;\nvar warn = document.getElementById(\"3dmolwarning_16674893173552423\");\nif(warn) {\n    warn.parentNode.removeChild(warn);\n}\n$3Dmolpromise.then(function() {\nviewer_16674893173552423 = $3Dmol.createViewer($(\"#3dmolviewer_16674893173552423\"),{backgroundColor:\"white\"});\nviewer_16674893173552423.zoomTo();\n\tviewer_16674893173552423.addModel(\"3\\n\\nO            0.000000000000     0.000000000000    -0.063241040968    -0.00 -0.00  0.05\\nH            0.000000000000    -0.763664017586     0.501840606446    -0.00  0.58 -0.40\\nH            0.000000000000     0.763664017586     0.501840606446    -0.00 -0.58 -0.40\\n\",\"v2_H2O\",{\"vibrate\": {\"frames\": 20, \"amplitude\": 1}});\n\tviewer_16674893173552423.setStyle({\"stick\": {}});\n\tviewer_16674893173552423.animate({\"loop\": \"backAndForth\"});\n\tviewer_16674893173552423.zoomTo();\nviewer_16674893173552423.render();\n});\n</script>",
      "text/html": [
       "<div id=\"3dmolviewer_16674893173552423\"  style=\"position: relative; width: 200px; height: 200px\">\n",
       "        <p id=\"3dmolwarning_16674893173552423\" style=\"background-color:#ffcccc;color:black\">You appear to be running in JupyterLab (or JavaScript failed to load for some other reason).  You need to install the 3dmol extension: <br>\n",
       "        <tt>jupyter labextension install jupyterlab_3dmol</tt></p>\n",
       "        </div>\n",
       "<script>\n",
       "\n",
       "var loadScriptAsync = function(uri){\n",
       "  return new Promise((resolve, reject) => {\n",
       "    var tag = document.createElement('script');\n",
       "    tag.src = uri;\n",
       "    tag.async = true;\n",
       "    tag.onload = () => {\n",
       "      resolve();\n",
       "    };\n",
       "  var firstScriptTag = document.getElementsByTagName('script')[0];\n",
       "  firstScriptTag.parentNode.insertBefore(tag, firstScriptTag);\n",
       "});\n",
       "};\n",
       "\n",
       "if(typeof $3Dmolpromise === 'undefined') {\n",
       "$3Dmolpromise = null;\n",
       "  $3Dmolpromise = loadScriptAsync('https://cdn.jsdelivr.net/npm/3dmol@latest/build/3Dmol-min.min.js');\n",
       "}\n",
       "\n",
       "var viewer_16674893173552423 = null;\n",
       "var warn = document.getElementById(\"3dmolwarning_16674893173552423\");\n",
       "if(warn) {\n",
       "    warn.parentNode.removeChild(warn);\n",
       "}\n",
       "$3Dmolpromise.then(function() {\n",
       "viewer_16674893173552423 = $3Dmol.createViewer($(\"#3dmolviewer_16674893173552423\"),{backgroundColor:\"white\"});\n",
       "viewer_16674893173552423.zoomTo();\n",
       "\tviewer_16674893173552423.addModel(\"3\\n\\nO            0.000000000000     0.000000000000    -0.063241040968    -0.00 -0.00  0.05\\nH            0.000000000000    -0.763664017586     0.501840606446    -0.00  0.58 -0.40\\nH            0.000000000000     0.763664017586     0.501840606446    -0.00 -0.58 -0.40\\n\",\"v2_H2O\",{\"vibrate\": {\"frames\": 20, \"amplitude\": 1}});\n",
       "\tviewer_16674893173552423.setStyle({\"stick\": {}});\n",
       "\tviewer_16674893173552423.animate({\"loop\": \"backAndForth\"});\n",
       "\tviewer_16674893173552423.zoomTo();\n",
       "viewer_16674893173552423.render();\n",
       "});\n",
       "</script>"
      ]
     },
     "metadata": {},
     "output_type": "display_data"
    }
   ],
   "source": [
    "view_m2 = py3Dmol.view(width=200,height=200)\n",
    "view_m2.addModel(v2_H2O,'v2_H2O',{'vibrate': {'frames':20,'amplitude':1}})\n",
    "view_m2.setStyle({'stick':{}})\n",
    "#xyzview.setBackgroundColor('0xeeeeee')\n",
    "view_m2.animate({'loop': 'backAndForth'})\n",
    "view_m2.zoomTo()\n",
    "view_m2.show()"
   ]
  },
  {
   "cell_type": "code",
   "execution_count": null,
   "id": "c5722bb5-cd3b-4a34-bda0-81fca0e328fd",
   "metadata": {},
   "outputs": [],
   "source": [
    "v3_H2O = '''3\n",
    "\n",
    "O            0.000000000000     0.000000000000    -0.063241040968    -0.00 -0.07 -0.00\n",
    "H            0.000000000000    -0.763664017586     0.501840606446     0.00  0.56 -0.43\n",
    "H            0.000000000000     0.763664017586     0.501840606446    0.00  0.56  0.43\n",
    "'''"
   ]
  },
  {
   "cell_type": "code",
   "execution_count": null,
   "id": "7664e139-dafb-4bf2-b149-9dc8be98088a",
   "metadata": {},
   "outputs": [],
   "source": [
    "view_m3 = py3Dmol.view(width=200,height=200)\n",
    "view_m3.addModel(v3_H2O,'v3_H2O',{'vibrate': {'frames':20,'amplitude':1}})\n",
    "view_m3.setStyle({'stick':{}})\n",
    "#xyzview.setBackgroundColor('0xeeeeee')\n",
    "view_m3.animate({'loop': 'backAndForth'})\n",
    "view_m3.zoomTo()\n",
    "view_m3.show()"
   ]
  },
  {
   "cell_type": "code",
   "execution_count": null,
   "id": "d1676f6b-a52e-4ad5-9166-0253b87a38d9",
   "metadata": {},
   "outputs": [],
   "source": []
  },
  {
   "cell_type": "markdown",
   "id": "5bdba180-36ff-4147-b6f9-3f75284e8132",
   "metadata": {},
   "source": [
    "**<font color=blue> Realizamos el mismo análisis con una molécula más compleja (Benceno) extraida de la base de datos *pubchem*.** "
   ]
  },
  {
   "cell_type": "code",
   "execution_count": null,
   "id": "a00f897a-aff7-4b67-b826-79d3958bf73e",
   "metadata": {},
   "outputs": [
    {
     "name": "stdout",
     "output_type": "stream",
     "text": [
      "\tSearching PubChem database for benzene (single best match returned)\n",
      "\tFound 1 result(s)\n",
      "Optimizer: Optimization complete!\n"
     ]
    }
   ],
   "source": [
    "import pandas as pd\n",
    "# Especificación del tamño de memoria que se utilizará en el cálculo\n",
    "psi4.set_memory('1000 MB')\n",
    "numpy_memory = 2 # Arreglos NumPy no pueden exceder 2 MB en tamaño\n",
    "\n",
    "# archivo de salida\n",
    "psi4.core.set_output_file('./Data/out_benceno_vib.dat', False)\n",
    "\n",
    "# especificando la base\n",
    "basis = 'cc-pvdz'\n",
    "\n",
    "# Set computation options\n",
    "psi4.set_options({'basis': basis,'scf_type': 'pk', \"scf__reference\": \"rhf\", 'e_convergence': 1e-8})\n",
    "\n",
    "# ==> Definimos la Molécula con simetría inicial C1 <==\n",
    "mol = psi4.geometry(\"\"\"\n",
    "pubchem:benzene\n",
    "symmetry c1\n",
    "\"\"\")\n",
    "\n",
    "# Optimizamos la molécula \n",
    "E_psi = psi4.optimize('scf')\n",
    "psi4.core.clean()  #  Función para remover los scratch\n",
    "\n",
    "\n",
    "# Determinamos la energía y los modos vibracionales utilizando HF y cc-pvdz como base\n",
    "scf_e2, scf_wfn2 = psi4.frequency('scf/cc-pvdz', molecule=mol, return_wfn=True)\n",
    "print(f\"The Hartree-Fock ground state energy of the water is: {E_psi} Eh\")\n",
    "vibinfo = scf_wfn2.frequency_analysis"
   ]
  },
  {
   "cell_type": "code",
   "execution_count": 19,
   "id": "cf29cd6c-0a77-4593-b350-5527e57f657f",
   "metadata": {},
   "outputs": [
    {
     "name": "stdout",
     "output_type": "stream",
     "text": [
      "Warning: used thermodynamics relations inappropriate for low-frequency modes: ['449.7207' '449.7230']\n",
      "Warning: used thermodynamics relations inappropriate for low-frequency modes: ['449.7207' '449.7230']\n"
     ]
    },
    {
     "data": {
      "text/html": [
       "<div>\n",
       "<style scoped>\n",
       "    .dataframe tbody tr th:only-of-type {\n",
       "        vertical-align: middle;\n",
       "    }\n",
       "\n",
       "    .dataframe tbody tr th {\n",
       "        vertical-align: top;\n",
       "    }\n",
       "\n",
       "    .dataframe thead th {\n",
       "        text-align: right;\n",
       "    }\n",
       "</style>\n",
       "<table border=\"1\" class=\"dataframe\">\n",
       "  <thead>\n",
       "    <tr style=\"text-align: right;\">\n",
       "      <th></th>\n",
       "      <th>cm-1</th>\n",
       "      <th>IR activ [km/mol]</th>\n",
       "    </tr>\n",
       "  </thead>\n",
       "  <tbody>\n",
       "    <tr>\n",
       "      <th>0</th>\n",
       "      <td>449.720658</td>\n",
       "      <td>2.205425e-08</td>\n",
       "    </tr>\n",
       "    <tr>\n",
       "      <th>1</th>\n",
       "      <td>449.723041</td>\n",
       "      <td>2.914518e-08</td>\n",
       "    </tr>\n",
       "    <tr>\n",
       "      <th>2</th>\n",
       "      <td>660.846332</td>\n",
       "      <td>4.429566e-09</td>\n",
       "    </tr>\n",
       "    <tr>\n",
       "      <th>3</th>\n",
       "      <td>660.847695</td>\n",
       "      <td>2.920477e-08</td>\n",
       "    </tr>\n",
       "    <tr>\n",
       "      <th>4</th>\n",
       "      <td>752.662312</td>\n",
       "      <td>1.064053e+02</td>\n",
       "    </tr>\n",
       "    <tr>\n",
       "      <th>5</th>\n",
       "      <td>771.256036</td>\n",
       "      <td>2.984435e-08</td>\n",
       "    </tr>\n",
       "    <tr>\n",
       "      <th>6</th>\n",
       "      <td>948.651895</td>\n",
       "      <td>3.322712e-08</td>\n",
       "    </tr>\n",
       "    <tr>\n",
       "      <th>7</th>\n",
       "      <td>948.654672</td>\n",
       "      <td>1.489803e-08</td>\n",
       "    </tr>\n",
       "    <tr>\n",
       "      <th>8</th>\n",
       "      <td>1080.955833</td>\n",
       "      <td>5.503990e-10</td>\n",
       "    </tr>\n",
       "    <tr>\n",
       "      <th>9</th>\n",
       "      <td>1085.773740</td>\n",
       "      <td>3.932541e-08</td>\n",
       "    </tr>\n",
       "    <tr>\n",
       "      <th>10</th>\n",
       "      <td>1090.191749</td>\n",
       "      <td>1.831791e-07</td>\n",
       "    </tr>\n",
       "    <tr>\n",
       "      <th>11</th>\n",
       "      <td>1090.194665</td>\n",
       "      <td>5.555528e-08</td>\n",
       "    </tr>\n",
       "    <tr>\n",
       "      <th>12</th>\n",
       "      <td>1116.804849</td>\n",
       "      <td>4.413442e-07</td>\n",
       "    </tr>\n",
       "    <tr>\n",
       "      <th>13</th>\n",
       "      <td>1130.947528</td>\n",
       "      <td>4.322789e+00</td>\n",
       "    </tr>\n",
       "    <tr>\n",
       "      <th>14</th>\n",
       "      <td>1130.950950</td>\n",
       "      <td>4.322787e+00</td>\n",
       "    </tr>\n",
       "    <tr>\n",
       "      <th>15</th>\n",
       "      <td>1188.558032</td>\n",
       "      <td>2.208156e-08</td>\n",
       "    </tr>\n",
       "    <tr>\n",
       "      <th>16</th>\n",
       "      <td>1273.161888</td>\n",
       "      <td>4.680707e-09</td>\n",
       "    </tr>\n",
       "    <tr>\n",
       "      <th>17</th>\n",
       "      <td>1273.165021</td>\n",
       "      <td>6.779107e-09</td>\n",
       "    </tr>\n",
       "    <tr>\n",
       "      <th>18</th>\n",
       "      <td>1341.464200</td>\n",
       "      <td>5.312030e-09</td>\n",
       "    </tr>\n",
       "    <tr>\n",
       "      <th>19</th>\n",
       "      <td>1477.560009</td>\n",
       "      <td>9.348325e-11</td>\n",
       "    </tr>\n",
       "    <tr>\n",
       "      <th>20</th>\n",
       "      <td>1627.179233</td>\n",
       "      <td>1.189479e+01</td>\n",
       "    </tr>\n",
       "    <tr>\n",
       "      <th>21</th>\n",
       "      <td>1627.180720</td>\n",
       "      <td>1.189450e+01</td>\n",
       "    </tr>\n",
       "    <tr>\n",
       "      <th>22</th>\n",
       "      <td>1787.699502</td>\n",
       "      <td>4.250612e-09</td>\n",
       "    </tr>\n",
       "    <tr>\n",
       "      <th>23</th>\n",
       "      <td>1787.706332</td>\n",
       "      <td>1.067269e-08</td>\n",
       "    </tr>\n",
       "    <tr>\n",
       "      <th>24</th>\n",
       "      <td>3328.177767</td>\n",
       "      <td>1.145954e-06</td>\n",
       "    </tr>\n",
       "    <tr>\n",
       "      <th>25</th>\n",
       "      <td>3339.955824</td>\n",
       "      <td>4.521856e-07</td>\n",
       "    </tr>\n",
       "    <tr>\n",
       "      <th>26</th>\n",
       "      <td>3339.962350</td>\n",
       "      <td>6.843528e-07</td>\n",
       "    </tr>\n",
       "    <tr>\n",
       "      <th>27</th>\n",
       "      <td>3359.163053</td>\n",
       "      <td>4.842182e+01</td>\n",
       "    </tr>\n",
       "    <tr>\n",
       "      <th>28</th>\n",
       "      <td>3359.169154</td>\n",
       "      <td>4.842124e+01</td>\n",
       "    </tr>\n",
       "    <tr>\n",
       "      <th>29</th>\n",
       "      <td>3371.162620</td>\n",
       "      <td>2.199897e-06</td>\n",
       "    </tr>\n",
       "  </tbody>\n",
       "</table>\n",
       "</div>"
      ],
      "text/plain": [
       "           cm-1  IR activ [km/mol]\n",
       "0    449.720658       2.205425e-08\n",
       "1    449.723041       2.914518e-08\n",
       "2    660.846332       4.429566e-09\n",
       "3    660.847695       2.920477e-08\n",
       "4    752.662312       1.064053e+02\n",
       "5    771.256036       2.984435e-08\n",
       "6    948.651895       3.322712e-08\n",
       "7    948.654672       1.489803e-08\n",
       "8   1080.955833       5.503990e-10\n",
       "9   1085.773740       3.932541e-08\n",
       "10  1090.191749       1.831791e-07\n",
       "11  1090.194665       5.555528e-08\n",
       "12  1116.804849       4.413442e-07\n",
       "13  1130.947528       4.322789e+00\n",
       "14  1130.950950       4.322787e+00\n",
       "15  1188.558032       2.208156e-08\n",
       "16  1273.161888       4.680707e-09\n",
       "17  1273.165021       6.779107e-09\n",
       "18  1341.464200       5.312030e-09\n",
       "19  1477.560009       9.348325e-11\n",
       "20  1627.179233       1.189479e+01\n",
       "21  1627.180720       1.189450e+01\n",
       "22  1787.699502       4.250612e-09\n",
       "23  1787.706332       1.067269e-08\n",
       "24  3328.177767       1.145954e-06\n",
       "25  3339.955824       4.521856e-07\n",
       "26  3339.962350       6.843528e-07\n",
       "27  3359.163053       4.842182e+01\n",
       "28  3359.169154       4.842124e+01\n",
       "29  3371.162620       2.199897e-06"
      ]
     },
     "execution_count": 19,
     "metadata": {},
     "output_type": "execute_result"
    }
   ],
   "source": [
    "# Generamos una tabla de Frecuecias vs Intensidad de los modos calculados\n",
    "freq_c6h6=(list(psi4.vibanal_wfn(scf_wfn2)['omega'])) #\n",
    "Int_c6h6=(list(psi4.vibanal_wfn(scf_wfn2)['IR_intensity']))\n",
    "freq_c6h6 = pd.DataFrame(pd.DataFrame(freq_c6h6[2]).values.real)\n",
    "Int_c6h6 = pd.DataFrame(Int_c6h6[2])\n",
    "TMV_c6h6 = pd.concat([freq_c6h6 , Int_c6h6], axis=1)\n",
    "TMV_c6h6.set_axis(['cm-1', 'IR activ [km/mol]'], axis=1, inplace=True)\n",
    "TMV_c6h6 = TMV_c6h6[TMV_c6h6['cm-1']>1].reset_index(drop=True)\n",
    "TMV_c6h6.to_excel('./Data/TMV_c6h6.xls')\n",
    "TMV_c6h6"
   ]
  },
  {
   "cell_type": "markdown",
   "id": "3cb89064-09a9-436e-8863-ba5a94aa5087",
   "metadata": {},
   "source": [
    "**<font color=green> Dibujamos la molécula usando el modulo *fortecubeview*.** "
   ]
  },
  {
   "cell_type": "code",
   "execution_count": 23,
   "id": "bf817c3d-4fab-49e1-b6af-f0a6635f5c77",
   "metadata": {},
   "outputs": [
    {
     "name": "stdout",
     "output_type": "stream",
     "text": [
      "\tSearching PubChem database for Aspirin (single best match returned)\n",
      "\tFound 1 result(s)\n"
     ]
    }
   ],
   "source": [
    "psi4.set_memory('1000 MB')\n",
    "numpy_memory = 2 # Arreglos NumPy no pueden exceder 2 MB en tamaño\n",
    "\n",
    "# archivo de salida\n",
    "psi4.core.set_output_file('./Data/out_aspirin_vib.dat', False)\n",
    "\n",
    "# especificando metodo de calculo\n",
    "metodo = 'b3lyp/6-31g'\n",
    "\n",
    "# Set computation options\n",
    "#psi4.set_options({'basis': basis,'scf_type': 'df', \"scf__reference\": \"rks\"})\n",
    "\n",
    "# ==> Definimos la Molécula con simetría inicial C1 <==\n",
    "mol = psi4.geometry(\"\"\"\n",
    "pubchem:Aspirin\n",
    "symmetry c1\n",
    "\"\"\")\n",
    "\n",
    "# Optimizamos la molécula \n",
    "#E_psi = psi4.optimize('b3lyp')\n",
    "psi4.core.clean()  #  Función para remover los scratch\n",
    "\n",
    "# Determinamos la energía y los modos vibracionales utilizando HF y cc-pvdz como base\n",
    "dft_e3, scf_wfn3 = psi4.energy(metodo, molecule=mol, return_wfn=True)\n",
    "#print(f\"The Hartree-Fock ground state energy of the water is: {E_psi} Eh\")\n",
    "#vibinfo = scf_wfn2.frequency_analysis"
   ]
  },
  {
   "cell_type": "code",
   "execution_count": 16,
   "id": "d0eb17a8-a740-479d-915d-90c354bf6a64",
   "metadata": {},
   "outputs": [],
   "source": [
    "import pandas as pd\n",
    "import psi4\n",
    "# Especificación del tamño de memoria que se utilizará en el cálculo\n",
    "psi4.set_memory('500 MB')\n",
    "numpy_memory = 2 # Arreglos NumPy no pueden exceder 2 MB en tamaño\n",
    "\n",
    "# archivo de salida\n",
    "psi4.core.set_output_file('./Data/dft_out_H2O_vib.dat', False)\n",
    "\n",
    "# especificando la base\n",
    "psi4.set_options({'maxiter': 5000})\n",
    "\n",
    "\n",
    "# Set computation options\n",
    "#psi4.set_options({'scf_type': 'pk', 'e_convergence': 1e-8, 'd_convergence': 1e-12, 'dft_spherical_points': 302, 'dft_radial_points':75,})\n",
    "\n",
    "# ==> Definimos la Molécula con simetría inicial C1 <==\n",
    "mol = psi4.geometry(\"\"\"\n",
    "O\n",
    "H 1 1.1\n",
    "H 1 1.1 2 104\n",
    "symmetry c1\n",
    "\"\"\")\n",
    "\n",
    "# Optimizamos la molécula \n",
    "E0, fw = psi4.energy('casscf/6-31g', molecule = mol, return_wfn = True)\n"
   ]
  },
  {
   "cell_type": "code",
   "execution_count": 17,
   "id": "a03ca8af-d476-4239-83b4-2304b3777baf",
   "metadata": {},
   "outputs": [
    {
     "data": {
      "text/plain": [
       "-76.10425204850645"
      ]
     },
     "execution_count": 17,
     "metadata": {},
     "output_type": "execute_result"
    }
   ],
   "source": [
    "E0"
   ]
  },
  {
   "cell_type": "code",
   "execution_count": null,
   "id": "7cdf3fb6-952d-496f-98b1-f8c9f16573da",
   "metadata": {},
   "outputs": [],
   "source": [
    "molc = '''12\n",
    "\n",
    "H          1.21943       -0.16516        2.15996\n",
    "C          0.68248       -0.09239        1.20875\n",
    "C         -0.70744       -0.03519        1.19732\n",
    "H         -1.26436       -0.06297        2.13935\n",
    "C         -1.38982        0.05722       -0.01143\n",
    "H         -2.48356        0.10214       -0.02044\n",
    "C         -0.68242        0.09248       -1.20876\n",
    "H         -1.21940        0.16520       -2.15990\n",
    "C          0.70748        0.03523       -1.19730\n",
    "H          1.26413        0.06285       -2.13946\n",
    "C          1.38989       -0.05717        0.01143\n",
    "H          2.48360       -0.10222        0.02049\n",
    "'''\n",
    "view_m4 = py3Dmol.view(width=250,height=250)\n",
    "view_m4.addModel(molc,'molc')\n",
    "view_m4.setStyle({'stick':{}})\n",
    "#xyzview.setBackgroundColor('0xeeeeee')\n",
    "view_m4.animate({'loop': 'backAndForth'})\n",
    "view_m4.zoomTo()\n",
    "view_m4.show()"
   ]
  },
  {
   "cell_type": "code",
   "execution_count": null,
   "id": "c2d4dd2a-eb6d-4ac3-b5ac-b1797505664c",
   "metadata": {},
   "outputs": [],
   "source": []
  },
  {
   "cell_type": "markdown",
   "id": "242b4a3e-8a92-4f37-8a32-59a41052ab43",
   "metadata": {},
   "source": [
    "**<font color=red> Vamos ahora atilizar el modulo *PSI4* para desarrollar algunos ejercicios de cálculo mecánico-cuántico. En este Cuaderno de Jupyter Realizaremos el Análisis Vibracional utilizando el paquete desarrollado por el Prof. Tom Allison. *Advertencia: Cada vez que se requiera ejecutar un calculo con este paquete, se debe reiniciar el kernel*.** "
   ]
  },
  {
   "cell_type": "markdown",
   "id": "8ea4c016-d1b4-485c-b36b-3f633ce76ffd",
   "metadata": {},
   "source": [
    "**<font color=green> Inicializamos las condiciones de maquina.** "
   ]
  },
  {
   "cell_type": "code",
   "execution_count": null,
   "id": "b6b829e0-d505-45d3-b860-239db009edff",
   "metadata": {},
   "outputs": [],
   "source": [
    "psi4.core.clean()\n",
    "psi4.core.clean_options()\n",
    "psi4.set_memory('2000 MB')  # Memoria que sera utilizada en el cálculo\n",
    "psi4.set_num_threads(8)    # Cnatida de hilos a utilzar, tener en cuenta que un núcleo soporta 24 hilos "
   ]
  },
  {
   "cell_type": "markdown",
   "id": "5a4faec7-ffb8-4884-a117-cee2117842ad",
   "metadata": {},
   "source": [
    "**<font color=green>Podemos realizar los mismos calculos sobre el ángulo *H-O-H* y graficar los resultados.** "
   ]
  },
  {
   "cell_type": "code",
   "execution_count": 27,
   "id": "cc90a9a0-bce4-4156-9294-9b787d6c511a",
   "metadata": {},
   "outputs": [
    {
     "name": "stdout",
     "output_type": "stream",
     "text": [
      "Optimizer: Optimization complete!\n"
     ]
    },
    {
     "ename": "NameError",
     "evalue": "name 'vib' is not defined",
     "output_type": "error",
     "traceback": [
      "\u001b[0;31m---------------------------------------------------------------------------\u001b[0m",
      "\u001b[0;31mNameError\u001b[0m                                 Traceback (most recent call last)",
      "\u001b[0;32m<ipython-input-27-c16d9b555c35>\u001b[0m in \u001b[0;36m<module>\u001b[0;34m\u001b[0m\n\u001b[1;32m     31\u001b[0m \u001b[0;31m# Calculamos las intensidades IR usand el paquete CHE525_vib desarrollado por el Prof. Tom Allison de\u001b[0m\u001b[0;34m\u001b[0m\u001b[0;34m\u001b[0m\u001b[0;34m\u001b[0m\u001b[0m\n\u001b[1;32m     32\u001b[0m \u001b[0;31m# Stony Brook University, la función eps ajusta los pasos!\u001b[0m\u001b[0;34m\u001b[0m\u001b[0;34m\u001b[0m\u001b[0;34m\u001b[0m\u001b[0m\n\u001b[0;32m---> 33\u001b[0;31m \u001b[0mvib_results\u001b[0m \u001b[0;34m=\u001b[0m \u001b[0mvib\u001b[0m\u001b[0;34m.\u001b[0m\u001b[0mdipder\u001b[0m\u001b[0;34m(\u001b[0m\u001b[0mmethod\u001b[0m\u001b[0;34m,\u001b[0m\u001b[0mHOH\u001b[0m\u001b[0;34m,\u001b[0m \u001b[0meps\u001b[0m \u001b[0;34m=\u001b[0m \u001b[0;36m0.01\u001b[0m\u001b[0;34m)\u001b[0m\u001b[0;34m\u001b[0m\u001b[0;34m\u001b[0m\u001b[0m\n\u001b[0m\u001b[1;32m     34\u001b[0m \u001b[0;34m\u001b[0m\u001b[0m\n\u001b[1;32m     35\u001b[0m \u001b[0;31m# Mostramos los resultados en pantalla\u001b[0m\u001b[0;34m\u001b[0m\u001b[0;34m\u001b[0m\u001b[0;34m\u001b[0m\u001b[0m\n",
      "\u001b[0;31mNameError\u001b[0m: name 'vib' is not defined"
     ]
    }
   ],
   "source": [
    "psi4.core.set_output_file('./Data/H2O_Vib.dat', False) # Archivo de salida\n",
    "# Vamos a definir otra forma de flexibilizar unos de los parámetros structurales, en este casp el ángulo\n",
    "# entre los hidrógeno, utilizamos el formato Z-matrix\n",
    "HOH_v= \"\"\"\n",
    "    o\n",
    " h   1 ho2     \n",
    " h    1 ho3         2 hoh3      \n",
    "\n",
    "ho2=        0.95\n",
    "ho3=        0.95\n",
    "hoh3=       107.0\"\"\"\n",
    "\n",
    "# Método de Cálculo\n",
    "method='scf/6-31G*'\n",
    "\n",
    "# Definimos la geometría de la molécula de acuerdo psi4  \n",
    "HOH = psi4.geometry(HOH_v) \n",
    "\n",
    "# Optimizamos la geometría\n",
    "E0, wfn0 = psi4.optimize(method, molecule = HOH, return_wfn = True) # optimización inicial\n",
    "\n",
    "# visualización de los modos normales de vibración.\n",
    "psi4.set_options({\"normal_modes_write\": True})\n",
    "\n",
    "# Adiciona algunos caracteres al nombre del archivo de salida \n",
    "psi4.set_options({\"writer_file_label\": \"h2o-hf\"})\n",
    "\n",
    "# Calcula la frecuencias usando la geometría optimizada\n",
    "psi4.frequencies(method)\n",
    "\n",
    "# Calculamos las intensidades IR usand el paquete CHE525_vib desarrollado por el Prof. Tom Allison de \n",
    "# Stony Brook University, la función eps ajusta los pasos!\n",
    "vib_results = vib.dipder(method,HOH, eps = 0.01)\n",
    "\n",
    "# Mostramos los resultados en pantalla\n",
    "vib=[(np.array(vib_results['om'])).real, np.array(vib_results['IR_Intensity'])]\n",
    "Results_vib = pd.DataFrame(vib).T.set_axis(['cm^-1', 'IR active [km/mol]'], axis=1, inplace=False)\n",
    "Results_vib \n",
    "# Convertimos a DataFrame y Guardamos el archivo!\n",
    "Results_vib.to_csv('vib_results.csv')"
   ]
  },
  {
   "cell_type": "code",
   "execution_count": null,
   "id": "4245251e-5660-4d63-9658-3980e92d7a0c",
   "metadata": {},
   "outputs": [],
   "source": [
    "from pyscf import gto\n",
    "from pyscf.hessian import thermo\n",
    "\n",
    "# First compute nuclear Hessian.\n",
    "mol = gto.M(\n",
    "    atom = '''c   1.217739890298750 -0.703062453466927  0.000000000000000\n",
    "h   2.172991468538160 -1.254577209307266  0.000000000000000\n",
    "c   1.217739890298750  0.703062453466927  0.000000000000000\n",
    "h   2.172991468538160  1.254577209307266  0.000000000000000\n",
    "c   0.000000000000000  1.406124906933854  0.000000000000000\n",
    "h   0.000000000000000  2.509154418614532  0.000000000000000\n",
    "c  -1.217739890298750  0.703062453466927  0.000000000000000\n",
    "h  -2.172991468538160  1.254577209307266  0.000000000000000\n",
    "c  -1.217739890298750 -0.703062453466927  0.000000000000000\n",
    "h  -2.172991468538160 -1.254577209307266  0.000000000000000\n",
    "c   0.000000000000000 -1.406124906933854  0.000000000000000\n",
    "h   0.000000000000000 -2.509154418614532  0.000000000000000''',\n",
    "    basis = '631g')\n",
    "\n",
    "#Usamos RHF\n",
    "mf = mol.RHF().run()\n",
    "hessian = mf.Hessian().kernel()\n",
    "\n",
    "# Usamos dft\n",
    "mf2 = mol.KS().run()\n",
    "mf2.xc = 'b3lyp'\n",
    "hessian2 = mf2.Hessian().kernel()\n",
    "\n",
    "# Frequency analysis HF\n",
    "freq_info = thermo.harmonic_analysis(mf.mol, hessian)\n",
    "# Thermochemistry analysis at 298.15 K and 1 atmospheric pressure\n",
    "thermo_info = thermo.thermo(mf, freq_info['freq_au'], 298.15, 101325)\n",
    "Thermo=(thermo_info['ZPE'], thermo_info['E_tot' ], thermo_info['H_tot'], thermo_info['G_tot' ], thermo_info['Cv_tot'])\n",
    "Thermo1=pd.DataFrame(Thermo, index=['ZPE', 'E_int', 'H_tot', 'G_tot', 'Cv_tot'], columns=['Values', 'units'])\n",
    "Thermo1\n",
    "\n",
    "# Frequency analysis DFT\n",
    "freq_info2 = thermo.harmonic_analysis(mf2.mol, hessian2)\n",
    "# Thermochemistry analysis at 298.15 K and 1 atmospheric pressure\n",
    "thermo_info2 = thermo.thermo(mf2, freq_info2['freq_au'], 298.15, 101325)\n",
    "Thermo2=(thermo_info2['ZPE'], thermo_info2['E_tot' ], thermo_info2['H_tot'], thermo_info2['G_tot' ], \n",
    "         thermo_info2['Cv_tot'])\n",
    "Thermo3=pd.DataFrame(Thermo2, index=['ZPE', 'E_int', 'H_tot', 'G_tot', 'Cv_tot'], columns=['Values', 'units'])\n",
    "Thermo3\n",
    "\n",
    "#print('Rotation constant')\n",
    "#print(thermo_info['rot_const'])\n",
    "\n",
    "#print('Zero-point energy')\n",
    "#print(thermo_info['ZPE'   ])\n",
    "\n",
    "#print('Internal energy at 0 K')\n",
    "#print(thermo_info['E_0K'  ])\n",
    "\n",
    "#print('Internal energy at 298.15 K')\n",
    "#print(thermo_info['E_tot' ])\n",
    "\n",
    "#print('Enthalpy energy at 298.15 K')\n",
    "#print(thermo_info['H_tot' ])\n",
    "\n",
    "#print('Gibbs free energy at 298.15 K')\n",
    "#print(thermo_info['G_tot' ])\n",
    "\n",
    "#print('Heat capacity at 298.15 K')\n",
    "#print(thermo_info['Cv_tot'])"
   ]
  },
  {
   "cell_type": "code",
   "execution_count": null,
   "id": "cb97d917-1898-4148-a3ab-2f68c20a686b",
   "metadata": {},
   "outputs": [],
   "source": [
    "Thermo1"
   ]
  },
  {
   "cell_type": "code",
   "execution_count": 28,
   "id": "b1115f88-b482-43f4-9148-7a5a9ed3b6ce",
   "metadata": {},
   "outputs": [
    {
     "data": {
      "text/plain": [
       "-6321.436695032364"
      ]
     },
     "execution_count": 28,
     "metadata": {},
     "output_type": "execute_result"
    }
   ],
   "source": [
    "from ase.calculators.psi4 import Psi4\n",
    "from ase.build import molecule\n",
    "import numpy as np\n",
    "from ase.vibrations import Infrared\n",
    "\n",
    "atoms = molecule('C6H6')\n",
    "\n",
    "calc = Psi4(atoms = atoms,\n",
    "        method = 'b3lyp',\n",
    "        memory = '500MB', \n",
    "        basis = '6-311g_d_p_',\n",
    "        scf_type = 'pk',\n",
    "        e_convergence= 1e-8)# this is the default, be aware!\n",
    "\n",
    "atoms.calc = calc\n",
    "#calc.get_dipole_moment(atoms)\n",
    "atoms.get_potential_energy()\n",
    "#print(atoms.get_forces())\n",
    "#print(atoms.get_dipole_moments())"
   ]
  },
  {
   "cell_type": "code",
   "execution_count": 31,
   "id": "46ecd6fb-da44-44f3-93de-380bd3401164",
   "metadata": {},
   "outputs": [
    {
     "name": "stdout",
     "output_type": "stream",
     "text": [
      "Warning: used thermodynamics relations inappropriate for low-frequency modes: ['463.5109' '463.5113']\n"
     ]
    },
    {
     "data": {
      "text/plain": [
       "(-230.7219730949369, <psi4.core.RHF at 0x7f7a990d7e90>)"
      ]
     },
     "execution_count": 31,
     "metadata": {},
     "output_type": "execute_result"
    }
   ],
   "source": [
    "calc.psi4.frequency('scf/cc-pvdz', molecule=calc.molecule, return_wfn=True)"
   ]
  },
  {
   "cell_type": "code",
   "execution_count": null,
   "id": "cf55646d-7f4c-4ca8-80ce-129d996955f3",
   "metadata": {},
   "outputs": [],
   "source": [
    "import pandas as pd\n",
    "from ase. vibrations import Vibrations\n",
    "from ase . optimize import BFGS\n",
    "opt = BFGS(atoms)\n",
    "opt.run(fmax = 0.01)\n",
    "vib = Vibrations(atoms)\n",
    "data1=vib.run ()\n",
    "data=pd.DataFrame(vib.summary())"
   ]
  },
  {
   "cell_type": "code",
   "execution_count": null,
   "id": "03f26ab7-8a49-4fff-a1a7-a6c8773dcca5",
   "metadata": {},
   "outputs": [],
   "source": [
    "data1"
   ]
  },
  {
   "cell_type": "code",
   "execution_count": null,
   "id": "a8866d20-39db-4fbc-a122-47b00c3eb99f",
   "metadata": {},
   "outputs": [],
   "source": []
  }
 ],
 "metadata": {
  "kernelspec": {
   "display_name": "psi42",
   "language": "python",
   "name": "p4env2"
  },
  "language_info": {
   "codemirror_mode": {
    "name": "ipython",
    "version": 3
   },
   "file_extension": ".py",
   "mimetype": "text/x-python",
   "name": "python",
   "nbconvert_exporter": "python",
   "pygments_lexer": "ipython3",
   "version": "3.7.10"
  }
 },
 "nbformat": 4,
 "nbformat_minor": 5
}
