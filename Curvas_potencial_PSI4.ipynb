{
 "cells": [
  {
   "cell_type": "markdown",
   "id": "public-iceland",
   "metadata": {},
   "source": [
    "<div class=\"alert alert-success\" role=\"alert\">\n",
    "  <h1 class=\"alert-heading\">Curvas de Potencial</h1>\n",
    "  <h3 class=\"alert-heading\">Prof. Enrique Mejía Ospino, emejia@uis.edu.co</h3>\n",
    "  <h4 class=\"alert-heading\">Escuela de Química</h4>\n",
    "  <h4 class=\"alert-heading\">Universidad Industrial de Santander</h4>\n",
    "  </div>"
   ]
  },
  {
   "cell_type": "markdown",
   "id": "sunrise-torture",
   "metadata": {},
   "source": [
    "**<font color=green size=5>OPCIÓN 1**\n",
    "\n",
    "**<font color=green> Vamos  atilizar el modulo *PSI4* para desarrollar algunos ejercicios de cálculo mecánico-cuántico. En este Cuaderno de Jupyter obtenemos curvas de potencial 2D de moléculas diatómicas y triatómicas.** "
   ]
  },
  {
   "cell_type": "code",
   "execution_count": 10,
   "id": "municipal-saver",
   "metadata": {},
   "outputs": [],
   "source": [
    "import psi4\n",
    "import numpy as np\n",
    "import matplotlib.pyplot as plt\n",
    "from rdkit import Chem\n",
    "from rdkit.Chem.Draw import IPythonConsole\n",
    "import h5py\n",
    "import pandas as pd\n",
    "%matplotlib inline"
   ]
  },
  {
   "cell_type": "markdown",
   "id": "fleet-transportation",
   "metadata": {},
   "source": [
    "**<font color=green> Inicializamos las condiciones de maquina.** "
   ]
  },
  {
   "cell_type": "code",
   "execution_count": 11,
   "id": "martial-seminar",
   "metadata": {},
   "outputs": [],
   "source": [
    "psi4.core.clean()\n",
    "psi4.core.clean_options()\n",
    "psi4.set_memory('2000 MB')  # Memoria que sera utilizada en el cálculo\n",
    "psi4.set_num_threads(8)    # Cnatida de hilos a utilzar, tener en cuenta que un núcleo soporta 24 hilos\n",
    "psi4.core.set_output_file('./Data/pes1.dat', False)"
   ]
  },
  {
   "cell_type": "markdown",
   "id": "dramatic-compilation",
   "metadata": {},
   "source": [
    "**<font color=green> Definimos la geometría de la molécula (HF), en este caso en formato Z-matriz y asignando la distancia entre los dos átomos con una variable *R*.** "
   ]
  },
  {
   "cell_type": "code",
   "execution_count": 12,
   "id": "436a5ca5-ca19-4904-8e4a-34dd30485bf6",
   "metadata": {},
   "outputs": [
    {
     "data": {
      "image/png": "[encoded data removed]",
      "text/plain": [
       "<rdkit.Chem.rdchem.Mol at 0x7f6feee8c3f0>"
      ]
     },
     "execution_count": 12,
     "metadata": {},
     "output_type": "execute_result"
    }
   ],
   "source": [
    "IPythonConsole.molSize = 50,30\n",
    "hf = Chem.MolFromSmiles('F')\n",
    "hf"
   ]
  },
  {
   "cell_type": "code",
   "execution_count": 13,
   "id": "occupational-wonder",
   "metadata": {},
   "outputs": [],
   "source": [
    "HF = \"\"\"H\n",
    "F 1 **R**\"\"\"\n",
    "rvals = [0.8, 0.85, 0.9, 0.95, 1.0]"
   ]
  },
  {
   "cell_type": "markdown",
   "id": "occupational-manufacturer",
   "metadata": {},
   "source": [
    "**<font color=green> Obtenemos los valores de energía para los diferentes valor de *R* utilizando *Hatree Fock (HF)* como métdo de cálculo y la base *cc-pVDZ*.** "
   ]
  },
  {
   "cell_type": "code",
   "execution_count": 14,
   "id": "statewide-destiny",
   "metadata": {},
   "outputs": [
    {
     "name": "stdout",
     "output_type": "stream",
     "text": [
      "[0.8, 0.85, 0.9, 0.95, 1.0]\n",
      "[-99.43210493039616, -99.45017781051483, -99.45856808038955, -99.460033481349, -99.45655192660854]\n"
     ]
    }
   ],
   "source": [
    "molecules =[]\n",
    "energies = []\n",
    "for r in rvals:\n",
    "    molecule = psi4.geometry(HF.replace(\"**R**\", str(r)))\n",
    "    molecules.append(molecule)\n",
    "for mol in molecules:\n",
    "    energy = psi4.energy(\"SCF/3-21g\", molecule=mol)\n",
    "    energies.append(energy)\n",
    "print(rvals)\n",
    "print(energies)"
   ]
  },
  {
   "cell_type": "markdown",
   "id": "approximate-coupon",
   "metadata": {},
   "source": [
    "**<font color=green> Ahora vamos a utilizar un arreglo más grande de valores de *R* y la molécula de Nitrógeno (N2) con el fín de graficar los resultados.** "
   ]
  },
  {
   "cell_type": "code",
   "execution_count": 22,
   "id": "71e83fa5-d3e4-48fb-b373-a46b65187e3b",
   "metadata": {},
   "outputs": [
    {
     "data": {
      "image/png": "[encoded data removed]",
      "text/plain": [
       "<rdkit.Chem.rdchem.Mol at 0x7fcd6dae4080>"
      ]
     },
     "execution_count": 22,
     "metadata": {},
     "output_type": "execute_result"
    }
   ],
   "source": [
    "IPythonConsole.molSize = 50,30\n",
    "hf = Chem.MolFromSmiles('N#N')\n",
    "hf"
   ]
  },
  {
   "cell_type": "code",
   "execution_count": 15,
   "id": "republican-headset",
   "metadata": {},
   "outputs": [],
   "source": [
    "N2 = \"\"\"N\n",
    "N 1 **d**\"\"\"\n",
    "rvalsn2 = np.linspace(0.7, 4, 50)"
   ]
  },
  {
   "cell_type": "markdown",
   "id": "secure-banner",
   "metadata": {},
   "source": [
    "**<font color=green>Obtenemos las energías.** "
   ]
  },
  {
   "cell_type": "code",
   "execution_count": 18,
   "id": "alone-veteran",
   "metadata": {},
   "outputs": [
    {
     "name": "stdout",
     "output_type": "stream",
     "text": [
      "[-107.61328499560439, -108.20671302722226, -108.57267687584132, -108.78736856591172, -108.90136302740973, -108.94877519190801, -108.95281817650815, -108.9292822013627, -108.88885084340791, -108.83871081855055, -108.78366675277759, -108.72689212839227, -108.67043027682652, -108.61553976379312, -108.56294543495999, -108.51302431075479, -108.46593778020008, -108.42171824638284, -108.38032101754276, -108.34165372308337, -108.30559366670029, -108.27199960609799, -108.24072076544688, -108.2116037772521, -108.18449763667253, -108.15925687295835, -108.13574335554377, -108.11382720236956, -108.09338716330812, -108.07431071050516, -108.05649395245459, -108.03984142230142, -108.02426576411682, -108.009687334141, -107.99603373246819, -107.98323927848912, -107.97124444080303, -107.95999523233041, -107.94944258381521, -107.93954171516936, -107.93025152676435, -107.92153403575618, -107.91335387615192, -107.90567787885388, -107.89847473519696, -107.89171474188981, -107.88536961814589, -107.87941238224212, -107.8738172735392, -107.86855970679005]\n"
     ]
    }
   ],
   "source": [
    "molecules =[]\n",
    "energies = []\n",
    "for r in rvalsn2:\n",
    "    molecule = psi4.geometry(N2.replace(\"**d**\", str(r)))\n",
    "    molecules.append(molecule)\n",
    "for mol in molecules:\n",
    "    energy = psi4.energy(\"SCF/cc-pVDZ\", molecule=mol)\n",
    "    energies.append(energy)\n",
    "#print(rvals)\n",
    "print(energies)"
   ]
  },
  {
   "cell_type": "markdown",
   "id": "exterior-estonia",
   "metadata": {},
   "source": [
    "**<font color=green>Graficamos.** "
   ]
  },
  {
   "cell_type": "code",
   "execution_count": 22,
   "id": "reserved-chance",
   "metadata": {},
   "outputs": [
    {
     "data": {
      "image/png": "[encoded data removed]",
      "text/plain": [
       "<Figure size 432x288 with 1 Axes>"
      ]
     },
     "metadata": {
      "needs_background": "light"
     },
     "output_type": "display_data"
    }
   ],
   "source": [
    "fig, ax = plt.subplots()\n",
    "#ax.scatter(rvalsn2, energies, color='red', edgecolors=(0, 0, 0))\n",
    "ax.plot(rvalsn2, energies, color='red', lw=3)\n",
    "ax.set_xlabel('d(A)')\n",
    "ax.set_ylabel('Energy')\n",
    "plt.show()"
   ]
  },
  {
   "cell_type": "markdown",
   "id": "affecting-benchmark",
   "metadata": {},
   "source": [
    "**<font color=blue size=5>OPCIÓN 2**\n",
    "\n",
    "**<font color=blue> Vamos  atilizar el modulo *PSI4* para desarrollar algunos ejercicios de cálculo mecánico-cuántico. En este Cuaderno de Jupyter obtenemos curvas de potencial 2D de moléculas diatómicas y triatómicas.** "
   ]
  },
  {
   "cell_type": "code",
   "execution_count": 10,
   "id": "wicked-houston",
   "metadata": {},
   "outputs": [],
   "source": [
    "# Definimos la Molécula\n",
    "n2 = \"\"\"\n",
    "n\n",
    "n   1 hh2     \n",
    "\n",
    "hh2 = {0}\"\"\"\n",
    "\n",
    "# Métodos de cálculo\n",
    "method1 = 'scf/cc-pvdz'\n",
    "method2 = 'casscf/cc-pvdz'\n",
    "\n",
    "psi4.core.set_output_file('./Data/n2-cas-symm.dat', False) "
   ]
  },
  {
   "cell_type": "code",
   "execution_count": 11,
   "id": "occupational-approach",
   "metadata": {},
   "outputs": [],
   "source": [
    "rn =[]\n",
    "energies = []\n",
    "rn2 = np.linspace(0.7, 4, num=50)\n",
    "for r in rn2:\n",
    "    molecula = psi4.geometry(n2.format(r))\n",
    "    molecula.reset_point_group('d2h')\n",
    "    psi4.set_options({'fail_on_maxiter':'false'})\n",
    "    psi4.set_options({'restricted_docc':[1,0,0,0,0,1,0,0]})\n",
    "    psi4.set_options({'active':[2,0,1,1,0,2,1,1]})\n",
    "    Ei, wfni = psi4.energy(method2, molecule = molecula, return_wfn = True)\n",
    "    rn.append(r)\n",
    "    energies.append(Ei)\n",
    "    #psi4.molden(wfni,\"n2-cas-symm.\"+str(r)+\".molden\") # Guarda cada uno en formato molden \n",
    "    \n",
    "#np.savetxt(\"n2-cas-symm.csv\", energies, delimiter=\",\",header='H-H Distance,E',comments='')"
   ]
  },
  {
   "cell_type": "code",
   "execution_count": 11,
   "id": "finnish-wealth",
   "metadata": {},
   "outputs": [
    {
     "data": {
      "image/png": "[encoded data removed]",
      "text/plain": [
       "<Figure size 432x288 with 1 Axes>"
      ]
     },
     "metadata": {
      "needs_background": "light"
     },
     "output_type": "display_data"
    }
   ],
   "source": [
    "fig, ax = plt.subplots()\n",
    "ax.scatter(rn, energies, color='red', edgecolors=(0, 0, 0))\n",
    "ax.set_xlabel('d(A)')\n",
    "ax.set_ylabel('Energy')\n",
    "plt.show()"
   ]
  },
  {
   "cell_type": "markdown",
   "id": "inner-capitol",
   "metadata": {},
   "source": [
    "**<font color=green>Podemos realizar los mismos calculos sobre el ángulo *H-O-H* y graficar los resultados.** "
   ]
  },
  {
   "cell_type": "code",
   "execution_count": 12,
   "id": "different-legislature",
   "metadata": {},
   "outputs": [],
   "source": [
    "# Vamos a definir otra forma de flexibilizar unos de los parámetros structurales, en este casp el ángulo\n",
    "# entre los hidrógeno, utilizamos el formato Z-matrix\n",
    "H2O_angle = \"\"\"\n",
    "O\n",
    "H 1 0.96\n",
    "H 1 0.96 2 {}\n",
    "\"\"\"\n",
    "\n",
    "# Scan del ángulo se realizará en el interválo de 30 330, en incrementos de 5 grados\n",
    "scan = {}\n",
    "for angle in range(30, 331, 5):\n",
    "    # Llamamos la molécula en sus diferentesa ángulos\n",
    "    mol = psi4.geometry(H2O_angle.format(angle))\n",
    "    # se evoca psi4\n",
    "    e = psi4.energy('scf/cc-pvdz', molecule=mol) # usamos HF y la base cc-pvdz\n",
    "    \n",
    "    # guardamos los resultados\n",
    "    scan[angle] = e"
   ]
  },
  {
   "cell_type": "code",
   "execution_count": 13,
   "id": "later-eclipse",
   "metadata": {},
   "outputs": [
    {
     "data": {
      "image/png": "[encoded data removed]",
      "text/plain": [
       "<Figure size 432x288 with 1 Axes>"
      ]
     },
     "metadata": {
      "needs_background": "light"
     },
     "output_type": "display_data"
    }
   ],
   "source": [
    "# Visualizar el pérfil de energía\n",
    "x = list(scan.keys())\n",
    "y = list(scan.values())\n",
    "plt.plot(x,y,'bo-')\n",
    "plt.xlabel(r'H-O-H Bond Angle ($^{o}$)')\n",
    "plt.ylabel('Molecular Energy ($E_h$)')\n",
    "plt.show()"
   ]
  },
  {
   "cell_type": "markdown",
   "id": "fantastic-killer",
   "metadata": {},
   "source": [
    "**<font color=green>Vamos a realizar la curva de potencial angular de la molécula de peróxido de hidrógeno (HOOH), aquí se variará el ángulo dihedro *dih4* manteniendo fijos los demás átomos.** "
   ]
  },
  {
   "cell_type": "code",
   "execution_count": 14,
   "id": "invalid-holmes",
   "metadata": {},
   "outputs": [],
   "source": [
    "HOOH_ang= \"\"\"\n",
    "    o\n",
    " o   1 oo2     \n",
    " h    1 ho3         2 hoo3      \n",
    " h    2 ho4         1 hoo4          3 dih4   \n",
    " \n",
    "oo2=        1.462461\n",
    "ho3=        0.954335\n",
    "hoo3=       101.178\n",
    "ho4=        0.954364\n",
    "hoo4=       101.183\n",
    "dih4=       {0}\"\"\""
   ]
  },
  {
   "cell_type": "code",
   "execution_count": 15,
   "id": "chemical-afghanistan",
   "metadata": {},
   "outputs": [],
   "source": [
    "# Archivo de salida\n",
    "psi4.core.set_output_file('./Data/PES_rot_rig.dat', False)\n",
    "\n",
    "E_theta = np.empty((0,2)) # Una marix 2D para almacenar los resultados\n",
    "for theta in range(0, 361, 5): # Se scanearán estos ángulos\n",
    "    # Optimizamos la molécula en sus diferentesa ángulos\n",
    "    HOOH = psi4.geometry(HOOH_ang.format(theta))\n",
    "    # Calculamos la energía\n",
    "    Ei, wfni = psi4.energy('scf/6-31G', molecule = HOOH, return_wfn = True) # usamos HF y la base 6-31G\n",
    "    E_theta = np.append(E_theta, [[theta,Ei]], axis=0) # Almacenamos los resultados, theta y Energía\n",
    "    # Guardamos en el formato molden cada una de las estructuras optimizadas para cada ángulo\n",
    "    psi4.molden(wfni,\"./Data/PES_rot_rig.\"+str(theta)+\".molden\")\n",
    "\n",
    "np.savetxt(\"./Data/PES_rot_rig.csv\", E_theta, delimiter=\",\",header='H-O-O-H Dihedral Angle,E_rigid',comments='')\n",
    "PES=pd.DataFrame(E_theta)"
   ]
  },
  {
   "cell_type": "code",
   "execution_count": 18,
   "id": "robust-polls",
   "metadata": {},
   "outputs": [
    {
     "data": {
      "image/png": "[encoded data removed]",
      "text/plain": [
       "<Figure size 432x288 with 1 Axes>"
      ]
     },
     "metadata": {
      "needs_background": "light"
     },
     "output_type": "display_data"
    }
   ],
   "source": [
    "# Visualizar el pérfil de energía\n",
    "x = PES[0]\n",
    "y = PES[1]\n",
    "plt.plot(x,y,'ko-')\n",
    "plt.xlabel(r'H-O-O-H Dihedral Angle ($^{o}$)')\n",
    "plt.ylabel('Molecular Energy ($E_h$)')\n",
    "plt.show()"
   ]
  },
  {
   "cell_type": "markdown",
   "id": "alternate-official",
   "metadata": {},
   "source": [
    "**<font color=green>Vamos a realizar la curva de potencial angular de la molécula de peróxido de hidrógeno (HOOH), aquí se variará el ángulo dihedro *dih4* pero ahora permitiendo que las demás coordenadas (ángulos, enlaces) se otimizan con cada variación.** "
   ]
  },
  {
   "cell_type": "code",
   "execution_count": 49,
   "id": "prescribed-quantum",
   "metadata": {},
   "outputs": [],
   "source": [
    "# Archivo de salida\n",
    "psi4.core.set_output_file('./Data/PES_rot_relax.dat', False)\n",
    "\n",
    "E_theta = np.empty((0,2)) # Una marix 2D para almacenar los resultados\n",
    "for theta in range(0, 361, 5): # Se scanearán estos ángulos\n",
    "    # Optimizamos la molécula en sus diferentes ángulos\n",
    "    HOOH = psi4.geometry(HOOH_ang.format(theta))\n",
    "    # Reseteamos la simetría\n",
    "    HOOH.reset_point_group('c1')\n",
    "    # mantenemos fijo el angulo dihedro que esta entre los atomos 4, 2, 1 y 3 mientras se optimiza la molécula\n",
    "    psi4.set_module_options('optking', {'frozen_dihedral': '4 2 1 3 '})\n",
    "    # Calculamos la energía\n",
    "    Ei, wfni = psi4.energy('scf/6-31G', molecule = HOOH, return_wfn = True) # usamos HF y la base 6-31G\n",
    "    E_theta = np.append(E_theta, [[theta,Ei]], axis=0) # Almacenamos los resultados, theta y Energía\n",
    "    # Guardamos en el formato molden cada una de las estructuras optimizadas para cada ángulo\n",
    "    #psi4.molden(wfni,\"/home/emejia/Documents/PES_rot_relax.\"+str(theta)+\".molden\")\n",
    "\n",
    "np.savetxt(\"./Data/PES_rot_relax.csv\", E_theta, delimiter=\",\",header='H-O-O-H Dihedral Angle,E_rigid',comments='')\n",
    "PES2=pd.DataFrame(E_theta)"
   ]
  },
  {
   "cell_type": "code",
   "execution_count": 48,
   "id": "elect-booth",
   "metadata": {},
   "outputs": [
    {
     "data": {
      "image/png": "[encoded data removed]",
      "text/plain": [
       "<Figure size 432x288 with 1 Axes>"
      ]
     },
     "metadata": {
      "needs_background": "light"
     },
     "output_type": "display_data"
    }
   ],
   "source": [
    "# Visualizar el pérfil de energía\n",
    "x = PES2[0]\n",
    "y = PES2[1]\n",
    "plt.plot(x,y,'yo-')\n",
    "plt.xlabel(r'H-O-O-H Dihedral Angle ($^{o}$)')\n",
    "plt.ylabel('Molecular Energy ($E_h$)')\n",
    "plt.show()"
   ]
  },
  {
   "cell_type": "code",
   "execution_count": 39,
   "id": "525c44d7-3d87-4973-bcf2-c2d82688c823",
   "metadata": {},
   "outputs": [],
   "source": [
    "h2o = \"\"\"\n",
    "O\n",
    "H 1 **R**\n",
    "H 1 **R** 2 **A**\n",
    "\"\"\"\n",
    "#R = {0}\n",
    "#A = {0}\"\"\""
   ]
  },
  {
   "cell_type": "code",
   "execution_count": 47,
   "id": "suffering-language",
   "metadata": {},
   "outputs": [
    {
     "name": "stdout",
     "output_type": "stream",
     "text": [
      "                              E(SCF)     E(SCS)   E(DFMP2)\n",
      "(0.7, 60)                 -75.655446 -75.841069 -75.846476\n",
      "(0.7999999999999999, 60)  -75.862554 -76.055743 -76.061103\n",
      "(0.8999999999999999, 60)  -75.945434 -76.146316 -76.151526\n",
      "(0.9999999999999999, 60)  -75.962900 -76.171670 -76.176612\n",
      "(1.0999999999999999, 60)  -75.946259 -76.162863 -76.167402\n",
      "...                              ...        ...        ...\n",
      "(0.9999999999999999, 158) -75.962900 -76.171670 -76.176612\n",
      "(1.0999999999999999, 158) -75.946259 -76.162863 -76.167402\n",
      "(1.1999999999999997, 158) -75.912592 -76.136535 -76.140527\n",
      "(1.2999999999999998, 158) -75.871358 -76.101535 -76.104840\n",
      "(1.4, 158)                -75.827890 -76.062357 -76.064841\n",
      "\n",
      "[400 rows x 3 columns]\n"
     ]
    }
   ],
   "source": [
    "h2o = \"\"\"\n",
    "O\n",
    "H 1 **R**\n",
    "H 1 **R** 2 **A**\n",
    "\"\"\"\n",
    "\n",
    "Rvals=np.arange(0.7, 1.5, 0.1)\n",
    "Avals=range(60,160,2)\n",
    "\n",
    "rows = []\n",
    "table = []\n",
    "\n",
    "#set basis cc-pvdz\n",
    "\n",
    "for a in Avals:\n",
    "    h2o=h2o.replace(\"**A**\", str(a))\n",
    "    for r in Rvals:\n",
    "        water = psi4.geometry(h2o.replace(\"**R**\", str(r)))\n",
    "        psi4.energy('mp2/cc-pvdz', molecule=water)\n",
    "        escf = psi4.variable('SCF TOTAL ENERGY')\n",
    "        edfmp2 = psi4.variable('MP2 TOTAL ENERGY')\n",
    "        escsmp2 = psi4.variable('SCS-MP2 TOTAL ENERGY')\n",
    "        rows.append((r, a))\n",
    "        table.append([escf, escsmp2, edfmp2])\n",
    "\n",
    "import pandas as pd\n",
    "df = pd.DataFrame(table, columns = [\"E(SCF)\", \"E(SCS)\", \"E(DFMP2)\"], index=rows)\n",
    "print(df)\n",
    "\n",
    "#                E(SCF)     E(SCS)   E(DFMP2)\n",
    "# (0.9, 100) -76.020680 -76.217006 -76.221189\n",
    "# (0.9, 102) -76.021305 -76.217439 -76.221605\n",
    "# (1.0, 100) -76.021264 -76.224987 -76.228727\n",
    "# (1.0, 102) -76.021460 -76.224946 -76.228668\n",
    "# (1.1, 100) -75.990195 -76.201891 -76.205087\n",
    "# (1.1, 102) -75.990085 -76.201498 -76.204676"
   ]
  },
  {
   "cell_type": "code",
   "execution_count": 11,
   "id": "a6526ae2-ec06-4a6e-8047-e9f923314a24",
   "metadata": {},
   "outputs": [],
   "source": [
    "import rdkit\n",
    "from rdkit import Chem"
   ]
  },
  {
   "cell_type": "code",
   "execution_count": 23,
   "id": "93b94e12-0fae-49fb-aed4-84c43efb5606",
   "metadata": {},
   "outputs": [
    {
     "data": {
      "image/png": "[encoded data removed]",
      "text/plain": [
       "<rdkit.Chem.rdchem.Mol at 0x7fcd6dae4530>"
      ]
     },
     "execution_count": 23,
     "metadata": {},
     "output_type": "execute_result"
    }
   ],
   "source": [
    "from rdkit import Chem\n",
    "from rdkit.Chem.Draw import IPythonConsole\n",
    "IPythonConsole.molSize = 350,300\n",
    "doravirine = Chem.MolFromSmiles('c1nccc2n1ccc2')\n",
    "doravirine"
   ]
  },
  {
   "cell_type": "code",
   "execution_count": null,
   "id": "8c0c00b3-1272-4df2-b92b-3a2a012fb136",
   "metadata": {},
   "outputs": [],
   "source": []
  }
 ],
 "metadata": {
  "kernelspec": {
   "display_name": "Python 3",
   "language": "python",
   "name": "python3"
  },
  "language_info": {
   "codemirror_mode": {
    "name": "ipython",
    "version": 3
   },
   "file_extension": ".py",
   "mimetype": "text/x-python",
   "name": "python",
   "nbconvert_exporter": "python",
   "pygments_lexer": "ipython3",
   "version": "3.7.10"
  }
 },
 "nbformat": 4,
 "nbformat_minor": 5
}
