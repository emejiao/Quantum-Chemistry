{
 "cells": [
  {
   "cell_type": "markdown",
   "id": "69f2a083-4291-4c35-86c3-67d3167bd8e9",
   "metadata": {},
   "source": [
    "<div class=\"alert alert-success\" role=\"alert\">\n",
    "  <h1 class=\"alert-heading\">Análisis Vibracional</h1>\n",
    "  <h3 class=\"alert-heading\">Prof. Enrique Mejía Ospino, emejia@uis.edu.co</h3>\n",
    "  <h4 class=\"alert-heading\">Escuela de Química</h4>\n",
    "  <h4 class=\"alert-heading\">Universidad Industrial de Santander</h4>\n",
    "  </div>"
   ]
  },
  {
   "cell_type": "markdown",
   "id": "30fc743c-be9d-4d2e-a886-bbebf36e3563",
   "metadata": {},
   "source": [
    "**<font color=blue> Vamos  atilizar el modulo *PSI4* para desarrollar algunos ejercicios de cálculo mecánico-cuántico. En este Cuaderno de Jupyter realizaremos análisis vibracional de algunas moleculas sencillas.** "
   ]
  },
  {
   "cell_type": "code",
   "execution_count": 2,
   "id": "dec71b99",
   "metadata": {},
   "outputs": [],
   "source": [
    "# Importamos modulos ===============================================================\n",
    "import psi4\n",
    "import numpy as np  \n",
    "import matplotlib.pyplot as plt\n",
    "import h5py\n",
    "import fortecubeview # Visualizar moléculas\n",
    "%matplotlib inline"
   ]
  },
  {
   "cell_type": "code",
   "execution_count": 3,
   "id": "6994d7ea-1e66-45be-995f-df661fae76a7",
   "metadata": {},
   "outputs": [],
   "source": [
    "# Inicialización Psi4 =================================================================\n",
    "\n",
    "psi4.core.clean()\n",
    "psi4.core.clean_options()\n",
    "psi4.set_memory('2000 MB')  # Can make this much larger on Seawulf, each compute node has more than 100 GB RAM\n",
    "psi4.set_num_threads(4)    # Can make this much larger on Seawulf, each compute node can support 24 threads. \n"
   ]
  },
  {
   "cell_type": "code",
   "execution_count": 4,
   "id": "704b2a5c-6512-4794-b5d1-57c515fefd84",
   "metadata": {
    "scrolled": true,
    "tags": []
   },
   "outputs": [],
   "source": [
    "# Inicialización de los archivos de entrada y salida i/o ================================================\n",
    "\n",
    "molecule_name = 'ethene'\n",
    "method = 'scf/3-21G'\n",
    "outfilename = molecule_name + '-scf'\n",
    "psi4.core.set_output_file('./Data/' + outfilename + '.dat', False) \n",
    "#this command sets psi4's output to a file. Comment this line out if you want to see the output on the terminal."
   ]
  },
  {
   "cell_type": "code",
   "execution_count": 5,
   "id": "eef67756-656a-4f58-8b4c-5e8027e42a3f",
   "metadata": {},
   "outputs": [],
   "source": [
    "C2H4 = psi4.geometry(\"\"\" \n",
    " C     0.000000     0.000000     0.000000\n",
    " H     0.000000     0.000000     1.070000\n",
    " C     1.156144     0.000000    -0.667500\n",
    " H    -0.943102     0.000000    -0.544500\n",
    " H     1.156144     0.000000    -1.756500\n",
    " H     2.099246     0.000000    -0.123000\n",
    "   \"\"\")  # formato XYZ"
   ]
  },
  {
   "cell_type": "code",
   "execution_count": 6,
   "id": "e57ec3e2-76b4-4db7-8624-021b36d7c743",
   "metadata": {},
   "outputs": [
    {
     "name": "stdout",
     "output_type": "stream",
     "text": [
      "Optimizer: Optimization complete!\n",
      "\n",
      "============ Fin de cálculos Psi4 y resultados ====================\n",
      "===================================================================\n",
      "===================================================================\n",
      "ethene Energía antes de la Optimización: -77.59922252293538\n",
      "ethene Energía después de la Optimización: -77.60098595836972\n",
      "Cálculo completo\n",
      "\n"
     ]
    }
   ],
   "source": [
    "# Cálculo de energía y optimización de la geometría ====================================\n",
    "E0 = psi4.energy(method)   # calculamos la energía sin optimización\n",
    "E_opt, wfn_opt = psi4.optimize(method, molecule=C2H4,return_wfn = True) \n",
    "# calculamos la energía la función de onda (`wave function') en la geometría optimizada\n",
    "\n",
    "psi4.driver.molden(wfn_opt, './Data/' + outfilename + '.molden') # Se guardan la función de onda en formato molden\n",
    "\n",
    "# Impresión de Resultados ===============================================\n",
    "print()\n",
    "print('============ Fin de cálculos Psi4 y resultados ====================')\n",
    "print('===================================================================')\n",
    "print('===================================================================')\n",
    "print(molecule_name + ' Energía antes de la Optimización: ' + str(E0))\n",
    "print(molecule_name + ' Energía después de la Optimización: ' + str(E_opt))\n",
    "print('Cálculo completo')\n",
    "print()"
   ]
  },
  {
   "cell_type": "code",
   "execution_count": null,
   "id": "6ae85710-eba7-4235-8dc0-a86ca65f41b1",
   "metadata": {},
   "outputs": [],
   "source": []
  }
 ],
 "metadata": {
  "kernelspec": {
   "display_name": "psi4",
   "language": "python",
   "name": "p4env"
  },
  "language_info": {
   "codemirror_mode": {
    "name": "ipython",
    "version": 3
   },
   "file_extension": ".py",
   "mimetype": "text/x-python",
   "name": "python",
   "nbconvert_exporter": "python",
   "pygments_lexer": "ipython3",
   "version": "3.7.10"
  }
 },
 "nbformat": 4,
 "nbformat_minor": 5
}
