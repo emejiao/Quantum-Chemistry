{
 "cells": [
  {
   "cell_type": "markdown",
   "id": "c79b1f13-267d-4eeb-a8bc-3a4105bacb22",
   "metadata": {
    "tags": []
   },
   "source": [
    "<font color=navy size=6>**Entradas de sistemas atómico-moleculares pyscf**\n",
    "    \n",
    "<font color=navy size=5>**Enrique Mejía Ospino**\n",
    "    \n",
    "<font color=navy size=5>**Química Cuántica Avanzada**\n",
    "    \n",
    "<font color=navy size=5>**Universidad Industrial de Santander**"
   ]
  },
  {
   "cell_type": "code",
   "execution_count": 9,
   "id": "faa86432-c951-4bec-962f-48a39bc92c4f",
   "metadata": {},
   "outputs": [],
   "source": [
    "import numpy as np\n",
    "from pyscf import *\n",
    "import matplotlib.pyplot as plt\n",
    "import pandas as pd"
   ]
  },
  {
   "cell_type": "code",
   "execution_count": 10,
   "id": "2b0ffd36-9a7b-4dbf-9bdb-7c4033aac107",
   "metadata": {},
   "outputs": [],
   "source": [
    "mol = gto.Mole()\n",
    "mol.atom ='''\n",
    "O 0 0 0\n",
    "H 0 1 0\n",
    "H 0 0 1\n",
    "'''"
   ]
  },
  {
   "cell_type": "code",
   "execution_count": 33,
   "id": "b0ecb358-c171-4528-aa26-7e801c389262",
   "metadata": {},
   "outputs": [],
   "source": [
    "mol = gto.Mole()\n",
    "mol.atom = '''\n",
    "    O\n",
    "    H  1  1.2\n",
    "    H  1  1.2  2 105\n",
    "'''"
   ]
  },
  {
   "cell_type": "code",
   "execution_count": 16,
   "id": "c85da150-ccab-425c-b001-ec8ef76d15df",
   "metadata": {},
   "outputs": [],
   "source": [
    "mol.atom = '''\n",
    "    O\n",
    "    H  1  1.2\n",
    "    H  r  1.2  2 105\n",
    "r=1'''"
   ]
  },
  {
   "cell_type": "code",
   "execution_count": 27,
   "id": "865dea9d-9b42-431e-9262-291a35e569f8",
   "metadata": {},
   "outputs": [],
   "source": [
    "mol = gto.Mole()\n",
    "mol.atom='''\n",
    "N\n",
    "N 1 rNN\n",
    "H 1 rNH 2 aHNN\n",
    "H 2 rNH 1 aHNN 3 180.0\n",
    "\n",
    "rNH  = 1.0\n",
    "rNN  = 1.4\n",
    "aHNN = 140.0'''"
   ]
  },
  {
   "cell_type": "code",
   "execution_count": 15,
   "id": "57028cc9-ea06-4ed8-ba32-945ec9fe25c3",
   "metadata": {},
   "outputs": [],
   "source": [
    "mol = gto.Mole()\n",
    "mol.atom = '''8 0 0 0; h 0 1 0; H 0 0 1'''"
   ]
  },
  {
   "cell_type": "markdown",
   "id": "c454f261-6046-4e64-9adf-e1e23ac79957",
   "metadata": {},
   "source": [
    "<font color=black size=4>**Las moléculas pueden ser importadas de un archivo en formato *xyz* y convertidas en una geometría de *pyscf* muy facilemente de esta forma:**"
   ]
  },
  {
   "cell_type": "code",
   "execution_count": 37,
   "id": "19c1750d-dcc3-482b-bb92-c8c6d4b62226",
   "metadata": {},
   "outputs": [],
   "source": [
    "mol = gto.Mole()\n",
    "mol.atom='./molecules/benzene.xyz'"
   ]
  },
  {
   "cell_type": "markdown",
   "id": "2f62754a-b434-47af-bd53-a59609e12348",
   "metadata": {},
   "source": [
    "<font color=navy size=5>**Importación y Graficación de Moléculas**"
   ]
  },
  {
   "cell_type": "markdown",
   "id": "4f7ec7c6-0a66-4139-990e-016274e59ccc",
   "metadata": {},
   "source": [
    "<font color=green size=4>**Otra alternativa es utilizar el formato *SMILE*, existe un modulo llamado *RDkit* que, entre otras cosas, puede leer, graficar geometrías moleculares en este formato y convertirlas en geometrías de *xyz* que pueden ser leídas en *pyscf*, aquí va un ejemplo:**"
   ]
  },
  {
   "cell_type": "code",
   "execution_count": 64,
   "id": "e0f94648-1b51-4c64-acb4-37128ab1d562",
   "metadata": {},
   "outputs": [
    {
     "data": {
      "image/png": "[encoded data removed]",
      "text/plain": [
       "<rdkit.Chem.rdchem.Mol at 0x7f5788258580>"
      ]
     },
     "execution_count": 64,
     "metadata": {},
     "output_type": "execute_result"
    }
   ],
   "source": [
    "import rdkit\n",
    "from rdkit import Chem\n",
    "from rdkit.Chem import AllChem\n",
    "from rdkit.Chem.Draw import IPythonConsole\n",
    "IPythonConsole.molSize = 350,300\n",
    "doravirine = Chem.MolFromSmiles('c1nccc2n1ccc2')\n",
    "doravirine = Chem.AddHs(doravirine)\n",
    "AllChem.EmbedMolecule(doravirine)\n",
    "AllChem.MMFFOptimizeMolecule(doravirine)\n",
    "doravirine"
   ]
  },
  {
   "cell_type": "code",
   "execution_count": 65,
   "id": "335fab83-8f5f-49ac-89c9-44933e08d3ba",
   "metadata": {},
   "outputs": [
    {
     "name": "stdout",
     "output_type": "stream",
     "text": [
      "converged SCF energy = -372.756320144927\n"
     ]
    }
   ],
   "source": [
    "Chem.rdmolfiles.MolToXYZFile(doravirine, './molecules/dor.xyz')\n",
    "mol = gto.Mole()\n",
    "mol.atom= './molecules/dor.xyz'\n",
    "mol.build()\n",
    "rhf_dor = scf.RHF(mol)\n",
    "e_h2o = rhf_dor.kernel()"
   ]
  },
  {
   "cell_type": "code",
   "execution_count": 44,
   "id": "90b0da4d-7c57-48d1-83e0-e82db6f66c75",
   "metadata": {},
   "outputs": [
    {
     "name": "stdout",
     "output_type": "stream",
     "text": [
      "15\n",
      "\n",
      "C     -1.130406    1.353163   -0.324450\n",
      "N     -2.261360    0.706990   -0.329819\n",
      "C     -2.194384   -0.654824   -0.106035\n",
      "C     -1.067736   -1.355953    0.113953\n",
      "C      0.162501   -0.659632    0.120865\n",
      "N      0.082181    0.697107   -0.103389\n",
      "C      1.347252    1.233229   -0.067548\n",
      "C      2.236974    0.207930    0.181434\n",
      "C      1.486806   -0.990996    0.300846\n",
      "H     -1.109336    2.440955   -0.496054\n",
      "H     -3.151737   -1.171242   -0.115453\n",
      "H     -1.095048   -2.426830    0.282238\n",
      "H      1.507456    2.291735   -0.221090\n",
      "H      3.311403    0.310568    0.268127\n",
      "H      1.875435   -1.982201    0.496375\n",
      "\n"
     ]
    }
   ],
   "source": [
    "print(Chem.MolToXYZBlock(doravirine))"
   ]
  },
  {
   "cell_type": "markdown",
   "id": "78e074c1-04db-48fb-ba98-22efda16f0c0",
   "metadata": {},
   "source": [
    "<font color=orange size=4>**Uno de los modulas más utilizados para grafica moléculas en *python* es *py3Dmol*, aquí construimos una función basdos en este modulo, que nos permitirá graficar las moléculas ue deseamos trabajar con MC:**"
   ]
  },
  {
   "cell_type": "code",
   "execution_count": 78,
   "id": "3ea05bc9-0831-45a4-8c06-4f36c8f74017",
   "metadata": {},
   "outputs": [],
   "source": [
    "import py3Dmol as p3d\n",
    "\n",
    "def drawPsi4Geom(mol):\n",
    "    xyz = mol \n",
    "    view = p3d.view(width=400, height=400)\n",
    "    view.addModel(xyz, \"xyz\")\n",
    "    view.setStyle({'stick':{}})\n",
    "    view.zoomTo()\n",
    "    return(view.show())"
   ]
  },
  {
   "cell_type": "code",
   "execution_count": 79,
   "id": "f6d8409b-167d-4a71-9deb-f4a66eb05c28",
   "metadata": {},
   "outputs": [
    {
     "data": {
      "application/3dmoljs_load.v0": "<div id=\"3dmolviewer_16776229565796242\"  style=\"position: relative; width: 400px; height: 400px\">\n        <p id=\"3dmolwarning_16776229565796242\" style=\"background-color:#ffcccc;color:black\">You appear to be running in JupyterLab (or JavaScript failed to load for some other reason).  You need to install the 3dmol extension: <br>\n        <tt>jupyter labextension install jupyterlab_3dmol</tt></p>\n        </div>\n<script>\n\nvar loadScriptAsync = function(uri){\n  return new Promise((resolve, reject) => {\n    var tag = document.createElement('script');\n    tag.src = uri;\n    tag.async = true;\n    tag.onload = () => {\n      resolve();\n    };\n  var firstScriptTag = document.getElementsByTagName('script')[0];\n  firstScriptTag.parentNode.insertBefore(tag, firstScriptTag);\n});\n};\n\nif(typeof $3Dmolpromise === 'undefined') {\n$3Dmolpromise = null;\n  $3Dmolpromise = loadScriptAsync('https://3dmol.org/build/3Dmol.js');\n}\n\nvar viewer_16776229565796242 = null;\nvar warn = document.getElementById(\"3dmolwarning_16776229565796242\");\nif(warn) {\n    warn.parentNode.removeChild(warn);\n}\n$3Dmolpromise.then(function() {\nviewer_16776229565796242 = $3Dmol.createViewer($(\"#3dmolviewer_16776229565796242\"),{backgroundColor:\"white\"});\nviewer_16776229565796242.zoomTo();\n\tviewer_16776229565796242.addModel(\"dor.xyz\",\"xyz\");\n\tviewer_16776229565796242.setStyle({\"stick\": {}});\n\tviewer_16776229565796242.zoomTo();\nviewer_16776229565796242.render();\n});\n</script>",
      "text/html": [
       "<div id=\"3dmolviewer_16776229565796242\"  style=\"position: relative; width: 400px; height: 400px\">\n",
       "        <p id=\"3dmolwarning_16776229565796242\" style=\"background-color:#ffcccc;color:black\">You appear to be running in JupyterLab (or JavaScript failed to load for some other reason).  You need to install the 3dmol extension: <br>\n",
       "        <tt>jupyter labextension install jupyterlab_3dmol</tt></p>\n",
       "        </div>\n",
       "<script>\n",
       "\n",
       "var loadScriptAsync = function(uri){\n",
       "  return new Promise((resolve, reject) => {\n",
       "    var tag = document.createElement('script');\n",
       "    tag.src = uri;\n",
       "    tag.async = true;\n",
       "    tag.onload = () => {\n",
       "      resolve();\n",
       "    };\n",
       "  var firstScriptTag = document.getElementsByTagName('script')[0];\n",
       "  firstScriptTag.parentNode.insertBefore(tag, firstScriptTag);\n",
       "});\n",
       "};\n",
       "\n",
       "if(typeof $3Dmolpromise === 'undefined') {\n",
       "$3Dmolpromise = null;\n",
       "  $3Dmolpromise = loadScriptAsync('https://3dmol.org/build/3Dmol.js');\n",
       "}\n",
       "\n",
       "var viewer_16776229565796242 = null;\n",
       "var warn = document.getElementById(\"3dmolwarning_16776229565796242\");\n",
       "if(warn) {\n",
       "    warn.parentNode.removeChild(warn);\n",
       "}\n",
       "$3Dmolpromise.then(function() {\n",
       "viewer_16776229565796242 = $3Dmol.createViewer($(\"#3dmolviewer_16776229565796242\"),{backgroundColor:\"white\"});\n",
       "viewer_16776229565796242.zoomTo();\n",
       "\tviewer_16776229565796242.addModel(\"dor.xyz\",\"xyz\");\n",
       "\tviewer_16776229565796242.setStyle({\"stick\": {}});\n",
       "\tviewer_16776229565796242.zoomTo();\n",
       "viewer_16776229565796242.render();\n",
       "});\n",
       "</script>"
      ]
     },
     "metadata": {},
     "output_type": "display_data"
    }
   ],
   "source": [
    "drawPsi4Geom('dor.xyz')"
   ]
  },
  {
   "cell_type": "markdown",
   "id": "073e835c-9a37-4969-84bf-002929fbc6d2",
   "metadata": {},
   "source": [
    "<font color=blue size=5>**Para mostrar los conformeros**"
   ]
  },
  {
   "cell_type": "code",
   "execution_count": 80,
   "id": "9f02af28-8c9e-4f6f-84e1-1f9f0d0de45f",
   "metadata": {},
   "outputs": [],
   "source": [
    "import ipywidgets\n",
    "from ipywidgets import interact, interactive, fixed, widgets\n",
    "AllChem.EmbedMultipleConfs(doravirine,numConfs=10,randomSeed=0xf00d,useExpTorsionAnglePrefs=True, useBasicKnowledge=True)\n",
    "def drawRdkitMolConf(mol,confId):\n",
    "    mb = Chem.MolToMolBlock(mol,confId=confId)\n",
    "    view = p3d.view(width=400,height=400)\n",
    "    view.removeAllModels()\n",
    "    view.addModel(mb,'sdf')\n",
    "    view.setStyle({'stick':{}})\n",
    "    view.zoomTo()\n",
    "    return view.show()\n",
    "\n",
    "def drawRdkitMolSlider(mol):\n",
    "    interact(drawRdkitMolConf, mol=fixed(mol), confId=widgets.IntSlider(min=0, max=mol.GetNumConformers()-1))"
   ]
  },
  {
   "cell_type": "code",
   "execution_count": 81,
   "id": "e7ccc0ab-5042-4cd1-ad9d-cf24a2ba906e",
   "metadata": {},
   "outputs": [
    {
     "data": {
      "application/vnd.jupyter.widget-view+json": {
       "model_id": "ea624388f9de4dbd9a72f2e82682bf4c",
       "version_major": 2,
       "version_minor": 0
      },
      "text/plain": [
       "interactive(children=(IntSlider(value=0, description='confId', max=9), Output()), _dom_classes=('widget-intera…"
      ]
     },
     "metadata": {},
     "output_type": "display_data"
    }
   ],
   "source": [
    "drawRdkitMolSlider(doravirine)"
   ]
  },
  {
   "cell_type": "code",
   "execution_count": 96,
   "id": "d222d605-1457-4d40-8563-042c26050d68",
   "metadata": {},
   "outputs": [
    {
     "data": {
      "application/3dmoljs_load.v0": "<div id=\"3dmolviewer_1677624932942346\"  style=\"position: relative; width: 640px; height: 480px\">\n        <p id=\"3dmolwarning_1677624932942346\" style=\"background-color:#ffcccc;color:black\">You appear to be running in JupyterLab (or JavaScript failed to load for some other reason).  You need to install the 3dmol extension: <br>\n        <tt>jupyter labextension install jupyterlab_3dmol</tt></p>\n        </div>\n<script>\n\nvar loadScriptAsync = function(uri){\n  return new Promise((resolve, reject) => {\n    var tag = document.createElement('script');\n    tag.src = uri;\n    tag.async = true;\n    tag.onload = () => {\n      resolve();\n    };\n  var firstScriptTag = document.getElementsByTagName('script')[0];\n  firstScriptTag.parentNode.insertBefore(tag, firstScriptTag);\n});\n};\n\nif(typeof $3Dmolpromise === 'undefined') {\n$3Dmolpromise = null;\n  $3Dmolpromise = loadScriptAsync('https://3dmol.org/build/3Dmol.js');\n}\n\nvar viewer_1677624932942346 = null;\nvar warn = document.getElementById(\"3dmolwarning_1677624932942346\");\nif(warn) {\n    warn.parentNode.removeChild(warn);\n}\n$3Dmolpromise.then(function() {\nviewer_1677624932942346 = $3Dmol.createViewer($(\"#3dmolviewer_1677624932942346\"),{backgroundColor:\"white\"});\n$3Dmol.download(\"pdb:2POR\", viewer_1677624932942346, {}, function() {\nviewer_1677624932942346.zoomTo();\n\tviewer_1677624932942346.setStyle({\"stick\": {\"color\": \"spectrum\"}});\nviewer_1677624932942346.render();\n})\n});\n</script>",
      "text/html": [
       "<div id=\"3dmolviewer_1677624932942346\"  style=\"position: relative; width: 640px; height: 480px\">\n",
       "        <p id=\"3dmolwarning_1677624932942346\" style=\"background-color:#ffcccc;color:black\">You appear to be running in JupyterLab (or JavaScript failed to load for some other reason).  You need to install the 3dmol extension: <br>\n",
       "        <tt>jupyter labextension install jupyterlab_3dmol</tt></p>\n",
       "        </div>\n",
       "<script>\n",
       "\n",
       "var loadScriptAsync = function(uri){\n",
       "  return new Promise((resolve, reject) => {\n",
       "    var tag = document.createElement('script');\n",
       "    tag.src = uri;\n",
       "    tag.async = true;\n",
       "    tag.onload = () => {\n",
       "      resolve();\n",
       "    };\n",
       "  var firstScriptTag = document.getElementsByTagName('script')[0];\n",
       "  firstScriptTag.parentNode.insertBefore(tag, firstScriptTag);\n",
       "});\n",
       "};\n",
       "\n",
       "if(typeof $3Dmolpromise === 'undefined') {\n",
       "$3Dmolpromise = null;\n",
       "  $3Dmolpromise = loadScriptAsync('https://3dmol.org/build/3Dmol.js');\n",
       "}\n",
       "\n",
       "var viewer_1677624932942346 = null;\n",
       "var warn = document.getElementById(\"3dmolwarning_1677624932942346\");\n",
       "if(warn) {\n",
       "    warn.parentNode.removeChild(warn);\n",
       "}\n",
       "$3Dmolpromise.then(function() {\n",
       "viewer_1677624932942346 = $3Dmol.createViewer($(\"#3dmolviewer_1677624932942346\"),{backgroundColor:\"white\"});\n",
       "$3Dmol.download(\"pdb:2POR\", viewer_1677624932942346, {}, function() {\n",
       "viewer_1677624932942346.zoomTo();\n",
       "\tviewer_1677624932942346.setStyle({\"stick\": {\"color\": \"spectrum\"}});\n",
       "viewer_1677624932942346.render();\n",
       "})\n",
       "});\n",
       "</script>"
      ]
     },
     "metadata": {},
     "output_type": "display_data"
    },
    {
     "data": {
      "text/plain": [
       "<py3Dmol.view at 0x7f578825ca60>"
      ]
     },
     "execution_count": 96,
     "metadata": {},
     "output_type": "execute_result"
    }
   ],
   "source": [
    "import py3Dmol\n",
    "view = py3Dmol.view(query='pdb:2POR')\n",
    "view.setStyle({'stick':{'color':'spectrum'}})\n",
    "view"
   ]
  },
  {
   "cell_type": "code",
   "execution_count": 105,
   "id": "4375a8c1-5d48-4189-af0c-cc7327ca20ac",
   "metadata": {},
   "outputs": [
    {
     "data": {
      "application/3dmoljs_load.v0": "<div id=\"3dmolviewer_167767680338256\"  style=\"position: relative; width: 640px; height: 480px\">\n        <p id=\"3dmolwarning_167767680338256\" style=\"background-color:#ffcccc;color:black\">You appear to be running in JupyterLab (or JavaScript failed to load for some other reason).  You need to install the 3dmol extension: <br>\n        <tt>jupyter labextension install jupyterlab_3dmol</tt></p>\n        </div>\n<script>\n\nvar loadScriptAsync = function(uri){\n  return new Promise((resolve, reject) => {\n    var tag = document.createElement('script');\n    tag.src = uri;\n    tag.async = true;\n    tag.onload = () => {\n      resolve();\n    };\n  var firstScriptTag = document.getElementsByTagName('script')[0];\n  firstScriptTag.parentNode.insertBefore(tag, firstScriptTag);\n});\n};\n\nif(typeof $3Dmolpromise === 'undefined') {\n$3Dmolpromise = null;\n  $3Dmolpromise = loadScriptAsync('https://3dmol.org/build/3Dmol.js');\n}\n\nvar viewer_167767680338256 = null;\nvar warn = document.getElementById(\"3dmolwarning_167767680338256\");\nif(warn) {\n    warn.parentNode.removeChild(warn);\n}\n$3Dmolpromise.then(function() {\nviewer_167767680338256 = $3Dmol.createViewer($(\"#3dmolviewer_167767680338256\"),{backgroundColor:\"white\"});\n$3Dmol.download(\"cid:5284583\", viewer_167767680338256, {}, function() {\nviewer_167767680338256.zoomTo();\n\tviewer_167767680338256.setStyle({\"sphere\": {\"color\": \"spectrum\"}});\nviewer_167767680338256.render();\n})\n});\n</script>",
      "text/html": [
       "<div id=\"3dmolviewer_167767680338256\"  style=\"position: relative; width: 640px; height: 480px\">\n",
       "        <p id=\"3dmolwarning_167767680338256\" style=\"background-color:#ffcccc;color:black\">You appear to be running in JupyterLab (or JavaScript failed to load for some other reason).  You need to install the 3dmol extension: <br>\n",
       "        <tt>jupyter labextension install jupyterlab_3dmol</tt></p>\n",
       "        </div>\n",
       "<script>\n",
       "\n",
       "var loadScriptAsync = function(uri){\n",
       "  return new Promise((resolve, reject) => {\n",
       "    var tag = document.createElement('script');\n",
       "    tag.src = uri;\n",
       "    tag.async = true;\n",
       "    tag.onload = () => {\n",
       "      resolve();\n",
       "    };\n",
       "  var firstScriptTag = document.getElementsByTagName('script')[0];\n",
       "  firstScriptTag.parentNode.insertBefore(tag, firstScriptTag);\n",
       "});\n",
       "};\n",
       "\n",
       "if(typeof $3Dmolpromise === 'undefined') {\n",
       "$3Dmolpromise = null;\n",
       "  $3Dmolpromise = loadScriptAsync('https://3dmol.org/build/3Dmol.js');\n",
       "}\n",
       "\n",
       "var viewer_167767680338256 = null;\n",
       "var warn = document.getElementById(\"3dmolwarning_167767680338256\");\n",
       "if(warn) {\n",
       "    warn.parentNode.removeChild(warn);\n",
       "}\n",
       "$3Dmolpromise.then(function() {\n",
       "viewer_167767680338256 = $3Dmol.createViewer($(\"#3dmolviewer_167767680338256\"),{backgroundColor:\"white\"});\n",
       "$3Dmol.download(\"cid:5284583\", viewer_167767680338256, {}, function() {\n",
       "viewer_167767680338256.zoomTo();\n",
       "\tviewer_167767680338256.setStyle({\"sphere\": {\"color\": \"spectrum\"}});\n",
       "viewer_167767680338256.render();\n",
       "})\n",
       "});\n",
       "</script>"
      ]
     },
     "metadata": {},
     "output_type": "display_data"
    },
    {
     "data": {
      "text/plain": [
       "<py3Dmol.view at 0x7f5788142670>"
      ]
     },
     "execution_count": 105,
     "metadata": {},
     "output_type": "execute_result"
    }
   ],
   "source": [
    "view = py3Dmol.view(query='cid:5284583')# corresponde al cid pubchem\n",
    "view.setStyle({'sphere':{'color':'spectrum'}}) # 'line', 'stick', 'sphere'\n",
    "view"
   ]
  },
  {
   "cell_type": "code",
   "execution_count": 99,
   "id": "064529c0-8be2-4c69-bf01-13646adc6cac",
   "metadata": {},
   "outputs": [],
   "source": [
    "v2_H2O = '''3\n",
    "\n",
    "O            0.000000000000     0.000000000000    -0.063241040968    -0.00 -0.00  0.05\n",
    "H            0.000000000000    -0.763664017586     0.501840606446    -0.00  0.58 -0.40\n",
    "H            0.000000000000     0.763664017586     0.501840606446    -0.00 -0.58 -0.40\n",
    "'''"
   ]
  },
  {
   "cell_type": "code",
   "execution_count": 104,
   "id": "4ef64c1b-694e-4402-88b7-3f76d8881c04",
   "metadata": {},
   "outputs": [
    {
     "data": {
      "application/3dmoljs_load.v0": "<div id=\"3dmolviewer_16776767570259838\"  style=\"position: relative; width: 200px; height: 200px\">\n        <p id=\"3dmolwarning_16776767570259838\" style=\"background-color:#ffcccc;color:black\">You appear to be running in JupyterLab (or JavaScript failed to load for some other reason).  You need to install the 3dmol extension: <br>\n        <tt>jupyter labextension install jupyterlab_3dmol</tt></p>\n        </div>\n<script>\n\nvar loadScriptAsync = function(uri){\n  return new Promise((resolve, reject) => {\n    var tag = document.createElement('script');\n    tag.src = uri;\n    tag.async = true;\n    tag.onload = () => {\n      resolve();\n    };\n  var firstScriptTag = document.getElementsByTagName('script')[0];\n  firstScriptTag.parentNode.insertBefore(tag, firstScriptTag);\n});\n};\n\nif(typeof $3Dmolpromise === 'undefined') {\n$3Dmolpromise = null;\n  $3Dmolpromise = loadScriptAsync('https://3dmol.org/build/3Dmol.js');\n}\n\nvar viewer_16776767570259838 = null;\nvar warn = document.getElementById(\"3dmolwarning_16776767570259838\");\nif(warn) {\n    warn.parentNode.removeChild(warn);\n}\n$3Dmolpromise.then(function() {\nviewer_16776767570259838 = $3Dmol.createViewer($(\"#3dmolviewer_16776767570259838\"),{backgroundColor:\"white\"});\nviewer_16776767570259838.zoomTo();\n\tviewer_16776767570259838.addModel(\"3\\n\\nO            0.000000000000     0.000000000000    -0.063241040968    -0.00 -0.00  0.05\\nH            0.000000000000    -0.763664017586     0.501840606446    -0.00  0.58 -0.40\\nH            0.000000000000     0.763664017586     0.501840606446    -0.00 -0.58 -0.40\\n\",\"v2_H2O\",{\"vibrate\": {\"frames\": 20, \"amplitude\": 1}});\n\tviewer_16776767570259838.setStyle({\"stick\": {}});\n\tviewer_16776767570259838.animate({\"loop\": \"backAndForth\"});\n\tviewer_16776767570259838.zoomTo();\nviewer_16776767570259838.render();\n});\n</script>",
      "text/html": [
       "<div id=\"3dmolviewer_16776767570259838\"  style=\"position: relative; width: 200px; height: 200px\">\n",
       "        <p id=\"3dmolwarning_16776767570259838\" style=\"background-color:#ffcccc;color:black\">You appear to be running in JupyterLab (or JavaScript failed to load for some other reason).  You need to install the 3dmol extension: <br>\n",
       "        <tt>jupyter labextension install jupyterlab_3dmol</tt></p>\n",
       "        </div>\n",
       "<script>\n",
       "\n",
       "var loadScriptAsync = function(uri){\n",
       "  return new Promise((resolve, reject) => {\n",
       "    var tag = document.createElement('script');\n",
       "    tag.src = uri;\n",
       "    tag.async = true;\n",
       "    tag.onload = () => {\n",
       "      resolve();\n",
       "    };\n",
       "  var firstScriptTag = document.getElementsByTagName('script')[0];\n",
       "  firstScriptTag.parentNode.insertBefore(tag, firstScriptTag);\n",
       "});\n",
       "};\n",
       "\n",
       "if(typeof $3Dmolpromise === 'undefined') {\n",
       "$3Dmolpromise = null;\n",
       "  $3Dmolpromise = loadScriptAsync('https://3dmol.org/build/3Dmol.js');\n",
       "}\n",
       "\n",
       "var viewer_16776767570259838 = null;\n",
       "var warn = document.getElementById(\"3dmolwarning_16776767570259838\");\n",
       "if(warn) {\n",
       "    warn.parentNode.removeChild(warn);\n",
       "}\n",
       "$3Dmolpromise.then(function() {\n",
       "viewer_16776767570259838 = $3Dmol.createViewer($(\"#3dmolviewer_16776767570259838\"),{backgroundColor:\"white\"});\n",
       "viewer_16776767570259838.zoomTo();\n",
       "\tviewer_16776767570259838.addModel(\"3\\n\\nO            0.000000000000     0.000000000000    -0.063241040968    -0.00 -0.00  0.05\\nH            0.000000000000    -0.763664017586     0.501840606446    -0.00  0.58 -0.40\\nH            0.000000000000     0.763664017586     0.501840606446    -0.00 -0.58 -0.40\\n\",\"v2_H2O\",{\"vibrate\": {\"frames\": 20, \"amplitude\": 1}});\n",
       "\tviewer_16776767570259838.setStyle({\"stick\": {}});\n",
       "\tviewer_16776767570259838.animate({\"loop\": \"backAndForth\"});\n",
       "\tviewer_16776767570259838.zoomTo();\n",
       "viewer_16776767570259838.render();\n",
       "});\n",
       "</script>"
      ]
     },
     "metadata": {},
     "output_type": "display_data"
    }
   ],
   "source": [
    "view_m2 = py3Dmol.view(width=200,height=200)\n",
    "view_m2.addModel(v2_H2O,'v2_H2O',{'vibrate': {'frames':20,'amplitude':1}})\n",
    "view_m2.setStyle({'stick':{}})\n",
    "#xyzview.setBackgroundColor('0xeeeeee')\n",
    "view_m2.animate({'loop': 'backAndForth'})\n",
    "view_m2.zoomTo()\n",
    "view_m2.show()"
   ]
  },
  {
   "cell_type": "code",
   "execution_count": null,
   "id": "03ed81c0-570d-4247-b89f-a790e72cf8f4",
   "metadata": {},
   "outputs": [],
   "source": []
  }
 ],
 "metadata": {
  "kernelspec": {
   "display_name": "Python 3 (ipykernel)",
   "language": "python",
   "name": "python3"
  },
  "language_info": {
   "codemirror_mode": {
    "name": "ipython",
    "version": 3
   },
   "file_extension": ".py",
   "mimetype": "text/x-python",
   "name": "python",
   "nbconvert_exporter": "python",
   "pygments_lexer": "ipython3",
   "version": "3.8.11"
  }
 },
 "nbformat": 4,
 "nbformat_minor": 5
}
