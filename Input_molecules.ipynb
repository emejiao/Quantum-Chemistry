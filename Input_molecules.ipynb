{
 "cells": [
  {
   "cell_type": "markdown",
   "id": "c79b1f13-267d-4eeb-a8bc-3a4105bacb22",
   "metadata": {
    "tags": []
   },
   "source": [
    "<font color=navy size=6>**Entradas de sistemas atómico-moleculares PSI4**\n",
    "    \n",
    "<font color=navy size=5>**Enrique Mejía Ospino**\n",
    "    \n",
    "<font color=navy size=5>**Química Cuántica Avanzada**\n",
    "    \n",
    "<font color=navy size=5>**Universidad Industrial de Santander**"
   ]
  },
  {
   "cell_type": "code",
   "execution_count": 4,
   "id": "faa86432-c951-4bec-962f-48a39bc92c4f",
   "metadata": {},
   "outputs": [],
   "source": [
    "import numpy as np\n",
    "import psi4 as ps\n",
    "import matplotlib.pyplot as plt\n",
    "import pandas as pd"
   ]
  },
  {
   "cell_type": "code",
   "execution_count": 61,
   "id": "2b0ffd36-9a7b-4dbf-9bdb-7c4033aac107",
   "metadata": {},
   "outputs": [],
   "source": [
    "H2_1 = ps.geometry(\"\"\"0 1\n",
    "H\n",
    "H 1 0.5\n",
    "\"\"\", name=\"H2\")"
   ]
  },
  {
   "cell_type": "code",
   "execution_count": 64,
   "id": "19c1750d-dcc3-482b-bb92-c8c6d4b62226",
   "metadata": {},
   "outputs": [
    {
     "data": {
      "text/plain": [
       "-109.81405578901378"
      ]
     },
     "execution_count": 64,
     "metadata": {},
     "output_type": "execute_result"
    }
   ],
   "source": [
    "ps.energy('scf/6-31g', molecule=N2H2)"
   ]
  },
  {
   "cell_type": "code",
   "execution_count": 8,
   "id": "b0ecb358-c171-4528-aa26-7e801c389262",
   "metadata": {},
   "outputs": [],
   "source": [
    "H2_2 = ps.geometry('''0 1\n",
    "H\n",
    "H 1 r\n",
    "r = 0.9''')"
   ]
  },
  {
   "cell_type": "code",
   "execution_count": 10,
   "id": "a446b57e-4641-480c-949d-a4aac7dad2af",
   "metadata": {},
   "outputs": [],
   "source": [
    "H2_3 = ps.geometry('''0 1\n",
    "H\n",
    "H 1 0.9''')"
   ]
  },
  {
   "cell_type": "code",
   "execution_count": 14,
   "id": "9152c75e-b1b9-4f94-9232-6b6da7b3d624",
   "metadata": {},
   "outputs": [],
   "source": [
    "H2_4 = ps.geometry('''0 1\n",
    "H 0.0 0.0 0.0\n",
    "H 0.0 0.0 0.9''')"
   ]
  },
  {
   "cell_type": "code",
   "execution_count": 17,
   "id": "36fe5e8a-1232-4ad7-acfa-3fdd24b7d10d",
   "metadata": {},
   "outputs": [],
   "source": [
    "H2_5 = ps.geometry('''0 1\n",
    "H 0.0 0.0 0.0\n",
    "H 0.0 0.0 r\n",
    "r=0.9''')"
   ]
  },
  {
   "cell_type": "code",
   "execution_count": 19,
   "id": "c5b790db-e197-4720-8446-64be523a3dd6",
   "metadata": {},
   "outputs": [],
   "source": [
    "H2_6 = ps.geometry('''0 1\n",
    "H 0.0 0.0 r1\n",
    "H 0.0 0.0 r2\n",
    "r1=-0.3\n",
    "r2=0.6''')"
   ]
  },
  {
   "cell_type": "code",
   "execution_count": 63,
   "id": "f6a68731-d671-4f53-9be3-80ad9e125223",
   "metadata": {},
   "outputs": [],
   "source": [
    "N2H2 = ps.geometry('''0 1\n",
    "N\n",
    "N 1 rNN\n",
    "H 1 rNH 2 aHNN\n",
    "H 2 rNH 1 aHNN 3 180.0\n",
    "\n",
    "rNH  = 1.0\n",
    "rNN  = 1.4\n",
    "aHNN = 140.0''')"
   ]
  },
  {
   "cell_type": "code",
   "execution_count": 34,
   "id": "b9b175d8-42eb-4fb3-8ae3-5080b509a892",
   "metadata": {},
   "outputs": [],
   "source": [
    "# En este ejemplo se carga la molécula de un archivo en formato .xyz\n",
    "f = open('./molecules/benzene.xyz')\n",
    "bn = ps.geometry(f.read())"
   ]
  },
  {
   "cell_type": "code",
   "execution_count": 42,
   "id": "44183dc3-b4df-4bf0-851a-60f37f022468",
   "metadata": {},
   "outputs": [
    {
     "name": "stdout",
     "output_type": "stream",
     "text": [
      "\tSearching PubChem database for Aspirin (single best match returned)\n",
      "\tFound 1 result(s)\n"
     ]
    }
   ],
   "source": [
    "# La molécula es exportada de pubchem\n",
    "Asp = ps.geometry(\"\"\"\n",
    "pubchem:Aspirin\"\"\")"
   ]
  },
  {
   "cell_type": "code",
   "execution_count": 46,
   "id": "2f0c1907-8abe-473e-975a-9589b29422a8",
   "metadata": {},
   "outputs": [
    {
     "name": "stdout",
     "output_type": "stream",
     "text": [
      "\tSearching PubChem database for CID 244\n",
      "\tFound 1 result(s)\n"
     ]
    }
   ],
   "source": [
    "# La molécula es exportada de pubchem\n",
    "phenylmethanol = ps.geometry(\"\"\"\n",
    "pubchem:244\"\"\")"
   ]
  },
  {
   "cell_type": "code",
   "execution_count": 55,
   "id": "b48a0307-9031-4e4e-8e5b-f024b18b6815",
   "metadata": {},
   "outputs": [],
   "source": [
    "# La molécula es exportada de pubchem\n",
    "dimer = ps.geometry(\"\"\"\n",
    "0 1\n",
    "O  -1.551007  -0.114520   0.000000\n",
    "H  -1.934259   0.762503   0.000000\n",
    "H  -0.599677   0.040712   0.000000\n",
    "--\n",
    "0 1\n",
    "O   1.350625   0.111469   0.000000\n",
    "H   1.680398  -0.373741  -0.758561\n",
    "H   1.680398  -0.373741   0.758561\n",
    "\"\"\")"
   ]
  },
  {
   "cell_type": "code",
   "execution_count": 57,
   "id": "6706db14-2b35-4eef-91ee-68c134062be8",
   "metadata": {},
   "outputs": [
    {
     "data": {
      "text/plain": [
       "-151.18759505828973"
      ]
     },
     "execution_count": 57,
     "metadata": {},
     "output_type": "execute_result"
    }
   ],
   "source": [
    "energy = ps.energy(\"SCF/3-21g\", molecule=dimer)\n",
    "energy"
   ]
  },
  {
   "cell_type": "code",
   "execution_count": 21,
   "id": "b2672b1a-a4da-43d6-82fb-54e41fec8831",
   "metadata": {},
   "outputs": [],
   "source": [
    "Alanine = ps.geometry('''0 1\n",
    "N           -1.527107413251     0.745960643462     0.766603000356\n",
    "C           -0.075844098953     0.811790225041     0.711418672248\n",
    "C            0.503195220163    -0.247849447550    -0.215671574613\n",
    "O           -0.351261319421    -0.748978309671    -1.089590304723\n",
    "O            1.639498336738    -0.571249748886    -0.174705953194\n",
    "H           -1.207655674855    -0.365913941094    -0.918035522052\n",
    "# First, remove the H from the alpha carbon.  This line could be deleted\n",
    "# and is only included for completeness\n",
    "#H            0.429560656538     0.717651915252     1.673774709694\n",
    "# Now patch it, using a Z Matrix specification.  This patch can be applied\n",
    "# anywhere in the coord specification, as long as it appears lower than\n",
    "# the atoms referenced, as is usual for Z-Matrices\n",
    "C  2  rCC   3  aCCC   1  dCCCN\n",
    "H  7  rCH1  2  aHCC1  3  dHCCC1\n",
    "H  7  rCH2  2  aHCC2  3  dHCCC2\n",
    "H  7  rCH3  2  aHCC3  3  dHCCC3\n",
    "H            0.221781602033     1.772570540211     0.286988509018\n",
    "H           -1.833601608592     0.108401996052     1.481873213172\n",
    "H           -1.925572581453     1.640882152784     0.986471814808\n",
    "\n",
    "aCCC = 108.0\n",
    "rCC = 1.4\n",
    "dCCCN = 120\n",
    "rCH1 = 1.08\n",
    "rCH2 = 1.08\n",
    "rCH3 = 1.08\n",
    "aHCC1 = 109.0\n",
    "aHCC2 = 109.0\n",
    "aHCC3 = 109.0\n",
    "dHCCC1 = 0.0\n",
    "dHCCC2 = 120.0\n",
    "dHCCC3 = 240.0''')"
   ]
  },
  {
   "cell_type": "markdown",
   "id": "2f62754a-b434-47af-bd53-a59609e12348",
   "metadata": {},
   "source": [
    "<font color=navy size=5>**Importación y Graficación de Moléculas**"
   ]
  },
  {
   "cell_type": "markdown",
   "id": "c454f261-6046-4e64-9adf-e1e23ac79957",
   "metadata": {},
   "source": [
    "<font color=black size=4>**Las moléculas pueden ser importadas de un archivo en formato *xyz* y convertidas en una geometría de *psi4* muy facilemente de esta forma:**"
   ]
  },
  {
   "cell_type": "code",
   "execution_count": 10,
   "id": "08d663cb-b8c2-4fc7-afeb-bfa922acbd1f",
   "metadata": {},
   "outputs": [
    {
     "data": {
      "text/plain": [
       "-230.70157037427708"
      ]
     },
     "execution_count": 10,
     "metadata": {},
     "output_type": "execute_result"
    }
   ],
   "source": [
    "# En este ejemplo se carga la molécula de un archivo en formato .xyz\n",
    "f = open('./molecules/benzene.xyz')\n",
    "molecula1 = ps.geometry(f.read())\n",
    "ps.energy('scf/6-31g*', molecule=molecula)"
   ]
  },
  {
   "cell_type": "markdown",
   "id": "3d7e6539-bf36-4994-8f87-33436c7f70b9",
   "metadata": {},
   "source": [
    "<font color=red size=4>**También se puede importar de la base *pubchem* utilizando alguno de sus ID como el nombre IUPAC, CAS, etc.**"
   ]
  },
  {
   "cell_type": "code",
   "execution_count": 9,
   "id": "3b458d71-848c-4478-8eb1-df05017c88d1",
   "metadata": {},
   "outputs": [
    {
     "name": "stdout",
     "output_type": "stream",
     "text": [
      "\tSearching PubChem database for CID 5284583\n",
      "\tFound 1 result(s)\n"
     ]
    },
    {
     "data": {
      "text/plain": [
       "-569.7542837642922"
      ]
     },
     "execution_count": 9,
     "metadata": {},
     "output_type": "execute_result"
    }
   ],
   "source": [
    "molecula2 = ps.geometry(\"pubchem:5284583\")\n",
    "ps.energy('scf/6-31g*', molecule=molecula2)"
   ]
  },
  {
   "cell_type": "code",
   "execution_count": 11,
   "id": "40209698-c5f2-4def-9cd2-0e9ea051c79a",
   "metadata": {},
   "outputs": [
    {
     "name": "stdout",
     "output_type": "stream",
     "text": [
      "\tSearching PubChem database for Aspirin (single best match returned)\n",
      "\tFound 1 result(s)\n"
     ]
    },
    {
     "data": {
      "text/plain": [
       "-644.9437653892355"
      ]
     },
     "execution_count": 11,
     "metadata": {},
     "output_type": "execute_result"
    }
   ],
   "source": [
    "molecula3 = ps.geometry(\"pubchem:Aspirin\")\n",
    "ps.energy('scf/6-31g*', molecule=molecula3)"
   ]
  },
  {
   "cell_type": "code",
   "execution_count": 22,
   "id": "2eb7e403-a6b3-48ff-8739-7c65bed32dc6",
   "metadata": {},
   "outputs": [
    {
     "name": "stdout",
     "output_type": "stream",
     "text": [
      "0 1\n",
      " O   -1.628307823830    0.020593978528   -1.952148503029\n",
      " O    2.866592176170   -0.745906021472    0.566351496971\n",
      " N   -0.424607823830    0.026493978528    0.070951496971\n",
      " N    1.367792176170   -2.033906021472   -0.603548503029\n",
      " C   -0.690507823830   -0.298706021472    1.452151496971\n",
      " C    0.911492176170    0.333293978528   -0.391848503029\n",
      " C   -2.199007823830   -0.188406021472    1.547251496971\n",
      " C   -2.682107823830   -0.563806021472    0.151451496971\n",
      " C   -1.546307823830   -0.121806021472   -0.741348503029\n",
      " C    1.431892176170    1.656593978528    0.177851496971\n",
      " C    1.821592176170   -0.845306021472   -0.072348503029\n",
      " C    0.527792176170    2.853293978528   -0.094948503029\n",
      " H    0.881292176170    0.423393978528   -1.485748503029\n",
      " H   -0.191907823830    0.394293978528    2.134251496971\n",
      " H   -0.355607823830   -1.321906021472    1.649951496971\n",
      " H   -2.481707823830    0.849793978528    1.762451496971\n",
      " H   -2.624107823830   -0.821706021472    2.330951496971\n",
      " H   -3.610107823830   -0.049806021472   -0.110148503029\n",
      " H   -2.808607823830   -1.646106021472    0.049251496971\n",
      " H    2.420992176170    1.862493978528   -0.251048503029\n",
      " H    1.587092176170    1.575993978528    1.260751496971\n",
      " H    0.348092176170    2.969493978528   -1.168348503029\n",
      " H   -0.437907823830    2.748993978528    0.408751496971\n",
      " H    0.998092176170    3.771193978528    0.272051496971\n",
      " H    0.506992176170   -2.095606021472   -1.137448503029\n",
      " H    1.885992176170   -2.896206021472   -0.471548503029\n",
      "\n"
     ]
    }
   ],
   "source": [
    "print(molecula2.save_string_xyz())"
   ]
  },
  {
   "cell_type": "markdown",
   "id": "4f7ec7c6-0a66-4139-990e-016274e59ccc",
   "metadata": {},
   "source": [
    "<font color=green size=4>**Otra alternativa es utilizar el formato *SMILE*, existe un modulo llamado *RDkit* que, entre otras cosas, puede leer, graficar geometrías moleculares en este formato y convertirlas en geometrías de *psi4*, aquí va un ejemplo:**"
   ]
  },
  {
   "cell_type": "code",
   "execution_count": 19,
   "id": "e0f94648-1b51-4c64-acb4-37128ab1d562",
   "metadata": {},
   "outputs": [
    {
     "data": {
      "text/plain": [
       "-644.9437653892751"
      ]
     },
     "execution_count": 19,
     "metadata": {},
     "output_type": "execute_result"
    }
   ],
   "source": [
    "import rdkit\n",
    "from rdkit import Chem\n",
    "from rdkit.Chem import AllChem\n",
    "from rdkit.Chem.Draw import IPythonConsole\n",
    "IPythonConsole.molSize = 350,300\n",
    "doravirine = Chem.MolFromSmiles('c1nccc2n1ccc2')\n",
    "doravirine = Chem.AddHs(doravirine)\n",
    "AllChem.EmbedMolecule(doravirine)\n",
    "AllChem.MMFFOptimizeMolecule(doravirine)\n",
    "molecula4 = ps.geometry(Chem.MolToXYZBlock(doravirine)) # aquí convertimos en una geometría psi4\n",
    "ps.energy('scf/6-31g*', molecule=molecula3)"
   ]
  },
  {
   "cell_type": "code",
   "execution_count": 20,
   "id": "90b0da4d-7c57-48d1-83e0-e82db6f66c75",
   "metadata": {},
   "outputs": [
    {
     "name": "stdout",
     "output_type": "stream",
     "text": [
      "15\n",
      "\n",
      "C     -1.046014    1.440267   -0.213587\n",
      "N     -2.215642    0.867899   -0.245046\n",
      "C     -2.232557   -0.507624   -0.115616\n",
      "C     -1.150164   -1.291245    0.038257\n",
      "C      0.121739   -0.675255    0.073077\n",
      "N      0.125011    0.696082   -0.056957\n",
      "C      1.421854    1.148397   -0.004751\n",
      "C      2.247595    0.054810    0.159731\n",
      "C      1.424361   -1.100303    0.209056\n",
      "H     -0.958008    2.533860   -0.311015\n",
      "H     -3.220767   -0.961363   -0.145028\n",
      "H     -1.243368   -2.367375    0.133651\n",
      "H      1.647063    2.202892   -0.088392\n",
      "H      3.327295    0.083926    0.236200\n",
      "H      1.751601   -2.124967    0.330419\n",
      "\n"
     ]
    }
   ],
   "source": [
    "print(Chem.MolToXYZBlock(doravirine))"
   ]
  },
  {
   "cell_type": "code",
   "execution_count": 21,
   "id": "82d336dc-ea50-4f96-8c31-2fcea9cf0e88",
   "metadata": {},
   "outputs": [
    {
     "data": {
      "image/png": "[encoded data removed]",
      "text/plain": [
       "<rdkit.Chem.rdchem.Mol at 0x7f7b6d176b20>"
      ]
     },
     "execution_count": 21,
     "metadata": {},
     "output_type": "execute_result"
    }
   ],
   "source": [
    "doravirine"
   ]
  },
  {
   "cell_type": "markdown",
   "id": "78e074c1-04db-48fb-ba98-22efda16f0c0",
   "metadata": {},
   "source": [
    "<font color=orange size=4>**Uno de los modulas más utilizados para grafica moléculas en *python* es *py3Dmol*, aquí construimos una función basdos en este modulo, que nos permitirá graficar las moléculas ue deseamos trabajar con MC:**"
   ]
  },
  {
   "cell_type": "code",
   "execution_count": 23,
   "id": "3ea05bc9-0831-45a4-8c06-4f36c8f74017",
   "metadata": {},
   "outputs": [],
   "source": [
    "import py3Dmol as p3d\n",
    "\n",
    "def drawPsi4Geom(mol):\n",
    "    xyz = mol.save_string_xyz_file() \n",
    "    view = p3d.view(width=400, height=400)\n",
    "    view.addModel(xyz, \"xyz\")\n",
    "    view.setStyle({'stick':{}})\n",
    "    view.zoomTo()\n",
    "    return(view.show())"
   ]
  },
  {
   "cell_type": "code",
   "execution_count": 37,
   "id": "f6d8409b-167d-4a71-9deb-f4a66eb05c28",
   "metadata": {},
   "outputs": [
    {
     "data": {
      "application/3dmoljs_load.v0": "<div id=\"3dmolviewer_16669953286292017\"  style=\"position: relative; width: 400px; height: 400px\">\n        <p id=\"3dmolwarning_16669953286292017\" style=\"background-color:#ffcccc;color:black\">You appear to be running in JupyterLab (or JavaScript failed to load for some other reason).  You need to install the 3dmol extension: <br>\n        <tt>jupyter labextension install jupyterlab_3dmol</tt></p>\n        </div>\n<script>\n\nvar loadScriptAsync = function(uri){\n  return new Promise((resolve, reject) => {\n    var tag = document.createElement('script');\n    tag.src = uri;\n    tag.async = true;\n    tag.onload = () => {\n      resolve();\n    };\n  var firstScriptTag = document.getElementsByTagName('script')[0];\n  firstScriptTag.parentNode.insertBefore(tag, firstScriptTag);\n});\n};\n\nif(typeof $3Dmolpromise === 'undefined') {\n$3Dmolpromise = null;\n  $3Dmolpromise = loadScriptAsync('https://cdn.jsdelivr.net/npm/3dmol@latest/build/3Dmol-min.min.js');\n}\n\nvar viewer_16669953286292017 = null;\nvar warn = document.getElementById(\"3dmolwarning_16669953286292017\");\nif(warn) {\n    warn.parentNode.removeChild(warn);\n}\n$3Dmolpromise.then(function() {\nviewer_16669953286292017 = $3Dmol.createViewer($(\"#3dmolviewer_16669953286292017\"),{backgroundColor:\"white\"});\nviewer_16669953286292017.zoomTo();\n\tviewer_16669953286292017.addModel(\"12\\n\\n C   -0.739000000000    1.189000000000   -0.007333333333\\n C    0.614000000000    1.208000000000    0.351666666667\\n C    1.353000000000    0.019000000000    0.358666666667\\n C    0.739000000000   -1.189000000000    0.006666666667\\n C   -0.614000000000   -1.208000000000   -0.351333333333\\n C   -1.353000000000   -0.019000000000   -0.358333333333\\n H   -1.309000000000    2.106000000000   -0.012333333333\\n H    1.088000000000    2.140000000000    0.622666666667\\n H    2.397000000000    0.034000000000    0.634666666667\\n H    1.309000000000   -2.106000000000    0.012666666667\\n H   -1.088000000000   -2.140000000000   -0.622333333333\\n H   -2.397000000000   -0.034000000000   -0.635333333333\\n\",\"xyz\");\n\tviewer_16669953286292017.setStyle({\"stick\": {}});\n\tviewer_16669953286292017.zoomTo();\nviewer_16669953286292017.render();\n});\n</script>",
      "text/html": [
       "<div id=\"3dmolviewer_16669953286292017\"  style=\"position: relative; width: 400px; height: 400px\">\n",
       "        <p id=\"3dmolwarning_16669953286292017\" style=\"background-color:#ffcccc;color:black\">You appear to be running in JupyterLab (or JavaScript failed to load for some other reason).  You need to install the 3dmol extension: <br>\n",
       "        <tt>jupyter labextension install jupyterlab_3dmol</tt></p>\n",
       "        </div>\n",
       "<script>\n",
       "\n",
       "var loadScriptAsync = function(uri){\n",
       "  return new Promise((resolve, reject) => {\n",
       "    var tag = document.createElement('script');\n",
       "    tag.src = uri;\n",
       "    tag.async = true;\n",
       "    tag.onload = () => {\n",
       "      resolve();\n",
       "    };\n",
       "  var firstScriptTag = document.getElementsByTagName('script')[0];\n",
       "  firstScriptTag.parentNode.insertBefore(tag, firstScriptTag);\n",
       "});\n",
       "};\n",
       "\n",
       "if(typeof $3Dmolpromise === 'undefined') {\n",
       "$3Dmolpromise = null;\n",
       "  $3Dmolpromise = loadScriptAsync('https://cdn.jsdelivr.net/npm/3dmol@latest/build/3Dmol-min.min.js');\n",
       "}\n",
       "\n",
       "var viewer_16669953286292017 = null;\n",
       "var warn = document.getElementById(\"3dmolwarning_16669953286292017\");\n",
       "if(warn) {\n",
       "    warn.parentNode.removeChild(warn);\n",
       "}\n",
       "$3Dmolpromise.then(function() {\n",
       "viewer_16669953286292017 = $3Dmol.createViewer($(\"#3dmolviewer_16669953286292017\"),{backgroundColor:\"white\"});\n",
       "viewer_16669953286292017.zoomTo();\n",
       "\tviewer_16669953286292017.addModel(\"12\\n\\n C   -0.739000000000    1.189000000000   -0.007333333333\\n C    0.614000000000    1.208000000000    0.351666666667\\n C    1.353000000000    0.019000000000    0.358666666667\\n C    0.739000000000   -1.189000000000    0.006666666667\\n C   -0.614000000000   -1.208000000000   -0.351333333333\\n C   -1.353000000000   -0.019000000000   -0.358333333333\\n H   -1.309000000000    2.106000000000   -0.012333333333\\n H    1.088000000000    2.140000000000    0.622666666667\\n H    2.397000000000    0.034000000000    0.634666666667\\n H    1.309000000000   -2.106000000000    0.012666666667\\n H   -1.088000000000   -2.140000000000   -0.622333333333\\n H   -2.397000000000   -0.034000000000   -0.635333333333\\n\",\"xyz\");\n",
       "\tviewer_16669953286292017.setStyle({\"stick\": {}});\n",
       "\tviewer_16669953286292017.zoomTo();\n",
       "viewer_16669953286292017.render();\n",
       "});\n",
       "</script>"
      ]
     },
     "metadata": {},
     "output_type": "display_data"
    }
   ],
   "source": [
    "drawPsi4Geom(molecula1)"
   ]
  },
  {
   "cell_type": "code",
   "execution_count": 25,
   "id": "a8b86593-f06c-45e4-975d-c6e4f4d19ece",
   "metadata": {},
   "outputs": [
    {
     "data": {
      "application/3dmoljs_load.v0": "<div id=\"3dmolviewer_1666993880446574\"  style=\"position: relative; width: 400px; height: 400px\">\n        <p id=\"3dmolwarning_1666993880446574\" style=\"background-color:#ffcccc;color:black\">You appear to be running in JupyterLab (or JavaScript failed to load for some other reason).  You need to install the 3dmol extension: <br>\n        <tt>jupyter labextension install jupyterlab_3dmol</tt></p>\n        </div>\n<script>\n\nvar loadScriptAsync = function(uri){\n  return new Promise((resolve, reject) => {\n    var tag = document.createElement('script');\n    tag.src = uri;\n    tag.async = true;\n    tag.onload = () => {\n      resolve();\n    };\n  var firstScriptTag = document.getElementsByTagName('script')[0];\n  firstScriptTag.parentNode.insertBefore(tag, firstScriptTag);\n});\n};\n\nif(typeof $3Dmolpromise === 'undefined') {\n$3Dmolpromise = null;\n  $3Dmolpromise = loadScriptAsync('https://cdn.jsdelivr.net/npm/3dmol@latest/build/3Dmol-min.min.js');\n}\n\nvar viewer_1666993880446574 = null;\nvar warn = document.getElementById(\"3dmolwarning_1666993880446574\");\nif(warn) {\n    warn.parentNode.removeChild(warn);\n}\n$3Dmolpromise.then(function() {\nviewer_1666993880446574 = $3Dmol.createViewer($(\"#3dmolviewer_1666993880446574\"),{backgroundColor:\"white\"});\nviewer_1666993880446574.zoomTo();\n\tviewer_1666993880446574.addModel(\"26\\n\\n O   -1.628307823830    0.020593978528   -1.952148503029\\n O    2.866592176170   -0.745906021472    0.566351496971\\n N   -0.424607823830    0.026493978528    0.070951496971\\n N    1.367792176170   -2.033906021472   -0.603548503029\\n C   -0.690507823830   -0.298706021472    1.452151496971\\n C    0.911492176170    0.333293978528   -0.391848503029\\n C   -2.199007823830   -0.188406021472    1.547251496971\\n C   -2.682107823830   -0.563806021472    0.151451496971\\n C   -1.546307823830   -0.121806021472   -0.741348503029\\n C    1.431892176170    1.656593978528    0.177851496971\\n C    1.821592176170   -0.845306021472   -0.072348503029\\n C    0.527792176170    2.853293978528   -0.094948503029\\n H    0.881292176170    0.423393978528   -1.485748503029\\n H   -0.191907823830    0.394293978528    2.134251496971\\n H   -0.355607823830   -1.321906021472    1.649951496971\\n H   -2.481707823830    0.849793978528    1.762451496971\\n H   -2.624107823830   -0.821706021472    2.330951496971\\n H   -3.610107823830   -0.049806021472   -0.110148503029\\n H   -2.808607823830   -1.646106021472    0.049251496971\\n H    2.420992176170    1.862493978528   -0.251048503029\\n H    1.587092176170    1.575993978528    1.260751496971\\n H    0.348092176170    2.969493978528   -1.168348503029\\n H   -0.437907823830    2.748993978528    0.408751496971\\n H    0.998092176170    3.771193978528    0.272051496971\\n H    0.506992176170   -2.095606021472   -1.137448503029\\n H    1.885992176170   -2.896206021472   -0.471548503029\\n\",\"xyz\");\n\tviewer_1666993880446574.setStyle({\"stick\": {}});\n\tviewer_1666993880446574.zoomTo();\nviewer_1666993880446574.render();\n});\n</script>",
      "text/html": [
       "<div id=\"3dmolviewer_1666993880446574\"  style=\"position: relative; width: 400px; height: 400px\">\n",
       "        <p id=\"3dmolwarning_1666993880446574\" style=\"background-color:#ffcccc;color:black\">You appear to be running in JupyterLab (or JavaScript failed to load for some other reason).  You need to install the 3dmol extension: <br>\n",
       "        <tt>jupyter labextension install jupyterlab_3dmol</tt></p>\n",
       "        </div>\n",
       "<script>\n",
       "\n",
       "var loadScriptAsync = function(uri){\n",
       "  return new Promise((resolve, reject) => {\n",
       "    var tag = document.createElement('script');\n",
       "    tag.src = uri;\n",
       "    tag.async = true;\n",
       "    tag.onload = () => {\n",
       "      resolve();\n",
       "    };\n",
       "  var firstScriptTag = document.getElementsByTagName('script')[0];\n",
       "  firstScriptTag.parentNode.insertBefore(tag, firstScriptTag);\n",
       "});\n",
       "};\n",
       "\n",
       "if(typeof $3Dmolpromise === 'undefined') {\n",
       "$3Dmolpromise = null;\n",
       "  $3Dmolpromise = loadScriptAsync('https://cdn.jsdelivr.net/npm/3dmol@latest/build/3Dmol-min.min.js');\n",
       "}\n",
       "\n",
       "var viewer_1666993880446574 = null;\n",
       "var warn = document.getElementById(\"3dmolwarning_1666993880446574\");\n",
       "if(warn) {\n",
       "    warn.parentNode.removeChild(warn);\n",
       "}\n",
       "$3Dmolpromise.then(function() {\n",
       "viewer_1666993880446574 = $3Dmol.createViewer($(\"#3dmolviewer_1666993880446574\"),{backgroundColor:\"white\"});\n",
       "viewer_1666993880446574.zoomTo();\n",
       "\tviewer_1666993880446574.addModel(\"26\\n\\n O   -1.628307823830    0.020593978528   -1.952148503029\\n O    2.866592176170   -0.745906021472    0.566351496971\\n N   -0.424607823830    0.026493978528    0.070951496971\\n N    1.367792176170   -2.033906021472   -0.603548503029\\n C   -0.690507823830   -0.298706021472    1.452151496971\\n C    0.911492176170    0.333293978528   -0.391848503029\\n C   -2.199007823830   -0.188406021472    1.547251496971\\n C   -2.682107823830   -0.563806021472    0.151451496971\\n C   -1.546307823830   -0.121806021472   -0.741348503029\\n C    1.431892176170    1.656593978528    0.177851496971\\n C    1.821592176170   -0.845306021472   -0.072348503029\\n C    0.527792176170    2.853293978528   -0.094948503029\\n H    0.881292176170    0.423393978528   -1.485748503029\\n H   -0.191907823830    0.394293978528    2.134251496971\\n H   -0.355607823830   -1.321906021472    1.649951496971\\n H   -2.481707823830    0.849793978528    1.762451496971\\n H   -2.624107823830   -0.821706021472    2.330951496971\\n H   -3.610107823830   -0.049806021472   -0.110148503029\\n H   -2.808607823830   -1.646106021472    0.049251496971\\n H    2.420992176170    1.862493978528   -0.251048503029\\n H    1.587092176170    1.575993978528    1.260751496971\\n H    0.348092176170    2.969493978528   -1.168348503029\\n H   -0.437907823830    2.748993978528    0.408751496971\\n H    0.998092176170    3.771193978528    0.272051496971\\n H    0.506992176170   -2.095606021472   -1.137448503029\\n H    1.885992176170   -2.896206021472   -0.471548503029\\n\",\"xyz\");\n",
       "\tviewer_1666993880446574.setStyle({\"stick\": {}});\n",
       "\tviewer_1666993880446574.zoomTo();\n",
       "viewer_1666993880446574.render();\n",
       "});\n",
       "</script>"
      ]
     },
     "metadata": {},
     "output_type": "display_data"
    }
   ],
   "source": [
    "drawPsi4Geom(molecula2)"
   ]
  },
  {
   "cell_type": "code",
   "execution_count": 36,
   "id": "a12c2998-5b0a-4694-8699-af0967e9f84b",
   "metadata": {},
   "outputs": [
    {
     "data": {
      "application/3dmoljs_load.v0": "<div id=\"3dmolviewer_16669953210459135\"  style=\"position: relative; width: 400px; height: 400px\">\n        <p id=\"3dmolwarning_16669953210459135\" style=\"background-color:#ffcccc;color:black\">You appear to be running in JupyterLab (or JavaScript failed to load for some other reason).  You need to install the 3dmol extension: <br>\n        <tt>jupyter labextension install jupyterlab_3dmol</tt></p>\n        </div>\n<script>\n\nvar loadScriptAsync = function(uri){\n  return new Promise((resolve, reject) => {\n    var tag = document.createElement('script');\n    tag.src = uri;\n    tag.async = true;\n    tag.onload = () => {\n      resolve();\n    };\n  var firstScriptTag = document.getElementsByTagName('script')[0];\n  firstScriptTag.parentNode.insertBefore(tag, firstScriptTag);\n});\n};\n\nif(typeof $3Dmolpromise === 'undefined') {\n$3Dmolpromise = null;\n  $3Dmolpromise = loadScriptAsync('https://cdn.jsdelivr.net/npm/3dmol@latest/build/3Dmol-min.min.js');\n}\n\nvar viewer_16669953210459135 = null;\nvar warn = document.getElementById(\"3dmolwarning_16669953210459135\");\nif(warn) {\n    warn.parentNode.removeChild(warn);\n}\n$3Dmolpromise.then(function() {\nviewer_16669953210459135 = $3Dmol.createViewer($(\"#3dmolviewer_16669953210459135\"),{backgroundColor:\"white\"});\nviewer_16669953210459135.zoomTo();\n\tviewer_16669953210459135.addModel(\"21\\n\\n O    1.152623995315    0.614170838642    0.793164128547\\n O   -0.775876004685   -2.654629161358   -0.736235871453\\n O    0.715123995315   -2.124129161358    0.882464128547\\n O    1.700623995315    0.870670838642   -1.468135871453\\n C   -0.166376004685    0.668970838642    0.454264128547\\n C   -0.873376004685   -0.491329161358    0.138364128547\\n C   -0.809476004685    1.906570838642    0.427264128547\\n C   -2.223276004685   -0.413929161358   -0.204435871453\\n C   -2.159376004685    1.983970838642    0.084564128547\\n C   -2.866176004685    0.823770838642   -0.231335871453\\n C   -0.221576004685   -1.793429161358    0.161664128547\\n C    2.028723995315    0.731670838642   -0.297335871453\\n C    3.449823995315    0.659770838642    0.177464128547\\n H   -0.265776004685    2.814670838642    0.673264128547\\n H   -2.805376004685   -1.300329161358   -0.442435871453\\n H   -2.660376004685    2.947370838642    0.064564128547\\n H   -3.918076004685    0.883970838642   -0.495035871453\\n H    3.648323995315    1.478570838642    0.873264128547\\n H    4.123823995315    0.757070838642   -0.678435871453\\n H    3.629823995315   -0.305729161358    0.656564128547\\n H   -0.336176004685   -3.531429161358   -0.719735871453\\n\",\"xyz\");\n\tviewer_16669953210459135.setStyle({\"stick\": {}});\n\tviewer_16669953210459135.zoomTo();\nviewer_16669953210459135.render();\n});\n</script>",
      "text/html": [
       "<div id=\"3dmolviewer_16669953210459135\"  style=\"position: relative; width: 400px; height: 400px\">\n",
       "        <p id=\"3dmolwarning_16669953210459135\" style=\"background-color:#ffcccc;color:black\">You appear to be running in JupyterLab (or JavaScript failed to load for some other reason).  You need to install the 3dmol extension: <br>\n",
       "        <tt>jupyter labextension install jupyterlab_3dmol</tt></p>\n",
       "        </div>\n",
       "<script>\n",
       "\n",
       "var loadScriptAsync = function(uri){\n",
       "  return new Promise((resolve, reject) => {\n",
       "    var tag = document.createElement('script');\n",
       "    tag.src = uri;\n",
       "    tag.async = true;\n",
       "    tag.onload = () => {\n",
       "      resolve();\n",
       "    };\n",
       "  var firstScriptTag = document.getElementsByTagName('script')[0];\n",
       "  firstScriptTag.parentNode.insertBefore(tag, firstScriptTag);\n",
       "});\n",
       "};\n",
       "\n",
       "if(typeof $3Dmolpromise === 'undefined') {\n",
       "$3Dmolpromise = null;\n",
       "  $3Dmolpromise = loadScriptAsync('https://cdn.jsdelivr.net/npm/3dmol@latest/build/3Dmol-min.min.js');\n",
       "}\n",
       "\n",
       "var viewer_16669953210459135 = null;\n",
       "var warn = document.getElementById(\"3dmolwarning_16669953210459135\");\n",
       "if(warn) {\n",
       "    warn.parentNode.removeChild(warn);\n",
       "}\n",
       "$3Dmolpromise.then(function() {\n",
       "viewer_16669953210459135 = $3Dmol.createViewer($(\"#3dmolviewer_16669953210459135\"),{backgroundColor:\"white\"});\n",
       "viewer_16669953210459135.zoomTo();\n",
       "\tviewer_16669953210459135.addModel(\"21\\n\\n O    1.152623995315    0.614170838642    0.793164128547\\n O   -0.775876004685   -2.654629161358   -0.736235871453\\n O    0.715123995315   -2.124129161358    0.882464128547\\n O    1.700623995315    0.870670838642   -1.468135871453\\n C   -0.166376004685    0.668970838642    0.454264128547\\n C   -0.873376004685   -0.491329161358    0.138364128547\\n C   -0.809476004685    1.906570838642    0.427264128547\\n C   -2.223276004685   -0.413929161358   -0.204435871453\\n C   -2.159376004685    1.983970838642    0.084564128547\\n C   -2.866176004685    0.823770838642   -0.231335871453\\n C   -0.221576004685   -1.793429161358    0.161664128547\\n C    2.028723995315    0.731670838642   -0.297335871453\\n C    3.449823995315    0.659770838642    0.177464128547\\n H   -0.265776004685    2.814670838642    0.673264128547\\n H   -2.805376004685   -1.300329161358   -0.442435871453\\n H   -2.660376004685    2.947370838642    0.064564128547\\n H   -3.918076004685    0.883970838642   -0.495035871453\\n H    3.648323995315    1.478570838642    0.873264128547\\n H    4.123823995315    0.757070838642   -0.678435871453\\n H    3.629823995315   -0.305729161358    0.656564128547\\n H   -0.336176004685   -3.531429161358   -0.719735871453\\n\",\"xyz\");\n",
       "\tviewer_16669953210459135.setStyle({\"stick\": {}});\n",
       "\tviewer_16669953210459135.zoomTo();\n",
       "viewer_16669953210459135.render();\n",
       "});\n",
       "</script>"
      ]
     },
     "metadata": {},
     "output_type": "display_data"
    }
   ],
   "source": [
    "drawPsi4Geom(molecula3)"
   ]
  },
  {
   "cell_type": "code",
   "execution_count": 35,
   "id": "c88e7ba3-e0da-456b-95c0-5f8fe3ae7b92",
   "metadata": {},
   "outputs": [
    {
     "data": {
      "application/3dmoljs_load.v0": "<div id=\"3dmolviewer_16669953146854587\"  style=\"position: relative; width: 400px; height: 400px\">\n        <p id=\"3dmolwarning_16669953146854587\" style=\"background-color:#ffcccc;color:black\">You appear to be running in JupyterLab (or JavaScript failed to load for some other reason).  You need to install the 3dmol extension: <br>\n        <tt>jupyter labextension install jupyterlab_3dmol</tt></p>\n        </div>\n<script>\n\nvar loadScriptAsync = function(uri){\n  return new Promise((resolve, reject) => {\n    var tag = document.createElement('script');\n    tag.src = uri;\n    tag.async = true;\n    tag.onload = () => {\n      resolve();\n    };\n  var firstScriptTag = document.getElementsByTagName('script')[0];\n  firstScriptTag.parentNode.insertBefore(tag, firstScriptTag);\n});\n};\n\nif(typeof $3Dmolpromise === 'undefined') {\n$3Dmolpromise = null;\n  $3Dmolpromise = loadScriptAsync('https://cdn.jsdelivr.net/npm/3dmol@latest/build/3Dmol-min.min.js');\n}\n\nvar viewer_16669953146854587 = null;\nvar warn = document.getElementById(\"3dmolwarning_16669953146854587\");\nif(warn) {\n    warn.parentNode.removeChild(warn);\n}\n$3Dmolpromise.then(function() {\nviewer_16669953146854587 = $3Dmol.createViewer($(\"#3dmolviewer_16669953146854587\"),{backgroundColor:\"white\"});\nviewer_16669953146854587.zoomTo();\n\tviewer_16669953146854587.addModel(\"15\\n\\n C   -0.889139894290    1.354787454088   -0.193952513655\\n N   -2.058767894290    0.782419454088   -0.225411513655\\n C   -2.075682894290   -0.593103545912   -0.095981513655\\n C   -0.993289894290   -1.376724545912    0.057891486345\\n C    0.278613105710   -0.760734545912    0.092711486345\\n N    0.281885105710    0.610602454088   -0.037322513655\\n C    1.578728105710    1.062917454088    0.014883486345\\n C    2.404469105710   -0.030669545912    0.179365486345\\n C    1.581235105710   -1.185782545912    0.228690486345\\n H   -0.801133894290    2.448380454088   -0.291380513655\\n H   -3.063892894290   -1.046842545912   -0.125393513655\\n H   -1.086493894290   -2.452854545912    0.153285486345\\n H    1.803937105710    2.117412454088   -0.068757513655\\n H    3.484169105710   -0.001553545912    0.255834486345\\n H    1.908475105710   -2.210446545912    0.350053486345\\n\",\"xyz\");\n\tviewer_16669953146854587.setStyle({\"stick\": {}});\n\tviewer_16669953146854587.zoomTo();\nviewer_16669953146854587.render();\n});\n</script>",
      "text/html": [
       "<div id=\"3dmolviewer_16669953146854587\"  style=\"position: relative; width: 400px; height: 400px\">\n",
       "        <p id=\"3dmolwarning_16669953146854587\" style=\"background-color:#ffcccc;color:black\">You appear to be running in JupyterLab (or JavaScript failed to load for some other reason).  You need to install the 3dmol extension: <br>\n",
       "        <tt>jupyter labextension install jupyterlab_3dmol</tt></p>\n",
       "        </div>\n",
       "<script>\n",
       "\n",
       "var loadScriptAsync = function(uri){\n",
       "  return new Promise((resolve, reject) => {\n",
       "    var tag = document.createElement('script');\n",
       "    tag.src = uri;\n",
       "    tag.async = true;\n",
       "    tag.onload = () => {\n",
       "      resolve();\n",
       "    };\n",
       "  var firstScriptTag = document.getElementsByTagName('script')[0];\n",
       "  firstScriptTag.parentNode.insertBefore(tag, firstScriptTag);\n",
       "});\n",
       "};\n",
       "\n",
       "if(typeof $3Dmolpromise === 'undefined') {\n",
       "$3Dmolpromise = null;\n",
       "  $3Dmolpromise = loadScriptAsync('https://cdn.jsdelivr.net/npm/3dmol@latest/build/3Dmol-min.min.js');\n",
       "}\n",
       "\n",
       "var viewer_16669953146854587 = null;\n",
       "var warn = document.getElementById(\"3dmolwarning_16669953146854587\");\n",
       "if(warn) {\n",
       "    warn.parentNode.removeChild(warn);\n",
       "}\n",
       "$3Dmolpromise.then(function() {\n",
       "viewer_16669953146854587 = $3Dmol.createViewer($(\"#3dmolviewer_16669953146854587\"),{backgroundColor:\"white\"});\n",
       "viewer_16669953146854587.zoomTo();\n",
       "\tviewer_16669953146854587.addModel(\"15\\n\\n C   -0.889139894290    1.354787454088   -0.193952513655\\n N   -2.058767894290    0.782419454088   -0.225411513655\\n C   -2.075682894290   -0.593103545912   -0.095981513655\\n C   -0.993289894290   -1.376724545912    0.057891486345\\n C    0.278613105710   -0.760734545912    0.092711486345\\n N    0.281885105710    0.610602454088   -0.037322513655\\n C    1.578728105710    1.062917454088    0.014883486345\\n C    2.404469105710   -0.030669545912    0.179365486345\\n C    1.581235105710   -1.185782545912    0.228690486345\\n H   -0.801133894290    2.448380454088   -0.291380513655\\n H   -3.063892894290   -1.046842545912   -0.125393513655\\n H   -1.086493894290   -2.452854545912    0.153285486345\\n H    1.803937105710    2.117412454088   -0.068757513655\\n H    3.484169105710   -0.001553545912    0.255834486345\\n H    1.908475105710   -2.210446545912    0.350053486345\\n\",\"xyz\");\n",
       "\tviewer_16669953146854587.setStyle({\"stick\": {}});\n",
       "\tviewer_16669953146854587.zoomTo();\n",
       "viewer_16669953146854587.render();\n",
       "});\n",
       "</script>"
      ]
     },
     "metadata": {},
     "output_type": "display_data"
    }
   ],
   "source": [
    "drawPsi4Geom(molecula4)"
   ]
  },
  {
   "cell_type": "markdown",
   "id": "073e835c-9a37-4969-84bf-002929fbc6d2",
   "metadata": {},
   "source": [
    "<font color=blue size=5>**Para mostrar los conformeros**"
   ]
  },
  {
   "cell_type": "code",
   "execution_count": 40,
   "id": "9f02af28-8c9e-4f6f-84e1-1f9f0d0de45f",
   "metadata": {},
   "outputs": [],
   "source": [
    "import ipywidgets\n",
    "from ipywidgets import interact, interactive, fixed, widgets\n",
    "AllChem.EmbedMultipleConfs(doravirine,numConfs=10,randomSeed=0xf00d,useExpTorsionAnglePrefs=True, useBasicKnowledge=True)\n",
    "def drawRdkitMolConf(mol,confId):\n",
    "    mb = Chem.MolToMolBlock(mol,confId=confId)\n",
    "    view = p3d.view(width=400,height=400)\n",
    "    view.removeAllModels()\n",
    "    view.addModel(mb,'sdf')\n",
    "    view.setStyle({'stick':{}})\n",
    "    view.zoomTo()\n",
    "    return view.show()\n",
    "\n",
    "def drawRdkitMolSlider(mol):\n",
    "    interact(drawRdkitMolConf, mol=fixed(mol), confId=widgets.IntSlider(min=0, max=mol.GetNumConformers()-1))"
   ]
  },
  {
   "cell_type": "code",
   "execution_count": 34,
   "id": "e7ccc0ab-5042-4cd1-ad9d-cf24a2ba906e",
   "metadata": {},
   "outputs": [
    {
     "data": {
      "application/vnd.jupyter.widget-view+json": {
       "model_id": "591ff54538fb4ffc84f4e25f37773150",
       "version_major": 2,
       "version_minor": 0
      },
      "text/plain": [
       "interactive(children=(IntSlider(value=0, description='confId', max=9), Output()), _dom_classes=('widget-intera…"
      ]
     },
     "metadata": {},
     "output_type": "display_data"
    }
   ],
   "source": [
    "drawRdkitMolSlider(doravirine)"
   ]
  },
  {
   "cell_type": "code",
   "execution_count": null,
   "id": "d222d605-1457-4d40-8563-042c26050d68",
   "metadata": {},
   "outputs": [],
   "source": []
  }
 ],
 "metadata": {
  "kernelspec": {
   "display_name": "psi42",
   "language": "python",
   "name": "p4env2"
  },
  "language_info": {
   "codemirror_mode": {
    "name": "ipython",
    "version": 3
   },
   "file_extension": ".py",
   "mimetype": "text/x-python",
   "name": "python",
   "nbconvert_exporter": "python",
   "pygments_lexer": "ipython3",
   "version": "3.7.10"
  }
 },
 "nbformat": 4,
 "nbformat_minor": 5
}
