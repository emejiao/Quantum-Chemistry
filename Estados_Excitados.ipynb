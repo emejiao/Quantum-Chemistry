{
 "cells": [
  {
   "cell_type": "markdown",
   "id": "26193083-b4f3-4eb0-83f5-cb237ec7a119",
   "metadata": {},
   "source": [
    "<font color=red size=6>**Estados Excitados**\n",
    "\n",
    "<font color=red>**Prof. Enrique Mejía Ospino, emejia@uis.edu.co**\n",
    "\n",
    "<font color=red>**Escuela de Química**\n",
    "    \n",
    "<font color=red>**Universidad Industrial de Santander** "
   ]
  },
  {
   "cell_type": "markdown",
   "id": "c619f8d4-745f-48dc-a913-d96ff030ebf6",
   "metadata": {},
   "source": [
    "**<font color=blue> Vamos  atilizar el modulo *Pyscf* para desarrollar algunos ejercicios de cálculo mecánico-cuántico. En este Cuaderno de Jupyter se muestra como obtener los estados excitados de sistemas moleculares, para ello se utilizará el método de cálculo *TDDFT* (DFT dependiente del tiempo). Este método es uno de los más utilizados para el análisis de los estados excitados que permitirá predecir el espectro de absorción *UV-VIS* y espectros de *Fluorescencia*.  El análisis nos da las diferencias de energía y entre el estado fundamental y los estados excitados y adicionalmente la probabilidad de transición como fuerza del oscilador (*oscillator strength*).** "
   ]
  },
  {
   "cell_type": "code",
   "execution_count": 1,
   "id": "a8e77c36-f8a4-4369-b7e0-29e5c332082d",
   "metadata": {},
   "outputs": [],
   "source": [
    "from ase.units import Ry, eV, Ha\n",
    "import pyscf\n",
    "from pyscf import gto, dft, tddft, tdscf\n",
    "from ase import Atoms\n",
    "import numpy as np\n",
    "import matplotlib.pyplot as plt\n",
    "import fortecubeview # Visualizar moléculas"
   ]
  },
  {
   "cell_type": "code",
   "execution_count": 2,
   "id": "d18814b6-0ad5-4436-b13d-e0e4e238fd96",
   "metadata": {},
   "outputs": [
    {
     "name": "stdout",
     "output_type": "stream",
     "text": [
      "CubeViewer: listing cube files from the directory .\n",
      "load_cubes: no cube files found in directory .\n",
      "CubeViewer: no cube files provided. The widget will not be displayed\n"
     ]
    },
    {
     "data": {
      "text/plain": [
       "<fortecubeview.cube_viewer.CubeViewer at 0x7fd81ee62390>"
      ]
     },
     "execution_count": 2,
     "metadata": {},
     "output_type": "execute_result"
    }
   ],
   "source": [
    "fortecubeview.plot(width=500,height=300,colorscheme='emory',sumlevel=0.75)"
   ]
  },
  {
   "cell_type": "code",
   "execution_count": 3,
   "id": "34af1df7-67d9-462e-ad22-99de48764e2a",
   "metadata": {},
   "outputs": [
    {
     "data": {
      "application/vnd.jupyter.widget-view+json": {
       "model_id": "066bd988772f446a8682d7f8ae7ca555",
       "version_major": 2,
       "version_minor": 0
      },
      "text/plain": [
       "Renderer(camera=OrthographicCamera(bottom=-5.0, children=(DirectionalLight(color='white', intensity=0.5, posit…"
      ]
     },
     "metadata": {},
     "output_type": "display_data"
    },
    {
     "data": {
      "text/plain": [
       "<fortecubeview.mol_viewer.MolViewer at 0x7fd81ee62ad0>"
      ]
     },
     "execution_count": 3,
     "metadata": {},
     "output_type": "execute_result"
    }
   ],
   "source": [
    "xyz = \"\"\"\n",
    "O                     0.000000000000     0.000000000000    -0.065775570547\n",
    "H                     0.000000000000    -0.759061990794     0.521953018286\n",
    "H                     0.000000000000     0.759061990794     0.521953018286\n",
    "\"\"\"\n",
    "\n",
    "fortecubeview.geom(xyz = xyz)"
   ]
  },
  {
   "cell_type": "markdown",
   "id": "584869c7-5e01-4193-a191-e5d9058edfc4",
   "metadata": {},
   "source": [
    "**<font color=blue> Este de abajo es un cálculo sencillo en el que se usa una base *6-31g*, se realiza el cálculo *dft* con el funcional *b3lyp*. Se obtienen 3 estados excitados de acuerdo en lo indicado en la función *nto* y sus los valores de energía.** "
   ]
  },
  {
   "cell_type": "code",
   "execution_count": 4,
   "id": "13cfb807-63af-4120-8cae-2d062d5496e0",
   "metadata": {},
   "outputs": [
    {
     "name": "stdout",
     "output_type": "stream",
     "text": [
      "converged SCF energy = -76.347810766126\n",
      "Excited State energies (eV)\n",
      "[7.80914054 9.91154603 9.94779907]\n",
      "State 1: 7.80914 eV  NTO largest component 0.999883058942889\n",
      "    occ-NTO: 1.000000 (MO #5)\n",
      "    vir-NTO: 0.999752 (MO #6)\n",
      "State 2: 9.91155 eV  NTO largest component 0.9864484409529908\n",
      "    occ-NTO: 0.999699 (MO #4)\n",
      "    vir-NTO: 0.999874 (MO #6)\n",
      "State 3: 9.9478 eV  NTO largest component 0.9999916586770479\n",
      "    occ-NTO: 1.000000 (MO #5)\n",
      "    vir-NTO: 0.999432 (MO #7)\n"
     ]
    }
   ],
   "source": [
    "from pyscf import gto, dft, tddft\n",
    "\n",
    "mol = gto.Mole()\n",
    "mol.build(\n",
    "    atom = '''\n",
    "      o     0    0       0\n",
    "      h     0    -.757   .587\n",
    "      h     0    .757    .587''',  # in Angstrom\n",
    "    basis = '631g',\n",
    "    symmetry = True,\n",
    ")\n",
    "\n",
    "mf = dft.RKS(mol)\n",
    "mf.xc = 'b3lyp'\n",
    "mf.kernel()\n",
    "\n",
    "mytd = tddft.TDDFT(mf)\n",
    "mytd.kernel()\n",
    "\n",
    "weights_1, nto_1 = mytd.get_nto(state=1, verbose=4)\n",
    "weights_2, nto_2 = mytd.get_nto(state=2, verbose=4)\n",
    "weights_3, nto_3 = mytd.get_nto(state=3, verbose=4)\n",
    "\n",
    "from pyscf.tools import molden\n",
    "molden.from_mo(mol, 'nto-td-3.molden', nto_3)"
   ]
  },
  {
   "cell_type": "markdown",
   "id": "531f8d15-7725-4bab-9164-58d090d3f65c",
   "metadata": {},
   "source": [
    "**<font color=blue> Este es otra opción en la que obtenemos 10 estados con sus respectivas simetrías y su intensidad (oscillator strength).** "
   ]
  },
  {
   "cell_type": "code",
   "execution_count": 5,
   "id": "86b5dcbd-42a0-4d71-8a18-d3e77956f17c",
   "metadata": {},
   "outputs": [
    {
     "name": "stdout",
     "output_type": "stream",
     "text": [
      "converged SCF energy = -76.347810766126\n",
      "Excited State energies (eV)\n",
      "[ 7.80914054  9.91154601  9.94779907 12.37308116 14.75039315 18.18007294\n",
      " 27.76941228 28.14881774 29.14720826 30.09284831]\n",
      "\n",
      "** Singlet excitation energies and oscillator strengths **\n",
      "Excited State   1:   B2      7.80914 eV    158.77 nm  f=0.0115\n",
      "Excited State   2:   A1      9.91155 eV    125.09 nm  f=0.0962\n",
      "Excited State   3:   A2      9.94780 eV    124.63 nm  f=0.0000\n",
      "Excited State   4:   B1     12.37308 eV    100.20 nm  f=0.0870\n",
      "Excited State   5:   B1     14.75039 eV     84.05 nm  f=0.4120\n",
      "Excited State   6:   A1     18.18007 eV     68.20 nm  f=0.2413\n",
      "Excited State   7:   A2     27.76941 eV     44.65 nm  f=0.0000\n",
      "Excited State   8:   A1     28.14882 eV     44.05 nm  f=0.0167\n",
      "Excited State   9:   B2     29.14721 eV     42.54 nm  f=0.0869\n",
      "Excited State  10:   B1     30.09285 eV     41.20 nm  f=0.1475\n"
     ]
    }
   ],
   "source": [
    "from pyscf import gto, scf, dft, tddft\n",
    "\n",
    "mol = gto.Mole()\n",
    "mol.build(\n",
    "    atom = '''\n",
    "      o     0    0       0\n",
    "      h     0    -.757   .587\n",
    "      h     0    .757    .587''',  # in Angstrom\n",
    "    basis = '631g',\n",
    "    symmetry = True,\n",
    ")\n",
    "\n",
    "mf = dft.RKS(mol)\n",
    "mf.xc = 'b3lyp'\n",
    "mf.kernel()\n",
    "\n",
    "mytd = tddft.TDDFT(mf)\n",
    "mytd.nstates = 10\n",
    "mytd.kernel()\n",
    "mytd.analyze()\n",
    "\n",
    "# PySCF-1.6.1 and newer supports the .TDDFT method to create a TDDFT\n",
    "# object after importing tdscf module.\n",
    "from pyscf import tddft\n",
    "#mytd = mf.TDDFT().run()\n",
    "#mytd = mol.RHF().run().TDHF().run()"
   ]
  },
  {
   "cell_type": "code",
   "execution_count": 7,
   "id": "c917ffb5-8e0d-4d0c-be79-18486f308d4d",
   "metadata": {},
   "outputs": [
    {
     "data": {
      "text/plain": [
       "<pyscf.tdscf.rks.TDDFT at 0x7f5697205490>"
      ]
     },
     "execution_count": 7,
     "metadata": {},
     "output_type": "execute_result"
    }
   ],
   "source": []
  },
  {
   "cell_type": "markdown",
   "id": "f6f3aee5-4759-426e-b66c-df39f4b9ce2f",
   "metadata": {},
   "source": [
    "**<font color=blue> Similar al anterior script.** "
   ]
  },
  {
   "cell_type": "code",
   "execution_count": 13,
   "id": "ab86b569-adb8-4f41-926d-3abf1d48f777",
   "metadata": {},
   "outputs": [
    {
     "name": "stdout",
     "output_type": "stream",
     "text": [
      "converged SCF energy = -76.3478107661261\n",
      "Excited State energies (eV)\n",
      "[7.80914054 9.91154603 9.94779907]\n",
      "Excited State energies (eV)\n",
      "[ 7.80914054  9.91154601  9.94779907 12.37308116 14.75039315 18.18007294\n",
      " 27.76941228 28.14881774 29.14720826 30.09284831]\n",
      "\n",
      "** Singlet excitation energies and oscillator strengths **\n",
      "Excited State   1:   B2      7.80914 eV    158.77 nm  f=0.0115\n",
      "Excited State   2:   A1      9.91155 eV    125.09 nm  f=0.0962\n",
      "Excited State   3:   A2      9.94780 eV    124.63 nm  f=0.0000\n",
      "Excited State   4:   B1     12.37308 eV    100.20 nm  f=0.0870\n",
      "Excited State   5:   B1     14.75039 eV     84.05 nm  f=0.4120\n",
      "Excited State   6:   A1     18.18007 eV     68.20 nm  f=0.2413\n",
      "Excited State   7:   A2     27.76941 eV     44.65 nm  f=0.0000\n",
      "Excited State   8:   A1     28.14882 eV     44.05 nm  f=0.0167\n",
      "Excited State   9:   B2     29.14721 eV     42.54 nm  f=0.0869\n",
      "Excited State  10:   B1     30.09285 eV     41.20 nm  f=0.1475\n"
     ]
    },
    {
     "data": {
      "text/plain": [
       "<pyscf.tdscf.rks.TDDFT at 0x7f15c0ec3b80>"
      ]
     },
     "execution_count": 13,
     "metadata": {},
     "output_type": "execute_result"
    }
   ],
   "source": [
    "from pyscf import gto, scf, dft, tddft\n",
    "\n",
    "mol = gto.Mole()\n",
    "mol.build(\n",
    "    atom = '''\n",
    "      o     0    0       0\n",
    "      h     0    -.757   .587\n",
    "      h     0    .757    .587''',  # in Angstrom\n",
    "    basis = '631g',\n",
    "    symmetry = True,\n",
    ")\n",
    "\n",
    "mf = dft.RKS(mol)\n",
    "mf.xc = 'b3lyp'\n",
    "mf.kernel() # Calcula energía del estado fundamental \n",
    "\n",
    "mytd = mf.TDDFT().run() # Calcula los estados excitados \n",
    "\n",
    "mytd.nstates = 10\n",
    "mytd.kernel()\n",
    "mytd.analyze()"
   ]
  },
  {
   "cell_type": "markdown",
   "id": "e8e8e17d-0e6c-4c05-aebb-17e4876f02e7",
   "metadata": {},
   "source": [
    "**<font color=blue> Similar al anterior script, un poco más sencillo, se utiliza la determinación de la energía del estado fundamental usando RHF.** "
   ]
  },
  {
   "cell_type": "code",
   "execution_count": 15,
   "id": "23c6ae7b-fa1d-4f8b-bfc6-f347bf6d5e20",
   "metadata": {},
   "outputs": [
    {
     "name": "stdout",
     "output_type": "stream",
     "text": [
      "converged SCF energy = -75.9839484981055\n",
      "Excited State energies (eV)\n",
      "[ 9.36273381 11.28221712 11.78434553]\n",
      "Excited State energies (eV)\n",
      "[ 9.36273381 11.28221712 11.78434554 13.85939254 15.47459866 19.10080506\n",
      " 30.71639446 30.80765858 31.41780461 32.07833016]\n",
      "\n",
      "** Singlet excitation energies and oscillator strengths **\n",
      "Excited State   1:   B2      9.36273 eV    132.42 nm  f=0.0145\n",
      "Excited State   2:   A2     11.28222 eV    109.89 nm  f=0.0000\n",
      "Excited State   3:   A1     11.78435 eV    105.21 nm  f=0.1126\n",
      "Excited State   4:   B1     13.85939 eV     89.46 nm  f=0.0970\n",
      "Excited State   5:   B1     15.47460 eV     80.12 nm  f=0.4419\n",
      "Excited State   6:   A1     19.10081 eV     64.91 nm  f=0.2685\n",
      "Excited State   7:   B2     30.71639 eV     40.36 nm  f=0.0641\n",
      "Excited State   8:   A2     30.80766 eV     40.24 nm  f=0.0000\n",
      "Excited State   9:   A1     31.41780 eV     39.46 nm  f=0.0106\n",
      "Excited State  10:   B2     32.07833 eV     38.65 nm  f=0.0045\n"
     ]
    },
    {
     "data": {
      "text/plain": [
       "<pyscf.tdscf.rhf.TDHF at 0x7f15f422d040>"
      ]
     },
     "execution_count": 15,
     "metadata": {},
     "output_type": "execute_result"
    }
   ],
   "source": [
    "mol = gto.Mole()\n",
    "mol.build(\n",
    "    atom = '''\n",
    "      o     0    0       0\n",
    "      h     0    -.757   .587\n",
    "      h     0    .757    .587''',  # in Angstrom\n",
    "    basis = '631g',\n",
    "    symmetry = True,\n",
    ")\n",
    "mytd = mol.RHF().run().TDHF().run() # Calcula energía del estado fundamental usando el métod RHF y los estados excitados en\n",
    "# una sola línea\n",
    "\n",
    "#mytd = mf.TDDFT().run() # Calcula los estados excitados \n",
    "\n",
    "mytd.nstates = 10\n",
    "mytd.kernel()\n",
    "mytd.analyze()"
   ]
  },
  {
   "cell_type": "code",
   "execution_count": 68,
   "id": "b462979f-2e7f-4ca8-aa3a-4183b5d085b1",
   "metadata": {},
   "outputs": [
    {
     "name": "stdout",
     "output_type": "stream",
     "text": [
      "converged SCF energy = -76.3554935000354\n",
      "Excited State energies (eV)\n",
      "[ 7.90669935 10.01488148 10.08746356 12.53394723 14.79181987 18.32040498\n",
      " 27.99990594 28.40056132 29.31788336 30.37368889]\n",
      "\n",
      "** Singlet excitation energies and oscillator strengths **\n",
      "Excited State   1:   B2      7.90670 eV    156.81 nm  f=0.0113\n",
      "Excited State   2:   A1     10.01488 eV    123.80 nm  f=0.0943\n",
      "Excited State   3:   A2     10.08746 eV    122.91 nm  f=0.0000\n",
      "Excited State   4:   B1     12.53395 eV     98.92 nm  f=0.0833\n",
      "Excited State   5:   B1     14.79182 eV     83.82 nm  f=0.4130\n",
      "Excited State   6:   A1     18.32040 eV     67.68 nm  f=0.2443\n",
      "Excited State   7:   A2     27.99991 eV     44.28 nm  f=0.0000\n",
      "Excited State   8:   A1     28.40056 eV     43.66 nm  f=0.0145\n",
      "Excited State   9:   B2     29.31788 eV     42.29 nm  f=0.0827\n",
      "Excited State  10:   B1     30.37369 eV     40.82 nm  f=0.1574\n",
      "Excited State energies (eV)\n",
      "[ 7.90669935 10.01488148 10.08746356 12.53394723 14.79181987 18.32040498\n",
      " 27.99990594 28.40056132 29.31788336 30.37368889]\n"
     ]
    }
   ],
   "source": [
    "from pyscf import gto, scf, dft, tddft\n",
    "import pandas as pd\n",
    "mol = gto.Mole()\n",
    "mol.build(\n",
    "    atom = '''\n",
    "      o     0    0       0\n",
    "      h     0    -.757   .587\n",
    "      h     0    .757    .587''',  # in Angstrom\n",
    "    basis = '631g',\n",
    "    symmetry = True,\n",
    ")\n",
    "\n",
    "mf = mol.RKS()\n",
    "mf.xc= 'camb3lyp'\n",
    "mf.run()\n",
    "\n",
    "# Note you need to switch to xcfun library for cam-b3lyp tddft\n",
    "mf._numint.libxc = pyscf.dft.xcfun\n",
    "mytd = mf.TDDFT()\n",
    "\n",
    "mytd.nstates = 10\n",
    "mytd.kernel()\n",
    "mytd.analyze()\n",
    "mytd.oscillator_strength(gauge='length')\n",
    "#mytd.transition_dipole()\n",
    "#mytd.oscillator_strength(gauge='velocity')\n",
    "#print(list(mytd.analyze(verbose=4)[1]))\n",
    "F = mytd.oscillator_strength(gauge='length') # Oscilator stregth (f)\n",
    "LO = mytd.kernel()[0]*27.211385 # Diferencia de energía en eV\n",
    "ESP = pd.DataFrame([LO, F]).T # Espectros UV-VIS\n",
    "ESP.set_axis(['Energy (eV)', 'Int (Osc. strength)]'], axis=1, inplace=True)\n",
    "ESP.to_csv('./Data/esp_uv-vis1.csv')"
   ]
  },
  {
   "cell_type": "code",
   "execution_count": 69,
   "id": "db8a00de-7b34-4f32-8ead-56963f49c32b",
   "metadata": {},
   "outputs": [
    {
     "data": {
      "text/html": [
       "<div>\n",
       "<style scoped>\n",
       "    .dataframe tbody tr th:only-of-type {\n",
       "        vertical-align: middle;\n",
       "    }\n",
       "\n",
       "    .dataframe tbody tr th {\n",
       "        vertical-align: top;\n",
       "    }\n",
       "\n",
       "    .dataframe thead th {\n",
       "        text-align: right;\n",
       "    }\n",
       "</style>\n",
       "<table border=\"1\" class=\"dataframe\">\n",
       "  <thead>\n",
       "    <tr style=\"text-align: right;\">\n",
       "      <th></th>\n",
       "      <th>Energy (eV)</th>\n",
       "      <th>Int (Osc. strength)]</th>\n",
       "    </tr>\n",
       "  </thead>\n",
       "  <tbody>\n",
       "    <tr>\n",
       "      <th>0</th>\n",
       "      <td>7.906699</td>\n",
       "      <td>1.129689e-02</td>\n",
       "    </tr>\n",
       "    <tr>\n",
       "      <th>1</th>\n",
       "      <td>10.014881</td>\n",
       "      <td>9.427359e-02</td>\n",
       "    </tr>\n",
       "    <tr>\n",
       "      <th>2</th>\n",
       "      <td>10.087463</td>\n",
       "      <td>9.147131e-27</td>\n",
       "    </tr>\n",
       "    <tr>\n",
       "      <th>3</th>\n",
       "      <td>12.533947</td>\n",
       "      <td>8.334956e-02</td>\n",
       "    </tr>\n",
       "    <tr>\n",
       "      <th>4</th>\n",
       "      <td>14.791819</td>\n",
       "      <td>4.130328e-01</td>\n",
       "    </tr>\n",
       "    <tr>\n",
       "      <th>5</th>\n",
       "      <td>18.320404</td>\n",
       "      <td>2.442812e-01</td>\n",
       "    </tr>\n",
       "    <tr>\n",
       "      <th>6</th>\n",
       "      <td>27.999905</td>\n",
       "      <td>6.185764e-30</td>\n",
       "    </tr>\n",
       "    <tr>\n",
       "      <th>7</th>\n",
       "      <td>28.400560</td>\n",
       "      <td>1.447519e-02</td>\n",
       "    </tr>\n",
       "    <tr>\n",
       "      <th>8</th>\n",
       "      <td>29.317882</td>\n",
       "      <td>8.269818e-02</td>\n",
       "    </tr>\n",
       "    <tr>\n",
       "      <th>9</th>\n",
       "      <td>30.373688</td>\n",
       "      <td>1.574047e-01</td>\n",
       "    </tr>\n",
       "  </tbody>\n",
       "</table>\n",
       "</div>"
      ],
      "text/plain": [
       "   Energy (eV)  Int (Osc. strength)]\n",
       "0     7.906699          1.129689e-02\n",
       "1    10.014881          9.427359e-02\n",
       "2    10.087463          9.147131e-27\n",
       "3    12.533947          8.334956e-02\n",
       "4    14.791819          4.130328e-01\n",
       "5    18.320404          2.442812e-01\n",
       "6    27.999905          6.185764e-30\n",
       "7    28.400560          1.447519e-02\n",
       "8    29.317882          8.269818e-02\n",
       "9    30.373688          1.574047e-01"
      ]
     },
     "execution_count": 69,
     "metadata": {},
     "output_type": "execute_result"
    }
   ],
   "source": [
    "ESP"
   ]
  },
  {
   "cell_type": "markdown",
   "id": "51bfa2cd-2695-400a-8b82-5a6df90d7e04",
   "metadata": {},
   "source": [
    "**<font color=blue> Aqui usamos CIS para determinar los estados excitados con amplitudes TDA.** "
   ]
  },
  {
   "cell_type": "code",
   "execution_count": 22,
   "id": "f08ba756-f58f-4e7a-89fd-33a51012ec19",
   "metadata": {},
   "outputs": [
    {
     "name": "stdout",
     "output_type": "stream",
     "text": [
      "converged SCF energy = -76.3478107661261\n",
      "Excited State energies (eV)\n",
      "[ 7.83052765  9.9525412   9.99282323 12.42949018 14.81753494]\n",
      "\n",
      "** Singlet excitation energies and oscillator strengths **\n",
      "Excited State   1:   B2      7.83053 eV    158.33 nm  f=0.0122\n",
      "Excited State   2:   A2      9.95254 eV    124.58 nm  f=0.0000\n",
      "Excited State   3:   A1      9.99282 eV    124.07 nm  f=0.1059\n",
      "Excited State   4:   B1     12.42949 eV     99.75 nm  f=0.0952\n",
      "Excited State   5:   B1     14.81753 eV     83.67 nm  f=0.4671\n"
     ]
    },
    {
     "data": {
      "text/plain": [
       "array([[[3.85942630e-07, 4.88077720e-07, 6.13969195e-07, ...,\n",
       "         6.75515889e-06, 5.72228926e-06, 4.82195197e-06],\n",
       "        [4.80397538e-07, 6.07411020e-07, 7.63922695e-07, ...,\n",
       "         8.38172159e-06, 7.10061587e-06, 5.98377920e-06],\n",
       "        [5.93545598e-07, 7.50308082e-07, 9.43414671e-07, ...,\n",
       "         1.03186030e-05, 8.74211299e-06, 7.36760435e-06],\n",
       "        ...,\n",
       "        [5.93545598e-07, 7.50308082e-07, 9.43414671e-07, ...,\n",
       "         1.03186030e-05, 8.74211299e-06, 7.36760435e-06],\n",
       "        [4.80397538e-07, 6.07411020e-07, 7.63922695e-07, ...,\n",
       "         8.38172159e-06, 7.10061587e-06, 5.98377920e-06],\n",
       "        [3.85942630e-07, 4.88077720e-07, 6.13969195e-07, ...,\n",
       "         6.75515889e-06, 5.72228926e-06, 4.82195197e-06]],\n",
       "\n",
       "       [[4.46539238e-07, 5.64677825e-07, 7.10282775e-07, ...,\n",
       "         7.80854741e-06, 6.61474236e-06, 5.57408819e-06],\n",
       "        [5.55885360e-07, 7.02809835e-07, 8.83838771e-07, ...,\n",
       "         9.68840207e-06, 8.20776309e-06, 6.91693204e-06],\n",
       "        [6.86896307e-07, 8.68245720e-07, 1.09161381e-06, ...,\n",
       "         1.19267404e-05, 1.01048247e-05, 8.51626835e-06],\n",
       "        ...,\n",
       "        [6.86896307e-07, 8.68245720e-07, 1.09161381e-06, ...,\n",
       "         1.19267404e-05, 1.01048247e-05, 8.51626835e-06],\n",
       "        [5.55885360e-07, 7.02809835e-07, 8.83838771e-07, ...,\n",
       "         9.68840207e-06, 8.20776309e-06, 6.91693204e-06],\n",
       "        [4.46539238e-07, 5.64677825e-07, 7.10282775e-07, ...,\n",
       "         7.80854741e-06, 6.61474236e-06, 5.57408819e-06]],\n",
       "\n",
       "       [[5.14737512e-07, 6.50880483e-07, 8.18661112e-07, ...,\n",
       "         8.99263065e-06, 7.61794911e-06, 6.41958527e-06],\n",
       "        [6.40854631e-07, 8.10181231e-07, 1.01879120e-06, ...,\n",
       "         1.11571315e-05, 9.45225210e-06, 7.96587247e-06],\n",
       "        [7.91987885e-07, 1.00100258e-06, 1.25841574e-06, ...,\n",
       "         1.37342105e-05, 1.16365028e-05, 9.80740115e-06],\n",
       "        ...,\n",
       "        [7.91987885e-07, 1.00100258e-06, 1.25841574e-06, ...,\n",
       "         1.37342105e-05, 1.16365028e-05, 9.80740115e-06],\n",
       "        [6.40854631e-07, 8.10181231e-07, 1.01879120e-06, ...,\n",
       "         1.11571315e-05, 9.45225210e-06, 7.96587247e-06],\n",
       "        [5.14737512e-07, 6.50880483e-07, 8.18661112e-07, ...,\n",
       "         8.99263065e-06, 7.61794911e-06, 6.41958527e-06]],\n",
       "\n",
       "       ...,\n",
       "\n",
       "       [[5.14737512e-07, 6.50880483e-07, 8.18661112e-07, ...,\n",
       "         8.99263065e-06, 7.61794911e-06, 6.41958527e-06],\n",
       "        [6.40854631e-07, 8.10181231e-07, 1.01879120e-06, ...,\n",
       "         1.11571315e-05, 9.45225210e-06, 7.96587247e-06],\n",
       "        [7.91987885e-07, 1.00100258e-06, 1.25841574e-06, ...,\n",
       "         1.37342105e-05, 1.16365028e-05, 9.80740115e-06],\n",
       "        ...,\n",
       "        [7.91987885e-07, 1.00100258e-06, 1.25841574e-06, ...,\n",
       "         1.37342105e-05, 1.16365028e-05, 9.80740115e-06],\n",
       "        [6.40854631e-07, 8.10181231e-07, 1.01879120e-06, ...,\n",
       "         1.11571315e-05, 9.45225210e-06, 7.96587247e-06],\n",
       "        [5.14737512e-07, 6.50880483e-07, 8.18661112e-07, ...,\n",
       "         8.99263065e-06, 7.61794911e-06, 6.41958527e-06]],\n",
       "\n",
       "       [[4.46539238e-07, 5.64677825e-07, 7.10282775e-07, ...,\n",
       "         7.80854741e-06, 6.61474236e-06, 5.57408819e-06],\n",
       "        [5.55885360e-07, 7.02809835e-07, 8.83838771e-07, ...,\n",
       "         9.68840207e-06, 8.20776309e-06, 6.91693204e-06],\n",
       "        [6.86896307e-07, 8.68245720e-07, 1.09161381e-06, ...,\n",
       "         1.19267404e-05, 1.01048247e-05, 8.51626835e-06],\n",
       "        ...,\n",
       "        [6.86896307e-07, 8.68245720e-07, 1.09161381e-06, ...,\n",
       "         1.19267404e-05, 1.01048247e-05, 8.51626835e-06],\n",
       "        [5.55885360e-07, 7.02809835e-07, 8.83838771e-07, ...,\n",
       "         9.68840207e-06, 8.20776309e-06, 6.91693204e-06],\n",
       "        [4.46539238e-07, 5.64677825e-07, 7.10282775e-07, ...,\n",
       "         7.80854741e-06, 6.61474236e-06, 5.57408819e-06]],\n",
       "\n",
       "       [[3.85942630e-07, 4.88077720e-07, 6.13969195e-07, ...,\n",
       "         6.75515889e-06, 5.72228926e-06, 4.82195197e-06],\n",
       "        [4.80397538e-07, 6.07411020e-07, 7.63922695e-07, ...,\n",
       "         8.38172159e-06, 7.10061587e-06, 5.98377920e-06],\n",
       "        [5.93545598e-07, 7.50308082e-07, 9.43414671e-07, ...,\n",
       "         1.03186030e-05, 8.74211299e-06, 7.36760435e-06],\n",
       "        ...,\n",
       "        [5.93545598e-07, 7.50308082e-07, 9.43414671e-07, ...,\n",
       "         1.03186030e-05, 8.74211299e-06, 7.36760435e-06],\n",
       "        [4.80397538e-07, 6.07411020e-07, 7.63922695e-07, ...,\n",
       "         8.38172159e-06, 7.10061587e-06, 5.98377920e-06],\n",
       "        [3.85942630e-07, 4.88077720e-07, 6.13969195e-07, ...,\n",
       "         6.75515889e-06, 5.72228926e-06, 4.82195197e-06]]])"
      ]
     },
     "execution_count": 22,
     "metadata": {},
     "output_type": "execute_result"
    }
   ],
   "source": [
    "from pyscf import gto, scf, dft, tddft\n",
    "\n",
    "mol = gto.Mole()\n",
    "mol.build(\n",
    "    atom = '''\n",
    "      o     0    0       0\n",
    "      h     0    -.757   .587\n",
    "      h     0    .757    .587''',  # in Angstrom\n",
    "    basis = '631g',\n",
    "    symmetry = True,\n",
    ")\n",
    "\n",
    "mf = dft.RKS(mol)\n",
    "mf.xc = 'b3lyp'\n",
    "mf.kernel()\n",
    "\n",
    "mytd = tdscf.TDA(mf).run(nstates=5)\n",
    "mytd.analyze()\n",
    "\n",
    "def tda_denisty_matrix(td, state_id):\n",
    "    '''\n",
    "    Taking the TDA amplitudes as the CIS coefficients, calculate the density\n",
    "    matrix (in AO basis) of the excited states\n",
    "    '''\n",
    "    cis_t1 = td.xy[state_id][0]\n",
    "    dm_oo =-np.einsum('ia,ka->ik', cis_t1.conj(), cis_t1)\n",
    "    dm_vv = np.einsum('ia,ic->ac', cis_t1, cis_t1.conj())\n",
    "\n",
    "    # The ground state density matrix in mo_basis\n",
    "    mf = td._scf\n",
    "    dm = np.diag(mf.mo_occ)\n",
    "\n",
    "    # Add CIS contribution\n",
    "    nocc = cis_t1.shape[0]\n",
    "    # Note that dm_oo and dm_vv correspond to spin-up contribution. \"*2\" to\n",
    "    # include the spin-down contribution\n",
    "    dm[:nocc,:nocc] += dm_oo * 2\n",
    "    dm[nocc:,nocc:] += dm_vv * 2\n",
    "\n",
    "    # Transform density matrix to AO basis\n",
    "    mo = mf.mo_coeff\n",
    "    dm = np.einsum('pi,ij,qj->pq', mo, dm, mo.conj())\n",
    "    return dm\n",
    "\n",
    "# Density matrix for the 3rd excited state\n",
    "dm = tda_denisty_matrix(mytd, 2)\n",
    "\n",
    "# Write to cube format\n",
    "from pyscf.tools import cubegen\n",
    "cubegen.density(mol, 'tda_density.cube', dm)\n",
    "\n",
    "# Write the difference between excited state and ground state\n",
    "cubegen.density(mol, 'density_diff.cube', dm-mf.make_rdm1())\n",
    "\n",
    "# The positive and negative parts can be overlayed in Jmol\n",
    "# isosurface ID \"surf1\" cutoff  0.02 density_diff.cube\n",
    "# isosurface ID \"surf2\" cutoff -0.02 density_diff.cube"
   ]
  },
  {
   "cell_type": "markdown",
   "id": "d68653d0-0a97-409c-8294-4c46c047f894",
   "metadata": {},
   "source": [
    "**<font color=blue> Comparando dos funcionales.** "
   ]
  },
  {
   "cell_type": "code",
   "execution_count": 25,
   "id": "715bcb8b-0ab4-48fb-bc6b-39c930bff02d",
   "metadata": {},
   "outputs": [
    {
     "name": "stdout",
     "output_type": "stream",
     "text": [
      "converged SCF energy = -76.3238441273011\n",
      "Excited State energies (eV)\n",
      "[ 8.40219954 10.40170929 10.92823644]\n",
      "[ 8.40220385 10.40171464 10.92824206]\n",
      "Excited State energies (eV)\n",
      "[10.97713746 13.11294174 13.34875981]\n",
      "[10.9771431  13.11294848 13.34876667]\n",
      "converged SCF energy = -76.3238441273012\n",
      "Excited State energies (eV)\n",
      "[10.97713746 13.11294174 13.34875981]\n",
      "[10.9771431  13.11294848 13.34876667]\n"
     ]
    }
   ],
   "source": [
    "import copy\n",
    "from pyscf import gto, dft, tddft\n",
    "\n",
    "mol = gto.M(atom = '''\n",
    "      o     0    0       0\n",
    "      h     0    -.757   .587\n",
    "      h     0    .757    .587''',  # in Angstrom\n",
    "    basis = '631g*',\n",
    "    symmetry = True,\n",
    ")\n",
    "\n",
    "\n",
    "mf = dft.RKS(mol).run(xc='pbe0')\n",
    "\n",
    "#\n",
    "# A common change for TDDFT is to use different XC functional library.  For\n",
    "# example, PBE0 is not supported by the default XC library (libxc) in the TDDFT\n",
    "# calculation.  Changing to xcfun library for TDDFT can solve this problem\n",
    "#\n",
    "mf._numint.libxc = dft.xcfun\n",
    "# PySCF-1.6.1 and newer supports the .TDDFT method to create a TDDFT\n",
    "# object after importing tdscf module.\n",
    "td = mf.TDDFT()\n",
    "print(td.kernel()[0] * 27.2114)\n",
    "\n",
    "#\n",
    "# Overwriting the relevant attributes of the ground state mf object,\n",
    "# the TDDFT calculations can be run with different XC, grids.\n",
    "#\n",
    "mf.xc = 'lda,vwn'\n",
    "mf.grids.set(level=2).kernel(with_non0tab=True)\n",
    "td = mf.TDDFT()\n",
    "print(td.kernel()[0] * 27.2114)\n",
    "\n",
    "#\n",
    "# Overwriting the ground state SCF object is unsafe.  A better solution is to\n",
    "# create a new fake SCF object to hold different XC, grids parameters.\n",
    "#\n",
    "from pyscf.dft import numint\n",
    "mf = dft.RKS(mol).run(xc='pbe0')\n",
    "mf1 = copy.copy(mf)\n",
    "mf1.xc = 'lda,vwn'\n",
    "mf1.grids = dft.Grids(mol)\n",
    "mf1.grids.level = 2\n",
    "mf1._numint = numint.NumInt()\n",
    "mf1._numint.libxc = dft.xcfun\n",
    "td = mf1.TDDFT()\n",
    "print(td.kernel()[0] * 27.2114)\n"
   ]
  },
  {
   "cell_type": "code",
   "execution_count": 1,
   "id": "397665fa-ba79-4e5a-88c6-f15ab921a95f",
   "metadata": {},
   "outputs": [],
   "source": [
    "#%%\n",
    "# Import modules =======================================================\n",
    "import psi4\n",
    "import numpy as np  \n",
    "import pandas as pd"
   ]
  },
  {
   "cell_type": "code",
   "execution_count": 2,
   "id": "af583b06-c20a-4d5e-86a0-17f4788daab1",
   "metadata": {},
   "outputs": [],
   "source": [
    "# Set up Psi4 ==========================================================\n",
    "\n",
    "psi4.core.clean()\n",
    "psi4.core.clean_options()\n",
    "psi4.set_memory('4000 MB')  # Can make this much larger on Seawulf, each compute node has more than 100 GB RAM\n",
    "psi4.set_num_threads(4)    # Can make this much larger on Seawulf, each compute node can support 28 threads.\n",
    "                            # But it doesn't help much for small molecules...\n",
    "psi4.core.set_output_file('./Data/PotentialScan.dat', False) #this command sets psi4's output to a file. Comment this line out if you want to see the output on the terminal."
   ]
  },
  {
   "cell_type": "code",
   "execution_count": 3,
   "id": "f8dbfc22-1952-4852-917d-7176a31875d1",
   "metadata": {},
   "outputs": [
    {
     "name": "stdout",
     "output_type": "stream",
     "text": [
      "Working on R = 0.7\n",
      "Ground State Energy = -75.43910077112201\n",
      "Working on R = 0.8\n",
      "Ground State Energy = -75.53700521805658\n",
      "Working on R = 0.9\n",
      "Ground State Energy = -75.57419311105323\n",
      "Working on R = 1.0\n",
      "Ground State Energy = -75.5802023888392\n",
      "Working on R = 1.1\n",
      "Ground State Energy = -75.57056174995475\n",
      "Working on R = 1.2\n",
      "Ground State Energy = -75.55361325769285\n",
      "Working on R = 1.3\n",
      "Ground State Energy = -75.53386440462627\n",
      "Working on R = 1.5\n",
      "Ground State Energy = -75.4947260662294\n",
      "Working on R = 1.7\n",
      "Ground State Energy = -75.46235027636324\n",
      "Working on R = 1.9\n",
      "Ground State Energy = -75.43925290030866\n",
      "Working on R = 2.1\n",
      "Ground State Energy = -75.42607046005062\n",
      "Working on R = 2.3\n",
      "Ground State Energy = -75.42167683100537\n",
      "Working on R = 2.5\n",
      "Ground State Energy = -75.4212100529538\n",
      "Working on R = 3.0\n",
      "Ground State Energy = -75.4219884192551\n",
      "Potential Scan Done, Calculating States and Transition Dipoles at Equilibrium...\n"
     ]
    },
    {
     "data": {
      "text/plain": [
       "-75.16534920454069"
      ]
     },
     "execution_count": 3,
     "metadata": {},
     "output_type": "execute_result"
    }
   ],
   "source": [
    "# Define QC method to use and set up calculation =======================\n",
    "\n",
    "method = 'eom-ccsd/aug-cc-pvdz'\n",
    "\n",
    "#Define Z-matrix string with adjustable bond length\n",
    "OHstring = \"\"\"\n",
    "O\n",
    "H 1 {0}\n",
    "\"\"\"\n",
    "# Do initial molecule initialization in order to extract the irreps.\n",
    "OH = psi4.geometry(OHstring.format(2)) \n",
    "irreps = OH.irrep_labels()\n",
    "\n",
    "# Set up vector with number of roots to find per irreducible representation\n",
    "# ------------[A1, A2, B1  B2] \n",
    "RootsVector = [ 2,  2,  2,  0]\n",
    "Nroots = np.sum(RootsVector)\n",
    "\n",
    "# Set up open-shell calculation options. If having trouble converging, you\n",
    "# can try a uhf referncer or change the method for guessing the starting point\n",
    "# for the reference scf calculation d \n",
    "psi4.set_options({'reference': 'rohf', 'freeze_core':'true', \\\n",
    "                  'roots_per_irrep':RootsVector, 'guess':'read'}) #Only need A1\n",
    "\n",
    "# Set up internuclear distances to scan.\n",
    "Rvals = [0.7,0.8,0.9,1.0,1.1,1.2,1.3,1.5,1.7,1.9,2.1,2.3,2.5,3.0]\n",
    "\n",
    "# %%\n",
    "# Do calculation! ======================================================\n",
    "\n",
    "# Set up empty 2D array to store the excited state energies and empty 1D\n",
    "# list to store the ground state energy and the state labels.\n",
    "Ee = np.zeros( (len(Rvals),Nroots) )\n",
    "Eg0 = []\n",
    "Labels = []\n",
    "\n",
    "i = 0 #loop counter\n",
    "# loop over internuclear distance\n",
    "for R in Rvals:\n",
    "    n = 0\n",
    "    OH = psi4.geometry(OHstring.format(R)) #set internuclear distance\n",
    "    print('Working on R = ' + str(R))\n",
    "    psi4.energy(method, molecule = OH) # perform calculation.\n",
    "    Eg0.append(psi4.core.variable('CCSD TOTAL ENERGY'))  #append ground state energy to list.   \n",
    "    print('Ground State Energy = ' + str(Eg0[-1]))\n",
    "     #loop through excited states\n",
    "    for n in range(Nroots):\n",
    "        Labels.append('CC Root ' + str(n+1)) # Append state label, could get more descriptive here.\n",
    "        Ee[i,n] = psi4.core.variable('CC ROOT %d TOTAL ENERGY' %(n+1)) #store excited state enegies to 2D array\n",
    "        #print('Excited States Energy = ' + str(Ee[:,n]))\n",
    "    i += 1\n",
    "\n",
    "# %%\n",
    "# Save Data for potential scan =========================================\n",
    "\n",
    "#Build dictionary to save with Pandas\n",
    "D = {'R [Angstrom]': Rvals,'Eg': Eg0}\n",
    "for n in range(Nroots):\n",
    "    D[Labels[n]] = Ee[:,n]\n",
    "        \n",
    "# Save data        \n",
    "df = pd.DataFrame(data = D) \n",
    "df.to_csv('OHpotentials.csv')\n",
    "\n",
    "# %%\n",
    "# Calculate energies and dipoles  near equilibrium geometry of the =====\n",
    "# lowest excited A1 (\\Sigma^+) state. ==================================\n",
    "print('Potential Scan Done, Calculating States and Transition Dipoles at Equilibrium...')\n",
    "OH = psi4.geometry(OHstring.format(1.0)) # set geometry near A1 state equilibrium.\n",
    "\n",
    "psi4.core.set_output_file('EquilibriumSpectrum.dat') # change output file name.\n",
    "psi4.energy(method, molecule = OH)         # calculate energy (put results in new output file).\n",
    "\n",
    "psi4.core.set_output_file('OscStrength.dat', False) # change output file name to store osc. strength data.\n",
    "psi4.properties(method, molecule = OH, properties= ['oscillator_strength']) # calculate oscillator strengths."
   ]
  },
  {
   "cell_type": "code",
   "execution_count": 8,
   "id": "0621ef08-1004-4f10-ab8e-e458c0f16a56",
   "metadata": {},
   "outputs": [
    {
     "name": "stdout",
     "output_type": "stream",
     "text": [
      "-75.16534920460293\n"
     ]
    }
   ],
   "source": [
    "print(psi4.properties(method, molecule = OH, properties = ['oscillator_strength']))"
   ]
  },
  {
   "cell_type": "code",
   "execution_count": 73,
   "id": "ec005262-ebc2-4adb-9a07-6109f5c5868e",
   "metadata": {},
   "outputs": [
    {
     "data": {
      "image/png": "[encoded data removed]",
      "text/plain": [
       "<Figure size 432x288 with 1 Axes>"
      ]
     },
     "metadata": {
      "needs_background": "light"
     },
     "output_type": "display_data"
    }
   ],
   "source": [
    "# Import modules =======================================================\n",
    "\n",
    "import matplotlib.pyplot as plt\n",
    "import numpy as np\n",
    "import pandas as pd\n",
    "\n",
    "#%%\n",
    "# Read in data =========================================================\n",
    "df = pd.read_csv('OHpotentials.csv')\n",
    "Nroots = len(df.keys()) - 3\n",
    "Labels = df.keys()[2:]\n",
    "\n",
    "# %%\n",
    "# Unpack data into numpy arrays and subtract offset ====================\n",
    "R = np.asarray(df['R [Angstrom]'])\n",
    "Eg = np.asarray(df['Eg'])\n",
    "\n",
    "# subtract dissociation limit for ground state\n",
    "Eg0au = Eg[-1]\n",
    "Eg = 27.211399*(Eg-Eg0au)\n",
    "\n",
    "\n",
    "fig = plt.figure()\n",
    "ax = plt.axes()\n",
    "ax.plot(R,Eg, marker = 'o', label = 'Ground State')\n",
    "for j in range(Nroots):\n",
    "    Ejvec = np.asarray(df[df.keys()[3+j]]) #unpack excited states\n",
    "    Ejvec = 27.211399*(Ejvec-Eg0au)\n",
    "    ax.plot(R,Ejvec, marker = 'o', label = Labels[j+1])\n",
    "ax.set_xlabel('R [Angstrom]')\n",
    "ax.set_ylabel('U(R) [eV]')\n",
    "ax.grid()\n",
    "ax.legend()\n",
    "plt.show()"
   ]
  },
  {
   "cell_type": "code",
   "execution_count": 17,
   "id": "427176d4-4774-472c-9724-7549d7df24f6",
   "metadata": {},
   "outputs": [
    {
     "data": {
      "text/plain": [
       "array([-75.27129214, -75.37427946, -75.41689014, -75.42862084,\n",
       "       -75.42492638, -75.41406025, -75.40042984, -75.37320882,\n",
       "       -75.35171164, -75.33706706, -75.32623855, -75.31675704,\n",
       "       -75.30981882, -75.30212021])"
      ]
     },
     "execution_count": 17,
     "metadata": {},
     "output_type": "execute_result"
    }
   ],
   "source": [
    "Ee[:,2]"
   ]
  },
  {
   "cell_type": "code",
   "execution_count": null,
   "id": "316b356c-1e86-4f6c-9e49-d664167cc2c5",
   "metadata": {},
   "outputs": [],
   "source": []
  }
 ],
 "metadata": {
  "kernelspec": {
   "display_name": "psi4",
   "language": "python",
   "name": "psi4"
  },
  "language_info": {
   "codemirror_mode": {
    "name": "ipython",
    "version": 3
   },
   "file_extension": ".py",
   "mimetype": "text/x-python",
   "name": "python",
   "nbconvert_exporter": "python",
   "pygments_lexer": "ipython3",
   "version": "3.7.11"
  }
 },
 "nbformat": 4,
 "nbformat_minor": 5
}
