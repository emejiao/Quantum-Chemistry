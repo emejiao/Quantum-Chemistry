{
 "cells": [
  {
   "cell_type": "markdown",
   "id": "26193083-b4f3-4eb0-83f5-cb237ec7a119",
   "metadata": {},
   "source": [
    "<font color=red size=6>**Sistemas Atómicos**\n",
    "\n",
    "<font color=red>**Prof. Enrique Mejía Ospino, emejia@uis.edu.co**\n",
    "\n",
    "<font color=red>**Escuela de Química**\n",
    "    \n",
    "<font color=red>**Universidad Industrial de Santander** "
   ]
  },
  {
   "cell_type": "markdown",
   "id": "c619f8d4-745f-48dc-a913-d96ff030ebf6",
   "metadata": {},
   "source": [
    "**<font color=blue> Vamos  atilizar el modulo *Pyscf* para desarrollar algunos ejercicios de cálculo mecánico-cuántico sobre sistemas atómicos.** "
   ]
  },
  {
   "cell_type": "code",
   "execution_count": 2,
   "id": "a8e77c36-f8a4-4369-b7e0-29e5c332082d",
   "metadata": {},
   "outputs": [],
   "source": [
    "from ase.units import Ry, eV, Ha\n",
    "import pyscf\n",
    "import h5py\n",
    "from pyscf import gto\n",
    "from pyscf.data import elements\n",
    "from pyscf.scf import atom_hf\n",
    "import numpy as np\n",
    "import matplotlib.pyplot as plt\n",
    "import fortecubeview # Visualizar moléculas"
   ]
  },
  {
   "cell_type": "markdown",
   "id": "584869c7-5e01-4193-a191-e5d9058edfc4",
   "metadata": {},
   "source": [
    "**<font color=blue> En el primer ejemplo se muestra cálculos MC utilizando base ECP a átomos con números atómicos entre 20-93.** "
   ]
  },
  {
   "cell_type": "code",
   "execution_count": 7,
   "id": "9c5b8a1c-ef79-4a1d-b17f-29dfe3f488ef",
   "metadata": {},
   "outputs": [
    {
     "name": "stderr",
     "output_type": "stream",
     "text": [
      "ECP lanl2dz not found for  Ne\n"
     ]
    },
    {
     "name": "stdout",
     "output_type": "stream",
     "text": [
      "E(NRSRHF) is lower in 58 samples\n",
      "E(NRSRHF) is higher in 4 samples\n"
     ]
    }
   ],
   "source": [
    "# RHF\n",
    "atoms = {}\n",
    "for z in range(10, 94):\n",
    "    try:\n",
    "        a = gto.M(atom=[[z, (0, 0, 0)]], basis='lanl2dz', ecp='lanl2dz', verbose=0, spin=None)\n",
    "        atoms[z] = a\n",
    "    except:\n",
    "        pass\n",
    "\n",
    "def count_scf_cycle(envs):\n",
    "    envs['mf']._cycle = envs['cycle']\n",
    "\n",
    "counts = {}\n",
    "for z, atm in atoms.items():\n",
    "    mf = atom_hf.AtomSphericAverageRHF(atm)\n",
    "    mf.atomic_configuration = elements.NRSRHF_CONFIGURATION\n",
    "    mf.callback = count_scf_cycle\n",
    "    mf.run()\n",
    "\n",
    "    mf1 = atom_hf.AtomSphericAverageRHF(atm)\n",
    "    mf1.atomic_configuration = elements.CONFIGURATION\n",
    "    mf1.callback = count_scf_cycle\n",
    "    mf1.run()\n",
    "    counts[z] = (mf._cycle, mf.e_tot, mf1._cycle, mf1.e_tot)\n",
    "\n",
    "print('E(NRSRHF) is lower in %d samples' % sum([(v[1] - v[3] < 1e-7) for v in counts.values()]))\n",
    "print('E(NRSRHF) is higher in %d samples' % sum([(v[1] - v[3] > 1e-7) for v in counts.values()]))"
   ]
  },
  {
   "cell_type": "code",
   "execution_count": 8,
   "id": "e98f57dc-c3bc-4905-b006-4d05c946dfbc",
   "metadata": {},
   "outputs": [
    {
     "data": {
      "text/plain": [
       "{10: (4, -128.52235440171017, 4, -128.52235440171023),\n",
       " 11: (3, -0.12780949381299156, 3, -0.12780949381299156),\n",
       " 12: (3, -0.781026619756843, 3, -0.781026619756843),\n",
       " 13: (4, -1.768592563721537, 4, -1.7685925637215374),\n",
       " 14: (4, -3.448742049228529, 4, -3.448742049228529),\n",
       " 15: (4, -5.970055536734266, 4, -5.9700555367342645),\n",
       " 16: (4, -9.570036794300366, 4, -9.570036794300368),\n",
       " 17: (4, -14.483601404494992, 4, -14.483601404494992),\n",
       " 18: (4, -20.67320487408709, 4, -20.673204874087087),\n",
       " 19: (4, -27.80957412158366, 4, -27.809574121583662),\n",
       " 20: (5, -36.21397107570574, 5, -36.21397107570574),\n",
       " 21: (5, -45.711328074082374, 5, -45.74307367349415),\n",
       " 22: (6, -57.01377412624966, 6, -57.01377412624966),\n",
       " 23: (6, -69.93082525847663, 6, -69.93082525847666),\n",
       " 24: (6, -84.62017858827954, 6, -84.58405264797685),\n",
       " 25: (8, -102.14184046234114, 6, -102.04243615919137),\n",
       " 26: (7, -121.71789761573997, 6, -121.46868401128216),\n",
       " 27: (7, -143.51809919835594, 6, -143.11077681912477),\n",
       " 28: (7, -168.0365711427935, 6, -167.4538436992893),\n",
       " 29: (7, -194.9238863920304, 7, -194.92388639203043),\n",
       " 30: (10, -63.52055677706441, 10, -63.52055677706443),\n",
       " 31: (4, -1.8442310646659394, 4, -1.8442310646659394),\n",
       " 32: (4, -3.3835658570311193, 4, -3.383565857031119),\n",
       " 33: (4, -5.636580700613053, 4, -5.636580700613056),\n",
       " 34: (4, -8.737351536815153, 4, -8.737351536815154),\n",
       " 35: (4, -12.748669612605907, 4, -12.748669612605903),\n",
       " 36: (4, -17.865510528059286, 4, -17.865510528059282),\n",
       " 37: (4, -23.54314801234714, 4, -23.54314801234716),\n",
       " 38: (5, -30.09916786098989, 5, -30.099167860989915),\n",
       " 39: (5, -37.31412494156076, 5, -37.309360488253766),\n",
       " 40: (6, -45.643226442631644, 6, -45.643226442631594),\n",
       " 41: (6, -55.12803688658285, 6, -55.02600026564248),\n",
       " 42: (6, -66.14367632435476, 5, -66.08913377995165),\n",
       " 43: (5, -78.6796530919429, 5, -78.53137753134664),\n",
       " 44: (6, -92.59393324635512, 5, -92.40431993279275),\n",
       " 45: (5, -108.3875852988154, 5, -108.12233441385199),\n",
       " 46: (6, -125.86484444757183, 6, -125.8648444475719),\n",
       " 47: (5, -144.82696029488994, 5, -144.82696029489006),\n",
       " 48: (5, -46.57143178045755, 5, -46.571431780457566),\n",
       " 49: (4, -1.6917921884619385, 4, -1.6917921884619382),\n",
       " 50: (4, -3.0430971529257946, 4, -3.043097152925794),\n",
       " 51: (4, -4.980177055553735, 4, -4.9801770555537335),\n",
       " 52: (4, -7.620875099771304, 4, -7.620875099771309),\n",
       " 53: (4, -11.012558260876787, 4, -11.012558260876794),\n",
       " 54: (3, -15.22433120607849, 3, -15.2243312060785),\n",
       " 55: (4, -19.57022609035268, 4, -19.570226090352676),\n",
       " 56: (5, -24.889533053325103, 5, -24.88953305332512),\n",
       " 57: (5, -30.627900775091167, 5, -30.627900775091177),\n",
       " 72: (5, -47.97329224117345, 5, -47.9732922411734),\n",
       " 73: (6, -56.63714274755951, 6, -56.63714274755956),\n",
       " 74: (5, -66.32917500361255, 5, -66.43608272781802),\n",
       " 75: (5, -77.60365100036088, 5, -77.58820964038466),\n",
       " 76: (5, -89.648149583813, 5, -89.52087338280958),\n",
       " 77: (5, -103.47177788402185, 5, -103.19389764980072),\n",
       " 78: (5, -118.18451531091556, 5, -117.907917838724),\n",
       " 79: (5, -134.45801952134352, 5, -134.45801952134354),\n",
       " 80: (5, -41.41183030783661, 5, -41.4118303078366),\n",
       " 81: (5, -50.04528252791107, 5, -50.045282527911056),\n",
       " 82: (4, -3.1535868173952117, 4, -3.1535868173952135),\n",
       " 83: (4, -5.039481985748937, 4, -5.039481985748938),\n",
       " 92: (6, -49.43008575637498, 6, -49.5263783360608),\n",
       " 93: (6, -58.5066108423973, 6, -58.53925935990502)}"
      ]
     },
     "execution_count": 8,
     "metadata": {},
     "output_type": "execute_result"
    }
   ],
   "source": [
    "counts"
   ]
  },
  {
   "cell_type": "code",
   "execution_count": 14,
   "id": "9667ec28-2e72-4b1a-9d2c-11da4196552a",
   "metadata": {},
   "outputs": [
    {
     "name": "stdout",
     "output_type": "stream",
     "text": [
      "model name\t: Intel(R) Core(TM) i5-8250U CPU @ 1.60GHz\n",
      "MemTotal:        8277196 kB\n",
      "OMP_NUM_THREADS=None\n",
      "\n",
      "converged SCF energy = -108.300041526319\n",
      "    CPU time for N2 3-21g RHF      0.62 sec, wall time      0.09 sec\n",
      "E(MP2) = -108.537199201249  E_corr = -0.237157674930381\n",
      "    CPU time for N2 3-21g MP2      0.00 sec, wall time      0.00 sec\n",
      "CASSCF energy = -108.399344825887\n",
      "CASCI E = -108.399344825887  E(CI) = -5.6974097910152  S^2 = 0.0000000\n",
      "    CPU time for N2 3-21g CASSCF      1.23 sec, wall time      0.16 sec\n",
      "E(CCSD) = -108.5269196185218  E_corr = -0.2268780922030085\n",
      "    CPU time for N2 3-21g CCSD      1.58 sec, wall time      0.21 sec\n",
      "converged SCF energy = -108.839820000931\n",
      "    CPU time for N2 3-21g B3LYP      2.08 sec, wall time      0.30 sec\n",
      "converged SCF energy = -108.839874858427\n",
      "    CPU time for N2 3-21g density-fit RHF      2.23 sec, wall time      0.29 sec\n",
      "converged SCF energy = -108.94154785202\n",
      "    CPU time for N2 6-31g* RHF      0.59 sec, wall time      0.10 sec\n",
      "E(MP2) = -109.251616453091  E_corr = -0.310068601070397\n",
      "    CPU time for N2 6-31g* MP2      0.09 sec, wall time      0.01 sec\n",
      "CASSCF energy = -109.034067090331\n",
      "CASCI E = -109.034067090331  E(CI) = -5.76598871705326  S^2 = 0.0000000\n",
      "    CPU time for N2 6-31g* CASSCF      2.03 sec, wall time      0.27 sec\n",
      "E(CCSD) = -109.2540275799258  E_corr = -0.3124797279053564\n",
      "    CPU time for N2 6-31g* CCSD      1.81 sec, wall time      0.25 sec\n",
      "converged SCF energy = -109.468435049756\n",
      "    CPU time for N2 6-31g* B3LYP      2.53 sec, wall time      0.34 sec\n",
      "converged SCF energy = -109.468405890957\n",
      "    CPU time for N2 6-31g* density-fit RHF      2.30 sec, wall time      0.35 sec\n",
      "converged SCF energy = -108.983006532241\n",
      "    CPU time for N2 cc-pVTZ RHF      1.02 sec, wall time      0.17 sec\n",
      "E(MP2) = -109.383028819726  E_corr = -0.400022287485302\n",
      "    CPU time for N2 cc-pVTZ MP2      0.11 sec, wall time      0.02 sec\n",
      "CASSCF energy = -109.075031025226\n",
      "CASCI E = -109.075031025226  E(CI) = -5.77716433099945  S^2 = 0.0000000\n",
      "    CPU time for N2 cc-pVTZ CASSCF      3.92 sec, wall time      0.56 sec\n",
      "E(CCSD) = -109.3809436416811  E_corr = -0.3979371094402345\n",
      "    CPU time for N2 cc-pVTZ CCSD      7.97 sec, wall time      1.15 sec\n",
      "converged SCF energy = -109.516044711237\n",
      "    CPU time for N2 cc-pVTZ B3LYP      4.30 sec, wall time      0.57 sec\n",
      "converged SCF energy = -109.516027561947\n",
      "    CPU time for N2 cc-pVTZ density-fit RHF      3.78 sec, wall time      0.52 sec\n",
      "converged SCF energy = -108.990383832745\n",
      "    CPU time for N2 ANO-Roos-TZ RHF      6.86 sec, wall time      1.04 sec\n",
      "E(MP2) = -109.407733915312  E_corr = -0.417350082567153\n",
      "    CPU time for N2 ANO-Roos-TZ MP2      0.45 sec, wall time      0.06 sec\n",
      "CASSCF energy = -109.082543962377\n",
      "CASCI E = -109.082543962377  E(CI) = -5.7887932421622  S^2 = 0.0000000\n",
      "    CPU time for N2 ANO-Roos-TZ CASSCF     12.59 sec, wall time      1.62 sec\n",
      "E(CCSD) = -109.4041776499936  E_corr = -0.4137938172484105\n",
      "    CPU time for N2 ANO-Roos-TZ CCSD     41.59 sec, wall time      5.93 sec\n",
      "converged SCF energy = -109.52480286428\n",
      "    CPU time for N2 ANO-Roos-TZ B3LYP     13.94 sec, wall time      2.34 sec\n",
      "converged SCF energy = -109.524800393025\n",
      "    CPU time for N2 ANO-Roos-TZ density-fit RHF      9.75 sec, wall time      1.74 sec\n"
     ]
    }
   ],
   "source": [
    "import os\n",
    "import time\n",
    "import pyscf\n",
    "from pyscf.tools.mo_mapping import mo_comps\n",
    "\n",
    "log = pyscf.lib.logger.Logger(verbose=5)\n",
    "with open('/proc/cpuinfo') as f:\n",
    "    for line in f:\n",
    "        if 'model name' in line:\n",
    "            log.note(line[:-1])\n",
    "            break\n",
    "with open('/proc/meminfo') as f:\n",
    "    log.note(f.readline()[:-1])\n",
    "log.note('OMP_NUM_THREADS=%s\\n', os.environ.get('OMP_NUM_THREADS', None))\n",
    "\n",
    "for bas in ('3-21g', '6-31g*', 'cc-pVTZ', 'ANO-Roos-TZ'):\n",
    "    mol = pyscf.M(atom = 'N 0 0 0; N 0 0 1.1',\n",
    "                  basis = bas)\n",
    "    cpu0 = time.clock(), time.time()\n",
    "\n",
    "    mf = mol.RHF().run()\n",
    "    cpu0 = log.timer('N2 %s RHF'%bas, *cpu0)\n",
    "\n",
    "    mymp2 = mf.MP2().run()\n",
    "    cpu0 = log.timer('N2 %s MP2'%bas, *cpu0)\n",
    "\n",
    "    mymc = mf.CASSCF(4, 4)\n",
    "    idx_2pz = mo_comps('2p[xy]', mol, mf.mo_coeff).argsort()[-4:]\n",
    "    mo = mymc.sort_mo(idx_2pz, base=0)\n",
    "    mymc.kernel(mo)\n",
    "    cpu0 = log.timer('N2 %s CASSCF'%bas, *cpu0)\n",
    "\n",
    "    mycc = mf.CCSD().run()\n",
    "    cpu0 = log.timer('N2 %s CCSD'%bas, *cpu0)\n",
    "\n",
    "    mf = mol.RKS().run(xc='b3lyp')\n",
    "    cpu0 = log.timer('N2 %s B3LYP'%bas, *cpu0)\n",
    "\n",
    "    mf = mf.density_fit().run()\n",
    "    cpu0 = log.timer('N2 %s density-fit RHF'%bas, *cpu0)\n"
   ]
  },
  {
   "cell_type": "markdown",
   "id": "f6f3aee5-4759-426e-b66c-df39f4b9ce2f",
   "metadata": {},
   "source": [
    "**<font color=blue> Similar al anterior script.** "
   ]
  },
  {
   "cell_type": "code",
   "execution_count": 16,
   "id": "ab86b569-adb8-4f41-926d-3abf1d48f777",
   "metadata": {},
   "outputs": [
    {
     "name": "stdout",
     "output_type": "stream",
     "text": [
      "converged SCF energy = -76.347810766126\n",
      "Excited State energies (eV)\n",
      "[7.80914054 9.91154603 9.94779907]\n",
      "Excited State energies (eV)\n",
      "[ 7.80914054  9.91154601  9.94779907 12.37308116 14.75039315 18.18007294\n",
      " 27.76941228 28.14881774 29.14720826 30.09284831]\n",
      "\n",
      "** Singlet excitation energies and oscillator strengths **\n",
      "Excited State   1:   B2      7.80914 eV    158.77 nm  f=0.0115\n",
      "Excited State   2:   A1      9.91155 eV    125.09 nm  f=0.0962\n",
      "Excited State   3:   A2      9.94780 eV    124.63 nm  f=0.0000\n",
      "Excited State   4:   B1     12.37308 eV    100.20 nm  f=0.0870\n",
      "Excited State   5:   B1     14.75039 eV     84.05 nm  f=0.4120\n",
      "Excited State   6:   A1     18.18007 eV     68.20 nm  f=0.2413\n",
      "Excited State   7:   A2     27.76941 eV     44.65 nm  f=0.0000\n",
      "Excited State   8:   A1     28.14882 eV     44.05 nm  f=0.0167\n",
      "Excited State   9:   B2     29.14721 eV     42.54 nm  f=0.0869\n",
      "Excited State  10:   B1     30.09285 eV     41.20 nm  f=0.1475\n"
     ]
    },
    {
     "data": {
      "text/plain": [
       "<pyscf.tdscf.rks.TDDFT at 0x7f05dbfc46d0>"
      ]
     },
     "execution_count": 16,
     "metadata": {},
     "output_type": "execute_result"
    }
   ],
   "source": [
    "from pyscf import gto, scf, dft, tddft\n",
    "\n",
    "mol = gto.Mole()\n",
    "mol.build(\n",
    "    atom = '''\n",
    "      o     0    0       0\n",
    "      h     0    -.757   .587\n",
    "      h     0    .757    .587''',  # in Angstrom\n",
    "    basis = '631g',\n",
    "    symmetry = True,\n",
    ")\n",
    "\n",
    "mf = dft.RKS(mol)\n",
    "mf.xc = 'b3lyp'\n",
    "mf.kernel() # Calcula energía del estado fundamental \n",
    "\n",
    "mytd = mf.TDDFT().run() # Calcula los estados excitados \n",
    "\n",
    "mytd.nstates = 10\n",
    "mytd.kernel()\n",
    "mytd.analyze()"
   ]
  },
  {
   "cell_type": "code",
   "execution_count": 6,
   "id": "ec56a922-3a7a-4561-8910-744d0e89a42e",
   "metadata": {},
   "outputs": [
    {
     "ename": "AttributeError",
     "evalue": "module 'pyscf' has no attribute 'optimize'",
     "output_type": "error",
     "traceback": [
      "\u001b[0;31m---------------------------------------------------------------------------\u001b[0m",
      "\u001b[0;31mAttributeError\u001b[0m                            Traceback (most recent call last)",
      "\u001b[0;32m<ipython-input-6-a3534b1a0afc>\u001b[0m in \u001b[0;36m<module>\u001b[0;34m\u001b[0m\n\u001b[1;32m     20\u001b[0m \u001b[0;31m#\u001b[0m\u001b[0;34m\u001b[0m\u001b[0;34m\u001b[0m\u001b[0;34m\u001b[0m\u001b[0m\n\u001b[1;32m     21\u001b[0m \u001b[0;31m# method 1: import the optimize function from pyscf.geomopt.geometric_solver\u001b[0m\u001b[0;34m\u001b[0m\u001b[0;34m\u001b[0m\u001b[0;34m\u001b[0m\u001b[0m\n\u001b[0;32m---> 22\u001b[0;31m \u001b[0mmol_eq\u001b[0m \u001b[0;34m=\u001b[0m \u001b[0mpyscf\u001b[0m\u001b[0;34m.\u001b[0m\u001b[0moptimize\u001b[0m\u001b[0;34m(\u001b[0m\u001b[0mmf\u001b[0m\u001b[0;34m)\u001b[0m\u001b[0;34m\u001b[0m\u001b[0;34m\u001b[0m\u001b[0m\n\u001b[0m\u001b[1;32m     23\u001b[0m \u001b[0mprint\u001b[0m\u001b[0;34m(\u001b[0m\u001b[0mmol_eq\u001b[0m\u001b[0;34m.\u001b[0m\u001b[0matom_coords\u001b[0m\u001b[0;34m(\u001b[0m\u001b[0;34m)\u001b[0m\u001b[0;34m)\u001b[0m\u001b[0;34m\u001b[0m\u001b[0;34m\u001b[0m\u001b[0m\n\u001b[1;32m     24\u001b[0m \u001b[0;34m\u001b[0m\u001b[0m\n",
      "\u001b[0;31mAttributeError\u001b[0m: module 'pyscf' has no attribute 'optimize'"
     ]
    }
   ],
   "source": [
    "from pyscf import gto, scf\n",
    "import pyscf\n",
    "from pyscf.geomopt.geometric_solver import optimize\n",
    "\n",
    "mol = gto.Mole()\n",
    "mol.build(\n",
    "    atom = '''\n",
    "      o     0    0       0\n",
    "      h     0    -.757   .587\n",
    "      h     0    .757    .587''',  # in Angstrom\n",
    "    basis = 'ccpvdz',\n",
    "    symmetry = True,\n",
    ")\n",
    "\n",
    "mf = scf.RHF(mol)\n",
    "\n",
    "#\n",
    "# geometry optimization for HF.  There are two entries to invoke the geomeTRIC\n",
    "# optimization\n",
    "#\n",
    "# method 1: import the optimize function from pyscf.geomopt.geometric_solver\n",
    "mol_eq = pyscf.optimize(mf)\n",
    "print(mol_eq.atom_coords())\n",
    "\n",
    "# method 2: create the optimizer from Gradients class\n",
    "mol_eq = mf.Gradients().optimizer(solver='geomeTRIC').kernel()\n",
    "\n",
    "#\n",
    "# geometry optimization for CASSCF\n",
    "#\n",
    "from pyscf import mcscf\n",
    "mf = scf.RHF(mol)\n",
    "mc = mcscf.CASSCF(mf, 4, 4)\n",
    "conv_params = {\n",
    "    'convergence_energy': 1e-4,  # Eh\n",
    "    'convergence_grms': 3e-3,    # Eh/Bohr\n",
    "    'convergence_gmax': 4.5e-3,  # Eh/Bohr\n",
    "    'convergence_drms': 1.2e-2,  # Angstrom\n",
    "    'convergence_dmax': 1.8e-2,  # Angstrom\n",
    "}\n",
    "# method 1\n",
    "mol_eq = optimize(mc, **conv_params)\n",
    "\n",
    "# method 2\n",
    "mol_eq = mc.Gradients().optimizer(solver='geomeTRIC').kernel(conv_params)"
   ]
  },
  {
   "cell_type": "markdown",
   "id": "e8e8e17d-0e6c-4c05-aebb-17e4876f02e7",
   "metadata": {},
   "source": [
    "**<font color=blue> Similar al anterior script, un poco más sencillo, se utiliza la determinación de la energía del estado fundamental usando RHF.** "
   ]
  },
  {
   "cell_type": "code",
   "execution_count": 7,
   "id": "23c6ae7b-fa1d-4f8b-bfc6-f347bf6d5e20",
   "metadata": {},
   "outputs": [
    {
     "name": "stdout",
     "output_type": "stream",
     "text": [
      "converged SCF energy = -75.9839484981055\n",
      "Excited State energies (eV)\n",
      "[ 9.36273381 11.28221712 11.78434553]\n",
      "Excited State energies (eV)\n",
      "[ 9.36273381 11.28221712 11.78434554 13.85939254 15.47459866 19.10080506\n",
      " 30.71639446 30.80765858 31.41780461 32.07833016]\n",
      "\n",
      "** Singlet excitation energies and oscillator strengths **\n",
      "Excited State   1:   B2      9.36273 eV    132.42 nm  f=0.0145\n",
      "Excited State   2:   A2     11.28222 eV    109.89 nm  f=0.0000\n",
      "Excited State   3:   A1     11.78435 eV    105.21 nm  f=0.1126\n",
      "Excited State   4:   B1     13.85939 eV     89.46 nm  f=0.0970\n",
      "Excited State   5:   B1     15.47460 eV     80.12 nm  f=0.4419\n",
      "Excited State   6:   A1     19.10081 eV     64.91 nm  f=0.2685\n",
      "Excited State   7:   B2     30.71639 eV     40.36 nm  f=0.0641\n",
      "Excited State   8:   A2     30.80766 eV     40.24 nm  f=0.0000\n",
      "Excited State   9:   A1     31.41780 eV     39.46 nm  f=0.0106\n",
      "Excited State  10:   B2     32.07833 eV     38.65 nm  f=0.0045\n"
     ]
    },
    {
     "data": {
      "text/plain": [
       "<pyscf.tdscf.rhf.TDHF at 0x7f05d660da50>"
      ]
     },
     "execution_count": 7,
     "metadata": {},
     "output_type": "execute_result"
    }
   ],
   "source": [
    "mol = gto.Mole()\n",
    "mol.build(\n",
    "    atom = '''\n",
    "      o     0    0       0\n",
    "      h     0    -.757   .587\n",
    "      h     0    .757    .587''',  # in Angstrom\n",
    "    basis = '631g',\n",
    "    symmetry = True,\n",
    ")\n",
    "mytd = mol.RHF().run().TDHF().run() # Calcula energía del estado fundamental usando el métod RHF y los estados excitados en\n",
    "# una sola línea\n",
    "\n",
    "#mytd = mf.TDDFT().run() # Calcula los estados excitados \n",
    "\n",
    "mytd.nstates = 10\n",
    "mytd.kernel()\n",
    "mytd.analyze()"
   ]
  },
  {
   "cell_type": "code",
   "execution_count": 8,
   "id": "b462979f-2e7f-4ca8-aa3a-4183b5d085b1",
   "metadata": {},
   "outputs": [
    {
     "name": "stdout",
     "output_type": "stream",
     "text": [
      "converged SCF energy = -76.3554935000355\n",
      "Excited State energies (eV)\n",
      "[ 7.90669935 10.01488148 10.08746356 12.53394723 14.79181987 18.32040498\n",
      " 27.99990594 28.40056132 29.31788336 30.37368889]\n",
      "\n",
      "** Singlet excitation energies and oscillator strengths **\n",
      "Excited State   1:   B2      7.90670 eV    156.81 nm  f=0.0113\n",
      "Excited State   2:   A1     10.01488 eV    123.80 nm  f=0.0943\n",
      "Excited State   3:   A2     10.08746 eV    122.91 nm  f=0.0000\n",
      "Excited State   4:   B1     12.53395 eV     98.92 nm  f=0.0833\n",
      "Excited State   5:   B1     14.79182 eV     83.82 nm  f=0.4130\n",
      "Excited State   6:   A1     18.32040 eV     67.68 nm  f=0.2443\n",
      "Excited State   7:   A2     27.99991 eV     44.28 nm  f=0.0000\n",
      "Excited State   8:   A1     28.40056 eV     43.66 nm  f=0.0145\n",
      "Excited State   9:   B2     29.31788 eV     42.29 nm  f=0.0827\n",
      "Excited State  10:   B1     30.37369 eV     40.82 nm  f=0.1574\n"
     ]
    },
    {
     "data": {
      "text/plain": [
       "<pyscf.tdscf.rks.TDDFT at 0x7f05d65efd10>"
      ]
     },
     "execution_count": 8,
     "metadata": {},
     "output_type": "execute_result"
    }
   ],
   "source": [
    "from pyscf import gto, scf, dft, tddft\n",
    "\n",
    "mol = gto.Mole()\n",
    "mol.build(\n",
    "    atom = '''\n",
    "      o     0    0       0\n",
    "      h     0    -.757   .587\n",
    "      h     0    .757    .587''',  # in Angstrom\n",
    "    basis = '631g',\n",
    "    symmetry = True,\n",
    ")\n",
    "\n",
    "mf = mol.RKS()\n",
    "mf.xc= 'camb3lyp'\n",
    "mf.run()\n",
    "\n",
    "# Note you need to switch to xcfun library for cam-b3lyp tddft\n",
    "mf._numint.libxc = pyscf.dft.xcfun\n",
    "mytd = mf.TDDFT()\n",
    "\n",
    "mytd.nstates = 10\n",
    "mytd.kernel()\n",
    "mytd.analyze()\n",
    "\n"
   ]
  },
  {
   "cell_type": "markdown",
   "id": "51bfa2cd-2695-400a-8b82-5a6df90d7e04",
   "metadata": {},
   "source": [
    "**<font color=blue> Aqui usamos CIS para determinar los estados excitados con amplitudes TDA.** "
   ]
  },
  {
   "cell_type": "code",
   "execution_count": 9,
   "id": "f08ba756-f58f-4e7a-89fd-33a51012ec19",
   "metadata": {},
   "outputs": [
    {
     "name": "stdout",
     "output_type": "stream",
     "text": [
      "converged SCF energy = -76.3478107661261\n"
     ]
    },
    {
     "ename": "NameError",
     "evalue": "name 'tdscf' is not defined",
     "output_type": "error",
     "traceback": [
      "\u001b[0;31m---------------------------------------------------------------------------\u001b[0m",
      "\u001b[0;31mNameError\u001b[0m                                 Traceback (most recent call last)",
      "\u001b[0;32m<ipython-input-9-ba0f53aaf874>\u001b[0m in \u001b[0;36m<module>\u001b[0;34m\u001b[0m\n\u001b[1;32m     15\u001b[0m \u001b[0mmf\u001b[0m\u001b[0;34m.\u001b[0m\u001b[0mkernel\u001b[0m\u001b[0;34m(\u001b[0m\u001b[0;34m)\u001b[0m\u001b[0;34m\u001b[0m\u001b[0;34m\u001b[0m\u001b[0m\n\u001b[1;32m     16\u001b[0m \u001b[0;34m\u001b[0m\u001b[0m\n\u001b[0;32m---> 17\u001b[0;31m \u001b[0mmytd\u001b[0m \u001b[0;34m=\u001b[0m \u001b[0mtdscf\u001b[0m\u001b[0;34m.\u001b[0m\u001b[0mTDA\u001b[0m\u001b[0;34m(\u001b[0m\u001b[0mmf\u001b[0m\u001b[0;34m)\u001b[0m\u001b[0;34m.\u001b[0m\u001b[0mrun\u001b[0m\u001b[0;34m(\u001b[0m\u001b[0mnstates\u001b[0m\u001b[0;34m=\u001b[0m\u001b[0;36m5\u001b[0m\u001b[0;34m)\u001b[0m\u001b[0;34m\u001b[0m\u001b[0;34m\u001b[0m\u001b[0m\n\u001b[0m\u001b[1;32m     18\u001b[0m \u001b[0mmytd\u001b[0m\u001b[0;34m.\u001b[0m\u001b[0manalyze\u001b[0m\u001b[0;34m(\u001b[0m\u001b[0;34m)\u001b[0m\u001b[0;34m\u001b[0m\u001b[0;34m\u001b[0m\u001b[0m\n\u001b[1;32m     19\u001b[0m \u001b[0;34m\u001b[0m\u001b[0m\n",
      "\u001b[0;31mNameError\u001b[0m: name 'tdscf' is not defined"
     ]
    }
   ],
   "source": [
    "from pyscf import gto, scf, dft, tddft\n",
    "\n",
    "mol = gto.Mole()\n",
    "mol.build(\n",
    "    atom = '''\n",
    "      o     0    0       0\n",
    "      h     0    -.757   .587\n",
    "      h     0    .757    .587''',  # in Angstrom\n",
    "    basis = '631g',\n",
    "    symmetry = True,\n",
    ")\n",
    "\n",
    "mf = dft.RKS(mol)\n",
    "mf.xc = 'b3lyp'\n",
    "mf.kernel()\n",
    "\n",
    "mytd = tdscf.TDA(mf).run(nstates=5)\n",
    "mytd.analyze()\n",
    "\n",
    "def tda_denisty_matrix(td, state_id):\n",
    "    '''\n",
    "    Taking the TDA amplitudes as the CIS coefficients, calculate the density\n",
    "    matrix (in AO basis) of the excited states\n",
    "    '''\n",
    "    cis_t1 = td.xy[state_id][0]\n",
    "    dm_oo =-np.einsum('ia,ka->ik', cis_t1.conj(), cis_t1)\n",
    "    dm_vv = np.einsum('ia,ic->ac', cis_t1, cis_t1.conj())\n",
    "\n",
    "    # The ground state density matrix in mo_basis\n",
    "    mf = td._scf\n",
    "    dm = np.diag(mf.mo_occ)\n",
    "\n",
    "    # Add CIS contribution\n",
    "    nocc = cis_t1.shape[0]\n",
    "    # Note that dm_oo and dm_vv correspond to spin-up contribution. \"*2\" to\n",
    "    # include the spin-down contribution\n",
    "    dm[:nocc,:nocc] += dm_oo * 2\n",
    "    dm[nocc:,nocc:] += dm_vv * 2\n",
    "\n",
    "    # Transform density matrix to AO basis\n",
    "    mo = mf.mo_coeff\n",
    "    dm = np.einsum('pi,ij,qj->pq', mo, dm, mo.conj())\n",
    "    return dm\n",
    "\n",
    "# Density matrix for the 3rd excited state\n",
    "dm = tda_denisty_matrix(mytd, 2)\n",
    "\n",
    "# Write to cube format\n",
    "from pyscf.tools import cubegen\n",
    "cubegen.density(mol, 'tda_density.cube', dm)\n",
    "\n",
    "# Write the difference between excited state and ground state\n",
    "cubegen.density(mol, 'density_diff.cube', dm-mf.make_rdm1())\n",
    "\n",
    "# The positive and negative parts can be overlayed in Jmol\n",
    "# isosurface ID \"surf1\" cutoff  0.02 density_diff.cube\n",
    "# isosurface ID \"surf2\" cutoff -0.02 density_diff.cube"
   ]
  },
  {
   "cell_type": "markdown",
   "id": "d68653d0-0a97-409c-8294-4c46c047f894",
   "metadata": {},
   "source": [
    "**<font color=blue> Comparando dos funcionales.** "
   ]
  },
  {
   "cell_type": "code",
   "execution_count": 10,
   "id": "715bcb8b-0ab4-48fb-bc6b-39c930bff02d",
   "metadata": {},
   "outputs": [
    {
     "name": "stdout",
     "output_type": "stream",
     "text": [
      "converged SCF energy = -76.3238441273012\n",
      "Excited State energies (eV)\n",
      "[ 8.40219954 10.40170929 10.92823644]\n",
      "[ 8.40220385 10.40171464 10.92824206]\n",
      "Excited State energies (eV)\n",
      "[10.97713746 13.11294174 13.34875981]\n",
      "[10.9771431  13.11294848 13.34876667]\n",
      "converged SCF energy = -76.3238441273012\n",
      "Excited State energies (eV)\n",
      "[10.97713746 13.11294174 13.34875981]\n",
      "[10.9771431  13.11294848 13.34876667]\n"
     ]
    }
   ],
   "source": [
    "import copy\n",
    "from pyscf import gto, dft, tddft\n",
    "\n",
    "mol = gto.M(atom = '''\n",
    "      o     0    0       0\n",
    "      h     0    -.757   .587\n",
    "      h     0    .757    .587''',  # in Angstrom\n",
    "    basis = '631g*',\n",
    "    symmetry = True,\n",
    ")\n",
    "\n",
    "\n",
    "mf = dft.RKS(mol).run(xc='pbe0')\n",
    "\n",
    "#\n",
    "# A common change for TDDFT is to use different XC functional library.  For\n",
    "# example, PBE0 is not supported by the default XC library (libxc) in the TDDFT\n",
    "# calculation.  Changing to xcfun library for TDDFT can solve this problem\n",
    "#\n",
    "mf._numint.libxc = dft.xcfun\n",
    "# PySCF-1.6.1 and newer supports the .TDDFT method to create a TDDFT\n",
    "# object after importing tdscf module.\n",
    "td = mf.TDDFT()\n",
    "print(td.kernel()[0] * 27.2114)\n",
    "\n",
    "#\n",
    "# Overwriting the relevant attributes of the ground state mf object,\n",
    "# the TDDFT calculations can be run with different XC, grids.\n",
    "#\n",
    "mf.xc = 'lda,vwn'\n",
    "mf.grids.set(level=2).kernel(with_non0tab=True)\n",
    "td = mf.TDDFT()\n",
    "print(td.kernel()[0] * 27.2114)\n",
    "\n",
    "#\n",
    "# Overwriting the ground state SCF object is unsafe.  A better solution is to\n",
    "# create a new fake SCF object to hold different XC, grids parameters.\n",
    "#\n",
    "from pyscf.dft import numint\n",
    "mf = dft.RKS(mol).run(xc='pbe0')\n",
    "mf1 = copy.copy(mf)\n",
    "mf1.xc = 'lda,vwn'\n",
    "mf1.grids = dft.Grids(mol)\n",
    "mf1.grids.level = 2\n",
    "mf1._numint = numint.NumInt()\n",
    "mf1._numint.libxc = dft.xcfun\n",
    "td = mf1.TDDFT()\n",
    "print(td.kernel()[0] * 27.2114)\n"
   ]
  },
  {
   "cell_type": "code",
   "execution_count": null,
   "id": "2be81316-7040-4128-8d6a-8b1783a56ae2",
   "metadata": {},
   "outputs": [],
   "source": []
  }
 ],
 "metadata": {
  "kernelspec": {
   "display_name": "psi4",
   "language": "python",
   "name": "psi4"
  },
  "language_info": {
   "codemirror_mode": {
    "name": "ipython",
    "version": 3
   },
   "file_extension": ".py",
   "mimetype": "text/x-python",
   "name": "python",
   "nbconvert_exporter": "python",
   "pygments_lexer": "ipython3",
   "version": "3.7.11"
  }
 },
 "nbformat": 4,
 "nbformat_minor": 5
}
