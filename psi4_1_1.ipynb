{
 "cells": [
  {
   "cell_type": "markdown",
   "id": "69f2a083-4291-4c35-86c3-67d3167bd8e9",
   "metadata": {},
   "source": [
    "<div class=\"alert alert-success\" role=\"alert\">\n",
    "  <h1 class=\"alert-heading\">Análisis Vibracional</h1>\n",
    "  <h3 class=\"alert-heading\">Prof. Enrique Mejía Ospino, emejia@uis.edu.co</h3>\n",
    "  <h4 class=\"alert-heading\">Escuela de Química</h4>\n",
    "  <h4 class=\"alert-heading\">Universidad Industrial de Santander</h4>\n",
    "  </div>"
   ]
  },
  {
   "cell_type": "markdown",
   "id": "30fc743c-be9d-4d2e-a886-bbebf36e3563",
   "metadata": {},
   "source": [
    "**<font color=blue> Vamos  atilizar el modulo *PSI4* para desarrollar algunos ejercicios de cálculo mecánico-cuántico. En este Cuaderno de Jupyter realizaremos análisis vibracional de algunas moleculas sencillas.** "
   ]
  },
  {
   "cell_type": "code",
   "execution_count": 1,
   "id": "dec71b99",
   "metadata": {},
   "outputs": [],
   "source": [
    "# Importamos modulos ===============================================================\n",
    "import psi4\n",
    "import numpy as np  \n",
    "import matplotlib.pyplot as plt\n",
    "import h5py\n",
    "import fortecubeview # Visualizar moléculas\n",
    "%matplotlib inline"
   ]
  },
  {
   "cell_type": "code",
   "execution_count": 2,
   "id": "6994d7ea-1e66-45be-995f-df661fae76a7",
   "metadata": {},
   "outputs": [],
   "source": [
    "# Inicialización Psi4 =================================================================\n",
    "\n",
    "psi4.core.clean()\n",
    "psi4.core.clean_options()\n",
    "psi4.set_memory('2000 MB')  # Can make this much larger on Seawulf, each compute node has more than 100 GB RAM\n",
    "psi4.set_num_threads(4)    # Can make this much larger on Seawulf, each compute node can support 24 threads. \n",
    "                          # But it doesn't help much for small molecules...\n",
    "psi4.core.set_output_file('./Data/OCS_bent.dat', False) \n",
    "# this command sets psi4's output to a file. Comment this line out if you want to see the output on the terminal."
   ]
  },
  {
   "cell_type": "code",
   "execution_count": 3,
   "id": "4b8757a1-62e6-40b9-a881-9a16950f59e8",
   "metadata": {},
   "outputs": [],
   "source": [
    "# Geometría de la molécula de OCS ============================================\n",
    "OCS_120 = psi4.geometry(\"\"\"\n",
    " o\n",
    " c    1 co2     \n",
    " s    2 sc3         1 sco3      \n",
    " \n",
    "co2=        1.380000\n",
    "sc3=        1.780000\n",
    "sco3=       120.000\n",
    "\"\"\")\n",
    "OCS_120.reset_point_group('c1') # simetría!"
   ]
  },
  {
   "cell_type": "code",
   "execution_count": 4,
   "id": "704b2a5c-6512-4794-b5d1-57c515fefd84",
   "metadata": {
    "scrolled": true,
    "tags": []
   },
   "outputs": [
    {
     "name": "stdout",
     "output_type": "stream",
     "text": [
      "Optimizer: Optimization complete!\n",
      "Optimizer: Optimization complete!\n",
      "Energías en las posiciones iniciales con los dos métodos:\n",
      "\n",
      "Energía con el scf/3-21G es -507.50638932058047 Hatrees\n",
      "Energía con el scf/6-311G* es -510.1193187715539 Hatrees\n",
      "\n",
      "Energía después de la optimización con scf/6-311G* is -510.2107669863993 Hatrees\n",
      "Energía después de la optimización con scf/6-311G* is -510.31252290663014 Hatrees\n"
     ]
    }
   ],
   "source": [
    "# Inicialización de los cálculos ================================================\n",
    "\n",
    "metodo1 = 'scf/3-21G'  # Métodos de cálculos.\n",
    "metodo2 = 'scf/6-311G*'\n",
    "\n",
    "E0_120_1 = psi4.energy(metodo1, molecule = OCS_120)  # cálculo de energía usando metodo1\n",
    "E0_120_2 = psi4.energy(metodo2, molecule = OCS_120)  # cálculo de energía usando metodo2\n",
    "\n",
    "# Optimize with constrained bend angle.\n",
    "psi4.set_module_options('optking',{'frozen_bend': '1 2 3'}) # This command fixes the bend angle of the OCS molecule.\n",
    "Eopt_120, wfn_opt120 = psi4.optimize(metodo2, molecule = OCS_120, return_wfn = True) # optimize geometry of molecule with previously defined constraint, return wave function to make .molden file.\n",
    "psi4.driver.molden(wfn_opt120, './Data/OCS_120.molden') #write constrained optimzation results to a .molden file.\n",
    "\n",
    "# Now turn optimization constraint off and reoptimize to find the global energy minimum\n",
    "psi4.core.clean_options() # turn off frozen bend and any other options\n",
    "Eopt, wfn_opt = psi4.optimize(metodo2, molecule = OCS_120, return_wfn = True)\n",
    "\n",
    "# Impresión de Resultados =================================================================\n",
    "print('Energías en las posiciones iniciales con los dos métodos:')\n",
    "print()\n",
    "print('Energía con el ' + metodo1 + ' es ' + str(E0_120_1) + ' Hatrees')\n",
    "print('Energía con el ' + metodo2 + ' es ' + str(E0_120_2) + ' Hatrees')\n",
    "print()\n",
    "print('Energía después de la optimización con ' + metodo2 + ' is ' + str(Eopt_120) + ' Hatrees')\n",
    "print('Energía después de la optimización con ' + metodo2 + ' is ' + str(Eopt) + ' Hatrees')"
   ]
  },
  {
   "cell_type": "code",
   "execution_count": null,
   "id": "6ae85710-eba7-4235-8dc0-a86ca65f41b1",
   "metadata": {},
   "outputs": [],
   "source": [
    "# Save data to a spreadsheet using Pandas ==========================================\n",
    "#\n",
    "#  d = {'Details': [method1, method2, 'Global opt.'], 'Energies': [E0_1, E0_2, Eopt]} # create dictionary to load into Pandas dataframe.\n",
    "#  df = pd.DataFrame(data = d)     # create Pandas dataframe\n",
    "#  df.to_csv('Lab1starter_OCS_results.csv')  # save dataframe to .csv spreadsheet file.\n",
    " \n",
    "# Or of course you can also extract the results from the raw .dat file\n",
    "# generated by Psi4"
   ]
  }
 ],
 "metadata": {
  "kernelspec": {
   "display_name": "psi4",
   "language": "python",
   "name": "p4env"
  },
  "language_info": {
   "codemirror_mode": {
    "name": "ipython",
    "version": 3
   },
   "file_extension": ".py",
   "mimetype": "text/x-python",
   "name": "python",
   "nbconvert_exporter": "python",
   "pygments_lexer": "ipython3",
   "version": "3.7.10"
  }
 },
 "nbformat": 4,
 "nbformat_minor": 5
}
