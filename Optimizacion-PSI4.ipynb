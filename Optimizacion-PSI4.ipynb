{
 "cells": [
  {
   "cell_type": "markdown",
   "id": "69f2a083-4291-4c35-86c3-67d3167bd8e9",
   "metadata": {},
   "source": [
    "<div class=\"alert alert-success\" role=\"alert\">\n",
    "  <h1 class=\"alert-heading\">Optimización-PSI4</h1>\n",
    "  <h3 class=\"alert-heading\">Prof. Enrique Mejía Ospino, emejia@uis.edu.co</h3>\n",
    "  <h4 class=\"alert-heading\">Escuela de Química</h4>\n",
    "  <h4 class=\"alert-heading\">Universidad Industrial de Santander</h4>\n",
    "  </div>"
   ]
  },
  {
   "cell_type": "markdown",
   "id": "30fc743c-be9d-4d2e-a886-bbebf36e3563",
   "metadata": {},
   "source": [
    "**<font color=blue> Vamos  atilizar el modulo *PSI4* para desarrollar algunos ejercicios de cálculo mecánico-cuántico. En este Cuaderno de Jupyter realizaremos cálculos de optimización observación y almacenamiento de los resultados.** "
   ]
  },
  {
   "cell_type": "code",
   "execution_count": 7,
   "id": "dec71b99",
   "metadata": {},
   "outputs": [],
   "source": [
    "# Importamos modulos =================================================================\n",
    "import psi4\n",
    "import numpy as np  \n",
    "import matplotlib.pyplot as plt\n",
    "import h5py\n",
    "import fortecubeview # Visualizar moléculas\n",
    "import pandas as pd\n",
    "%matplotlib inline"
   ]
  },
  {
   "cell_type": "code",
   "execution_count": 8,
   "id": "6994d7ea-1e66-45be-995f-df661fae76a7",
   "metadata": {},
   "outputs": [],
   "source": [
    "# Inicialización Psi4 =================================================================\n",
    "\n",
    "psi4.core.clean()\n",
    "psi4.core.clean_options()\n",
    "psi4.set_memory('2000 MB')  # Memoria que sera utilizada en el cálculo\n",
    "psi4.set_num_threads(4)    # Cnatida de hilos a utilzar, tener en cuenta que un núcleo soporta 24 hilos \n",
    "\n",
    "psi4.core.set_output_file('./Data/PES_Angular.dat', False) \n",
    "# this command sets psi4's output to a file. Comment this line out if you want to see the output on the terminal."
   ]
  },
  {
   "cell_type": "code",
   "execution_count": 9,
   "id": "4b8757a1-62e6-40b9-a881-9a16950f59e8",
   "metadata": {},
   "outputs": [],
   "source": [
    "# Geometría de la molécula de peróxido de hidrógeno (HOOH) ============================================\n",
    "HOOH_ang= \"\"\"\n",
    "    o\n",
    " o   1 oo2     \n",
    " h    1 ho3         2 hoo3      \n",
    " h    2 ho4         1 hoo4          3 dih4   \n",
    " \n",
    "oo2=        1.4\n",
    "ho3=        1.0\n",
    "hoo3=       107.0\n",
    "ho4=        1.0\n",
    "hoo4=       104.0\n",
    "dih4=       180.0\"\"\"\n",
    "HOOH = psi4.geometry(HOOH_ang) "
   ]
  },
  {
   "cell_type": "code",
   "execution_count": 10,
   "id": "704b2a5c-6512-4794-b5d1-57c515fefd84",
   "metadata": {
    "scrolled": true,
    "tags": []
   },
   "outputs": [
    {
     "name": "stdout",
     "output_type": "stream",
     "text": [
      "Optimizer: Optimization complete!\n"
     ]
    }
   ],
   "source": [
    "# Inicialización de los cálculos ================================================\n",
    "metodo = 'scf/6-31G' # Método y base!\n",
    "# Optimización\n",
    "E0, wfn0 = psi4.optimize(metodo, molecule = HOOH, return_wfn = True) # perform initial optimization\n",
    "# Guardamos en formato molden\n",
    "psi4.molden(wfn0,\"./Data/PES_angular.molden\")"
   ]
  },
  {
   "cell_type": "markdown",
   "id": "7ec37335-0cff-41b1-b452-cb441202ee19",
   "metadata": {},
   "source": [
    "**<font color=blue> Aquí Realizamos otro procedimiento de otimización sobre *etileno* usando *HF* y la base *3-21G*, los resultados son almacenados en el directorio *Data*.** "
   ]
  },
  {
   "cell_type": "code",
   "execution_count": 17,
   "id": "12a44f3c-6584-4fd4-b620-49340cad74d8",
   "metadata": {},
   "outputs": [],
   "source": [
    "# Inicialización Psi4 =================================================================\n",
    "\n",
    "psi4.core.clean()\n",
    "psi4.core.clean_options()\n",
    "psi4.set_memory('2000 MB')  # Puede se más grande dependiendo de cada computador\n",
    "psi4.set_num_threads(4)    # Número de hilos que también depende su computador \n"
   ]
  },
  {
   "cell_type": "code",
   "execution_count": 18,
   "id": "19e8dc34-77b7-44a3-9ed1-c87bf03c8493",
   "metadata": {
    "scrolled": true,
    "tags": []
   },
   "outputs": [],
   "source": [
    "# Inicialización de los archivos de entrada y salida i/o ================================================\n",
    "\n",
    "molecule_name = 'ethene'\n",
    "metodo = 'scf/3-21G'\n",
    "outfilename = molecule_name + '-scf'\n",
    "psi4.core.set_output_file('./Data/' + outfilename + '.dat', False) \n",
    "# Almacenamiento de los resultados"
   ]
  },
  {
   "cell_type": "code",
   "execution_count": 19,
   "id": "ef8f17fd-b7ff-4890-b293-b6a6bd973a1c",
   "metadata": {},
   "outputs": [],
   "source": [
    "C2H4 = psi4.geometry(\"\"\" \n",
    " C     0.000000     0.000000     0.000000\n",
    " H     0.000000     0.000000     1.070000\n",
    " C     1.156144     0.000000    -0.667500\n",
    " H    -0.943102     0.000000    -0.544500\n",
    " H     1.156144     0.000000    -1.756500\n",
    " H     2.099246     0.000000    -0.123000\n",
    "   \"\"\")  # formato XYZ"
   ]
  },
  {
   "cell_type": "code",
   "execution_count": 21,
   "id": "604c4761-c281-41bc-9405-b653d527f3c5",
   "metadata": {},
   "outputs": [
    {
     "name": "stdout",
     "output_type": "stream",
     "text": [
      "Optimizer: Optimization complete!\n",
      "\n",
      "============ Fin de cálculos Psi4 y resultados ====================\n",
      "===================================================================\n",
      "===================================================================\n",
      "ethene Energía antes de la Optimización: -77.60098595812522\n",
      "ethene Energía después de la Optimización: -77.60098595836058\n",
      "Cálculo completo\n",
      "\n"
     ]
    }
   ],
   "source": [
    "# Cálculo de energía y optimización de la geometría ====================================\n",
    "E0 = psi4.energy(metodo)   # calculamos la energía sin optimización\n",
    "E_opt, wfn_opt = psi4.optimize(metodo, molecule=C2H4, return_wfn = True) \n",
    "# calculamos la energía la función de onda (`wave function') en la geometría optimizada\n",
    "\n",
    "psi4.driver.molden(wfn_opt, './Data/' + outfilename + '.molden') # Se guardan la función de onda en formato molden\n",
    "\n",
    "# Impresión de Resultados ===============================================\n",
    "print()\n",
    "print('============ Fin de cálculos Psi4 y resultados ====================')\n",
    "print('===================================================================')\n",
    "print('===================================================================')\n",
    "print(molecule_name + ' Energía antes de la Optimización: ' + str(E0))\n",
    "print(molecule_name + ' Energía después de la Optimización: ' + str(E_opt))\n",
    "print('Cálculo completo')\n",
    "print()"
   ]
  },
  {
   "cell_type": "markdown",
   "id": "3563370d-1119-445b-a776-44fb1fc8bef0",
   "metadata": {},
   "source": [
    "**<font color=blue> Aquí Realizamos otro ejemplo en el que se comparan dos métodos de cálculo.** "
   ]
  },
  {
   "cell_type": "code",
   "execution_count": 22,
   "id": "98e662b5-d167-4636-b3dd-cb28436c2588",
   "metadata": {},
   "outputs": [],
   "source": [
    "# Inicialización Psi4 =================================================================\n",
    "\n",
    "psi4.core.clean()\n",
    "psi4.core.clean_options()\n",
    "psi4.set_memory('2000 MB')  # Can make this much larger on Seawulf, each compute node has more than 100 GB RAM\n",
    "psi4.set_num_threads(4)    # Can make this much larger on Seawulf, each compute node can support 24 threads. \n",
    "                          # But it doesn't help much for small molecules...\n",
    "psi4.core.set_output_file('./Data/Lab1.dat', False) \n",
    "# this command sets psi4's output to a file. Comment this line out if you want to see the output on the terminal."
   ]
  },
  {
   "cell_type": "code",
   "execution_count": 23,
   "id": "64e0c8db-b2ff-46ac-b589-4fb449119821",
   "metadata": {
    "scrolled": true,
    "tags": []
   },
   "outputs": [
    {
     "name": "stdout",
     "output_type": "stream",
     "text": [
      "Optimizer: Optimization complete!\n",
      "Energías en las posiciones iniciales con los dos métodos:\n",
      "\n",
      "Energía con el scf/3-21G es -507.5711339103364 Hatrees\n",
      "Energía con el scf/6-311G* es -510.183378503233 Hatrees\n",
      "\n",
      "Energía después de la optimización con scf/6-311G* is -510.3125229088241 Hatrees\n"
     ]
    }
   ],
   "source": [
    "# Inicialización de los cálculos ================================================\n",
    "\n",
    "# En este ejemplo se carga la molécula de un archivo en formato .xyz\n",
    " \n",
    "f = open('/home/emejia/sbu-che525/Lab1/OCS_linear.xyz')\n",
    "OCS = psi4.geometry(f.read())\n",
    "OCS.reset_point_group('c1') # Simetría!\n",
    "\n",
    "metodo1 = 'scf/3-21G'  # Métodos de cálculos.\n",
    "metodo2 = 'scf/6-311G*'\n",
    "\n",
    "E0_1 = psi4.energy(metodo1, molecule = OCS)  # cálculo de energía usando metodo1\n",
    "E0_2 = psi4.energy(metodo2, molecule = OCS)  # cálculo de energía usando metodo2\n",
    "\n",
    "Eopt, wfn_opt = psi4.optimize(metodo2, molecule = OCS, return_wfn = True)\n",
    "psi4.driver.molden(wfn_opt, './Data/OCS.molden') # archivo de salida en formato .molden.\n",
    "\n",
    "# Impresión de Resultados =================================================================\n",
    "print('Energías en las posiciones iniciales con los dos métodos:')\n",
    "print()\n",
    "print('Energía con el ' + metodo1 + ' es ' + str(E0_1) + ' Hatrees')\n",
    "print('Energía con el ' + metodo2 + ' es ' + str(E0_2) + ' Hatrees')\n",
    "print()\n",
    "print('Energía después de la optimización con ' + metodo2 + ' is ' + str(Eopt) + ' Hatrees')"
   ]
  },
  {
   "cell_type": "code",
   "execution_count": null,
   "id": "b0bf4b4c-479d-4780-9577-935bccbd9959",
   "metadata": {},
   "outputs": [],
   "source": [
    "# Save data to a spreadsheet using Pandas ==========================================\n",
    "#\n",
    "#  d = {'Details': [method1, method2, 'Global opt.'], 'Energies': [E0_1, E0_2, Eopt]} # create dictionary to load into Pandas dataframe.\n",
    "#  df = pd.DataFrame(data = d)     # create Pandas dataframe\n",
    "#  df.to_csv('Lab1starter_OCS_results.csv')  # save dataframe to .csv spreadsheet file.\n",
    " \n",
    "# Or of course you can also extract the results from the raw .dat file\n",
    "# generated by Psi4"
   ]
  },
  {
   "cell_type": "markdown",
   "id": "0f81a5fa-1908-43a7-9ea3-b4154524fc3a",
   "metadata": {},
   "source": [
    "**<font color=blue> Otro ejemplo, mateniendo fijos algunos átomos de la molécula.** "
   ]
  },
  {
   "cell_type": "code",
   "execution_count": 24,
   "id": "f06fb200-98b6-4595-a312-ceaae826986a",
   "metadata": {},
   "outputs": [],
   "source": [
    "# Inicialización Psi4 =================================================================\n",
    "\n",
    "psi4.core.clean()\n",
    "psi4.core.clean_options()\n",
    "psi4.set_memory('2000 MB')  # Can make this much larger on Seawulf, each compute node has more than 100 GB RAM\n",
    "psi4.set_num_threads(4)    # Can make this much larger on Seawulf, each compute node can support 24 threads. \n",
    "                          # But it doesn't help much for small molecules...\n",
    "psi4.core.set_output_file('./Data/OCS_bent.dat', False) \n",
    "# this command sets psi4's output to a file. Comment this line out if you want to see the output on the terminal."
   ]
  },
  {
   "cell_type": "code",
   "execution_count": 25,
   "id": "ecf46f24-5da7-4f82-b5e2-b2d97ff8d1d6",
   "metadata": {},
   "outputs": [],
   "source": [
    "# Geometría de la molécula de OCS ============================================\n",
    "OCS_120 = psi4.geometry(\"\"\"\n",
    " o\n",
    " c    1 co2     \n",
    " s    2 sc3         1 sco3      \n",
    " \n",
    "co2=        1.380000\n",
    "sc3=        1.780000\n",
    "sco3=       120.000\n",
    "\"\"\")\n",
    "OCS_120.reset_point_group('c1') # simetría!"
   ]
  },
  {
   "cell_type": "code",
   "execution_count": 26,
   "id": "387ecf0d-5750-4b63-bacf-771fc574b3bb",
   "metadata": {
    "scrolled": true,
    "tags": []
   },
   "outputs": [
    {
     "name": "stdout",
     "output_type": "stream",
     "text": [
      "Optimizer: Optimization complete!\n",
      "Optimizer: Optimization complete!\n",
      "Energías en las posiciones iniciales con los dos métodos:\n",
      "\n",
      "Energía con el scf/3-21G es -507.5063893205802 Hatrees\n",
      "Energía con el scf/6-311G* es -510.11931877155376 Hatrees\n",
      "\n",
      "Energía después de la optimización con scf/6-311G* is -510.21076698638524 Hatrees\n",
      "Energía después de la optimización con scf/6-311G* is -510.3125229066239 Hatrees\n"
     ]
    }
   ],
   "source": [
    "# Inicialización de los cálculos ================================================\n",
    "\n",
    "metodo1 = 'scf/3-21G'  # Métodos de cálculos.\n",
    "metodo2 = 'scf/6-311G*'\n",
    "\n",
    "E0_120_1 = psi4.energy(metodo1, molecule = OCS_120)  # cálculo de energía usando metodo1\n",
    "E0_120_2 = psi4.energy(metodo2, molecule = OCS_120)  # cálculo de energía usando metodo2\n",
    "\n",
    "# Optimize with constrained bend angle.\n",
    "psi4.set_module_options('optking',{'frozen_bend': '1 2 3'}) # This command fixes the bend angle of the OCS molecule.\n",
    "Eopt_120, wfn_opt120 = psi4.optimize(metodo2, molecule = OCS_120, return_wfn = True) # optimize geometry of molecule with previously defined constraint, return wave function to make .molden file.\n",
    "psi4.driver.molden(wfn_opt120, './Data/OCS_120.molden') #write constrained optimzation results to a .molden file.\n",
    "\n",
    "# Now turn optimization constraint off and reoptimize to find the global energy minimum\n",
    "psi4.core.clean_options() # turn off frozen bend and any other options\n",
    "Eopt, wfn_opt = psi4.optimize(metodo2, molecule = OCS_120, return_wfn = True)\n",
    "\n",
    "# Impresión de Resultados =================================================================\n",
    "print('Energías en las posiciones iniciales con los dos métodos:')\n",
    "print()\n",
    "print('Energía con el ' + metodo1 + ' es ' + str(E0_120_1) + ' Hatrees')\n",
    "print('Energía con el ' + metodo2 + ' es ' + str(E0_120_2) + ' Hatrees')\n",
    "print()\n",
    "print('Energía después de la optimización con ' + metodo2 + ' is ' + str(Eopt_120) + ' Hatrees')\n",
    "print('Energía después de la optimización con ' + metodo2 + ' is ' + str(Eopt) + ' Hatrees')"
   ]
  },
  {
   "cell_type": "markdown",
   "id": "c70238b2-6439-4782-901f-aa0538d68307",
   "metadata": {},
   "source": [
    "**<font color=blue> Un ejemplo final.** "
   ]
  },
  {
   "cell_type": "code",
   "execution_count": 32,
   "id": "b918891e-bc5f-4bb7-92a1-a910d8871d48",
   "metadata": {},
   "outputs": [],
   "source": [
    "# Inicialización Psi4 =================================================================\n",
    "\n",
    "psi4.core.clean()\n",
    "psi4.core.clean_options()\n",
    "psi4.set_memory('2000 MB')  # Can make this much larger on Seawulf, each compute node has more than 100 GB RAM\n",
    "psi4.set_num_threads(4)    # Can make this much larger on Seawulf, each compute node can support 24 threads. \n",
    "                          # But it doesn't help much for small molecules...\n",
    "psi4.core.set_output_file('./Data/OCS_pythonics.dat', False) \n",
    "# this command sets psi4's output to a file. Comment this line out if you want to see the output on the terminal."
   ]
  },
  {
   "cell_type": "code",
   "execution_count": 33,
   "id": "bd6b08ad-8a12-4810-804f-70e71ee4f835",
   "metadata": {},
   "outputs": [],
   "source": [
    "# Geometría de la molécula de OCS ============================================\n",
    "OCS_120 = psi4.geometry(\"\"\"\n",
    " o\n",
    " c    1 co2     \n",
    " s    2 sc3         1 sco3      \n",
    " \n",
    "co2=        1.380000\n",
    "sc3=        1.780000\n",
    "sco3=       120.000\n",
    "\"\"\")\n",
    "OCS_120.reset_point_group('c1') # simetría!"
   ]
  },
  {
   "cell_type": "code",
   "execution_count": 34,
   "id": "886f82dc-d986-4a65-838c-245d58c55a3d",
   "metadata": {
    "scrolled": true,
    "tags": []
   },
   "outputs": [
    {
     "name": "stdout",
     "output_type": "stream",
     "text": [
      "Working on OCS_linear\n",
      "Optimizer: Optimization complete!\n",
      "Working on OCS_bent\n",
      "Optimizer: Optimization complete!\n",
      "Energías en posiciones iniciales con diferentes métodos:\n",
      "{'OCS_bent': {'scf/3-21G': -507.5063893205806, 'scf/6-311G*': -510.11931877155354}, 'OCS_linear': {'scf/3-21G': -507.5711339103359, 'scf/6-311G*': -510.1833785032327}}\n",
      "scf/6-311G* energías después de la optimización:\n",
      "{'OCS_bent': -510.2107669863891, 'OCS_linear': -510.3125229088229}\n"
     ]
    }
   ],
   "source": [
    "# Inicialización de los cálculos ================================================\n",
    "\n",
    "methods = ['scf/3-21G', 'scf/6-311G*'] # Lista de métodos. El último será usado para la otimización!\n",
    "mol_names = ['OCS_linear' , 'OCS_bent'] # Simetrías\n",
    "\n",
    "# Initialización de diccionario de Python para almacenar los resultados ======================\n",
    "    \n",
    "molecules = {} # Para almacenar las moléculas\n",
    "E0 = {}        # Para almacenar la energías no optimizadas\n",
    "Eopt = {}      # Para almacenar las energías optimizadas\n",
    "wfn_opt = {}   # Para almacenar la funciones de onda optimizadas\n",
    "\n",
    "# Geometría de la molécula de OCS ============================================\n",
    "molecules['OCS_bent'] = psi4.geometry(\"\"\"\n",
    " o\n",
    " c    1 co2     \n",
    " s    2 sc3         1 sco3      \n",
    " \n",
    "co2=        1.380000\n",
    "sc3=        1.780000\n",
    "sco3=       120.000\n",
    "\"\"\")\n",
    "\n",
    "molecules['OCS_bent'].reset_point_group('c1') # \n",
    "E0['OCS_bent'] = {} # Inicializamos\n",
    "Eopt['OCS_bent'] = 0 #\n",
    "\n",
    "# ejemplo de cargar desde un archivo\n",
    "f = open('./Data/OCS_linear.xyz') #usamos la función ´open´ de Python para cargar un archivo xyz.\n",
    "molecules['OCS_linear'] = psi4.geometry(f.read())\n",
    "molecules['OCS_linear'].reset_point_group('c1') # \n",
    "E0['OCS_linear'] = {} # Inicializamos\n",
    "Eopt['OCS_linear'] = 0 # \n",
    "\n",
    "# Corremos los calculos. Usamos un loop ========================\n",
    "\n",
    "for mol_name in mol_names:\n",
    "    print('Working on ' + mol_name)    \n",
    "    for meth_j in methods:                 #loop sobre los métodos\n",
    "        E0[mol_name][meth_j] = psi4.energy(meth_j, molecule = molecules[mol_name])\n",
    "    \n",
    "    # usamos esta parate para controlar casos especiales\n",
    "    if mol_name == 'OCS_bent':\n",
    "        psi4.set_module_options('optking',{'frozen_bend': '1 2 3'})\n",
    "        \n",
    "    Eopt[mol_name], wfn_opt[mol_name] = psi4.optimize(methods[-1], molecule = molecules[mol_name], \n",
    "                                                      return_wfn = True)\n",
    "    psi4.driver.molden(wfn_opt[mol_name], './Data/' + mol_name + '.molden')\n",
    "\n",
    "\n",
    "# Impresión de Resultados en pantalla =================================================================\n",
    "\n",
    "print('Energías en posiciones iniciales con diferentes métodos:')\n",
    "print(E0)\n",
    "print(methods[-1] + ' energías después de la optimización:')\n",
    "print(Eopt)\n",
    "\n",
    "#%%\n",
    "# Guardar los resultados optimizados usando Pandas\n",
    "df = pd.DataFrame(data = Eopt, index = [0]) # DataFrame\n",
    "df.to_excel('./Data/Lab1starter_Eopt.xlsx')  # guardamos en un archivo excel.\n",
    "\n",
    "#%%\n",
    "# Guardamos los resultados iniciales usando Pandas\n",
    "df = pd.DataFrame(E0)\n",
    "df.to_excel('./Data/Lab1starter_E0.xlsx')  #"
   ]
  },
  {
   "cell_type": "code",
   "execution_count": null,
   "id": "7437b261-64da-4557-a9b2-e83e8a1747e2",
   "metadata": {},
   "outputs": [],
   "source": []
  }
 ],
 "metadata": {
  "kernelspec": {
   "display_name": "psi4",
   "language": "python",
   "name": "psi4"
  },
  "language_info": {
   "codemirror_mode": {
    "name": "ipython",
    "version": 3
   },
   "file_extension": ".py",
   "mimetype": "text/x-python",
   "name": "python",
   "nbconvert_exporter": "python",
   "pygments_lexer": "ipython3",
   "version": "3.7.11"
  }
 },
 "nbformat": 4,
 "nbformat_minor": 5
}
