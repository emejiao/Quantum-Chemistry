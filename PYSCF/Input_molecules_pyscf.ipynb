{
 "cells": [
  {
   "cell_type": "markdown",
   "id": "c79b1f13-267d-4eeb-a8bc-3a4105bacb22",
   "metadata": {
    "tags": []
   },
   "source": [
    "<font color=navy size=6>**Entradas de sistemas atómico-moleculares pyscf**\n",
    "    \n",
    "<font color=navy size=5>**Enrique Mejía Ospino**\n",
    "    \n",
    "<font color=navy size=5>**Química Cuántica Avanzada**\n",
    "    \n",
    "<font color=navy size=5>**Universidad Industrial de Santander**"
   ]
  },
  {
   "cell_type": "code",
   "execution_count": 9,
   "id": "faa86432-c951-4bec-962f-48a39bc92c4f",
   "metadata": {},
   "outputs": [],
   "source": [
    "import numpy as np\n",
    "from pyscf import *\n",
    "import matplotlib.pyplot as plt\n",
    "import pandas as pd"
   ]
  },
  {
   "cell_type": "code",
   "execution_count": 149,
   "id": "2b0ffd36-9a7b-4dbf-9bdb-7c4033aac107",
   "metadata": {},
   "outputs": [
    {
     "name": "stdout",
     "output_type": "stream",
     "text": [
      "converged SCF energy = -74.9611711378677\n"
     ]
    }
   ],
   "source": [
    "mol1 = gto.Mole()\n",
    "mol1.atom ='''\n",
    "O 0 0 0\n",
    "H 0 1 0\n",
    "H 0 0 1\n",
    "'''\n",
    "mol1.build()\n",
    "rhf_h2o = scf.RHF(mol1)\n",
    "e_h2o = rhf_h2o.kernel()"
   ]
  },
  {
   "cell_type": "code",
   "execution_count": 150,
   "id": "b0ecb358-c171-4528-aa26-7e801c389262",
   "metadata": {},
   "outputs": [
    {
     "name": "stdout",
     "output_type": "stream",
     "text": [
      "converged SCF energy = -74.8948869772035\n"
     ]
    }
   ],
   "source": [
    "mol2 = gto.Mole()\n",
    "mol2.atom = '''\n",
    "    O\n",
    "    H  1  1.2\n",
    "    H  1  1.2  2 105\n",
    "'''\n",
    "mol2.build()\n",
    "rhf_h2o_2 = scf.RHF(mol2)\n",
    "e_h2o_2 = rhf_h2o_2.kernel()"
   ]
  },
  {
   "cell_type": "code",
   "execution_count": 151,
   "id": "c85da150-ccab-425c-b001-ec8ef76d15df",
   "metadata": {},
   "outputs": [
    {
     "name": "stdout",
     "output_type": "stream",
     "text": [
      "converged SCF energy = -1.00510670656849\n"
     ]
    }
   ],
   "source": [
    "mol3 = gto.Mole()\n",
    "r=1.2\n",
    "mol3.atom = [[\"H\", 0., 0., 0.], [\"H\", 0., 0., r ]]\n",
    "mol3.build()\n",
    "rhf_h2_3 = scf.RHF(mol3)\n",
    "e_h2_3 = rhf_h2o_3.kernel()"
   ]
  },
  {
   "cell_type": "code",
   "execution_count": 152,
   "id": "57028cc9-ea06-4ed8-ba32-945ec9fe25c3",
   "metadata": {},
   "outputs": [
    {
     "name": "stdout",
     "output_type": "stream",
     "text": [
      "converged SCF energy = -74.9611711378677\n"
     ]
    }
   ],
   "source": [
    "mol4 = gto.Mole()\n",
    "mol4.atom = '''8 0 0 0; h 0 1 0; H 0 0 1'''\n",
    "mol4.build()\n",
    "rhf_h2_2 = scf.RHF(mol4)\n",
    "e_h2_2 = rhf_h2_2.kernel()"
   ]
  },
  {
   "cell_type": "markdown",
   "id": "c454f261-6046-4e64-9adf-e1e23ac79957",
   "metadata": {},
   "source": [
    "<font color=black size=4>**Las moléculas pueden ser importadas de un archivo en formato *xyz* y convertidas en una geometría de *pyscf* muy facilemente de esta forma:**"
   ]
  },
  {
   "cell_type": "code",
   "execution_count": 153,
   "id": "19c1750d-dcc3-482b-bb92-c8c6d4b62226",
   "metadata": {},
   "outputs": [
    {
     "name": "stdout",
     "output_type": "stream",
     "text": [
      "converged SCF energy = -227.890084251103\n"
     ]
    }
   ],
   "source": [
    "mol5 = gto.Mole()\n",
    "mol5.atom='./molecules/benzene.xyz'\n",
    "mol5.build()\n",
    "rhf_ben = scf.RHF(mol5)\n",
    "e_ben = rhf_ben.kernel()"
   ]
  },
  {
   "cell_type": "markdown",
   "id": "2f62754a-b434-47af-bd53-a59609e12348",
   "metadata": {},
   "source": [
    "<font color=navy size=5>**Importación y Graficación de Moléculas**"
   ]
  },
  {
   "cell_type": "markdown",
   "id": "4f7ec7c6-0a66-4139-990e-016274e59ccc",
   "metadata": {},
   "source": [
    "<font color=green size=4>**Otra alternativa es utilizar el formato *SMILE*, existe un modulo llamado *RDkit* que, entre otras cosas, puede leer, graficar geometrías moleculares en este formato y convertirlas en geometrías de *xyz* que pueden ser leídas en *pyscf*, aquí va un ejemplo:**"
   ]
  },
  {
   "cell_type": "code",
   "execution_count": 64,
   "id": "e0f94648-1b51-4c64-acb4-37128ab1d562",
   "metadata": {},
   "outputs": [
    {
     "data": {
      "image/png": "[encoded data removed]",
      "text/plain": [
       "<rdkit.Chem.rdchem.Mol at 0x7f5788258580>"
      ]
     },
     "execution_count": 64,
     "metadata": {},
     "output_type": "execute_result"
    }
   ],
   "source": [
    "import rdkit\n",
    "from rdkit import Chem\n",
    "from rdkit.Chem import AllChem\n",
    "from rdkit.Chem.Draw import IPythonConsole\n",
    "IPythonConsole.molSize = 350,300\n",
    "doravirine = Chem.MolFromSmiles('c1nccc2n1ccc2')\n",
    "doravirine = Chem.AddHs(doravirine)\n",
    "AllChem.EmbedMolecule(doravirine)\n",
    "AllChem.MMFFOptimizeMolecule(doravirine)\n",
    "doravirine"
   ]
  },
  {
   "cell_type": "code",
   "execution_count": 65,
   "id": "335fab83-8f5f-49ac-89c9-44933e08d3ba",
   "metadata": {},
   "outputs": [
    {
     "name": "stdout",
     "output_type": "stream",
     "text": [
      "converged SCF energy = -372.756320144927\n"
     ]
    }
   ],
   "source": [
    "Chem.rdmolfiles.MolToXYZFile(doravirine, './molecules/dor.xyz')\n",
    "mol = gto.Mole()\n",
    "mol.atom= './molecules/dor.xyz'\n",
    "mol.build()\n",
    "rhf_dor = scf.RHF(mol)\n",
    "e_h2o = rhf_dor.kernel()"
   ]
  },
  {
   "cell_type": "code",
   "execution_count": 44,
   "id": "90b0da4d-7c57-48d1-83e0-e82db6f66c75",
   "metadata": {},
   "outputs": [
    {
     "name": "stdout",
     "output_type": "stream",
     "text": [
      "15\n",
      "\n",
      "C     -1.130406    1.353163   -0.324450\n",
      "N     -2.261360    0.706990   -0.329819\n",
      "C     -2.194384   -0.654824   -0.106035\n",
      "C     -1.067736   -1.355953    0.113953\n",
      "C      0.162501   -0.659632    0.120865\n",
      "N      0.082181    0.697107   -0.103389\n",
      "C      1.347252    1.233229   -0.067548\n",
      "C      2.236974    0.207930    0.181434\n",
      "C      1.486806   -0.990996    0.300846\n",
      "H     -1.109336    2.440955   -0.496054\n",
      "H     -3.151737   -1.171242   -0.115453\n",
      "H     -1.095048   -2.426830    0.282238\n",
      "H      1.507456    2.291735   -0.221090\n",
      "H      3.311403    0.310568    0.268127\n",
      "H      1.875435   -1.982201    0.496375\n",
      "\n"
     ]
    }
   ],
   "source": [
    "print(Chem.MolToXYZBlock(doravirine))"
   ]
  },
  {
   "cell_type": "markdown",
   "id": "78e074c1-04db-48fb-ba98-22efda16f0c0",
   "metadata": {},
   "source": [
    "<font color=orange size=4>**Uno de los modulas más utilizados para grafica moléculas en *python* es *py3Dmol*, aquí construimos una función basdos en este modulo, que nos permitirá graficar las moléculas ue deseamos trabajar con MC:**"
   ]
  },
  {
   "cell_type": "code",
   "execution_count": 78,
   "id": "3ea05bc9-0831-45a4-8c06-4f36c8f74017",
   "metadata": {},
   "outputs": [],
   "source": [
    "import py3Dmol as p3d\n",
    "\n",
    "def drawPsi4Geom(mol):\n",
    "    xyz = mol \n",
    "    view = p3d.view(width=400, height=400)\n",
    "    view.addModel(xyz, \"xyz\")\n",
    "    view.setStyle({'stick':{}})\n",
    "    view.zoomTo()\n",
    "    return(view.show())"
   ]
  },
  {
   "cell_type": "code",
   "execution_count": 79,
   "id": "f6d8409b-167d-4a71-9deb-f4a66eb05c28",
   "metadata": {},
   "outputs": [
    {
     "data": {
      "application/3dmoljs_load.v0": "<div id=\"3dmolviewer_16776229565796242\"  style=\"position: relative; width: 400px; height: 400px\">\n        <p id=\"3dmolwarning_16776229565796242\" style=\"background-color:#ffcccc;color:black\">You appear to be running in JupyterLab (or JavaScript failed to load for some other reason).  You need to install the 3dmol extension: <br>\n        <tt>jupyter labextension install jupyterlab_3dmol</tt></p>\n        </div>\n<script>\n\nvar loadScriptAsync = function(uri){\n  return new Promise((resolve, reject) => {\n    var tag = document.createElement('script');\n    tag.src = uri;\n    tag.async = true;\n    tag.onload = () => {\n      resolve();\n    };\n  var firstScriptTag = document.getElementsByTagName('script')[0];\n  firstScriptTag.parentNode.insertBefore(tag, firstScriptTag);\n});\n};\n\nif(typeof $3Dmolpromise === 'undefined') {\n$3Dmolpromise = null;\n  $3Dmolpromise = loadScriptAsync('https://3dmol.org/build/3Dmol.js');\n}\n\nvar viewer_16776229565796242 = null;\nvar warn = document.getElementById(\"3dmolwarning_16776229565796242\");\nif(warn) {\n    warn.parentNode.removeChild(warn);\n}\n$3Dmolpromise.then(function() {\nviewer_16776229565796242 = $3Dmol.createViewer($(\"#3dmolviewer_16776229565796242\"),{backgroundColor:\"white\"});\nviewer_16776229565796242.zoomTo();\n\tviewer_16776229565796242.addModel(\"dor.xyz\",\"xyz\");\n\tviewer_16776229565796242.setStyle({\"stick\": {}});\n\tviewer_16776229565796242.zoomTo();\nviewer_16776229565796242.render();\n});\n</script>",
      "text/html": [
       "<div id=\"3dmolviewer_16776229565796242\"  style=\"position: relative; width: 400px; height: 400px\">\n",
       "        <p id=\"3dmolwarning_16776229565796242\" style=\"background-color:#ffcccc;color:black\">You appear to be running in JupyterLab (or JavaScript failed to load for some other reason).  You need to install the 3dmol extension: <br>\n",
       "        <tt>jupyter labextension install jupyterlab_3dmol</tt></p>\n",
       "        </div>\n",
       "<script>\n",
       "\n",
       "var loadScriptAsync = function(uri){\n",
       "  return new Promise((resolve, reject) => {\n",
       "    var tag = document.createElement('script');\n",
       "    tag.src = uri;\n",
       "    tag.async = true;\n",
       "    tag.onload = () => {\n",
       "      resolve();\n",
       "    };\n",
       "  var firstScriptTag = document.getElementsByTagName('script')[0];\n",
       "  firstScriptTag.parentNode.insertBefore(tag, firstScriptTag);\n",
       "});\n",
       "};\n",
       "\n",
       "if(typeof $3Dmolpromise === 'undefined') {\n",
       "$3Dmolpromise = null;\n",
       "  $3Dmolpromise = loadScriptAsync('https://3dmol.org/build/3Dmol.js');\n",
       "}\n",
       "\n",
       "var viewer_16776229565796242 = null;\n",
       "var warn = document.getElementById(\"3dmolwarning_16776229565796242\");\n",
       "if(warn) {\n",
       "    warn.parentNode.removeChild(warn);\n",
       "}\n",
       "$3Dmolpromise.then(function() {\n",
       "viewer_16776229565796242 = $3Dmol.createViewer($(\"#3dmolviewer_16776229565796242\"),{backgroundColor:\"white\"});\n",
       "viewer_16776229565796242.zoomTo();\n",
       "\tviewer_16776229565796242.addModel(\"dor.xyz\",\"xyz\");\n",
       "\tviewer_16776229565796242.setStyle({\"stick\": {}});\n",
       "\tviewer_16776229565796242.zoomTo();\n",
       "viewer_16776229565796242.render();\n",
       "});\n",
       "</script>"
      ]
     },
     "metadata": {},
     "output_type": "display_data"
    }
   ],
   "source": [
    "drawPsi4Geom('dor.xyz')"
   ]
  },
  {
   "cell_type": "markdown",
   "id": "073e835c-9a37-4969-84bf-002929fbc6d2",
   "metadata": {},
   "source": [
    "<font color=blue size=5>**Para mostrar los conformeros**"
   ]
  },
  {
   "cell_type": "code",
   "execution_count": 80,
   "id": "9f02af28-8c9e-4f6f-84e1-1f9f0d0de45f",
   "metadata": {},
   "outputs": [],
   "source": [
    "import ipywidgets\n",
    "from ipywidgets import interact, interactive, fixed, widgets\n",
    "AllChem.EmbedMultipleConfs(doravirine,numConfs=10,randomSeed=0xf00d,useExpTorsionAnglePrefs=True, useBasicKnowledge=True)\n",
    "def drawRdkitMolConf(mol,confId):\n",
    "    mb = Chem.MolToMolBlock(mol,confId=confId)\n",
    "    view = p3d.view(width=400,height=400)\n",
    "    view.removeAllModels()\n",
    "    view.addModel(mb,'sdf')\n",
    "    view.setStyle({'stick':{}})\n",
    "    view.zoomTo()\n",
    "    return view.show()\n",
    "\n",
    "def drawRdkitMolSlider(mol):\n",
    "    interact(drawRdkitMolConf, mol=fixed(mol), confId=widgets.IntSlider(min=0, max=mol.GetNumConformers()-1))"
   ]
  },
  {
   "cell_type": "code",
   "execution_count": 81,
   "id": "e7ccc0ab-5042-4cd1-ad9d-cf24a2ba906e",
   "metadata": {},
   "outputs": [
    {
     "data": {
      "application/vnd.jupyter.widget-view+json": {
       "model_id": "ea624388f9de4dbd9a72f2e82682bf4c",
       "version_major": 2,
       "version_minor": 0
      },
      "text/plain": [
       "interactive(children=(IntSlider(value=0, description='confId', max=9), Output()), _dom_classes=('widget-intera…"
      ]
     },
     "metadata": {},
     "output_type": "display_data"
    }
   ],
   "source": [
    "drawRdkitMolSlider(doravirine)"
   ]
  },
  {
   "cell_type": "code",
   "execution_count": 96,
   "id": "d222d605-1457-4d40-8563-042c26050d68",
   "metadata": {},
   "outputs": [
    {
     "data": {
      "application/3dmoljs_load.v0": "<div id=\"3dmolviewer_1677624932942346\"  style=\"position: relative; width: 640px; height: 480px\">\n        <p id=\"3dmolwarning_1677624932942346\" style=\"background-color:#ffcccc;color:black\">You appear to be running in JupyterLab (or JavaScript failed to load for some other reason).  You need to install the 3dmol extension: <br>\n        <tt>jupyter labextension install jupyterlab_3dmol</tt></p>\n        </div>\n<script>\n\nvar loadScriptAsync = function(uri){\n  return new Promise((resolve, reject) => {\n    var tag = document.createElement('script');\n    tag.src = uri;\n    tag.async = true;\n    tag.onload = () => {\n      resolve();\n    };\n  var firstScriptTag = document.getElementsByTagName('script')[0];\n  firstScriptTag.parentNode.insertBefore(tag, firstScriptTag);\n});\n};\n\nif(typeof $3Dmolpromise === 'undefined') {\n$3Dmolpromise = null;\n  $3Dmolpromise = loadScriptAsync('https://3dmol.org/build/3Dmol.js');\n}\n\nvar viewer_1677624932942346 = null;\nvar warn = document.getElementById(\"3dmolwarning_1677624932942346\");\nif(warn) {\n    warn.parentNode.removeChild(warn);\n}\n$3Dmolpromise.then(function() {\nviewer_1677624932942346 = $3Dmol.createViewer($(\"#3dmolviewer_1677624932942346\"),{backgroundColor:\"white\"});\n$3Dmol.download(\"pdb:2POR\", viewer_1677624932942346, {}, function() {\nviewer_1677624932942346.zoomTo();\n\tviewer_1677624932942346.setStyle({\"stick\": {\"color\": \"spectrum\"}});\nviewer_1677624932942346.render();\n})\n});\n</script>",
      "text/html": [
       "<div id=\"3dmolviewer_1677624932942346\"  style=\"position: relative; width: 640px; height: 480px\">\n",
       "        <p id=\"3dmolwarning_1677624932942346\" style=\"background-color:#ffcccc;color:black\">You appear to be running in JupyterLab (or JavaScript failed to load for some other reason).  You need to install the 3dmol extension: <br>\n",
       "        <tt>jupyter labextension install jupyterlab_3dmol</tt></p>\n",
       "        </div>\n",
       "<script>\n",
       "\n",
       "var loadScriptAsync = function(uri){\n",
       "  return new Promise((resolve, reject) => {\n",
       "    var tag = document.createElement('script');\n",
       "    tag.src = uri;\n",
       "    tag.async = true;\n",
       "    tag.onload = () => {\n",
       "      resolve();\n",
       "    };\n",
       "  var firstScriptTag = document.getElementsByTagName('script')[0];\n",
       "  firstScriptTag.parentNode.insertBefore(tag, firstScriptTag);\n",
       "});\n",
       "};\n",
       "\n",
       "if(typeof $3Dmolpromise === 'undefined') {\n",
       "$3Dmolpromise = null;\n",
       "  $3Dmolpromise = loadScriptAsync('https://3dmol.org/build/3Dmol.js');\n",
       "}\n",
       "\n",
       "var viewer_1677624932942346 = null;\n",
       "var warn = document.getElementById(\"3dmolwarning_1677624932942346\");\n",
       "if(warn) {\n",
       "    warn.parentNode.removeChild(warn);\n",
       "}\n",
       "$3Dmolpromise.then(function() {\n",
       "viewer_1677624932942346 = $3Dmol.createViewer($(\"#3dmolviewer_1677624932942346\"),{backgroundColor:\"white\"});\n",
       "$3Dmol.download(\"pdb:2POR\", viewer_1677624932942346, {}, function() {\n",
       "viewer_1677624932942346.zoomTo();\n",
       "\tviewer_1677624932942346.setStyle({\"stick\": {\"color\": \"spectrum\"}});\n",
       "viewer_1677624932942346.render();\n",
       "})\n",
       "});\n",
       "</script>"
      ]
     },
     "metadata": {},
     "output_type": "display_data"
    },
    {
     "data": {
      "text/plain": [
       "<py3Dmol.view at 0x7f578825ca60>"
      ]
     },
     "execution_count": 96,
     "metadata": {},
     "output_type": "execute_result"
    }
   ],
   "source": [
    "import py3Dmol\n",
    "view = py3Dmol.view(query='pdb:2POR')\n",
    "view.setStyle({'stick':{'color':'spectrum'}})\n",
    "view"
   ]
  },
  {
   "cell_type": "code",
   "execution_count": 110,
   "id": "4375a8c1-5d48-4189-af0c-cc7327ca20ac",
   "metadata": {},
   "outputs": [
    {
     "data": {
      "application/3dmoljs_load.v0": "<div id=\"3dmolviewer_16777054618922255\"  style=\"position: relative; width: 640px; height: 480px\">\n        <p id=\"3dmolwarning_16777054618922255\" style=\"background-color:#ffcccc;color:black\">You appear to be running in JupyterLab (or JavaScript failed to load for some other reason).  You need to install the 3dmol extension: <br>\n        <tt>jupyter labextension install jupyterlab_3dmol</tt></p>\n        </div>\n<script>\n\nvar loadScriptAsync = function(uri){\n  return new Promise((resolve, reject) => {\n    var tag = document.createElement('script');\n    tag.src = uri;\n    tag.async = true;\n    tag.onload = () => {\n      resolve();\n    };\n  var firstScriptTag = document.getElementsByTagName('script')[0];\n  firstScriptTag.parentNode.insertBefore(tag, firstScriptTag);\n});\n};\n\nif(typeof $3Dmolpromise === 'undefined') {\n$3Dmolpromise = null;\n  $3Dmolpromise = loadScriptAsync('https://3dmol.org/build/3Dmol.js');\n}\n\nvar viewer_16777054618922255 = null;\nvar warn = document.getElementById(\"3dmolwarning_16777054618922255\");\nif(warn) {\n    warn.parentNode.removeChild(warn);\n}\n$3Dmolpromise.then(function() {\nviewer_16777054618922255 = $3Dmol.createViewer($(\"#3dmolviewer_16777054618922255\"),{backgroundColor:\"white\"});\n$3Dmol.download(\"cid:5284583\", viewer_16777054618922255, {}, function() {\nviewer_16777054618922255.zoomTo();\n\tviewer_16777054618922255.setStyle({\"stick\": {\"color\": \"spectrum\"}});\nviewer_16777054618922255.render();\n})\n});\n</script>",
      "text/html": [
       "<div id=\"3dmolviewer_16777054618922255\"  style=\"position: relative; width: 640px; height: 480px\">\n",
       "        <p id=\"3dmolwarning_16777054618922255\" style=\"background-color:#ffcccc;color:black\">You appear to be running in JupyterLab (or JavaScript failed to load for some other reason).  You need to install the 3dmol extension: <br>\n",
       "        <tt>jupyter labextension install jupyterlab_3dmol</tt></p>\n",
       "        </div>\n",
       "<script>\n",
       "\n",
       "var loadScriptAsync = function(uri){\n",
       "  return new Promise((resolve, reject) => {\n",
       "    var tag = document.createElement('script');\n",
       "    tag.src = uri;\n",
       "    tag.async = true;\n",
       "    tag.onload = () => {\n",
       "      resolve();\n",
       "    };\n",
       "  var firstScriptTag = document.getElementsByTagName('script')[0];\n",
       "  firstScriptTag.parentNode.insertBefore(tag, firstScriptTag);\n",
       "});\n",
       "};\n",
       "\n",
       "if(typeof $3Dmolpromise === 'undefined') {\n",
       "$3Dmolpromise = null;\n",
       "  $3Dmolpromise = loadScriptAsync('https://3dmol.org/build/3Dmol.js');\n",
       "}\n",
       "\n",
       "var viewer_16777054618922255 = null;\n",
       "var warn = document.getElementById(\"3dmolwarning_16777054618922255\");\n",
       "if(warn) {\n",
       "    warn.parentNode.removeChild(warn);\n",
       "}\n",
       "$3Dmolpromise.then(function() {\n",
       "viewer_16777054618922255 = $3Dmol.createViewer($(\"#3dmolviewer_16777054618922255\"),{backgroundColor:\"white\"});\n",
       "$3Dmol.download(\"cid:5284583\", viewer_16777054618922255, {}, function() {\n",
       "viewer_16777054618922255.zoomTo();\n",
       "\tviewer_16777054618922255.setStyle({\"stick\": {\"color\": \"spectrum\"}});\n",
       "viewer_16777054618922255.render();\n",
       "})\n",
       "});\n",
       "</script>"
      ]
     },
     "metadata": {},
     "output_type": "display_data"
    },
    {
     "data": {
      "text/plain": [
       "<py3Dmol.view at 0x7f577806d340>"
      ]
     },
     "execution_count": 110,
     "metadata": {},
     "output_type": "execute_result"
    }
   ],
   "source": [
    "view = py3Dmol.view(query='cid:5284583')# corresponde al cid pubchem\n",
    "view.setStyle({'stick':{'color':'spectrum'}}) # 'line', 'stick', 'sphere'\n",
    "view"
   ]
  },
  {
   "cell_type": "code",
   "execution_count": 99,
   "id": "064529c0-8be2-4c69-bf01-13646adc6cac",
   "metadata": {},
   "outputs": [],
   "source": [
    "v2_H2O = '''3\n",
    "\n",
    "O            0.000000000000     0.000000000000    -0.063241040968    -0.00 -0.00  0.05\n",
    "H            0.000000000000    -0.763664017586     0.501840606446    -0.00  0.58 -0.40\n",
    "H            0.000000000000     0.763664017586     0.501840606446    -0.00 -0.58 -0.40\n",
    "'''"
   ]
  },
  {
   "cell_type": "code",
   "execution_count": 104,
   "id": "4ef64c1b-694e-4402-88b7-3f76d8881c04",
   "metadata": {},
   "outputs": [
    {
     "data": {
      "application/3dmoljs_load.v0": "<div id=\"3dmolviewer_16776767570259838\"  style=\"position: relative; width: 200px; height: 200px\">\n        <p id=\"3dmolwarning_16776767570259838\" style=\"background-color:#ffcccc;color:black\">You appear to be running in JupyterLab (or JavaScript failed to load for some other reason).  You need to install the 3dmol extension: <br>\n        <tt>jupyter labextension install jupyterlab_3dmol</tt></p>\n        </div>\n<script>\n\nvar loadScriptAsync = function(uri){\n  return new Promise((resolve, reject) => {\n    var tag = document.createElement('script');\n    tag.src = uri;\n    tag.async = true;\n    tag.onload = () => {\n      resolve();\n    };\n  var firstScriptTag = document.getElementsByTagName('script')[0];\n  firstScriptTag.parentNode.insertBefore(tag, firstScriptTag);\n});\n};\n\nif(typeof $3Dmolpromise === 'undefined') {\n$3Dmolpromise = null;\n  $3Dmolpromise = loadScriptAsync('https://3dmol.org/build/3Dmol.js');\n}\n\nvar viewer_16776767570259838 = null;\nvar warn = document.getElementById(\"3dmolwarning_16776767570259838\");\nif(warn) {\n    warn.parentNode.removeChild(warn);\n}\n$3Dmolpromise.then(function() {\nviewer_16776767570259838 = $3Dmol.createViewer($(\"#3dmolviewer_16776767570259838\"),{backgroundColor:\"white\"});\nviewer_16776767570259838.zoomTo();\n\tviewer_16776767570259838.addModel(\"3\\n\\nO            0.000000000000     0.000000000000    -0.063241040968    -0.00 -0.00  0.05\\nH            0.000000000000    -0.763664017586     0.501840606446    -0.00  0.58 -0.40\\nH            0.000000000000     0.763664017586     0.501840606446    -0.00 -0.58 -0.40\\n\",\"v2_H2O\",{\"vibrate\": {\"frames\": 20, \"amplitude\": 1}});\n\tviewer_16776767570259838.setStyle({\"stick\": {}});\n\tviewer_16776767570259838.animate({\"loop\": \"backAndForth\"});\n\tviewer_16776767570259838.zoomTo();\nviewer_16776767570259838.render();\n});\n</script>",
      "text/html": [
       "<div id=\"3dmolviewer_16776767570259838\"  style=\"position: relative; width: 200px; height: 200px\">\n",
       "        <p id=\"3dmolwarning_16776767570259838\" style=\"background-color:#ffcccc;color:black\">You appear to be running in JupyterLab (or JavaScript failed to load for some other reason).  You need to install the 3dmol extension: <br>\n",
       "        <tt>jupyter labextension install jupyterlab_3dmol</tt></p>\n",
       "        </div>\n",
       "<script>\n",
       "\n",
       "var loadScriptAsync = function(uri){\n",
       "  return new Promise((resolve, reject) => {\n",
       "    var tag = document.createElement('script');\n",
       "    tag.src = uri;\n",
       "    tag.async = true;\n",
       "    tag.onload = () => {\n",
       "      resolve();\n",
       "    };\n",
       "  var firstScriptTag = document.getElementsByTagName('script')[0];\n",
       "  firstScriptTag.parentNode.insertBefore(tag, firstScriptTag);\n",
       "});\n",
       "};\n",
       "\n",
       "if(typeof $3Dmolpromise === 'undefined') {\n",
       "$3Dmolpromise = null;\n",
       "  $3Dmolpromise = loadScriptAsync('https://3dmol.org/build/3Dmol.js');\n",
       "}\n",
       "\n",
       "var viewer_16776767570259838 = null;\n",
       "var warn = document.getElementById(\"3dmolwarning_16776767570259838\");\n",
       "if(warn) {\n",
       "    warn.parentNode.removeChild(warn);\n",
       "}\n",
       "$3Dmolpromise.then(function() {\n",
       "viewer_16776767570259838 = $3Dmol.createViewer($(\"#3dmolviewer_16776767570259838\"),{backgroundColor:\"white\"});\n",
       "viewer_16776767570259838.zoomTo();\n",
       "\tviewer_16776767570259838.addModel(\"3\\n\\nO            0.000000000000     0.000000000000    -0.063241040968    -0.00 -0.00  0.05\\nH            0.000000000000    -0.763664017586     0.501840606446    -0.00  0.58 -0.40\\nH            0.000000000000     0.763664017586     0.501840606446    -0.00 -0.58 -0.40\\n\",\"v2_H2O\",{\"vibrate\": {\"frames\": 20, \"amplitude\": 1}});\n",
       "\tviewer_16776767570259838.setStyle({\"stick\": {}});\n",
       "\tviewer_16776767570259838.animate({\"loop\": \"backAndForth\"});\n",
       "\tviewer_16776767570259838.zoomTo();\n",
       "viewer_16776767570259838.render();\n",
       "});\n",
       "</script>"
      ]
     },
     "metadata": {},
     "output_type": "display_data"
    }
   ],
   "source": [
    "view_m2 = py3Dmol.view(width=200,height=200)\n",
    "view_m2.addModel(v2_H2O,'v2_H2O',{'vibrate': {'frames':20,'amplitude':1}})\n",
    "view_m2.setStyle({'stick':{}})\n",
    "#xyzview.setBackgroundColor('0xeeeeee')\n",
    "view_m2.animate({'loop': 'backAndForth'})\n",
    "view_m2.zoomTo()\n",
    "view_m2.show()"
   ]
  },
  {
   "cell_type": "code",
   "execution_count": 130,
   "id": "03ed81c0-570d-4247-b89f-a790e72cf8f4",
   "metadata": {},
   "outputs": [
    {
     "name": "stdout",
     "output_type": "stream",
     "text": [
      "System: uname_result(system='Linux', node='lab-203-2', release='4.4.0-19041-Microsoft', version='#2311-Microsoft Tue Nov 08 17:09:00 PST 2022', machine='x86_64', processor='x86_64')  Threads 12\n",
      "Python 3.8.11 (default, Aug  3 2021, 15:09:35) \n",
      "[GCC 7.5.0]\n",
      "numpy 1.22.4  scipy 1.6.2\n",
      "Date: Wed Mar  1 17:53:07 2023\n",
      "PySCF version 2.1.1\n",
      "PySCF path  /home/emejia/psi4conda/lib/python3.8/site-packages/pyscf\n",
      "\n",
      "[CONFIG] conf_file None\n",
      "[INPUT] verbose = 5\n",
      "[INPUT] max_memory = 4000 \n",
      "[INPUT] num. atoms = 2\n",
      "[INPUT] num. electrons = 14\n",
      "[INPUT] charge = 0\n",
      "[INPUT] spin (= nelec alpha-beta = 2S) = 0\n",
      "[INPUT] symmetry False subgroup None\n",
      "[INPUT] Mole.unit = angstrom\n",
      "[INPUT] Symbol           X                Y                Z      unit          X                Y                Z       unit  Magmom\n",
      "[INPUT]  1 N      0.000000000000   0.000000000000   0.000000000000 AA    0.000000000000   0.000000000000   0.000000000000 Bohr   0.0\n",
      "[INPUT]  2 N      0.000000000000   0.000000000000   1.200000000000 AA    0.000000000000   0.000000000000   2.267671349478 Bohr   0.0\n",
      "[INPUT] ---------------- BASIS SET ---------------- \n",
      "[INPUT] l, kappa, [nprim/nctr], expnt,             c_1 c_2 ...\n",
      "[INPUT] N\n",
      "[INPUT] 0    0    [8    /2   ]  9046              0.0007 -0.000153\n",
      "                                1357              0.005389 -0.001208\n",
      "                                309.3             0.027406 -0.005992\n",
      "                                87.73             0.103207 -0.024544\n",
      "                                28.56             0.278723 -0.067459\n",
      "                                10.21             0.44854 -0.158078\n",
      "                                3.838             0.278238 -0.121831\n",
      "                                0.7466            0.01544 0.549003\n",
      "[INPUT] 0    0    [1    /1   ]  0.2248               1\n",
      "[INPUT] 1    0    [3    /1   ]  13.55             0.039919\n",
      "                                2.917             0.217169\n",
      "                                0.7973            0.510319\n",
      "[INPUT] 1    0    [1    /1   ]  0.2185               1\n",
      "[INPUT] 2    0    [1    /1   ]  0.817                1\n",
      "\n",
      "nuclear repulsion = 21.6080694459\n",
      "number of shells = 10\n",
      "number of NR pGTOs = 52\n",
      "number of NR cGTOs = 28\n",
      "basis = ccpvdz\n",
      "ecp = {}\n",
      "CPU time:       166.30\n",
      "\n",
      "\n",
      "******** <class 'pyscf.scf.hf.RHF'> ********\n",
      "method = RHF\n",
      "initial guess = minao\n",
      "damping factor = 0\n",
      "level_shift factor = 0\n",
      "DIIS = <class 'pyscf.scf.diis.CDIIS'>\n",
      "diis_start_cycle = 1\n",
      "diis_space = 8\n",
      "SCF conv_tol = 1e-09\n",
      "SCF conv_tol_grad = None\n",
      "SCF max_cycles = 50\n",
      "direct_scf = True\n",
      "direct_scf_tol = 1e-13\n",
      "chkfile to save SCF result = /home/emejia/Documents/QC_Notebook/tmplmsnzr6g\n",
      "max_memory 4000 MB (current use 137 MB)\n",
      "Set gradient conv threshold to 3.16228e-05\n",
      "E1 = -191.13267684862356  E_coul = 60.85868286971346\n",
      "init E= -108.66592453301\n",
      "cond(S) = 338.78860026837566\n",
      "    CPU time for initialize scf      0.69 sec, wall time      0.10 sec\n",
      "  HOMO = -0.36231903294716  LUMO = 0.0332103891978446\n",
      "  mo_energy =\n",
      "[-15.59900283 -15.59544494  -1.54646892  -0.68850395  -0.41357542\n",
      "  -0.41357542  -0.36231903   0.03321039   0.03321039   0.52210242\n",
      "   0.90001374   0.93571919   0.93571919   1.01642738   1.01931443\n",
      "   1.04194261   1.04194261   1.57202372   1.82676926   1.82676926\n",
      "   1.84480241   1.84480241   2.26589659   2.26589659   2.75657448\n",
      "   2.9028134    2.9028134    3.15138781]\n",
      "E1 = -189.35130657841165  E_coul = 58.85191550545331\n",
      "cycle= 1 E= -108.891321627058  delta_E= -0.225  |g|= 0.304  |ddm|= 1.69\n",
      "    CPU time for cycle= 1      0.33 sec, wall time      0.06 sec\n",
      "  HOMO = -0.614908525636471  LUMO = 0.0817082857779463\n",
      "  mo_energy =\n",
      "[-15.82609694 -15.82417842  -1.4662421   -0.84210518  -0.64773571\n",
      "  -0.61490853  -0.61490853   0.08170829   0.08170829   0.51776195\n",
      "   0.83306141   0.8622774    0.8622774    0.95516532   0.96144599\n",
      "   0.9960804    0.9960804    1.52236619   1.74353353   1.74353353\n",
      "   1.74902149   1.74902149   2.19291254   2.19291254   2.68010677\n",
      "   2.8387108    2.8387108    3.07471166]\n",
      "E1 = -190.48476868770558  E_coul = 59.96409151670917\n",
      "cycle= 2 E= -108.912607725096  delta_E= -0.0213  |g|= 0.0711  |ddm|= 0.268\n",
      "    CPU time for cycle= 2      0.16 sec, wall time      0.04 sec\n",
      "  HOMO = -0.564780066399272  LUMO = 0.127429374616609\n",
      "  mo_energy =\n",
      "[-15.70741358 -15.70539711  -1.3930805   -0.80331619  -0.60844557\n",
      "  -0.56478007  -0.56478007   0.12742937   0.12742937   0.5488573\n",
      "   0.86289759   0.89953837   0.89953837   0.98580872   1.01234722\n",
      "   1.0337987    1.0337987    1.55802236   1.79614868   1.79614868\n",
      "   1.79683201   1.79683201   2.2376275    2.2376275    2.73369142\n",
      "   2.88434897   2.88434897   3.12918055]\n",
      "E1 = -190.2477063060188  E_coul = 59.725675126900796\n",
      "cycle= 3 E= -108.913961733218  delta_E= -0.00135  |g|= 0.0153  |ddm|= 0.0586\n",
      "    CPU time for cycle= 3      0.36 sec, wall time      0.04 sec\n",
      "  HOMO = -0.568815120801094  LUMO = 0.124363234445165\n",
      "  mo_energy =\n",
      "[-15.7190106  -15.71700713  -1.39897272  -0.80662946  -0.61652368\n",
      "  -0.56881512  -0.56881512   0.12436323   0.12436323   0.54829153\n",
      "   0.85925043   0.89666638   0.89666638   0.98251841   1.00583211\n",
      "   1.03065948   1.03065948   1.55552935   1.79141948   1.79141948\n",
      "   1.79203673   1.79203673   2.23318518   2.23318518   2.72929989\n",
      "   2.88034476   2.88034476   3.1240587 ]\n",
      "E1 = -190.2647651981567  E_coul = 59.74264402134288\n",
      "cycle= 4 E= -108.914051730914  delta_E= -9e-05  |g|= 0.000948  |ddm|= 0.0226\n",
      "    CPU time for cycle= 4      0.17 sec, wall time      0.03 sec\n",
      "  HOMO = -0.56834952158932  LUMO = 0.124840750018986\n",
      "  mo_energy =\n",
      "[-15.71761726 -15.71561385  -1.39836951  -0.80607284  -0.61605694\n",
      "  -0.56834952  -0.56834952   0.12484075   0.12484075   0.54863168\n",
      "   0.85941489   0.89698428   0.89698428   0.98284437   1.00631244\n",
      "   1.03106713   1.03106713   1.55585333   1.79190444   1.79190444\n",
      "   1.79242542   1.79242542   2.23360122   2.23360122   2.72982411\n",
      "   2.88083509   2.88083509   3.12462448]\n",
      "E1 = -190.26316196267453  E_coul = 59.74104054564853\n",
      "cycle= 5 E= -108.914051971126  delta_E= -2.4e-07  |g|= 0.000108  |ddm|= 0.00102\n",
      "    CPU time for cycle= 5      0.17 sec, wall time      0.02 sec\n",
      "  HOMO = -0.568349741566261  LUMO = 0.124836315935463\n",
      "  mo_energy =\n",
      "[-15.7176552  -15.71565223  -1.39836305  -0.80608978  -0.61608542\n",
      "  -0.56834974  -0.56834974   0.12483632   0.12483632   0.54862558\n",
      "   0.85940576   0.8969886    0.8969886    0.98283575   1.00629009\n",
      "   1.0310629    1.0310629    1.55585503   1.79189563   1.79189563\n",
      "   1.79242613   1.79242613   2.23360057   2.23360057   2.72981307\n",
      "   2.88082605   2.88082605   3.12460454]\n",
      "E1 = -190.2632387052899  E_coul = 59.74111728439176\n",
      "cycle= 6 E= -108.914051974998  delta_E= -3.87e-09  |g|= 1.12e-05  |ddm|= 0.000136\n",
      "    CPU time for cycle= 6      0.48 sec, wall time      0.06 sec\n",
      "  HOMO = -0.568345210845294  LUMO = 0.124840410918828\n",
      "  mo_energy =\n",
      "[-15.71764567 -15.71564266  -1.39835841  -0.80608784  -0.61608354\n",
      "  -0.56834521  -0.56834521   0.12484041   0.12484041   0.54862767\n",
      "   0.85940839   0.89699307   0.89699307   0.98283815   1.00629364\n",
      "   1.03106676   1.03106676   1.55585811   1.79190006   1.79190006\n",
      "   1.79243053   1.79243053   2.23360499   2.23360499   2.72981738\n",
      "   2.88083017   2.88083017   3.12460849]\n",
      "E1 = -190.26322783471932  E_coul = 59.741106413768335\n",
      "cycle= 7 E= -108.914051975051  delta_E= -5.28e-11  |g|= 1.49e-06  |ddm|= 2.99e-05\n",
      "    CPU time for cycle= 7      0.56 sec, wall time      0.09 sec\n",
      "  HOMO = -0.568344951713547  LUMO = 0.124840503813137\n",
      "  mo_energy =\n",
      "[-15.71764546 -15.71564245  -1.39835837  -0.80608788  -0.61608344\n",
      "  -0.56834495  -0.56834495   0.1248405    0.1248405    0.5486276\n",
      "   0.85940827   0.89699319   0.89699319   0.98283803   1.00629352\n",
      "   1.03106685   1.03106685   1.55585808   1.79190011   1.79190011\n",
      "   1.7924306    1.7924306    2.23360504   2.23360504   2.72981742\n",
      "   2.88083021   2.88083021   3.1246085 ]\n",
      "E1 = -190.2632282431543  E_coul = 59.7411068222024\n",
      "Extra cycle  E= -108.914051975052  delta_E= -9.09e-13  |g|= 4.35e-07  |ddm|= 2.84e-06\n",
      "    CPU time for scf_cycle      3.39 sec, wall time      0.49 sec\n",
      "    CPU time for SCF      3.41 sec, wall time      0.50 sec\n",
      "converged SCF energy = -108.914051975052\n",
      "Create scanner for <class 'pyscf.grad.rhf.Gradients'>\n",
      "Create scanner for <class 'pyscf.scf.hf.RHF'>\n",
      "0 Internal coordinates:\n"
     ]
    },
    {
     "name": "stderr",
     "output_type": "stream",
     "text": [
      "0 Internal coordinates:"
     ]
    },
    {
     "name": "stdout",
     "output_type": "stream",
     "text": [
      "0 * Number of fragments: 1\n"
     ]
    },
    {
     "name": "stderr",
     "output_type": "stream",
     "text": [
      "0 * Number of fragments: 1"
     ]
    },
    {
     "name": "stdout",
     "output_type": "stream",
     "text": [
      "0 * Number of internal coordinates: 1\n"
     ]
    },
    {
     "name": "stderr",
     "output_type": "stream",
     "text": [
      "0 * Number of internal coordinates: 1"
     ]
    },
    {
     "name": "stdout",
     "output_type": "stream",
     "text": [
      "0 * Number of strong bonds: 1\n"
     ]
    },
    {
     "name": "stderr",
     "output_type": "stream",
     "text": [
      "0 * Number of strong bonds: 1"
     ]
    },
    {
     "name": "stdout",
     "output_type": "stream",
     "text": [
      "\n",
      "Geometry optimization cycle 1\n",
      "Cartesian coordinates (Angstrom)\n",
      " Atom        New coordinates             dX        dY        dZ\n",
      "   N   0.000000   0.000000   0.000000    0.000000  0.000000  0.000000\n",
      "   N   0.000000   0.000000   1.200000    0.000000  0.000000  0.000000\n",
      "New geometry\n",
      "   1 N      0.000000000000   0.000000000000   0.000000000000 AA    0.000000000000   0.000000000000   0.000000000000 Bohr\n",
      "\n",
      "   2 N      0.000000000000   0.000000000000   1.200000000000 AA    0.000000000000   0.000000000000   2.267671349478 Bohr\n",
      "\n",
      "\n",
      "\n",
      "******** <class 'pyscf.scf.hf.as_scanner.<locals>.SCF_Scanner'> ********\n",
      "method = SCF_Scanner-RHF\n",
      "initial guess = minao\n",
      "damping factor = 0\n",
      "level_shift factor = 0\n",
      "DIIS = <class 'pyscf.scf.diis.CDIIS'>\n",
      "diis_start_cycle = 1\n",
      "diis_space = 8\n",
      "SCF conv_tol = 1e-09\n",
      "SCF conv_tol_grad = None\n",
      "SCF max_cycles = 50\n",
      "direct_scf = True\n",
      "direct_scf_tol = 1e-13\n",
      "chkfile to save SCF result = /home/emejia/Documents/QC_Notebook/tmplmsnzr6g\n",
      "max_memory 4000 MB (current use 137 MB)\n",
      "Set gradient conv threshold to 3.16228e-05\n",
      "E1 = -190.2632282431543  E_coul = 59.7411068222024\n",
      "init E= -108.914051975052\n",
      "cond(S) = 338.78860026837566\n",
      "    CPU time for initialize scf      0.55 sec, wall time      0.06 sec\n",
      "  HOMO = -0.568344885067228  LUMO = 0.124840533137543\n",
      "  mo_energy =\n",
      "[-15.71764541 -15.7156424   -1.39835837  -0.80608791  -0.61608345\n",
      "  -0.56834489  -0.56834489   0.12484053   0.12484053   0.5486276\n",
      "   0.85940826   0.89699325   0.89699325   0.98283801   1.0062935\n",
      "   1.03106689   1.03106689   1.55585808   1.79190014   1.79190014\n",
      "   1.79243063   1.79243063   2.23360507   2.23360507   2.72981744\n",
      "   2.88083023   2.88083023   3.12460851]\n",
      "E1 = -190.2632282804266  E_coul = 59.741106859474726\n",
      "cycle= 1 E= -108.914051975052  delta_E= 2.84e-14  |g|= 1.31e-07  |ddm|= 7.72e-07\n",
      "    CPU time for cycle= 1      0.23 sec, wall time      0.04 sec\n",
      "  HOMO = -0.568344869297312  LUMO = 0.124840538002084\n",
      "  mo_energy =\n",
      "[-15.7176454  -15.71564239  -1.39835837  -0.80608792  -0.61608346\n",
      "  -0.56834487  -0.56834487   0.12484054   0.12484054   0.54862759\n",
      "   0.85940826   0.89699326   0.89699326   0.982838     1.0062935\n",
      "   1.0310669    1.0310669    1.55585808   1.79190015   1.79190015\n",
      "   1.79243063   1.79243063   2.23360507   2.23360507   2.72981744\n",
      "   2.88083023   2.88083023   3.1246085 ]\n",
      "E1 = -190.2632283118469  E_coul = 59.74110689089496\n",
      "Extra cycle  E= -108.914051975052  delta_E= -5.68e-14  |g|= 3.95e-08  |ddm|= 2.23e-07\n",
      "    CPU time for scf_cycle      0.86 sec, wall time      0.13 sec\n",
      "    CPU time for SCF      0.89 sec, wall time      0.14 sec\n",
      "converged SCF energy = -108.914051975052\n",
      "\n",
      "\n",
      "******** <class 'pyscf.grad.rhf.as_scanner.<locals>.SCF_GradScanner'> for <class 'pyscf.scf.hf.as_scanner.<locals>.SCF_Scanner'> ********\n",
      "unit = Eh/Bohr\n",
      "max_memory 4000 MB (current use 137 MB)\n",
      "Computing Gradients of NR-HF Coulomb repulsion\n",
      "    CPU time for vj and vk      0.27 sec, wall time      0.08 sec\n",
      "    CPU time for gradients of 2e part      0.27 sec, wall time      0.08 sec\n",
      "gradients of electronic part\n",
      "         x                y                z\n",
      "0 N     0.0000000000     0.0000000000    -9.8408804088\n",
      "1 N    -0.0000000000    -0.0000000000     9.8408804088\n",
      "    CPU time for SCF gradients      0.45 sec, wall time      0.10 sec\n",
      "--------------- SCF_Scanner gradients ---------------\n",
      "         x                y                z\n",
      "0 N     0.0000000000     0.0000000000    -0.3121321398\n",
      "1 N    -0.0000000000    -0.0000000000     0.3121321398\n",
      "----------------------------------------------\n",
      "cycle 1: E = -108.914051975  dE = -108.914  norm(grad) = 0.441422\n",
      "1 Energy: -108.914051975\n"
     ]
    },
    {
     "name": "stderr",
     "output_type": "stream",
     "text": [
      "1 Energy: -108.914051975"
     ]
    },
    {
     "name": "stdout",
     "output_type": "stream",
     "text": [
      "1 Minimization on sphere was performed:\n"
     ]
    },
    {
     "name": "stderr",
     "output_type": "stream",
     "text": [
      "1 Minimization on sphere was performed:"
     ]
    },
    {
     "name": "stdout",
     "output_type": "stream",
     "text": [
      "1 * Trust radius: 0.3\n"
     ]
    },
    {
     "name": "stderr",
     "output_type": "stream",
     "text": [
      "1 * Trust radius: 0.3"
     ]
    },
    {
     "name": "stdout",
     "output_type": "stream",
     "text": [
      "1 * Number of negative eigenvalues: 0\n"
     ]
    },
    {
     "name": "stderr",
     "output_type": "stream",
     "text": [
      "1 * Number of negative eigenvalues: 0"
     ]
    },
    {
     "name": "stdout",
     "output_type": "stream",
     "text": [
      "1 * Lowest eigenvalue: 0.55\n"
     ]
    },
    {
     "name": "stderr",
     "output_type": "stream",
     "text": [
      "1 * Lowest eigenvalue: 0.55"
     ]
    },
    {
     "name": "stdout",
     "output_type": "stream",
     "text": [
      "1 * lambda: -0.491\n"
     ]
    },
    {
     "name": "stderr",
     "output_type": "stream",
     "text": [
      "1 * lambda: -0.491"
     ]
    },
    {
     "name": "stdout",
     "output_type": "stream",
     "text": [
      "1 Quadratic step: RMS: 0.3, max: 0.3\n"
     ]
    },
    {
     "name": "stderr",
     "output_type": "stream",
     "text": [
      "1 Quadratic step: RMS: 0.3, max: 0.3"
     ]
    },
    {
     "name": "stdout",
     "output_type": "stream",
     "text": [
      "1 * Predicted energy change: -0.0689\n"
     ]
    },
    {
     "name": "stderr",
     "output_type": "stream",
     "text": [
      "1 * Predicted energy change: -0.0689"
     ]
    },
    {
     "name": "stdout",
     "output_type": "stream",
     "text": [
      "1 Total step: RMS: 0.3, max: 0.3\n"
     ]
    },
    {
     "name": "stderr",
     "output_type": "stream",
     "text": [
      "1 Total step: RMS: 0.3, max: 0.3"
     ]
    },
    {
     "name": "stdout",
     "output_type": "stream",
     "text": [
      "1 Perfect transformation to cartesians in 2 iterations\n"
     ]
    },
    {
     "name": "stderr",
     "output_type": "stream",
     "text": [
      "1 Perfect transformation to cartesians in 2 iterations"
     ]
    },
    {
     "name": "stdout",
     "output_type": "stream",
     "text": [
      "1 * RMS(dcart): 2.27e-17, RMS(dq): 4.44e-16\n"
     ]
    },
    {
     "name": "stderr",
     "output_type": "stream",
     "text": [
      "1 * RMS(dcart): 2.27e-17, RMS(dq): 4.44e-16"
     ]
    },
    {
     "name": "stdout",
     "output_type": "stream",
     "text": [
      "1 Convergence criteria:\n"
     ]
    },
    {
     "name": "stderr",
     "output_type": "stream",
     "text": [
      "1 Convergence criteria:"
     ]
    },
    {
     "name": "stdout",
     "output_type": "stream",
     "text": [
      "1 * Gradient RMS: 0.312 > 0.00015 => no\n"
     ]
    },
    {
     "name": "stderr",
     "output_type": "stream",
     "text": [
      "1 * Gradient RMS: 0.312 > 0.00015 => no"
     ]
    },
    {
     "name": "stdout",
     "output_type": "stream",
     "text": [
      "1 * Gradient maximum: 0.312 > 0.00045 => no\n"
     ]
    },
    {
     "name": "stderr",
     "output_type": "stream",
     "text": [
      "1 * Gradient maximum: 0.312 > 0.00045 => no"
     ]
    },
    {
     "name": "stdout",
     "output_type": "stream",
     "text": [
      "1 * Minimization on sphere: Minimization on sphere => no\n"
     ]
    },
    {
     "name": "stderr",
     "output_type": "stream",
     "text": [
      "1 * Minimization on sphere: Minimization on sphere => no"
     ]
    },
    {
     "name": "stdout",
     "output_type": "stream",
     "text": [
      "    CPU time for geomoetry optimization cycle 0      1.41 sec, wall time      0.30 sec\n",
      "\n",
      "Geometry optimization cycle 2\n",
      "Cartesian coordinates (Angstrom)\n",
      " Atom        New coordinates             dX        dY        dZ\n",
      "   N   0.000000   0.000000   0.079377    0.000000  0.000000  0.079377\n",
      "   N   0.000000   0.000000   1.120623    0.000000  0.000000 -0.079377\n",
      "New geometry\n",
      "   1 N      0.000000000000   0.000000000000   0.079376581638 AA    0.000000000000   0.000000000000   0.150000000000 Bohr\n",
      "\n",
      "   2 N      0.000000000000   0.000000000000   1.120623418362 AA    0.000000000000   0.000000000000   2.117671349478 Bohr\n",
      "\n",
      "\n",
      "WARN: Large deviations found between the input molecule and the molecule from chkfile\n",
      "Initial guess density matrix may have large error.\n",
      "\n",
      "\n",
      "\n",
      "******** <class 'pyscf.scf.hf.as_scanner.<locals>.SCF_Scanner'> ********\n",
      "method = SCF_Scanner-RHF\n",
      "initial guess = minao\n",
      "damping factor = 0\n",
      "level_shift factor = 0\n",
      "DIIS = <class 'pyscf.scf.diis.CDIIS'>\n",
      "diis_start_cycle = 1\n",
      "diis_space = 8\n",
      "SCF conv_tol = 1e-09\n",
      "SCF conv_tol_grad = None\n",
      "SCF max_cycles = 50\n",
      "direct_scf = True\n",
      "direct_scf_tol = 1e-13\n",
      "chkfile to save SCF result = /home/emejia/Documents/QC_Notebook/tmplmsnzr6g\n",
      "max_memory 4000 MB (current use 137 MB)\n",
      "Set gradient conv threshold to 3.16228e-05\n",
      "E1 = -198.5248299887637  E_coul = 64.37148422881474\n",
      "init E= -109.250813122577\n",
      "cond(S) = 639.5411922071244\n",
      "    CPU time for initialize scf      1.30 sec, wall time      0.14 sec\n",
      "  HOMO = -0.505954631707419  LUMO = 0.309540317825427\n",
      "  mo_energy =\n",
      "[-15.55345178 -15.54604233  -1.4197063   -0.63593154  -0.54089963\n",
      "  -0.54089963  -0.50595463   0.30954032   0.30954032   0.68342533\n",
      "   0.89842754   0.96519097   0.96519097   1.0969045    1.16732324\n",
      "   1.16732324   1.34380514   1.81518887   1.86304645   1.86304645\n",
      "   2.06235734   2.06235734   2.45979959   2.45979959   3.03974933\n",
      "   3.17061674   3.17061674   3.55450236]\n",
      "E1 = -196.24996202496692  E_coul = 62.401276638353124\n",
      "cycle= 1 E= -108.946152749242  delta_E= 0.305  |g|= 0.134  |ddm|= 0.25\n",
      "    CPU time for cycle= 1      0.50 sec, wall time      0.05 sec\n",
      "  HOMO = -0.650042921930029  LUMO = 0.188130782991189\n",
      "  mo_energy =\n",
      "[-15.7225024  -15.71771795  -1.54979333  -0.77309008  -0.65655502\n",
      "  -0.65655502  -0.65004292   0.18813078   0.18813078   0.60285681\n",
      "   0.78790385   0.83974578   0.83974578   0.98514083   1.04771765\n",
      "   1.04771765   1.20971196   1.68916627   1.71732349   1.71732349\n",
      "   1.92033539   1.92033539   2.31941377   2.31941377   2.90697588\n",
      "   3.04099007   3.04099007   3.40923242]\n",
      "E1 = -196.8182371330008  E_coul = 62.96545063626303\n",
      "cycle= 2 E= -108.950253859366  delta_E= -0.0041  |g|= 0.0324  |ddm|= 0.123\n",
      "    CPU time for cycle= 2      0.31 sec, wall time      0.08 sec\n",
      "  HOMO = -0.629616077942686  LUMO = 0.207434575483539\n",
      "  mo_energy =\n",
      "[-15.66638874 -15.6615319   -1.51238746  -0.75501337  -0.63243331\n",
      "  -0.63243331  -0.62961608   0.20743458   0.20743458   0.60934081\n",
      "   0.80030576   0.85564128   0.85564128   1.0000365    1.06602357\n",
      "   1.06602357   1.23443712   1.70933556   1.74058947   1.74058947\n",
      "   1.94474302   1.94474302   2.34020232   2.34020232   2.92869777\n",
      "   3.06136      3.06136      3.4406857 ]\n",
      "E1 = -196.70686257547214  E_coul = 62.853855309326484\n",
      "cycle= 3 E= -108.950474628773  delta_E= -0.000221  |g|= 0.00329  |ddm|= 0.0299\n",
      "    CPU time for cycle= 3      0.06 sec, wall time      0.04 sec\n",
      "  HOMO = -0.630842181762906  LUMO = 0.206607112088362\n",
      "  mo_energy =\n",
      "[-15.66887976 -15.6640215   -1.51341588  -0.75547205  -0.63351976\n",
      "  -0.63351976  -0.63084218   0.20660711   0.20660711   0.60924923\n",
      "   0.79968355   0.8548956    0.8548956    0.99965426   1.06520707\n",
      "   1.06520707   1.23332605   1.7088663    1.73966505   1.73966505\n",
      "   1.94374807   1.94374807   2.33927412   2.33927412   2.92774516\n",
      "   3.0603899    3.0603899    3.43937097]\n",
      "E1 = -196.7095295671935  E_coul = 62.85651865616429\n",
      "cycle= 4 E= -108.950478273657  delta_E= -3.64e-06  |g|= 0.000214  |ddm|= 0.00513\n",
      "    CPU time for cycle= 4      0.38 sec, wall time      0.05 sec\n",
      "  HOMO = -0.63072245243568  LUMO = 0.20669900519322\n",
      "  mo_energy =\n",
      "[-15.6685387  -15.66367964  -1.51327908  -0.75532776  -0.63343121\n",
      "  -0.63343121  -0.63072245   0.20669901   0.20669901   0.60932098\n",
      "   0.79972366   0.85493432   0.85493432   0.99974758   1.06529513\n",
      "   1.06529513   1.23345653   1.70895538   1.73973581   1.73973581\n",
      "   1.94386488   1.94386488   2.33935231   2.33935231   2.92785973\n",
      "   3.0605052    3.0605052    3.43954301]\n",
      "E1 = -196.70901270778023  E_coul = 62.85600178154316\n",
      "cycle= 5 E= -108.950478288865  delta_E= -1.52e-08  |g|= 1.98e-05  |ddm|= 0.00078\n",
      "    CPU time for cycle= 5      0.17 sec, wall time      0.02 sec\n",
      "  HOMO = -0.630730917853866  LUMO = 0.206690866763037\n",
      "  mo_energy =\n",
      "[-15.66856001 -15.66370108  -1.51328823  -0.75533434  -0.63344084\n",
      "  -0.63344084  -0.63073092   0.20669087   0.20669087   0.60931881\n",
      "   0.79971835   0.85492746   0.85492746   0.99974197   1.06528703\n",
      "   1.06528703   1.23344746   1.70894852   1.73972732   1.73972732\n",
      "   1.94385529   1.94385529   2.33934346   2.33934346   2.92785061\n",
      "   3.06049597   3.06049597   3.43953253]\n",
      "E1 = -196.70902472017627  E_coul = 62.85601379379848\n",
      "cycle= 6 E= -108.950478289006  delta_E= -1.41e-10  |g|= 3.3e-06  |ddm|= 0.000145\n",
      "    CPU time for cycle= 6      0.17 sec, wall time      0.02 sec\n",
      "  HOMO = -0.6307308117409  LUMO = 0.206690537831528\n",
      "  mo_energy =\n",
      "[-15.6685605  -15.66370156  -1.51328856  -0.75533437  -0.63344138\n",
      "  -0.63344138  -0.63073081   0.20669054   0.20669054   0.60931885\n",
      "   0.79971829   0.85492706   0.85492706   0.99974191   1.06528668\n",
      "   1.06528668   1.23344736   1.70894823   1.73972698   1.73972698\n",
      "   1.94385497   1.94385497   2.33934312   2.33934312   2.92785033\n",
      "   3.0604957    3.0604957    3.43953239]\n",
      "E1 = -196.7090236574835  E_coul = 62.856012731101615\n",
      "Extra cycle  E= -108.95047828901  delta_E= -4.09e-12  |g|= 9.43e-07  |ddm|= 1.54e-05\n",
      "    CPU time for scf_cycle      3.05 sec, wall time      0.40 sec\n",
      "    CPU time for SCF      3.06 sec, wall time      0.41 sec\n",
      "converged SCF energy = -108.95047828901\n",
      "\n",
      "\n",
      "******** <class 'pyscf.grad.rhf.as_scanner.<locals>.SCF_GradScanner'> for <class 'pyscf.scf.hf.as_scanner.<locals>.SCF_Scanner'> ********\n",
      "unit = Eh/Bohr\n",
      "max_memory 4000 MB (current use 137 MB)\n",
      "Computing Gradients of NR-HF Coulomb repulsion\n",
      "    CPU time for vj and vk      0.66 sec, wall time      0.12 sec\n",
      "    CPU time for gradients of 2e part      0.66 sec, wall time      0.13 sec\n",
      "gradients of electronic part\n",
      "         x                y                z\n",
      "0 N    -0.0000000000     0.0000000000   -12.5004928098\n",
      "1 N     0.0000000000    -0.0000000000    12.5004928098\n",
      "    CPU time for SCF gradients      1.14 sec, wall time      0.21 sec\n",
      "--------------- SCF_Scanner gradients ---------------\n",
      "         x                y                z\n",
      "0 N    -0.0000000000     0.0000000000     0.1553466138\n",
      "1 N     0.0000000000    -0.0000000000    -0.1553466138\n",
      "----------------------------------------------\n",
      "cycle 2: E = -108.950478289  dE = -0.0364263  norm(grad) = 0.219693\n",
      "2 Energy: -108.950478289\n"
     ]
    },
    {
     "name": "stderr",
     "output_type": "stream",
     "text": [
      "2 Energy: -108.950478289"
     ]
    },
    {
     "name": "stdout",
     "output_type": "stream",
     "text": [
      "2 Hessian update information:\n"
     ]
    },
    {
     "name": "stderr",
     "output_type": "stream",
     "text": [
      "2 Hessian update information:"
     ]
    },
    {
     "name": "stdout",
     "output_type": "stream",
     "text": [
      "2 * Change: RMS: 1.01, max: 1.01\n"
     ]
    },
    {
     "name": "stderr",
     "output_type": "stream",
     "text": [
      "2 * Change: RMS: 1.01, max: 1.01"
     ]
    },
    {
     "name": "stdout",
     "output_type": "stream",
     "text": [
      "2 Trust update: Fletcher's parameter: 0.529\n"
     ]
    },
    {
     "name": "stderr",
     "output_type": "stream",
     "text": [
      "2 Trust update: Fletcher's parameter: 0.529"
     ]
    },
    {
     "name": "stdout",
     "output_type": "stream",
     "text": [
      "2 Linear interpolation:\n"
     ]
    },
    {
     "name": "stderr",
     "output_type": "stream",
     "text": [
      "2 Linear interpolation:"
     ]
    },
    {
     "name": "stdout",
     "output_type": "stream",
     "text": [
      "2 * Energies: -108.95048, -108.91405\n"
     ]
    },
    {
     "name": "stderr",
     "output_type": "stream",
     "text": [
      "2 * Energies: -108.95048, -108.91405"
     ]
    },
    {
     "name": "stdout",
     "output_type": "stream",
     "text": [
      "2 * Derivatives: -0.0466, 0.0936\n"
     ]
    },
    {
     "name": "stderr",
     "output_type": "stream",
     "text": [
      "2 * Derivatives: -0.0466, 0.0936"
     ]
    },
    {
     "name": "stdout",
     "output_type": "stream",
     "text": [
      "2 * Quartic interpolation was performed: t = 0.23\n"
     ]
    },
    {
     "name": "stderr",
     "output_type": "stream",
     "text": [
      "2 * Quartic interpolation was performed: t = 0.23"
     ]
    },
    {
     "name": "stdout",
     "output_type": "stream",
     "text": [
      "2 * Interpolated energy: -108.95564\n"
     ]
    },
    {
     "name": "stderr",
     "output_type": "stream",
     "text": [
      "2 * Interpolated energy: -108.95564"
     ]
    },
    {
     "name": "stdout",
     "output_type": "stream",
     "text": [
      "2 Pure RFO step was performed:\n"
     ]
    },
    {
     "name": "stderr",
     "output_type": "stream",
     "text": [
      "2 Pure RFO step was performed:"
     ]
    },
    {
     "name": "stdout",
     "output_type": "stream",
     "text": [
      "2 * Trust radius: 0.3\n"
     ]
    },
    {
     "name": "stderr",
     "output_type": "stream",
     "text": [
      "2 * Trust radius: 0.3"
     ]
    },
    {
     "name": "stdout",
     "output_type": "stream",
     "text": [
      "2 * Number of negative eigenvalues: 0\n"
     ]
    },
    {
     "name": "stderr",
     "output_type": "stream",
     "text": [
      "2 * Number of negative eigenvalues: 0"
     ]
    },
    {
     "name": "stdout",
     "output_type": "stream",
     "text": [
      "2 * Lowest eigenvalue: 1.56\n"
     ]
    },
    {
     "name": "stderr",
     "output_type": "stream",
     "text": [
      "2 * Lowest eigenvalue: 1.56"
     ]
    },
    {
     "name": "stdout",
     "output_type": "stream",
     "text": [
      "2 * lambda: -0.00148\n"
     ]
    },
    {
     "name": "stderr",
     "output_type": "stream",
     "text": [
      "2 * lambda: -0.00148"
     ]
    },
    {
     "name": "stdout",
     "output_type": "stream",
     "text": [
      "2 Quadratic step: RMS: 0.0308, max: 0.0308\n"
     ]
    },
    {
     "name": "stderr",
     "output_type": "stream",
     "text": [
      "2 Quadratic step: RMS: 0.0308, max: 0.0308"
     ]
    },
    {
     "name": "stdout",
     "output_type": "stream",
     "text": [
      "2 * Predicted energy change: -0.000739\n"
     ]
    },
    {
     "name": "stderr",
     "output_type": "stream",
     "text": [
      "2 * Predicted energy change: -0.000739"
     ]
    },
    {
     "name": "stdout",
     "output_type": "stream",
     "text": [
      "2 Total step: RMS: 0.0997, max: 0.0997\n"
     ]
    },
    {
     "name": "stderr",
     "output_type": "stream",
     "text": [
      "2 Total step: RMS: 0.0997, max: 0.0997"
     ]
    },
    {
     "name": "stdout",
     "output_type": "stream",
     "text": [
      "2 Perfect transformation to cartesians in 2 iterations\n"
     ]
    },
    {
     "name": "stderr",
     "output_type": "stream",
     "text": [
      "2 Perfect transformation to cartesians in 2 iterations"
     ]
    },
    {
     "name": "stdout",
     "output_type": "stream",
     "text": [
      "2 * RMS(dcart): 0.0, RMS(dq): 0.0\n"
     ]
    },
    {
     "name": "stderr",
     "output_type": "stream",
     "text": [
      "2 * RMS(dcart): 0.0, RMS(dq): 0.0"
     ]
    },
    {
     "name": "stdout",
     "output_type": "stream",
     "text": [
      "2 Convergence criteria:\n"
     ]
    },
    {
     "name": "stderr",
     "output_type": "stream",
     "text": [
      "2 Convergence criteria:"
     ]
    },
    {
     "name": "stdout",
     "output_type": "stream",
     "text": [
      "2 * Gradient RMS: 0.155 > 0.00015 => no\n"
     ]
    },
    {
     "name": "stderr",
     "output_type": "stream",
     "text": [
      "2 * Gradient RMS: 0.155 > 0.00015 => no"
     ]
    },
    {
     "name": "stdout",
     "output_type": "stream",
     "text": [
      "2 * Gradient maximum: 0.155 > 0.00045 => no\n"
     ]
    },
    {
     "name": "stderr",
     "output_type": "stream",
     "text": [
      "2 * Gradient maximum: 0.155 > 0.00045 => no"
     ]
    },
    {
     "name": "stdout",
     "output_type": "stream",
     "text": [
      "2 * Step RMS: 0.0997 > 0.0012 => no\n"
     ]
    },
    {
     "name": "stderr",
     "output_type": "stream",
     "text": [
      "2 * Step RMS: 0.0997 > 0.0012 => no"
     ]
    },
    {
     "name": "stdout",
     "output_type": "stream",
     "text": [
      "2 * Step maximum: 0.0997 > 0.0018 => no\n"
     ]
    },
    {
     "name": "stderr",
     "output_type": "stream",
     "text": [
      "2 * Step maximum: 0.0997 > 0.0018 => no"
     ]
    },
    {
     "name": "stdout",
     "output_type": "stream",
     "text": [
      "    CPU time for geomoetry optimization cycle 1      4.36 sec, wall time      0.69 sec\n",
      "\n",
      "Geometry optimization cycle 3\n",
      "Cartesian coordinates (Angstrom)\n",
      " Atom        New coordinates             dX        dY        dZ\n",
      "   N   0.000000   0.000000   0.053007    0.000000  0.000000 -0.026370\n",
      "   N   0.000000   0.000000   1.146993    0.000000  0.000000  0.026370\n",
      "New geometry\n",
      "   1 N      0.000000000000   0.000000000000   0.053006882494 AA    0.000000000000   0.000000000000   0.100168490631 Bohr\n",
      "\n",
      "   2 N      0.000000000000   0.000000000000   1.146993117506 AA    0.000000000000   0.000000000000   2.167502858847 Bohr\n",
      "\n",
      "\n",
      "WARN: Large deviations found between the input molecule and the molecule from chkfile\n",
      "Initial guess density matrix may have large error.\n",
      "\n",
      "\n",
      "\n",
      "******** <class 'pyscf.scf.hf.as_scanner.<locals>.SCF_Scanner'> ********\n",
      "method = SCF_Scanner-RHF\n",
      "initial guess = minao\n",
      "damping factor = 0\n",
      "level_shift factor = 0\n",
      "DIIS = <class 'pyscf.scf.diis.CDIIS'>\n",
      "diis_start_cycle = 1\n",
      "diis_space = 8\n",
      "SCF conv_tol = 1e-09\n",
      "SCF conv_tol_grad = None\n",
      "SCF max_cycles = 50\n",
      "direct_scf = True\n",
      "direct_scf_tol = 1e-13\n",
      "chkfile to save SCF result = /home/emejia/Documents/QC_Notebook/tmplmsnzr6g\n",
      "max_memory 4000 MB (current use 137 MB)\n",
      "Set gradient conv threshold to 3.16228e-05\n",
      "E1 = -193.76872819274405  E_coul = 61.20275783826118\n",
      "init E= -108.863950616726\n",
      "cond(S) = 513.1439422740751\n",
      "    CPU time for initialize scf      0.88 sec, wall time      0.10 sec\n",
      "  HOMO = -0.643102567444454  LUMO = 0.140452646820198\n",
      "  mo_energy =\n",
      "[-15.72607276 -15.72328465  -1.50820433  -0.8134822   -0.67003566\n",
      "  -0.64310257  -0.64310257   0.14045265   0.14045265   0.56804322\n",
      "   0.78251803   0.83185215   0.83185215   0.95841039   1.01563543\n",
      "   1.01563543   1.11022987   1.60952234   1.71234963   1.71234963\n",
      "   1.84330327   1.84330327   2.25848474   2.25848474   2.83791889\n",
      "   2.96074116   2.96074116   3.25185648]\n",
      "E1 = -194.54384301716985  E_coul = 61.88773159555116\n",
      "cycle= 1 E= -108.954091683861  delta_E= -0.0901  |g|= 0.045  |ddm|= 0.0811\n",
      "    CPU time for cycle= 1      0.31 sec, wall time      0.03 sec\n",
      "  HOMO = -0.6021876157499  LUMO = 0.183885749619225\n",
      "  mo_energy =\n",
      "[-15.66733396 -15.66383276  -1.46203446  -0.76687035  -0.62003582\n",
      "  -0.60218762  -0.60218762   0.18388575   0.18388575   0.59841947\n",
      "   0.82276363   0.87624947   0.87624947   0.99761718   1.05769551\n",
      "   1.05769551   1.15847597   1.65331644   1.76355316   1.76355316\n",
      "   1.89371415   1.89371415   2.3081887    2.3081887    2.88594378\n",
      "   3.00722326   3.00722326   3.30167845]\n",
      "E1 = -194.3572270931154  E_coul = 61.700639700792976\n",
      "cycle= 2 E= -108.954567654565  delta_E= -0.000476  |g|= 0.0109  |ddm|= 0.0399\n",
      "    CPU time for cycle= 2      0.19 sec, wall time      0.03 sec\n",
      "  HOMO = -0.610108111507023  LUMO = 0.17734502887011\n",
      "  mo_energy =\n",
      "[-15.68606357 -15.68258478  -1.47425647  -0.77299451  -0.62696027\n",
      "  -0.61010811  -0.61010811   0.17734503   0.17734503   0.5957896\n",
      "   0.81847902   0.87086519   0.87086519   0.99257803   1.05162227\n",
      "   1.05162227   1.14972706   1.64695153   1.75585578   1.75585578\n",
      "   1.88551319   1.88551319   2.30120959   2.30120959   2.87830662\n",
      "   3.00032728   3.00032728   3.29186214]\n",
      "E1 = -194.39432098893582  E_coul = 61.737708214589155\n",
      "cycle= 3 E= -108.954593036589  delta_E= -2.54e-05  |g|= 0.00124  |ddm|= 0.00969\n",
      "    CPU time for cycle= 3      0.08 sec, wall time      0.01 sec\n",
      "  HOMO = -0.609711027249567  LUMO = 0.177656724636723\n",
      "  mo_energy =\n",
      "[-15.68514965 -15.6816714   -1.47389756  -0.77284516  -0.62650832\n",
      "  -0.60971103  -0.60971103   0.17765672   0.17765672   0.59582048\n",
      "   0.81873182   0.87117427   0.87117427   0.99272003   1.05192748\n",
      "   1.05192748   1.1501519    1.64710767   1.75621088   1.75621088\n",
      "   1.88588758   1.88588758   2.30156152   2.30156152   2.87866437\n",
      "   3.00067949   3.00067949   3.29231715]\n",
      "E1 = -194.3932329614691  E_coul = 61.736619642711\n",
      "cycle= 4 E= -108.954593581001  delta_E= -5.44e-07  |g|= 8.15e-05  |ddm|= 0.00178\n",
      "    CPU time for cycle= 4      0.17 sec, wall time      0.02 sec\n",
      "  HOMO = -0.609738687278659  LUMO = 0.177621606267438\n",
      "  mo_energy =\n",
      "[-15.68527267 -15.68179458  -1.47394223  -0.77289721  -0.62654838\n",
      "  -0.60973869  -0.60973869   0.17762161   0.17762161   0.5957908\n",
      "   0.81871269   0.87115542   0.87115542   0.99268467   1.05189477\n",
      "   1.05189477   1.15010182   1.64707773   1.75618512   1.75618512\n",
      "   1.88584488   1.88584488   2.30153194   2.30153194   2.87861987\n",
      "   3.00063661   3.00063661   3.29225698]\n",
      "E1 = -194.393441615207  E_coul = 61.73682829438987\n",
      "cycle= 5 E= -108.95459358306  delta_E= -2.06e-09  |g|= 7.49e-06  |ddm|= 0.000278\n",
      "    CPU time for cycle= 5      0.17 sec, wall time      0.01 sec\n",
      "  HOMO = -0.609734886769688  LUMO = 0.177624729868166\n",
      "  mo_energy =\n",
      "[-15.68526358 -15.68178542  -1.4739383   -0.77289425  -0.62654466\n",
      "  -0.60973489  -0.60973489   0.17762473   0.17762473   0.5957918\n",
      "   0.81871482   0.87115825   0.87115825   0.99268722   1.05189798\n",
      "   1.05189798   1.15010595   1.64708047   1.75618869   1.75618869\n",
      "   1.8858488    1.8858488    2.30153555   2.30153555   2.87862356\n",
      "   3.00064027   3.00064027   3.29226113]\n",
      "E1 = -194.39343419298876  E_coul = 61.7368208721536\n",
      "cycle= 6 E= -108.954593583078  delta_E= -1.8e-11  |g|= 1.18e-06  |ddm|= 5.06e-05\n",
      "    CPU time for cycle= 6      0.17 sec, wall time      0.01 sec\n",
      "  HOMO = -0.609734814861994  LUMO = 0.177624698888387\n",
      "  mo_energy =\n",
      "[-15.68526368 -15.68178553  -1.47393827  -0.77289431  -0.6265448\n",
      "  -0.60973481  -0.60973481   0.1776247    0.1776247    0.59579174\n",
      "   0.81871476   0.87115832   0.87115832   0.99268722   1.051898\n",
      "   1.051898     1.15010588   1.64708052   1.75618874   1.75618874\n",
      "   1.8858488    1.8858488    2.30153557   2.30153557   2.87862352\n",
      "   3.00064023   3.00064023   3.29226102]\n",
      "E1 = -194.39343469205153  E_coul = 61.73682137121605\n",
      "Extra cycle  E= -108.954593583078  delta_E= -3.13e-13  |g|= 3.24e-07  |ddm|= 5.5e-06\n",
      "    CPU time for scf_cycle      2.16 sec, wall time      0.24 sec\n",
      "    CPU time for SCF      2.17 sec, wall time      0.25 sec\n",
      "converged SCF energy = -108.954593583078\n",
      "\n",
      "\n",
      "******** <class 'pyscf.grad.rhf.as_scanner.<locals>.SCF_GradScanner'> for <class 'pyscf.scf.hf.as_scanner.<locals>.SCF_Scanner'> ********\n",
      "unit = Eh/Bohr\n",
      "max_memory 4000 MB (current use 137 MB)\n",
      "Computing Gradients of NR-HF Coulomb repulsion\n",
      "    CPU time for vj and vk      0.17 sec, wall time      0.12 sec\n",
      "    CPU time for gradients of 2e part      0.17 sec, wall time      0.12 sec\n",
      "gradients of electronic part\n",
      "         x                y                z\n",
      "0 N    -0.0000000000     0.0000000000   -11.5250966333\n",
      "1 N     0.0000000000    -0.0000000000    11.5250966333\n",
      "    CPU time for SCF gradients      0.50 sec, wall time      0.13 sec\n",
      "--------------- SCF_Scanner gradients ---------------\n",
      "         x                y                z\n",
      "0 N    -0.0000000000     0.0000000000    -0.0600815385\n",
      "1 N     0.0000000000    -0.0000000000     0.0600815385\n",
      "----------------------------------------------\n",
      "cycle 3: E = -108.954593583  dE = -0.00411529  norm(grad) = 0.0849681\n",
      "3 Energy: -108.954593583\n"
     ]
    },
    {
     "name": "stderr",
     "output_type": "stream",
     "text": [
      "3 Energy: -108.954593583"
     ]
    },
    {
     "name": "stdout",
     "output_type": "stream",
     "text": [
      "3 Hessian update information:\n"
     ]
    },
    {
     "name": "stderr",
     "output_type": "stream",
     "text": [
      "3 Hessian update information:"
     ]
    },
    {
     "name": "stdout",
     "output_type": "stream",
     "text": [
      "3 * Change: RMS: 0.603, max: 0.603\n"
     ]
    },
    {
     "name": "stderr",
     "output_type": "stream",
     "text": [
      "3 * Change: RMS: 0.603, max: 0.603"
     ]
    },
    {
     "name": "stdout",
     "output_type": "stream",
     "text": [
      "3 Trust update: Fletcher's parameter: 5.57\n"
     ]
    },
    {
     "name": "stderr",
     "output_type": "stream",
     "text": [
      "3 Trust update: Fletcher's parameter: 5.57"
     ]
    },
    {
     "name": "stdout",
     "output_type": "stream",
     "text": [
      "3 Linear interpolation:\n"
     ]
    },
    {
     "name": "stderr",
     "output_type": "stream",
     "text": [
      "3 Linear interpolation:"
     ]
    },
    {
     "name": "stdout",
     "output_type": "stream",
     "text": [
      "3 * Energies: -108.95459, -108.95048\n"
     ]
    },
    {
     "name": "stderr",
     "output_type": "stream",
     "text": [
      "3 * Energies: -108.95459, -108.95048"
     ]
    },
    {
     "name": "stdout",
     "output_type": "stream",
     "text": [
      "3 * Derivatives: -0.00599, 0.0155\n"
     ]
    },
    {
     "name": "stderr",
     "output_type": "stream",
     "text": [
      "3 * Derivatives: -0.00599, 0.0155"
     ]
    },
    {
     "name": "stdout",
     "output_type": "stream",
     "text": [
      "3 * Quartic interpolation was performed: t = 0.317\n"
     ]
    },
    {
     "name": "stderr",
     "output_type": "stream",
     "text": [
      "3 * Quartic interpolation was performed: t = 0.317"
     ]
    },
    {
     "name": "stdout",
     "output_type": "stream",
     "text": [
      "3 * Interpolated energy: -108.95556\n"
     ]
    },
    {
     "name": "stderr",
     "output_type": "stream",
     "text": [
      "3 * Interpolated energy: -108.95556"
     ]
    },
    {
     "name": "stdout",
     "output_type": "stream",
     "text": [
      "3 Pure RFO step was performed:\n"
     ]
    },
    {
     "name": "stderr",
     "output_type": "stream",
     "text": [
      "3 Pure RFO step was performed:"
     ]
    },
    {
     "name": "stdout",
     "output_type": "stream",
     "text": [
      "3 * Trust radius: 0.3\n"
     ]
    },
    {
     "name": "stderr",
     "output_type": "stream",
     "text": [
      "3 * Trust radius: 0.3"
     ]
    },
    {
     "name": "stdout",
     "output_type": "stream",
     "text": [
      "3 * Number of negative eigenvalues: 0\n"
     ]
    },
    {
     "name": "stderr",
     "output_type": "stream",
     "text": [
      "3 * Number of negative eigenvalues: 0"
     ]
    },
    {
     "name": "stdout",
     "output_type": "stream",
     "text": [
      "3 * Lowest eigenvalue: 2.16\n"
     ]
    },
    {
     "name": "stderr",
     "output_type": "stream",
     "text": [
      "3 * Lowest eigenvalue: 2.16"
     ]
    },
    {
     "name": "stdout",
     "output_type": "stream",
     "text": [
      "3 * lambda: -3.07e-05\n"
     ]
    },
    {
     "name": "stderr",
     "output_type": "stream",
     "text": [
      "3 * lambda: -3.07e-05"
     ]
    },
    {
     "name": "stdout",
     "output_type": "stream",
     "text": [
      "3 Quadratic step: RMS: 0.00377, max: 0.00377\n"
     ]
    },
    {
     "name": "stderr",
     "output_type": "stream",
     "text": [
      "3 Quadratic step: RMS: 0.00377, max: 0.00377"
     ]
    },
    {
     "name": "stdout",
     "output_type": "stream",
     "text": [
      "3 * Predicted energy change: -1.53e-05\n"
     ]
    },
    {
     "name": "stderr",
     "output_type": "stream",
     "text": [
      "3 * Predicted energy change: -1.53e-05"
     ]
    },
    {
     "name": "stdout",
     "output_type": "stream",
     "text": [
      "3 Total step: RMS: 0.0278, max: 0.0278\n"
     ]
    },
    {
     "name": "stderr",
     "output_type": "stream",
     "text": [
      "3 Total step: RMS: 0.0278, max: 0.0278"
     ]
    },
    {
     "name": "stdout",
     "output_type": "stream",
     "text": [
      "3 Perfect transformation to cartesians in 2 iterations\n"
     ]
    },
    {
     "name": "stderr",
     "output_type": "stream",
     "text": [
      "3 Perfect transformation to cartesians in 2 iterations"
     ]
    },
    {
     "name": "stdout",
     "output_type": "stream",
     "text": [
      "3 * RMS(dcart): 1.03e-16, RMS(dq): 8.88e-16\n"
     ]
    },
    {
     "name": "stderr",
     "output_type": "stream",
     "text": [
      "3 * RMS(dcart): 1.03e-16, RMS(dq): 8.88e-16"
     ]
    },
    {
     "name": "stdout",
     "output_type": "stream",
     "text": [
      "3 Convergence criteria:\n"
     ]
    },
    {
     "name": "stderr",
     "output_type": "stream",
     "text": [
      "3 Convergence criteria:"
     ]
    },
    {
     "name": "stdout",
     "output_type": "stream",
     "text": [
      "3 * Gradient RMS: 0.0601 > 0.00015 => no\n"
     ]
    },
    {
     "name": "stderr",
     "output_type": "stream",
     "text": [
      "3 * Gradient RMS: 0.0601 > 0.00015 => no"
     ]
    },
    {
     "name": "stdout",
     "output_type": "stream",
     "text": [
      "3 * Gradient maximum: 0.0601 > 0.00045 => no\n"
     ]
    },
    {
     "name": "stderr",
     "output_type": "stream",
     "text": [
      "3 * Gradient maximum: 0.0601 > 0.00045 => no"
     ]
    },
    {
     "name": "stdout",
     "output_type": "stream",
     "text": [
      "3 * Step RMS: 0.0278 > 0.0012 => no\n"
     ]
    },
    {
     "name": "stderr",
     "output_type": "stream",
     "text": [
      "3 * Step RMS: 0.0278 > 0.0012 => no"
     ]
    },
    {
     "name": "stdout",
     "output_type": "stream",
     "text": [
      "3 * Step maximum: 0.0278 > 0.0018 => no\n"
     ]
    },
    {
     "name": "stderr",
     "output_type": "stream",
     "text": [
      "3 * Step maximum: 0.0278 > 0.0018 => no"
     ]
    },
    {
     "name": "stdout",
     "output_type": "stream",
     "text": [
      "    CPU time for geomoetry optimization cycle 2      2.69 sec, wall time      0.42 sec\n",
      "\n",
      "Geometry optimization cycle 4\n",
      "Cartesian coordinates (Angstrom)\n",
      " Atom        New coordinates             dX        dY        dZ\n",
      "   N   0.000000   0.000000   0.060361    0.000000  0.000000  0.007354\n",
      "   N   0.000000   0.000000   1.139639    0.000000  0.000000 -0.007354\n",
      "New geometry\n",
      "   1 N      0.000000000000   0.000000000000   0.060361237645 AA    0.000000000000   0.000000000000   0.114066207688 Bohr\n",
      "\n",
      "   2 N      0.000000000000   0.000000000000   1.139638762355 AA    0.000000000000   0.000000000000   2.153605141790 Bohr\n",
      "\n",
      "\n",
      "WARN: Large deviations found between the input molecule and the molecule from chkfile\n",
      "Initial guess density matrix may have large error.\n",
      "\n",
      "\n",
      "\n",
      "******** <class 'pyscf.scf.hf.as_scanner.<locals>.SCF_Scanner'> ********\n",
      "method = SCF_Scanner-RHF\n",
      "initial guess = minao\n",
      "damping factor = 0\n",
      "level_shift factor = 0\n",
      "DIIS = <class 'pyscf.scf.diis.CDIIS'>\n",
      "diis_start_cycle = 1\n",
      "diis_space = 8\n",
      "SCF conv_tol = 1e-09\n",
      "SCF conv_tol_grad = None\n",
      "SCF max_cycles = 50\n",
      "direct_scf = True\n",
      "direct_scf_tol = 1e-13\n",
      "chkfile to save SCF result = /home/emejia/Documents/QC_Notebook/tmplmsnzr6g\n",
      "max_memory 4000 MB (current use 137 MB)\n",
      "Set gradient conv threshold to 3.16228e-05\n",
      "E1 = -195.1954664925843  E_coul = 62.18844099659498\n",
      "init E= -108.981987689299\n",
      "cond(S) = 545.0751036990198\n",
      "    CPU time for initialize scf      0.19 sec, wall time      0.03 sec\n",
      "  HOMO = -0.60689425853072  LUMO = 0.195767755339204\n",
      "  mo_energy =\n",
      "[-15.66921772 -15.6652089   -1.47544512  -0.75671114  -0.61572629\n",
      "  -0.60689426  -0.60689426   0.19576776   0.19576776   0.60762835\n",
      "   0.82320014   0.87768687   0.87768687   1.00401224   1.06542677\n",
      "   1.06542677   1.18404771   1.67339153   1.76356382   1.76356382\n",
      "   1.91303006   1.91303006   2.32367371   2.32367371   2.90537077\n",
      "   3.02819819   3.02819819   3.33929065]\n",
      "E1 = -194.9777137288301  E_coul = 61.997170641447084\n",
      "cycle= 1 E= -108.955505280693  delta_E= 0.0265  |g|= 0.0127  |ddm|= 0.0229\n",
      "    CPU time for cycle= 1      0.16 sec, wall time      0.02 sec\n",
      "  HOMO = -0.618262859861849  LUMO = 0.183777218013217\n",
      "  mo_energy =\n",
      "[-15.6856782  -15.68188248  -1.48824139  -0.76976648  -0.62961509\n",
      "  -0.61826286  -0.61826286   0.18377722   0.18377722   0.5994036\n",
      "   0.81216794   0.8654064    0.8654064    0.99313169   1.05376206\n",
      "   1.05376206   1.17070912   1.66121704   1.74936615   1.74936615\n",
      "   1.89908397   1.89908397   2.30992783   2.30992783   2.89215445\n",
      "   3.01538135   3.01538135   3.32535409]\n",
      "E1 = -195.03077967851203  E_coul = 62.050199129448146\n",
      "cycle= 2 E= -108.955542742374  delta_E= -3.75e-05  |g|= 0.00306  |ddm|= 0.0113\n",
      "    CPU time for cycle= 2      0.41 sec, wall time      0.08 sec\n",
      "  HOMO = -0.616014003535136  LUMO = 0.18562098629588\n",
      "  mo_energy =\n",
      "[-15.68038259 -15.67658046  -1.48476644  -0.76804261  -0.62766505\n",
      "  -0.616014    -0.616014     0.18562099   0.18562099   0.60010615\n",
      "   0.81337095   0.86692411   0.86692411   0.99454908   1.05548164\n",
      "   1.05548164   1.1731543    1.6630408    1.75154813   1.75154813\n",
      "   1.90139983   1.90139983   2.31189885   2.31189885   2.89428422\n",
      "   3.01732331   3.01732331   3.32818048]\n",
      "E1 = -195.02029267353032  E_coul = 62.03971011897188\n",
      "cycle= 3 E= -108.955544747868  delta_E= -2.01e-06  |g|= 0.000333  |ddm|= 0.00275\n",
      "    CPU time for cycle= 3      0.22 sec, wall time      0.03 sec\n",
      "  HOMO = -0.6161210931104  LUMO = 0.185537808862831\n",
      "  mo_energy =\n",
      "[-15.68062867 -15.67682641  -1.48486405  -0.76808409  -0.62778676\n",
      "  -0.61612109  -0.61612109   0.18553781   0.18553781   0.60009787\n",
      "   0.81330479   0.86684369   0.86684369   0.99451123   1.05540001\n",
      "   1.05540001   1.17304073   1.66299827   1.75145388   1.75145388\n",
      "   1.90129999   1.90129999   2.3118051    2.3118051    2.89418873\n",
      "   3.01722833   3.01722833   3.32805604]\n",
      "E1 = -195.02057689109114  E_coul = 62.039994297593246\n",
      "cycle= 4 E= -108.955544786808  delta_E= -3.89e-08  |g|= 2.17e-05  |ddm|= 0.000487\n",
      "    CPU time for cycle= 4      0.19 sec, wall time      0.01 sec\n",
      "  HOMO = -0.616113184816698  LUMO = 0.185547230714408\n",
      "  mo_energy =\n",
      "[-15.68059511 -15.67679279  -1.48485152  -0.7680699   -0.62777555\n",
      "  -0.61611318  -0.61611318   0.18554723   0.18554723   0.60010566\n",
      "   0.8133096    0.8668484    0.8668484    0.99452071   1.05540883\n",
      "   1.05540883   1.17305419   1.66300654   1.75146086   1.75146086\n",
      "   1.90131158   1.90131158   2.31181304   2.31181304   2.89420061\n",
      "   3.01723991   3.01723991   3.32807255]\n",
      "E1 = -195.02052185798408  E_coul = 62.039939264337214\n",
      "cycle= 5 E= -108.955544786957  delta_E= -1.49e-10  |g|= 1.99e-06  |ddm|= 7.63e-05\n",
      "    CPU time for cycle= 5      0.17 sec, wall time      0.01 sec\n",
      "  HOMO = -0.616114265035768  LUMO = 0.185546322229566\n",
      "  mo_energy =\n",
      "[-15.6805977  -15.6767954   -1.4848527   -0.76807076  -0.62777658\n",
      "  -0.61611427  -0.61611427   0.18554632   0.18554632   0.60010536\n",
      "   0.813309     0.86684762   0.86684762   0.99451999   1.05540792\n",
      "   1.05540792   1.17305304   1.66300574   1.75145986   1.75145986\n",
      "   1.90131045   1.90131045   2.31181202   2.31181202   2.89419955\n",
      "   3.01723886   3.01723886   3.32807133]\n",
      "E1 = -195.02052424486615  E_coul = 62.03994165121812\n",
      "Extra cycle  E= -108.955544786958  delta_E= -1.17e-12  |g|= 4.24e-07  |ddm|= 1.3e-05\n",
      "    CPU time for scf_cycle      1.48 sec, wall time      0.19 sec\n",
      "    CPU time for SCF      1.48 sec, wall time      0.20 sec\n",
      "converged SCF energy = -108.955544786958\n",
      "\n",
      "\n",
      "******** <class 'pyscf.grad.rhf.as_scanner.<locals>.SCF_GradScanner'> for <class 'pyscf.scf.hf.as_scanner.<locals>.SCF_Scanner'> ********\n",
      "unit = Eh/Bohr\n",
      "max_memory 4000 MB (current use 137 MB)\n",
      "Computing Gradients of NR-HF Coulomb repulsion\n",
      "    CPU time for vj and vk      0.28 sec, wall time      0.10 sec\n",
      "    CPU time for gradients of 2e part      0.28 sec, wall time      0.11 sec\n",
      "gradients of electronic part\n",
      "         x                y                z\n",
      "0 N    -0.0000000000     0.0000000000   -11.7871211258\n",
      "1 N     0.0000000000    -0.0000000000    11.7871211258\n",
      "    CPU time for SCF gradients      0.41 sec, wall time      0.12 sec\n",
      "--------------- SCF_Scanner gradients ---------------\n",
      "         x                y                z\n",
      "0 N    -0.0000000000     0.0000000000    -0.0074794603\n",
      "1 N     0.0000000000    -0.0000000000     0.0074794603\n",
      "----------------------------------------------\n",
      "cycle 4: E = -108.955544787  dE = -0.000951204  norm(grad) = 0.0105776\n",
      "4 Energy: -108.955544787\n"
     ]
    },
    {
     "name": "stderr",
     "output_type": "stream",
     "text": [
      "4 Energy: -108.955544787"
     ]
    },
    {
     "name": "stdout",
     "output_type": "stream",
     "text": [
      "4 Hessian update information:\n"
     ]
    },
    {
     "name": "stderr",
     "output_type": "stream",
     "text": [
      "4 Hessian update information:"
     ]
    },
    {
     "name": "stdout",
     "output_type": "stream",
     "text": [
      "4 * Change: RMS: 0.269, max: 0.269\n"
     ]
    },
    {
     "name": "stderr",
     "output_type": "stream",
     "text": [
      "4 * Change: RMS: 0.269, max: 0.269"
     ]
    },
    {
     "name": "stdout",
     "output_type": "stream",
     "text": [
      "4 Trust update: Fletcher's parameter: 62.0\n"
     ]
    },
    {
     "name": "stderr",
     "output_type": "stream",
     "text": [
      "4 Trust update: Fletcher's parameter: 62.0"
     ]
    },
    {
     "name": "stdout",
     "output_type": "stream",
     "text": [
      "4 Linear interpolation:\n"
     ]
    },
    {
     "name": "stderr",
     "output_type": "stream",
     "text": [
      "4 Linear interpolation:"
     ]
    },
    {
     "name": "stdout",
     "output_type": "stream",
     "text": [
      "4 * Energies: -108.95554, -108.95459\n"
     ]
    },
    {
     "name": "stderr",
     "output_type": "stream",
     "text": [
      "4 * Energies: -108.95554, -108.95459"
     ]
    },
    {
     "name": "stdout",
     "output_type": "stream",
     "text": [
      "4 * Derivatives: 0.000208, 0.00167\n"
     ]
    },
    {
     "name": "stderr",
     "output_type": "stream",
     "text": [
      "4 * Derivatives: 0.000208, 0.00167"
     ]
    },
    {
     "name": "stdout",
     "output_type": "stream",
     "text": [
      "4 * Quartic interpolation was performed: t = -0.134\n"
     ]
    },
    {
     "name": "stderr",
     "output_type": "stream",
     "text": [
      "4 * Quartic interpolation was performed: t = -0.134"
     ]
    },
    {
     "name": "stdout",
     "output_type": "stream",
     "text": [
      "4 * Interpolated energy: -108.95556\n"
     ]
    },
    {
     "name": "stderr",
     "output_type": "stream",
     "text": [
      "4 * Interpolated energy: -108.95556"
     ]
    },
    {
     "name": "stdout",
     "output_type": "stream",
     "text": [
      "4 Pure RFO step was performed:\n"
     ]
    },
    {
     "name": "stderr",
     "output_type": "stream",
     "text": [
      "4 Pure RFO step was performed:"
     ]
    },
    {
     "name": "stdout",
     "output_type": "stream",
     "text": [
      "4 * Trust radius: 0.3\n"
     ]
    },
    {
     "name": "stderr",
     "output_type": "stream",
     "text": [
      "4 * Trust radius: 0.3"
     ]
    },
    {
     "name": "stdout",
     "output_type": "stream",
     "text": [
      "4 * Number of negative eigenvalues: 0\n"
     ]
    },
    {
     "name": "stderr",
     "output_type": "stream",
     "text": [
      "4 * Number of negative eigenvalues: 0"
     ]
    },
    {
     "name": "stdout",
     "output_type": "stream",
     "text": [
      "4 * Lowest eigenvalue: 1.89\n"
     ]
    },
    {
     "name": "stderr",
     "output_type": "stream",
     "text": [
      "4 * Lowest eigenvalue: 1.89"
     ]
    },
    {
     "name": "stdout",
     "output_type": "stream",
     "text": [
      "4 * lambda: -8.79e-08\n"
     ]
    },
    {
     "name": "stderr",
     "output_type": "stream",
     "text": [
      "4 * lambda: -8.79e-08"
     ]
    },
    {
     "name": "stdout",
     "output_type": "stream",
     "text": [
      "4 Quadratic step: RMS: 0.000216, max: 0.000216\n"
     ]
    },
    {
     "name": "stderr",
     "output_type": "stream",
     "text": [
      "4 Quadratic step: RMS: 0.000216, max: 0.000216"
     ]
    },
    {
     "name": "stdout",
     "output_type": "stream",
     "text": [
      "4 * Predicted energy change: -4.4e-08\n"
     ]
    },
    {
     "name": "stderr",
     "output_type": "stream",
     "text": [
      "4 * Predicted energy change: -4.4e-08"
     ]
    },
    {
     "name": "stdout",
     "output_type": "stream",
     "text": [
      "4 Total step: RMS: 0.00395, max: 0.00395\n"
     ]
    },
    {
     "name": "stderr",
     "output_type": "stream",
     "text": [
      "4 Total step: RMS: 0.00395, max: 0.00395"
     ]
    },
    {
     "name": "stdout",
     "output_type": "stream",
     "text": [
      "4 Perfect transformation to cartesians in 2 iterations\n"
     ]
    },
    {
     "name": "stderr",
     "output_type": "stream",
     "text": [
      "4 Perfect transformation to cartesians in 2 iterations"
     ]
    },
    {
     "name": "stdout",
     "output_type": "stream",
     "text": [
      "4 * RMS(dcart): 0.0, RMS(dq): 0.0\n"
     ]
    },
    {
     "name": "stderr",
     "output_type": "stream",
     "text": [
      "4 * RMS(dcart): 0.0, RMS(dq): 0.0"
     ]
    },
    {
     "name": "stdout",
     "output_type": "stream",
     "text": [
      "4 Convergence criteria:\n"
     ]
    },
    {
     "name": "stderr",
     "output_type": "stream",
     "text": [
      "4 Convergence criteria:"
     ]
    },
    {
     "name": "stdout",
     "output_type": "stream",
     "text": [
      "4 * Gradient RMS: 0.00748 > 0.00015 => no\n"
     ]
    },
    {
     "name": "stderr",
     "output_type": "stream",
     "text": [
      "4 * Gradient RMS: 0.00748 > 0.00015 => no"
     ]
    },
    {
     "name": "stdout",
     "output_type": "stream",
     "text": [
      "4 * Gradient maximum: 0.00748 > 0.00045 => no\n"
     ]
    },
    {
     "name": "stderr",
     "output_type": "stream",
     "text": [
      "4 * Gradient maximum: 0.00748 > 0.00045 => no"
     ]
    },
    {
     "name": "stdout",
     "output_type": "stream",
     "text": [
      "4 * Step RMS: 0.00395 > 0.0012 => no\n"
     ]
    },
    {
     "name": "stderr",
     "output_type": "stream",
     "text": [
      "4 * Step RMS: 0.00395 > 0.0012 => no"
     ]
    },
    {
     "name": "stdout",
     "output_type": "stream",
     "text": [
      "4 * Step maximum: 0.00395 > 0.0018 => no\n"
     ]
    },
    {
     "name": "stderr",
     "output_type": "stream",
     "text": [
      "4 * Step maximum: 0.00395 > 0.0018 => no"
     ]
    },
    {
     "name": "stdout",
     "output_type": "stream",
     "text": [
      "    CPU time for geomoetry optimization cycle 3      2.08 sec, wall time      0.37 sec\n",
      "\n",
      "Geometry optimization cycle 5\n",
      "Cartesian coordinates (Angstrom)\n",
      " Atom        New coordinates             dX        dY        dZ\n",
      "   N   0.000000   0.000000   0.061407    0.000000  0.000000  0.001046\n",
      "   N   0.000000   0.000000   1.138593    0.000000  0.000000 -0.001046\n",
      "New geometry\n",
      "   1 N      0.000000000000   0.000000000000   0.061406949314 AA    0.000000000000   0.000000000000   0.116042316348 Bohr\n",
      "\n",
      "   2 N      0.000000000000   0.000000000000   1.138593050686 AA    0.000000000000   0.000000000000   2.151629033130 Bohr\n",
      "\n",
      "\n",
      "\n",
      "******** <class 'pyscf.scf.hf.as_scanner.<locals>.SCF_Scanner'> ********\n",
      "method = SCF_Scanner-RHF\n",
      "initial guess = minao\n",
      "damping factor = 0\n",
      "level_shift factor = 0\n",
      "DIIS = <class 'pyscf.scf.diis.CDIIS'>\n",
      "diis_start_cycle = 1\n",
      "diis_space = 8\n",
      "SCF conv_tol = 1e-09\n",
      "SCF conv_tol_grad = None\n",
      "SCF max_cycles = 50\n",
      "direct_scf = True\n",
      "direct_scf_tol = 1e-13\n",
      "chkfile to save SCF result = /home/emejia/Documents/QC_Notebook/tmplmsnzr6g\n",
      "max_memory 4000 MB (current use 137 MB)\n",
      "Set gradient conv threshold to 3.16228e-05\n",
      "E1 = -195.13566411185337  E_coul = 62.10468093374574\n",
      "init E= -108.95929927683\n",
      "cond(S) = 549.8085076425616\n",
      "    CPU time for initialize scf      0.28 sec, wall time      0.02 sec\n",
      "  HOMO = -0.615724875330918  LUMO = 0.188140247773585\n",
      "  mo_energy =\n",
      "[-15.67832295 -15.67444126  -1.48506817  -0.76576698  -0.62623228\n",
      "  -0.61572488  -0.61572488   0.18814025   0.18814025   0.60175495\n",
      "   0.81395673   0.86776481   0.86776481   0.99614058   1.05734737\n",
      "   1.05734737   1.17790971   1.66682874   1.75251952   1.75251952\n",
      "   1.90522373   1.90522373   2.3149804    2.3149804    2.89789113\n",
      "   3.02116408   3.02116408   3.33506804]\n",
      "E1 = -195.10478144572417  E_coul = 62.077539597661\n",
      "cycle= 1 E= -108.955557946785  delta_E= 0.00374  |g|= 0.0018  |ddm|= 0.00325\n",
      "    CPU time for cycle= 1      0.27 sec, wall time      0.02 sec\n",
      "  HOMO = -0.617339620087998  LUMO = 0.186434635850873\n",
      "  mo_energy =\n",
      "[-15.68065257 -15.67680173  -1.48688976  -0.76762041  -0.62820788\n",
      "  -0.61733962  -0.61733962   0.18643464   0.18643464   0.6005839\n",
      "   0.81238583   0.8660175    0.8660175    0.99459253   1.05568754\n",
      "   1.05568754   1.17601399   1.66509523   1.75049926   1.75049926\n",
      "   1.90323979   1.90323979   2.31302366   2.31302366   2.89601161\n",
      "   3.01934012   3.01934012   3.33308568]\n",
      "E1 = -195.1122915556812  E_coul = 62.085048955552175\n",
      "cycle= 2 E= -108.955558698851  delta_E= -7.52e-07  |g|= 0.000434  |ddm|= 0.00161\n",
      "    CPU time for cycle= 2      0.00 sec, wall time      0.01 sec\n",
      "  HOMO = -0.617021071378728  LUMO = 0.18669513035873\n",
      "  mo_energy =\n",
      "[-15.67990274 -15.67605098  -1.4863973   -0.76737629  -0.62793173\n",
      "  -0.61702107  -0.61702107   0.18669513   0.18669513   0.60068246\n",
      "   0.81255557   0.86623189   0.86623189   0.99479338   1.05593121\n",
      "   1.05593121   1.17635927   1.66535445   1.75080817   1.75080817\n",
      "   1.90356749   1.90356749   2.31330252   2.31330252   2.89631247\n",
      "   3.01961489   3.01961489   3.33348713]\n",
      "E1 = -195.11080621661196  E_coul = 62.08356357628166\n",
      "cycle= 3 E= -108.955558739052  delta_E= -4.02e-08  |g|= 4.75e-05  |ddm|= 0.00039\n",
      "    CPU time for cycle= 3      0.14 sec, wall time      0.02 sec\n",
      "  HOMO = -0.617036367535417  LUMO = 0.186683260308539\n",
      "  mo_energy =\n",
      "[-15.67993774 -15.67608596  -1.48641118  -0.76738212  -0.62794894\n",
      "  -0.61703637  -0.61703637   0.18668326   0.18668326   0.60068131\n",
      "   0.81254616   0.86622036   0.86622036   0.99478802   1.05591954\n",
      "   1.05591954   1.17634316   1.66534837   1.75079472   1.75079472\n",
      "   1.90355324   1.90355324   2.31328914   2.31328914   2.89629885\n",
      "   3.01960134   3.01960134   3.33346939]\n",
      "E1 = -195.11084671355337  E_coul = 62.08360407243173\n",
      "cycle= 4 E= -108.955558739844  delta_E= -7.91e-10  |g|= 3.09e-06  |ddm|= 6.93e-05\n",
      "    CPU time for cycle= 4      0.30 sec, wall time      0.02 sec\n",
      "  HOMO = -0.617034982710241  LUMO = 0.186684790183735\n",
      "  mo_energy =\n",
      "[-15.67993246 -15.67608067  -1.48640908  -0.76738002  -0.6279471\n",
      "  -0.61703498  -0.61703498   0.18668479   0.18668479   0.60068243\n",
      "   0.812547     0.86622123   0.86622123   0.99478947   1.05592099\n",
      "   1.05592099   1.17634532   1.66534969   1.75079597   1.75079597\n",
      "   1.90355513   1.90355513   2.3132905    2.3132905    2.89630075\n",
      "   3.01960319   3.01960319   3.33347203]\n",
      "E1 = -195.11083800178312  E_coul = 62.08359536065846\n",
      "Extra cycle  E= -108.955558739847  delta_E= -3.04e-12  |g|= 6.98e-07  |ddm|= 1.03e-05\n",
      "    CPU time for scf_cycle      1.17 sec, wall time      0.10 sec\n",
      "    CPU time for SCF      1.17 sec, wall time      0.11 sec\n",
      "converged SCF energy = -108.955558739847\n",
      "\n",
      "\n",
      "******** <class 'pyscf.grad.rhf.as_scanner.<locals>.SCF_GradScanner'> for <class 'pyscf.scf.hf.as_scanner.<locals>.SCF_Scanner'> ********\n",
      "unit = Eh/Bohr\n",
      "max_memory 4000 MB (current use 137 MB)\n",
      "Computing Gradients of NR-HF Coulomb repulsion\n",
      "    CPU time for vj and vk      0.53 sec, wall time      0.12 sec\n",
      "    CPU time for gradients of 2e part      0.53 sec, wall time      0.12 sec\n",
      "gradients of electronic part\n",
      "         x                y                z\n",
      "0 N     0.0000000000    -0.0000000000   -11.8249905398\n",
      "1 N    -0.0000000000     0.0000000000    11.8249905398\n",
      "    CPU time for SCF gradients      1.28 sec, wall time      0.20 sec\n",
      "--------------- SCF_Scanner gradients ---------------\n",
      "         x                y                z\n",
      "0 N     0.0000000000    -0.0000000000     0.0004373346\n",
      "1 N    -0.0000000000     0.0000000000    -0.0004373346\n",
      "----------------------------------------------\n",
      "cycle 5: E = -108.95555874  dE = -1.39529e-05  norm(grad) = 0.000618484\n",
      "5 Energy: -108.95555874\n"
     ]
    },
    {
     "name": "stderr",
     "output_type": "stream",
     "text": [
      "5 Energy: -108.95555874"
     ]
    },
    {
     "name": "stdout",
     "output_type": "stream",
     "text": [
      "5 Hessian update information:\n"
     ]
    },
    {
     "name": "stderr",
     "output_type": "stream",
     "text": [
      "5 Hessian update information:"
     ]
    },
    {
     "name": "stdout",
     "output_type": "stream",
     "text": [
      "5 * Change: RMS: 0.111, max: 0.111\n"
     ]
    },
    {
     "name": "stderr",
     "output_type": "stream",
     "text": [
      "5 * Change: RMS: 0.111, max: 0.111"
     ]
    },
    {
     "name": "stdout",
     "output_type": "stream",
     "text": [
      "5 Trust update: Fletcher's parameter: 3.17e+02\n"
     ]
    },
    {
     "name": "stderr",
     "output_type": "stream",
     "text": [
      "5 Trust update: Fletcher's parameter: 3.17e+02"
     ]
    },
    {
     "name": "stdout",
     "output_type": "stream",
     "text": [
      "5 Linear interpolation:\n"
     ]
    },
    {
     "name": "stderr",
     "output_type": "stream",
     "text": [
      "5 Linear interpolation:"
     ]
    },
    {
     "name": "stdout",
     "output_type": "stream",
     "text": [
      "5 * Energies: -108.95556, -108.95554\n"
     ]
    },
    {
     "name": "stderr",
     "output_type": "stream",
     "text": [
      "5 * Energies: -108.95556, -108.95554"
     ]
    },
    {
     "name": "stdout",
     "output_type": "stream",
     "text": [
      "5 * Derivatives: -1.73e-06, 2.96e-05\n"
     ]
    },
    {
     "name": "stderr",
     "output_type": "stream",
     "text": [
      "5 * Derivatives: -1.73e-06, 2.96e-05"
     ]
    },
    {
     "name": "stdout",
     "output_type": "stream",
     "text": [
      "5 * Quartic interpolation was performed: t = 0.0549\n"
     ]
    },
    {
     "name": "stderr",
     "output_type": "stream",
     "text": [
      "5 * Quartic interpolation was performed: t = 0.0549"
     ]
    },
    {
     "name": "stdout",
     "output_type": "stream",
     "text": [
      "5 * Interpolated energy: -108.95556\n"
     ]
    },
    {
     "name": "stderr",
     "output_type": "stream",
     "text": [
      "5 * Interpolated energy: -108.95556"
     ]
    },
    {
     "name": "stdout",
     "output_type": "stream",
     "text": [
      "5 Pure RFO step was performed:\n"
     ]
    },
    {
     "name": "stderr",
     "output_type": "stream",
     "text": [
      "5 Pure RFO step was performed:"
     ]
    },
    {
     "name": "stdout",
     "output_type": "stream",
     "text": [
      "5 * Trust radius: 0.3\n"
     ]
    },
    {
     "name": "stderr",
     "output_type": "stream",
     "text": [
      "5 * Trust radius: 0.3"
     ]
    },
    {
     "name": "stdout",
     "output_type": "stream",
     "text": [
      "5 * Number of negative eigenvalues: 0\n"
     ]
    },
    {
     "name": "stderr",
     "output_type": "stream",
     "text": [
      "5 * Number of negative eigenvalues: 0"
     ]
    },
    {
     "name": "stdout",
     "output_type": "stream",
     "text": [
      "5 * Lowest eigenvalue: 2.0\n"
     ]
    },
    {
     "name": "stderr",
     "output_type": "stream",
     "text": [
      "5 * Lowest eigenvalue: 2.0"
     ]
    },
    {
     "name": "stdout",
     "output_type": "stream",
     "text": [
      "5 * lambda: -4.22e-12\n"
     ]
    },
    {
     "name": "stderr",
     "output_type": "stream",
     "text": [
      "5 * lambda: -4.22e-12"
     ]
    },
    {
     "name": "stdout",
     "output_type": "stream",
     "text": [
      "5 Quadratic step: RMS: 1.45e-06, max: 1.45e-06\n"
     ]
    },
    {
     "name": "stderr",
     "output_type": "stream",
     "text": [
      "5 Quadratic step: RMS: 1.45e-06, max: 1.45e-06"
     ]
    },
    {
     "name": "stdout",
     "output_type": "stream",
     "text": [
      "5 * Predicted energy change: -2.11e-12\n"
     ]
    },
    {
     "name": "stderr",
     "output_type": "stream",
     "text": [
      "5 * Predicted energy change: -2.11e-12"
     ]
    },
    {
     "name": "stdout",
     "output_type": "stream",
     "text": [
      "5 Total step: RMS: 0.000218, max: 0.000218\n"
     ]
    },
    {
     "name": "stderr",
     "output_type": "stream",
     "text": [
      "5 Total step: RMS: 0.000218, max: 0.000218"
     ]
    },
    {
     "name": "stdout",
     "output_type": "stream",
     "text": [
      "5 Perfect transformation to cartesians in 2 iterations\n"
     ]
    },
    {
     "name": "stderr",
     "output_type": "stream",
     "text": [
      "5 Perfect transformation to cartesians in 2 iterations"
     ]
    },
    {
     "name": "stdout",
     "output_type": "stream",
     "text": [
      "5 * RMS(dcart): 1.03e-16, RMS(dq): 8.88e-16\n"
     ]
    },
    {
     "name": "stderr",
     "output_type": "stream",
     "text": [
      "5 * RMS(dcart): 1.03e-16, RMS(dq): 8.88e-16"
     ]
    },
    {
     "name": "stdout",
     "output_type": "stream",
     "text": [
      "5 Convergence criteria:\n"
     ]
    },
    {
     "name": "stderr",
     "output_type": "stream",
     "text": [
      "5 Convergence criteria:"
     ]
    },
    {
     "name": "stdout",
     "output_type": "stream",
     "text": [
      "5 * Gradient RMS: 0.000437 > 0.00015 => no\n"
     ]
    },
    {
     "name": "stderr",
     "output_type": "stream",
     "text": [
      "5 * Gradient RMS: 0.000437 > 0.00015 => no"
     ]
    },
    {
     "name": "stdout",
     "output_type": "stream",
     "text": [
      "5 * Gradient maximum: 0.000437 < 0.00045 => OK\n"
     ]
    },
    {
     "name": "stderr",
     "output_type": "stream",
     "text": [
      "5 * Gradient maximum: 0.000437 < 0.00045 => OK"
     ]
    },
    {
     "name": "stdout",
     "output_type": "stream",
     "text": [
      "5 * Step RMS: 0.000218 < 0.0012 => OK\n"
     ]
    },
    {
     "name": "stderr",
     "output_type": "stream",
     "text": [
      "5 * Step RMS: 0.000218 < 0.0012 => OK"
     ]
    },
    {
     "name": "stdout",
     "output_type": "stream",
     "text": [
      "5 * Step maximum: 0.000218 < 0.0018 => OK\n"
     ]
    },
    {
     "name": "stderr",
     "output_type": "stream",
     "text": [
      "5 * Step maximum: 0.000218 < 0.0018 => OK"
     ]
    },
    {
     "name": "stdout",
     "output_type": "stream",
     "text": [
      "    CPU time for geomoetry optimization cycle 4      2.48 sec, wall time      0.34 sec\n",
      "\n",
      "Geometry optimization cycle 6\n",
      "Cartesian coordinates (Angstrom)\n",
      " Atom        New coordinates             dX        dY        dZ\n",
      "   N   0.000000   0.000000   0.061349    0.000000  0.000000 -0.000058\n",
      "   N   0.000000   0.000000   1.138651    0.000000  0.000000  0.000058\n",
      "New geometry\n",
      "   1 N      0.000000000000   0.000000000000   0.061349182772 AA    0.000000000000   0.000000000000   0.115933153405 Bohr\n",
      "\n",
      "   2 N      0.000000000000   0.000000000000   1.138650817228 AA    0.000000000000   0.000000000000   2.151738196073 Bohr\n",
      "\n",
      "\n",
      "\n",
      "******** <class 'pyscf.scf.hf.as_scanner.<locals>.SCF_Scanner'> ********\n",
      "method = SCF_Scanner-RHF\n",
      "initial guess = minao\n",
      "damping factor = 0\n",
      "level_shift factor = 0\n",
      "DIIS = <class 'pyscf.scf.diis.CDIIS'>\n",
      "diis_start_cycle = 1\n",
      "diis_space = 8\n",
      "SCF conv_tol = 1e-09\n",
      "SCF conv_tol_grad = None\n",
      "SCF max_cycles = 50\n",
      "direct_scf = True\n",
      "direct_scf_tol = 1e-13\n",
      "chkfile to save SCF result = /home/emejia/Documents/QC_Notebook/tmplmsnzr6g\n",
      "max_memory 4000 MB (current use 137 MB)\n",
      "Set gradient conv threshold to 3.16228e-05\n",
      "E1 = -195.1044702890353  E_coul = 62.08001549813168\n",
      "init E= -108.955352409781\n",
      "cond(S) = 549.5457297357633\n",
      "    CPU time for initialize scf      0.50 sec, wall time      0.04 sec\n",
      "  HOMO = -0.617056885897059  LUMO = 0.186541021985165\n",
      "  mo_energy =\n",
      "[-15.68005912 -15.67621174  -1.48639776  -0.76750757  -0.62803288\n",
      "  -0.61705689  -0.61705689   0.18654102   0.18654102   0.6005914\n",
      "   0.81251088   0.86617028   0.86617028   0.99469963   1.05581338\n",
      "   1.05581338   1.17607637   1.66513764   1.7507369    1.7507369\n",
      "   1.90333817   1.90333817   2.31311491   2.31311491   2.89609712\n",
      "   3.01938589   3.01938589   3.33308291]\n",
      "E1 = -195.10617718387198  E_coul = 62.08151601787056\n",
      "cycle= 1 E= -108.955558784879  delta_E= -0.000206  |g|= 9.92e-05  |ddm|= 0.000178\n",
      "    CPU time for cycle= 1      0.19 sec, wall time      0.02 sec\n",
      "  HOMO = -0.616967628261931  LUMO = 0.186635320576406\n",
      "  mo_energy =\n",
      "[-15.6799303  -15.67608122  -1.48629699  -0.76740513  -0.62792368\n",
      "  -0.61696763  -0.61696763   0.18663532   0.18663532   0.60065617\n",
      "   0.81259773   0.86626686   0.86626686   0.99478521   1.05590513\n",
      "   1.05590513   1.17618119   1.66523348   1.75084858   1.75084858\n",
      "   1.90344786   1.90344786   2.31322309   2.31322309   2.89620104\n",
      "   3.01948674   3.01948674   3.33319252]\n",
      "E1 = -195.1057621802322  E_coul = 62.08110101193649\n",
      "cycle= 2 E= -108.955558787173  delta_E= -2.29e-09  |g|= 2.4e-05  |ddm|= 8.9e-05\n",
      "    CPU time for cycle= 2      0.19 sec, wall time      0.02 sec\n",
      "  HOMO = -0.616985232489779  LUMO = 0.186620927546103\n",
      "  mo_energy =\n",
      "[-15.67997174 -15.6761227   -1.4863242   -0.76741861  -0.62793894\n",
      "  -0.61698523  -0.61698523   0.18662093   0.18662093   0.60065073\n",
      "   0.81258835   0.86625501   0.86625501   0.99477412   1.05589167\n",
      "   1.05589167   1.17616211   1.66521916   1.75083151   1.75083151\n",
      "   1.90342975   1.90342975   2.31320768   2.31320768   2.89618442\n",
      "   3.01947156   3.01947156   3.33317034]\n",
      "E1 = -195.10584423081434  E_coul = 62.081183062396306\n",
      "cycle= 3 E= -108.955558787295  delta_E= -1.22e-10  |g|= 2.61e-06  |ddm|= 2.15e-05\n",
      "    CPU time for cycle= 3      0.17 sec, wall time      0.01 sec\n",
      "  HOMO = -0.616984404517108  LUMO = 0.186621577815713\n",
      "  mo_energy =\n",
      "[-15.67996983 -15.6761208   -1.48632334  -0.76741823  -0.62793805\n",
      "  -0.6169844   -0.6169844    0.18662158   0.18662158   0.60065083\n",
      "   0.81258884   0.86625562   0.86625562   0.99477445   1.0558923\n",
      "   1.0558923    1.17616299   1.66521956   1.75083225   1.75083225\n",
      "   1.90343054   1.90343054   2.3132084    2.3132084    2.89618516\n",
      "   3.01947229   3.01947229   3.33317132]\n",
      "E1 = -195.10584170044268  E_coul = 62.08118053202207\n",
      "Extra cycle  E= -108.955558787298  delta_E= -2.56e-12  |g|= 6.85e-07  |ddm|= 2.94e-06\n",
      "    CPU time for scf_cycle      1.05 sec, wall time      0.10 sec\n",
      "    CPU time for SCF      1.22 sec, wall time      0.11 sec\n",
      "converged SCF energy = -108.955558787298\n",
      "\n",
      "\n",
      "******** <class 'pyscf.grad.rhf.as_scanner.<locals>.SCF_GradScanner'> for <class 'pyscf.scf.hf.as_scanner.<locals>.SCF_Scanner'> ********\n",
      "unit = Eh/Bohr\n",
      "max_memory 4000 MB (current use 137 MB)\n",
      "Computing Gradients of NR-HF Coulomb repulsion\n",
      "    CPU time for vj and vk      0.27 sec, wall time      0.12 sec\n",
      "    CPU time for gradients of 2e part      0.27 sec, wall time      0.12 sec\n",
      "gradients of electronic part\n",
      "         x                y                z\n",
      "0 N     0.0000000000     0.0000000000   -11.8228947451\n",
      "1 N    -0.0000000000    -0.0000000000    11.8228947451\n",
      "    CPU time for SCF gradients      0.27 sec, wall time      0.13 sec\n",
      "--------------- SCF_Scanner gradients ---------------\n",
      "         x                y                z\n",
      "0 N     0.0000000000     0.0000000000    -0.0000031240\n",
      "1 N    -0.0000000000    -0.0000000000     0.0000031240\n",
      "----------------------------------------------\n",
      "cycle 6: E = -108.955558787  dE = -4.74512e-08  norm(grad) = 4.41806e-06\n",
      "6 Energy: -108.955558787\n"
     ]
    },
    {
     "name": "stderr",
     "output_type": "stream",
     "text": [
      "6 Energy: -108.955558787"
     ]
    },
    {
     "name": "stdout",
     "output_type": "stream",
     "text": [
      "6 Hessian update information:\n"
     ]
    },
    {
     "name": "stderr",
     "output_type": "stream",
     "text": [
      "6 Hessian update information:"
     ]
    },
    {
     "name": "stdout",
     "output_type": "stream",
     "text": [
      "6 * Change: RMS: 0.0143, max: 0.0143\n"
     ]
    },
    {
     "name": "stderr",
     "output_type": "stream",
     "text": [
      "6 * Change: RMS: 0.0143, max: 0.0143"
     ]
    },
    {
     "name": "stdout",
     "output_type": "stream",
     "text": [
      "6 Trust update: Fletcher's parameter: 2.26e+04\n"
     ]
    },
    {
     "name": "stderr",
     "output_type": "stream",
     "text": [
      "6 Trust update: Fletcher's parameter: 2.26e+04"
     ]
    },
    {
     "name": "stdout",
     "output_type": "stream",
     "text": [
      "6 Linear interpolation:\n"
     ]
    },
    {
     "name": "stderr",
     "output_type": "stream",
     "text": [
      "6 Linear interpolation:"
     ]
    },
    {
     "name": "stdout",
     "output_type": "stream",
     "text": [
      "6 * Energies: -108.95556, -108.95556\n"
     ]
    },
    {
     "name": "stderr",
     "output_type": "stream",
     "text": [
      "6 * Energies: -108.95556, -108.95556"
     ]
    },
    {
     "name": "stdout",
     "output_type": "stream",
     "text": [
      "6 * Derivatives: -6.82e-10, 9.55e-08\n"
     ]
    },
    {
     "name": "stderr",
     "output_type": "stream",
     "text": [
      "6 * Derivatives: -6.82e-10, 9.55e-08"
     ]
    },
    {
     "name": "stdout",
     "output_type": "stream",
     "text": [
      "6 * Cubic interpolation was performed: t = 0.00707\n"
     ]
    },
    {
     "name": "stderr",
     "output_type": "stream",
     "text": [
      "6 * Cubic interpolation was performed: t = 0.00707"
     ]
    },
    {
     "name": "stdout",
     "output_type": "stream",
     "text": [
      "6 * Interpolated energy: -108.95556\n"
     ]
    },
    {
     "name": "stderr",
     "output_type": "stream",
     "text": [
      "6 * Interpolated energy: -108.95556"
     ]
    },
    {
     "name": "stdout",
     "output_type": "stream",
     "text": [
      "6 Pure RFO step was performed:\n"
     ]
    },
    {
     "name": "stderr",
     "output_type": "stream",
     "text": [
      "6 Pure RFO step was performed:"
     ]
    },
    {
     "name": "stdout",
     "output_type": "stream",
     "text": [
      "6 * Trust radius: 0.3\n"
     ]
    },
    {
     "name": "stderr",
     "output_type": "stream",
     "text": [
      "6 * Trust radius: 0.3"
     ]
    },
    {
     "name": "stdout",
     "output_type": "stream",
     "text": [
      "6 * Number of negative eigenvalues: 0\n"
     ]
    },
    {
     "name": "stderr",
     "output_type": "stream",
     "text": [
      "6 * Number of negative eigenvalues: 0"
     ]
    },
    {
     "name": "stdout",
     "output_type": "stream",
     "text": [
      "6 * Lowest eigenvalue: 2.02\n"
     ]
    },
    {
     "name": "stderr",
     "output_type": "stream",
     "text": [
      "6 * Lowest eigenvalue: 2.02"
     ]
    },
    {
     "name": "stdout",
     "output_type": "stream",
     "text": [
      "6 * lambda: -4.9e-17\n"
     ]
    },
    {
     "name": "stderr",
     "output_type": "stream",
     "text": [
      "6 * lambda: -4.9e-17"
     ]
    },
    {
     "name": "stdout",
     "output_type": "stream",
     "text": [
      "6 Quadratic step: RMS: 4.93e-09, max: 4.93e-09\n"
     ]
    },
    {
     "name": "stderr",
     "output_type": "stream",
     "text": [
      "6 Quadratic step: RMS: 4.93e-09, max: 4.93e-09"
     ]
    },
    {
     "name": "stdout",
     "output_type": "stream",
     "text": [
      "6 * Predicted energy change: -2.45e-17\n"
     ]
    },
    {
     "name": "stderr",
     "output_type": "stream",
     "text": [
      "6 * Predicted energy change: -2.45e-17"
     ]
    },
    {
     "name": "stdout",
     "output_type": "stream",
     "text": [
      "6 Total step: RMS: 1.55e-06, max: 1.55e-06\n"
     ]
    },
    {
     "name": "stderr",
     "output_type": "stream",
     "text": [
      "6 Total step: RMS: 1.55e-06, max: 1.55e-06"
     ]
    },
    {
     "name": "stdout",
     "output_type": "stream",
     "text": [
      "6 Perfect transformation to cartesians in 1 iterations\n"
     ]
    },
    {
     "name": "stderr",
     "output_type": "stream",
     "text": [
      "6 Perfect transformation to cartesians in 1 iterations"
     ]
    },
    {
     "name": "stdout",
     "output_type": "stream",
     "text": [
      "6 * RMS(dcart): 2.37e-07, RMS(dq): 1.55e-06\n"
     ]
    },
    {
     "name": "stderr",
     "output_type": "stream",
     "text": [
      "6 * RMS(dcart): 2.37e-07, RMS(dq): 1.55e-06"
     ]
    },
    {
     "name": "stdout",
     "output_type": "stream",
     "text": [
      "6 Convergence criteria:\n"
     ]
    },
    {
     "name": "stderr",
     "output_type": "stream",
     "text": [
      "6 Convergence criteria:"
     ]
    },
    {
     "name": "stdout",
     "output_type": "stream",
     "text": [
      "6 * Gradient RMS: 3.12e-06 < 0.00015 => OK\n"
     ]
    },
    {
     "name": "stderr",
     "output_type": "stream",
     "text": [
      "6 * Gradient RMS: 3.12e-06 < 0.00015 => OK"
     ]
    },
    {
     "name": "stdout",
     "output_type": "stream",
     "text": [
      "6 * Gradient maximum: 3.12e-06 < 0.00045 => OK\n"
     ]
    },
    {
     "name": "stderr",
     "output_type": "stream",
     "text": [
      "6 * Gradient maximum: 3.12e-06 < 0.00045 => OK"
     ]
    },
    {
     "name": "stdout",
     "output_type": "stream",
     "text": [
      "6 * Step RMS: 1.55e-06 < 0.0012 => OK\n"
     ]
    },
    {
     "name": "stderr",
     "output_type": "stream",
     "text": [
      "6 * Step RMS: 1.55e-06 < 0.0012 => OK"
     ]
    },
    {
     "name": "stdout",
     "output_type": "stream",
     "text": [
      "6 * Step maximum: 1.55e-06 < 0.0018 => OK\n"
     ]
    },
    {
     "name": "stderr",
     "output_type": "stream",
     "text": [
      "6 * Step maximum: 1.55e-06 < 0.0018 => OK"
     ]
    },
    {
     "name": "stdout",
     "output_type": "stream",
     "text": [
      "6 * All criteria matched\n"
     ]
    },
    {
     "name": "stderr",
     "output_type": "stream",
     "text": [
      "6 * All criteria matched"
     ]
    },
    {
     "name": "stdout",
     "output_type": "stream",
     "text": [
      "    CPU time for geomoetry optimization cycle 5      1.55 sec, wall time      0.27 sec\n",
      "    CPU time for geomoetry optimization     14.56 sec, wall time      2.39 sec\n"
     ]
    }
   ],
   "source": [
    "#from pyscf import gto, scf\n",
    "mol = gto.Mole()\n",
    "mol.verbose = 5\n",
    "#mol.output = 'N2.txt'\n",
    "mol.atom='N 0 0 0; N 0 0 1.2'\n",
    "mol.basis='ccpvdz'\n",
    "mol.build()\n",
    "mf = scf.RHF(mol)\n",
    "mf.kernel()\n",
    "# geometric\n",
    "#from pyscf.geomopt.geometric_solver import optimize\n",
    "#mol_eq = optimize(mf, maxsteps=100)\n",
    "#print(mol_eq.atom_coords())\n",
    "\n",
    "# pyberny\n",
    "from pyscf.geomopt.berny_solver import optimize\n",
    "mol_eq = optimize(mf, maxsteps=100)\n",
    "#lib.chkfile.save_mol(mol_eq, 'N2.chk')\n",
    "#print(mol_eq.atom_coords())"
   ]
  },
  {
   "cell_type": "code",
   "execution_count": 118,
   "id": "b5c595e6-cd55-4a1c-8707-741694893378",
   "metadata": {},
   "outputs": [
    {
     "name": "stdout",
     "output_type": "stream",
     "text": [
      "overwrite output file: out_h2o\n"
     ]
    },
    {
     "data": {
      "text/plain": [
       "-75.25017799679809"
      ]
     },
     "execution_count": 118,
     "metadata": {},
     "output_type": "execute_result"
    }
   ],
   "source": [
    "from pyscf import gto, scf\n",
    "\n",
    "mol = gto.Mole()\n",
    "mol.verbose = 5\n",
    "mol.output = 'out_h2o'\n",
    "mol.atom = '''\n",
    "O 0 0      0\n",
    "H 0 -2.757 2.587\n",
    "H 0  2.757 2.587'''\n",
    "mol.basis = 'ccpvdz'\n",
    "mol.symmetry = 1\n",
    "mol.build()\n",
    "\n",
    "mf = scf.RHF(mol)\n",
    "mf.kernel()"
   ]
  },
  {
   "cell_type": "code",
   "execution_count": null,
   "id": "95d395cf-1c3c-46d5-bff9-64949b53a900",
   "metadata": {},
   "outputs": [],
   "source": []
  }
 ],
 "metadata": {
  "kernelspec": {
   "display_name": "Python 3 (ipykernel)",
   "language": "python",
   "name": "python3"
  },
  "language_info": {
   "codemirror_mode": {
    "name": "ipython",
    "version": 3
   },
   "file_extension": ".py",
   "mimetype": "text/x-python",
   "name": "python",
   "nbconvert_exporter": "python",
   "pygments_lexer": "ipython3",
   "version": "3.8.11"
  }
 },
 "nbformat": 4,
 "nbformat_minor": 5
}
