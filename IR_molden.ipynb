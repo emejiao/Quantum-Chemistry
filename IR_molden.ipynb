{
 "cells": [
  {
   "cell_type": "code",
   "execution_count": null,
   "id": "5db07246-b32c-4c9c-818d-44f1c2fddfb0",
   "metadata": {},
   "outputs": [],
   "source": []
  },
  {
   "cell_type": "code",
   "execution_count": 1,
   "id": "bf403e32-63e7-4498-853b-733c53297cdb",
   "metadata": {},
   "outputs": [],
   "source": [
    "import psi4\n",
    "import numpy as np\n",
    "import matplotlib.pyplot as plt\n",
    "import fortecubeview # Visualizar moléculas\n",
    "import h5py\n",
    "import pandas as pd\n",
    "import CHE525_Vib as vib\n",
    "%matplotlib inline"
   ]
  },
  {
   "cell_type": "code",
   "execution_count": 2,
   "id": "49ec7913-3894-4007-9977-8d5088d3dba8",
   "metadata": {},
   "outputs": [
    {
     "name": "stdout",
     "output_type": "stream",
     "text": [
      "\n",
      "  Memory set to   4.657 GiB by Python driver.\n",
      "Warning: thermodynamics relations excluded imaginary frequencies: ['437.8044i' '380.3775i' '301.5781i' '250.8370i' '214.5473i']\n",
      "Warning: used thermodynamics relations inappropriate for low-frequency modes: ['170.5738' '302.1486' '377.5864']\n"
     ]
    }
   ],
   "source": [
    "import pandas as pd\n",
    "# Especificación del tamño de memoria que se utilizará en el cálculo\n",
    "psi4.set_memory('5000 MB')\n",
    "numpy_memory = 2 # Arreglos NumPy no pueden exceder 2 MB en tamaño\n",
    "\n",
    "# archivo de salida\n",
    "psi4.core.set_output_file('./iso_prop.dat', False)\n",
    "\n",
    "# especificando la base\n",
    "basis = 'cc-pvdz'\n",
    "\n",
    "# Set computation options\n",
    "#psi4.set_options({\"PARALLEL\": True,\n",
    "#                 'reference': 'rhf'})\n",
    "\n",
    "psi4.set_options({'basis': basis,\n",
    "                  'scf_type': 'pk',\n",
    "                  'e_convergence': 1e-8})\n",
    "\n",
    "# ==> Definimos la Molécula con simetría inicial C1 <==\n",
    "mol = psi4.geometry(\"\"\"\n",
    " C        0.98463        0.00823       -0.04617\n",
    "   C        2.43834       -0.21761        0.21335\n",
    "   O        3.01834        0.55204        1.00571\n",
    "   C        3.11922       -1.49787       -0.14575\n",
    "   H        0.71052        0.98704        0.28804\n",
    "   H        0.41005       -0.72318        0.48278\n",
    "   H        0.79209       -0.07739       -1.09522\n",
    "   H        2.66843        0.17259       -0.75603\n",
    "   H        2.85554        0.26108        1.91661\n",
    "   H        3.06636       -2.17424        0.68168\n",
    "   H        4.14442       -1.30259       -0.38185\n",
    "   H        2.63459       -1.93378       -0.99428\n",
    "symmetry c1\"\"\")\n",
    "\n",
    "# Optimizamos la molécula \n",
    "#psi4.energy('scf/cc-pvdz')\n",
    "#psi4.core.clean()  #  Función para remover los scratch\n",
    "scf_e, scf_wfn = psi4.frequency('scf/cc-pvdz', molecule=mol, return_wfn=True)\n",
    "# Determinamos la energía y los modos vibracionales utilizando HF y cc-pvdz como base\n",
    "#scf_e, scf_wfn = psi4.frequency('scf/cc-pvdz', molecule=mol, return_wfn=True)\n"
   ]
  },
  {
   "cell_type": "code",
   "execution_count": 4,
   "id": "c86c177c-71bc-4480-9774-e3eeb2604a3e",
   "metadata": {},
   "outputs": [
    {
     "name": "stdout",
     "output_type": "stream",
     "text": [
      "Optimizer: Optimization complete!\n"
     ]
    }
   ],
   "source": [
    "psi4.optimize('scf/cc-pvdz', molecule=mol)\n",
    "psi4.core.clean()  #  Función para remover los scratch"
   ]
  },
  {
   "cell_type": "code",
   "execution_count": 8,
   "id": "a332d7c7-1fc2-4099-8544-c6a8f691476a",
   "metadata": {},
   "outputs": [
    {
     "name": "stdout",
     "output_type": "stream",
     "text": [
      "Warning: used thermodynamics relations inappropriate for low-frequency modes: ['248.2636' '291.1060' '323.0713' '384.5774' '458.9680' '509.5243']\n",
      "{'-D ENERGY': 0.0, 'CURRENT DIPOLE X': -0.9157448479700219, 'CURRENT DIPOLE Y': -1.317925879956788, 'CURRENT DIPOLE Z': -0.1740912726294754, 'CURRENT ENERGY': -193.1350144336746, 'CURRENT REFERENCE ENERGY': -193.1350144336746, 'ENTHALPY': -193.01416475986696, 'ENTHALPY CORRECTION': 0.12084967380764243, 'GIBBS FREE ENERGY': -193.04748300355575, 'GIBBS FREE ENERGY CORRECTION': 0.08753143011882977, 'HF TOTAL ENERGY': -193.1350144336746, 'NUCLEAR REPULSION ENERGY': 135.23170153468564, 'ONE-ELECTRON ENERGY': -530.0296402654408, 'PCM POLARIZATION ENERGY': 0.0, 'SCF DIPOLE X': -0.9157448479700219, 'SCF DIPOLE Y': -1.317925879956788, 'SCF DIPOLE Z': -0.1740912726294754, 'SCF ITERATION ENERGY': -193.1350144336746, 'SCF ITERATIONS': 11.0, 'SCF TOTAL ENERGY': -193.1350144336746, 'THERMAL ENERGY': -193.015108944415, 'THERMAL ENERGY CORRECTION': 0.11990548925959615, 'TWO-ELECTRON ENERGY': 201.66292429708056, 'ZERO K ENTHALPY': -193.02029794209795, 'ZPVE': 0.11471649157663517, 'CURRENT GRADIENT': <psi4.core.Matrix object at 0x7f13db8adf50>, 'SCF TOTAL GRADIENT': <psi4.core.Matrix object at 0x7f13db8adf50>}\n"
     ]
    }
   ],
   "source": [
    "scf_e, scf_wfn = psi4.frequency('scf/cc-pvdz', molecule=mol, return_wfn=True)\n",
    "print(psi4.core.variables())"
   ]
  },
  {
   "cell_type": "code",
   "execution_count": 32,
   "id": "59a9c0be-94b7-4886-9a2d-62aa3998f385",
   "metadata": {},
   "outputs": [],
   "source": [
    "def wfn2molen_vibrational_modes(wfn):\n",
    "    mol = wfn.molecule()\n",
    "    geom = np.asarray(mol.geometry())\n",
    "    atom_symbol = [mol.symbol(at) for at in range(mol.natom())]\n",
    "    vibinfo = wfn.frequency_analysis\n",
    "    \"\"\"Format vibrational analysis for Molden.\n",
    "    Parameters\n",
    "    ----------\n",
    "    vibinfo : dict of vibration Datum\n",
    "        Holds results of vibrational analysis.\n",
    "    atom_symbol : array-like of str\n",
    "        (nat,) element symbols for geometry of vibrational analysis.\n",
    "    geom : array-like of float\n",
    "        (nat, 3) geometry of vibrational analysis [a0].\n",
    "    standalone : bool, optional\n",
    "        Whether returned string prefixed \"[Molden Format]\" for standalone rather than append.\n",
    "    Returns\n",
    "    -------\n",
    "    str\n",
    "        `vibinfo` formatted for Molden, including FREQ, FR-COORD, & FR-NORM-COORD fields.\n",
    "    Notes\n",
    "    -----\n",
    "    Molden format spec from http://www.cmbi.ru.nl/molden/molden_format.html\n",
    "    Specifies \"atomic coordinates x,y,z and atomic displacements dx,dy,dz are all in Bohr (Atomic Unit of length)\"\n",
    "    Despite it being quite wrong, imaginary modes are represented by a negative frequency.\n",
    "    \n",
    "    Modified to be accepted by Avogrado. \n",
    "    \"\"\"\n",
    "    nat = int(len(vibinfo['q'].data[:, 0]) / 3)\n",
    "    active = [idx for idx, trv in enumerate(vibinfo['TRV'].data) if trv == 'V']\n",
    "\n",
    "    text = '[Molden Format]\\n'\n",
    "\n",
    "    text += \"\"\"[FREQ]\\n\"\"\"\n",
    "    for vib in active:\n",
    "        if vibinfo['omega'].data[vib].imag > vibinfo['omega'].data[vib].real:\n",
    "            freq = -1.0 * vibinfo['omega'].data[vib].imag\n",
    "            Int = vibinfo['IR_intensity'].data[vib].real\n",
    "        else:\n",
    "            freq = vibinfo['omega'].data[vib].real\n",
    "            Int = vibinfo['IR_intensity'].data[vib].real\n",
    "        text += \"\"\"{:11.4f}{:11.4f}\\n\"\"\".format(freq, Int)\n",
    "\n",
    "        \n",
    "    text += \"\"\"[FR-COORD]\\n\"\"\"\n",
    "    for at in range(nat):\n",
    "        text += (\"{:>2}{:13.6f}{:13.6f}{:13.6f}\\n\").format(atom_symbol[at], *geom[at])\n",
    "\n",
    "    text += \"\"\"[FR-NORM-COORD]\\n\"\"\"\n",
    "    for idx, vib in enumerate(active):\n",
    "        text += \"\"\"vibration {}\\n\"\"\".format(idx + 1)\n",
    "        for at in range(nat):\n",
    "            text += ('   ' + \"\"\"{:11.6f}\"\"\" * 3 + '\\n').format(*(vibinfo['x'].data[:, vib].reshape(nat, 3)[at].real))\n",
    "\n",
    "\n",
    "    return text"
   ]
  },
  {
   "cell_type": "code",
   "execution_count": 33,
   "id": "87b84d37-8685-4a32-9942-7b53a179b52b",
   "metadata": {},
   "outputs": [],
   "source": [
    "# Writing result to ouput file\n",
    "with open(\"iso_prop.molden\", \"w\") as out:\n",
    "    out.write(wfn2molen_vibrational_modes(scf_wfn))"
   ]
  },
  {
   "cell_type": "code",
   "execution_count": 23,
   "id": "959c3c65-e450-418b-af77-90740d9b68c5",
   "metadata": {},
   "outputs": [
    {
     "data": {
      "text/plain": [
       "QCAspect(lbl='translation/rotation/vibration', units='', data=['TR', 'TR', 'TR', 'TR', 'TR', 'TR', 'V', 'V', 'V', 'V', 'V', 'V', 'V', 'V', 'V', 'V', 'V', 'V', 'V', 'V', 'V', 'V', 'V', 'V', 'V', 'V', 'V', 'V', 'V', 'V', 'V', 'V', 'V', 'V', 'V', 'V'], comment='', doi=None, glossary='')"
      ]
     },
     "execution_count": 23,
     "metadata": {},
     "output_type": "execute_result"
    }
   ],
   "source": [
    "scf_wfn.frequency_analysis['IR_intensity']"
   ]
  },
  {
   "cell_type": "code",
   "execution_count": 5,
   "id": "6163ce79-7e60-49e3-873e-c3400d3d7fc2",
   "metadata": {},
   "outputs": [
    {
     "name": "stdin",
     "output_type": "stream",
     "text": [
      "Please input the name of PSI4 calculation output file:  output-Copy1.dat\n",
      "Please input the name of the molden input file:  out\n"
     ]
    }
   ],
   "source": [
    "ques1 = input(\"Please input the name of PSI4 calculation output file: \")\n",
    "readfile = open(ques1,'r')\n",
    "sepfile = readfile.read().split('\\n')\n",
    "readfile.close()\n",
    "\n",
    "freq = []\n",
    "x = []\n",
    "y = []\n",
    "z = []\n",
    "atom_name = []\n",
    "atom_x = []\n",
    "atom_y = []\n",
    "atom_z = []\n",
    "count = 0\n",
    "count_ac = 0\n",
    "count_s = 0\n",
    "cc = 0\n",
    "line = 0\n",
    "for pair in sepfile:\n",
    "    if pair == '*** PSI4 exiting successfully. Buy a developer a beer!':\n",
    "        break\n",
    "    else:\n",
    "        pass\n",
    "\n",
    "    if pair == '}':\n",
    "        cc = 100000\n",
    "\n",
    "    if line > 29 and cc < 100:\n",
    "        matrix = pair.split()\n",
    "        atom_name.append(matrix[0])\n",
    "        atom_x.append(float(float(matrix[1])*1.889725989))\n",
    "        atom_y.append(float(float(matrix[2])*1.889725989))\n",
    "        atom_z.append(float(float(matrix[3])*1.889725989))\n",
    "\n",
    "    if count_ac == 1 and pair != '':\n",
    "        str_s = ''\n",
    "        for i in range(13):\n",
    "            str_s = str_s+pair[i]\n",
    "\n",
    "        if count == 1:\n",
    "\n",
    "            if count_s > (len(atom_name)-1):#19\n",
    "                count = 0\n",
    "                count_s = 0\n",
    "            else:\n",
    "                matrix = pair.split()\n",
    "                count_s = count_s + 1\n",
    "                x.append(float(matrix[1]))\n",
    "                y.append(float(matrix[2]))\n",
    "                z.append(float(matrix[3]))\n",
    "\n",
    "        if str_s == '\t     X      ':\n",
    "            count = count + 1\n",
    "        else:\n",
    "            pass\n",
    "\n",
    "        if str_s == '   Frequency:':\n",
    "            c_f = ''\n",
    "            for i in range(7):\n",
    "                c_f = c_f+pair[20+i]\n",
    "            if len(pair) >= 28:\n",
    "                c_f = '-'+'%5f'%float(c_f)\n",
    "            freq.append(c_f)\n",
    "\n",
    "    if pair == '\tFrequencies in cm^-1; force constants in au.':\n",
    "        count_ac = count_ac + 1\n",
    "    else:\n",
    "        pass\n",
    "    if line == 29:\n",
    "        line = line + 1\n",
    "    else:\n",
    "        pass\n",
    "    if pair == 'molecule {':\n",
    "        line = 29\n",
    "    else:\n",
    "        pass\n",
    "filename2 = input(\"Please input the name of the molden input file: \")\n",
    "text_file1 = open(filename2,'w')\n",
    "text_file1.write('[Molden Format]\\n')\n",
    "text_file1.write('[FR-COORD]\\n')\n",
    "for i in range(len(atom_name)):\n",
    "    text_file1.write(str(atom_name[i]))\n",
    "    text_file1.write('\\t')\n",
    "    text_file1.write(str(atom_x[i]))\n",
    "    text_file1.write('\\t')\n",
    "    text_file1.write(str(atom_y[i]))\n",
    "    text_file1.write('\\t')\n",
    "    text_file1.write(str(atom_z[i]))\n",
    "    text_file1.write('\\n')\n",
    "text_file1.write('[FREQ]\\n')\n",
    "for i in range(len(freq)):\n",
    "    text_file1.write(str(freq[i]))\n",
    "    text_file1.write('\\n')\n",
    "text_file1.write('[FR-NORM-COORD]')\n",
    "text_file1.write('\\n')\n",
    "aa = 0\n",
    "for i in range(len(freq)):\n",
    "    text_file1.write(str('Vibration'))\n",
    "    text_file1.write('\\t')\n",
    "    text_file1.write(str(i+1))\n",
    "    text_file1.write('\\n')\n",
    "    for j in range(len(atom_name)):\n",
    "        text_file1.write('\\t')\n",
    "        text_file1.write(str(x[j+aa*len(atom_name)]*1.889725989))\n",
    "        text_file1.write('\\t')\n",
    "        text_file1.write(str(y[j+aa*len(atom_name)]*1.889725989))\n",
    "        text_file1.write('\\t')\n",
    "        text_file1.write(str(z[j+aa*len(atom_name)]*1.889725989))\n",
    "        text_file1.write('\\n')\n",
    "    aa = aa + 1\n",
    "text_file1.write('\\n')\n",
    "text_file1.close()"
   ]
  },
  {
   "cell_type": "code",
   "execution_count": null,
   "id": "5ca0169a-dacb-46d0-9b50-d3047efec8e6",
   "metadata": {},
   "outputs": [],
   "source": []
  }
 ],
 "metadata": {
  "kernelspec": {
   "display_name": "psi4",
   "language": "python",
   "name": "psi4"
  },
  "language_info": {
   "codemirror_mode": {
    "name": "ipython",
    "version": 3
   },
   "file_extension": ".py",
   "mimetype": "text/x-python",
   "name": "python",
   "nbconvert_exporter": "python",
   "pygments_lexer": "ipython3",
   "version": "3.7.11"
  }
 },
 "nbformat": 4,
 "nbformat_minor": 5
}
