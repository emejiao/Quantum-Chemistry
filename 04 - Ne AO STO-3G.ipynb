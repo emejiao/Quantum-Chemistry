{
 "cells": [
  {
   "cell_type": "markdown",
   "metadata": {},
   "source": [
    "# This notebook is read only (cannot be saved).  Use File -> Make a Copy before starting.  (this will save it as notebook name-Copy1)"
   ]
  },
  {
   "cell_type": "markdown",
   "metadata": {},
   "source": [
    "Neon Atomic Orbitals and Basis Set Exploration\n",
    "\n",
    "Based on an excellent post by Jacob Martin at:  http://nznano.blogspot.com/2018/03/simple-quantum-chemistry-hartree-fock.html\n",
    "\n",
    "Also based on a very helpful basis set overview by C. David Sherrill:  http://vergil.chemistry.gatech.edu/courses/chem6485/pdf/basis-sets.pdf"
   ]
  },
  {
   "cell_type": "markdown",
   "metadata": {},
   "source": [
    "Define a Neon atom.  Don't use symmetry because that complicates the orbitals.  (C1 symmetry means no symmetry)\n",
    "Calculate its energy and write out details to a file (Ne.molden)."
   ]
  },
  {
   "cell_type": "code",
   "execution_count": 1,
   "metadata": {},
   "outputs": [
    {
     "name": "stdout",
     "output_type": "stream",
     "text": [
      "\n",
      "  Memory set to 476.837 MiB by Python driver.\n",
      "\n",
      "Scratch directory: /tmp/\n",
      "\n",
      "Scratch directory: /tmp/\n",
      "\n",
      "*** tstart() called on lab-203-2\n",
      "*** at Thu Oct 21 08:57:44 2021\n",
      "\n",
      "   => Loading Basis Set <=\n",
      "\n",
      "    Name: STO-3G\n",
      "    Role: ORBITAL\n",
      "    Keyword: BASIS\n",
      "    atoms 1 entry NE         line   101 file /home/emejia/psi4conda/share/psi4/basis/sto-3g.gbs \n",
      "\n",
      "\n",
      "         ---------------------------------------------------------\n",
      "                                   SCF\n",
      "               by Justin Turney, Rob Parrish, Andy Simmonett\n",
      "                          and Daniel G. A. Smith\n",
      "                              RHF Reference\n",
      "                        1 Threads,    476 MiB Core\n",
      "         ---------------------------------------------------------\n",
      "\n",
      "  ==> Geometry <==\n",
      "\n",
      "    Molecular point group: c1\n",
      "    Geometry (in Angstrom), charge = 0, multiplicity = 1:\n",
      "\n",
      "       Center              X                  Y                   Z               Mass       \n",
      "    ------------   -----------------  -----------------  -----------------  -----------------\n",
      "         NE           0.000000000000     0.000000000000     0.000000000000    19.992440176200\n",
      "\n",
      "  Running in c1 symmetry.\n",
      "\n",
      "  Rotational constants: A = ************  B = ************  C = ************ [cm^-1]\n",
      "  Rotational constants: A = ************  B = ************  C = ************ [MHz]\n",
      "  Nuclear repulsion =    0.000000000000000\n",
      "\n",
      "  Charge       = 0\n",
      "  Multiplicity = 1\n",
      "  Electrons    = 10\n",
      "  Nalpha       = 5\n",
      "  Nbeta        = 5\n",
      "\n",
      "  ==> Algorithm <==\n",
      "\n",
      "  SCF Algorithm Type is DF.\n",
      "  DIIS enabled.\n",
      "  MOM disabled.\n",
      "  Fractional occupation disabled.\n",
      "  Guess Type is CORE.\n",
      "  Energy threshold   = 1.00e-06\n",
      "  Density threshold  = 1.00e-06\n",
      "  Integral threshold = 1.00e-12\n",
      "\n",
      "  ==> Primary Basis <==\n",
      "\n",
      "  Basis Set: STO-3G\n",
      "    Blend: STO-3G\n",
      "    Number of shells: 3\n",
      "    Number of basis functions: 5\n",
      "    Number of Cartesian functions: 5\n",
      "    Spherical Harmonics?: true\n",
      "    Max angular momentum: 1\n",
      "\n",
      "   => Loading Basis Set <=\n",
      "\n",
      "    Name: (STO-3G AUX)\n",
      "    Role: JKFIT\n",
      "    Keyword: DF_BASIS_SCF\n",
      "    atoms 1 entry NE         line   438 file /home/emejia/psi4conda/share/psi4/basis/def2-universal-jkfit.gbs \n",
      "\n",
      "  ==> Integral Setup <==\n",
      "\n",
      "  DFHelper Memory: AOs need 0.000 GiB; user supplied 0.349 GiB. Using in-core AOs.\n",
      "\n",
      "  ==> MemDFJK: Density-Fitted J/K Matrices <==\n",
      "\n",
      "    J tasked:                   Yes\n",
      "    K tasked:                   Yes\n",
      "    wK tasked:                   No\n",
      "    OpenMP threads:               1\n",
      "    Memory [MiB]:               357\n",
      "    Algorithm:                 Core\n",
      "    Schwarz Cutoff:           1E-12\n",
      "    Mask sparsity (%):       0.0000\n",
      "    Fitting Condition:        1E-10\n",
      "\n",
      "   => Auxiliary Basis Set <=\n",
      "\n",
      "  Basis Set: (STO-3G AUX)\n",
      "    Blend: DEF2-UNIVERSAL-JKFIT\n",
      "    Number of shells: 25\n",
      "    Number of basis functions: 77\n",
      "    Number of Cartesian functions: 93\n",
      "    Spherical Harmonics?: true\n",
      "    Max angular momentum: 4\n",
      "\n",
      "  Minimum eigenvalue in the overlap matrix is 7.5721834118E-01.\n",
      "  R"
     ]
    }
   ],
   "source": [
    "import psi4\n",
    "psi4.set_memory('500 MB')\n",
    "\n",
    "h2o = psi4.geometry(\"\"\"\n",
    "0 1\n",
    "Ne 0 0 0\n",
    "symmetry c1\n",
    "\"\"\")\n",
    "\n",
    "#psi4.set_options({'reference':'uhf'})\n",
    "e, wfn = psi4.energy('scf/sto-3g', return_wfn=True)\n",
    "\n",
    "psi4.molden(wfn,'Ne.molden')"
   ]
  },
  {
   "cell_type": "markdown",
   "metadata": {},
   "source": [
    "The molden file we wrote has the basis set and coefficients in an \"easy to read\" format"
   ]
  },
  {
   "cell_type": "code",
   "execution_count": 2,
   "metadata": {},
   "outputs": [
    {
     "name": "stdout",
     "output_type": "stream",
     "text": [
      "eciprocal condition number of the overlap matrix is 6.0929314156E-01.\n",
      "    Using symmetric orthogonalization.\n",
      "\n",
      "  ==> Pre-Iterations <==\n",
      "\n",
      "  SCF Guess: Core (One-Electron) Hamiltonian.\n",
      "\n",
      "   -------------------------------------------------------\n",
      "    Irrep   Nso     Nmo     Nalpha   Nbeta   Ndocc  Nsocc\n",
      "   -------------------------------------------------------\n",
      "     A          5       5       5       5       5       0\n",
      "   -------------------------------------------------------\n",
      "    Total       5       5       5       5       5       0\n",
      "   -------------------------------------------------------\n",
      "\n",
      "  ==> Iterations <==\n",
      "\n",
      "                           Total Energy        Delta E     RMS |[F,P]|\n",
      "\n",
      "   @DF-RHF iter   1:  -126.60457333960841   -1.26605e+02   3.10755e-15 DIIS\n",
      "   @DF-RHF iter   2:  -126.60457333960846   -5.68434e-14   3.20516e-15 DIIS\n",
      "  Energy and wave function converged.\n",
      "\n",
      "\n",
      "  ==> Post-Iterations <==\n",
      "\n",
      "    Orbital Energies [Eh]\n",
      "    ---------------------\n",
      "\n",
      "    Doubly Occupied:                                                      \n",
      "\n",
      "       1A    -32.212728     2A     -1.706080     3A     -0.543005  \n",
      "       4A     -0.543005     5A     -0.543005  \n",
      "\n",
      "    Virtual:                                                              \n",
      "\n",
      "    \n",
      "\n",
      "    Final Occupation by Irrep:\n",
      "              A \n",
      "    DOCC [     5 ]\n",
      "\n",
      "  @DF-RHF Final Energy:  -126.60457333960846\n",
      "\n",
      "   => Energetics <=\n",
      "\n",
      "    Nuclear Repulsion Energy =              0.0000000000000000\n",
      "    One-Electron Energy =                -182.1135014500412126\n",
      "    Two-Electron Energy =                  55.5089281104327483\n",
      "    Total Energy =                       -126.6045733396084643\n",
      "\n",
      "Computation Completed\n",
      "\n",
      "\n",
      "Properties will be evaluated at   0.000000,   0.000000,   0.000000 [a0]\n",
      "\n",
      "Properties computed using the SCF density matrix\n",
      "\n",
      "  Nuclear Dipole Moment: [e a0]\n",
      "     X:     0.0000      Y:     0.0000      Z:     0.0000\n",
      "\n",
      "  Electronic Dipole Moment: [e a0]\n",
      "     X:    -0.0000      Y:     0.0000      Z:     0.0000\n",
      "\n",
      "  Dipole Moment: [e a0]\n",
      "     X:    -0.0000      Y:     0.0000      Z:     0.0000     Total:     0.0000\n",
      "\n",
      "  Dipole Moment: [D]\n",
      "     X:    -0.0000      Y:     0.0000      Z:     0.0000     Total:     0.0000\n",
      "\n",
      "\n",
      "*** tstop() called on lab-203-2 at Thu Oct 21 08:57:44 2021\n",
      "Module time:\n",
      "\tuser time   =       0.10 seconds =       0.00 minutes\n",
      "\tsystem time =       0.00 seconds =       0.00 minutes\n",
      "\ttotal time  =          0 seconds =       0.00 minutes\n",
      "Total time:\n",
      "\tuser time   =       0.10 seconds =       0.00 minutes\n",
      "\tsystem time =       0.00 seconds =       0.00 minutes\n",
      "\ttotal time  =          0 seconds =       0.00 minutes\n",
      "\tConstructing a MoldenWriter and then calling write instead of using `wfn.write_molden(name)`\n",
      "\tis both buggy and deprecated, and in 1.5 it will stop working.\n",
      "\n",
      "[Molden Format]\n",
      "[Atoms] (AU)\n",
      "NE   1   10           0.0000000000         0.0000000000         0.0000000000\n",
      "[GTO]\n",
      "  1 0\n",
      " s    3  1.00\n",
      "      207.0156100000         0.1543289700\n",
      "       37.7081510000         0.5353281400\n",
      "       10.2052970000         0.4446345400\n",
      " s    3  1.00\n",
      "        8.2463151000        -0.0999672300\n",
      "        1.9162662000         0.3995128300\n",
      "        0.6232293000         0.7001154700\n",
      " p    3  1.00\n",
      "        8.2463151000         0.1559162700\n",
      "        1.9162662000         0.6076837200\n",
      "        0.6232293000         0.3919573900\n",
      "\n",
      "[5D]\n",
      "[9G]\n",
      "\n",
      "[MO]\n",
      " Sym= A\n",
      " Ene=        -3.2212728256e+01\n",
      " Spin= Alpha\n",
      " Occup=         2.0000000000e+00\n",
      "  1         9.9501482069e-01\n",
      "  2         1.9775591455e-02\n",
      "  3         3.9855174311e-17\n",
      "  4        -1.9421912529e-17\n",
      "  5        -1.0410882027e-16\n",
      " Sym= A\n",
      " Ene=        -1.7060800849e+00\n",
      " Spin= Alpha\n",
      " Occup=         2.0000000000e+00\n",
      "  1         2.6940734984e-01\n",
      "  2        -1.0306520943e+00\n",
      "  3        -2.7115732616e-15\n",
      "  4         1.3262044725e-15\n",
      "  5         2.4378365662e-15\n",
      " Sym= A\n",
      " Ene=        -5.4300475797e-01\n",
      " Spin= Alpha\n",
      " Occup=         2.0000000000e+00\n",
      "  1        -5.3497991800e-16\n",
      "  2         2.4230061327e-15\n",
      "  3        -2.8928482528e-03\n",
      "  4         6.9796708761e-03\n",
      "  5         9.9997145740e-01\n",
      " Sym= A\n",
      " Ene=        -5.4300475797e-01\n",
      " Spin= Alpha\n",
      " Occup=         2.0000000000e+00\n",
      "  1         3.3805852642e-16\n",
      "  2        -1.3576249748e-15\n",
      "  3         5.4255136678e-03\n",
      "  4        -9.9996081408e-01\n",
      "  5         6.9952922228e-03\n",
      " Sym= A\n",
      " Ene=        -5.4300475797e-01\n",
      " Spin= Alpha\n",
      " Occup=         2.0000000000e+00\n",
      "  1         7.0359512979e-16\n",
      "  2        -2.5669437693e-15\n",
      "  3         9.9998109744e-01\n",
      "  4         5.4455951284e-03\n",
      "  5         2.8548665941e-03\n"
     ]
    }
   ],
   "source": [
    "!cat Ne.molden\n"
   ]
  },
  {
   "cell_type": "markdown",
   "metadata": {},
   "source": [
    "wfn.Ca() also gives the coefficients of alpha spin electrons.  If we use RHF these are the same as beta.  .nph is a way to display them"
   ]
  },
  {
   "cell_type": "code",
   "execution_count": 3,
   "metadata": {
    "scrolled": true
   },
   "outputs": [
    {
     "data": {
      "text/plain": [
       "(array([[ 9.95014821e-01,  2.69407350e-01, -5.34979918e-16,\n",
       "          3.38058526e-16,  7.03595130e-16],\n",
       "        [ 1.97755915e-02, -1.03065209e+00,  2.42300613e-15,\n",
       "         -1.35762497e-15, -2.56694377e-15],\n",
       "        [-1.04108820e-16,  2.43783657e-15,  9.99971457e-01,\n",
       "          6.99529222e-03,  2.85486659e-03],\n",
       "        [ 3.98551743e-17, -2.71157326e-15, -2.89284825e-03,\n",
       "          5.42551367e-03,  9.99981097e-01],\n",
       "        [-1.94219125e-17,  1.32620447e-15,  6.97967088e-03,\n",
       "         -9.99960814e-01,  5.44559513e-03]]),)"
      ]
     },
     "execution_count": 3,
     "metadata": {},
     "output_type": "execute_result"
    }
   ],
   "source": [
    "import numpy as np\n",
    "wfn.Ca().nph"
   ]
  },
  {
   "cell_type": "markdown",
   "metadata": {},
   "source": [
    "To plot our basis functions and orbitals we setup matplotlib and define x,y,z, and r coordinates"
   ]
  },
  {
   "cell_type": "code",
   "execution_count": 4,
   "metadata": {},
   "outputs": [],
   "source": [
    "import numpy as np\n",
    "\n",
    "import matplotlib.pyplot as plt\n",
    "%matplotlib inline\n",
    "\n",
    "x = np.linspace(-5,5,num=1000)\n",
    "y = np.linspace(-5,5,num=1000)\n",
    "z = np.linspace(-5,5,num=1000)\n",
    "\n",
    "r = abs(x)\n"
   ]
  },
  {
   "cell_type": "markdown",
   "metadata": {},
   "source": [
    "The first s GTO is defined by:  (The exponents are first and the coefficients are second)\n",
    "\n",
    "    s    3  1.00\n",
    "          207.0156100000         0.1543289700\n",
    "           37.7081510000         0.5353281400\n",
    "           10.2052970000         0.4446345400"
   ]
  },
  {
   "cell_type": "code",
   "execution_count": 5,
   "metadata": {},
   "outputs": [
    {
     "data": {
      "text/plain": [
       "[<matplotlib.lines.Line2D at 0x7fa7ca77a520>]"
      ]
     },
     "execution_count": 5,
     "metadata": {},
     "output_type": "execute_result"
    },
    {
     "data": {
      "image/png": "[encoded data removed]",
      "text/plain": [
       "<Figure size 360x216 with 1 Axes>"
      ]
     },
     "metadata": {
      "needs_background": "light"
     },
     "output_type": "display_data"
    }
   ],
   "source": [
    "GTO_1s = 0.1543289700*(2*207.0156100000/np.pi)**(0.75)*np.exp(-207.0156100000*r**2) \\\n",
    "                + 0.5353281400*(2*37.7081510000/np.pi)**(0.75)*np.exp(-37.7081510000*r**2) \\\n",
    "                + 0.4446345400*(2*10.2052970000 /np.pi)**(0.75)*np.exp(-10.2052970000 *r**2)\n",
    "    \n",
    "plt.figure(figsize=(5,3))\n",
    "plt.title(\"GTO 1s\")\n",
    "plt.plot(x,GTO_1s)\n"
   ]
  },
  {
   "cell_type": "markdown",
   "metadata": {},
   "source": [
    "Let's define a function for the radial distribution of the 1s AO."
   ]
  },
  {
   "cell_type": "code",
   "execution_count": 6,
   "metadata": {},
   "outputs": [],
   "source": [
    "def R_1s(r):\n",
    "    psi_1s =  0.1543289700*(2*207.0156100000/np.pi)**(0.75)*np.exp(-207.0156100000*r**2) \\\n",
    "            + 0.5353281400*(2*37.7081510000/np.pi)**(0.75)*np.exp(-37.7081510000*r**2) \\\n",
    "            + 0.4446345400*(2*10.2052970000 /np.pi)**(0.75)*np.exp(-10.2052970000 *r**2)\n",
    "    \n",
    "    return 4*np.pi*r**2*psi_1s**2"
   ]
  },
  {
   "cell_type": "code",
   "execution_count": 7,
   "metadata": {},
   "outputs": [
    {
     "data": {
      "text/plain": [
       "[<matplotlib.lines.Line2D at 0x7fa7c92a2220>]"
      ]
     },
     "execution_count": 7,
     "metadata": {},
     "output_type": "execute_result"
    },
    {
     "data": {
      "image/png": "[encoded data removed]",
      "text/plain": [
       "<Figure size 360x216 with 1 Axes>"
      ]
     },
     "metadata": {
      "needs_background": "light"
     },
     "output_type": "display_data"
    }
   ],
   "source": [
    "plt.figure(figsize=(5,3))\n",
    "plt.title(\"GTO_2s\")\n",
    "plt.plot(r,R_1s(r))"
   ]
  },
  {
   "cell_type": "markdown",
   "metadata": {},
   "source": [
    "You can look on the plot to see how far the 1s orbital extends.  Verify that it goes out to about 0.5.  The units of length is the bohr.  (The distance of the electron in hydrogen).  So 0.5 means half the radius of an electron in hydrogen."
   ]
  },
  {
   "cell_type": "markdown",
   "metadata": {},
   "source": [
    "We can integrate to show this mathematically.  First let's see if it's normalized.  Integrate it from 0 to 10.  This is pretty much infinity."
   ]
  },
  {
   "cell_type": "code",
   "execution_count": 8,
   "metadata": {},
   "outputs": [
    {
     "data": {
      "text/plain": [
       "(0.9999999890536202, 7.843383236934265e-11)"
      ]
     },
     "execution_count": 8,
     "metadata": {},
     "output_type": "execute_result"
    }
   ],
   "source": [
    "from scipy import integrate\n",
    "integrate.quad(R_1s,0,10)"
   ]
  },
  {
   "cell_type": "markdown",
   "metadata": {},
   "source": [
    "The first value is the integral (1 means this function is normalized).  The second value is the integration error.  Let's see what the integral is from 0 to 0.5"
   ]
  },
  {
   "cell_type": "code",
   "execution_count": 9,
   "metadata": {},
   "outputs": [
    {
     "data": {
      "text/plain": [
       "(0.996649998327564, 6.151979972411205e-14)"
      ]
     },
     "execution_count": 9,
     "metadata": {},
     "output_type": "execute_result"
    }
   ],
   "source": [
    "integrate.quad(R_1s,0,0.5)"
   ]
  },
  {
   "cell_type": "markdown",
   "metadata": {},
   "source": [
    "This means that 99.7% of the orbital is found between 0 and 0.5."
   ]
  },
  {
   "cell_type": "markdown",
   "metadata": {},
   "source": [
    "The second s STO is defined by:  (The exponents are first and the coefficients are second)\n",
    "\n",
    "     s    3  1.00\n",
    "            8.2463151000        -0.0999672300\n",
    "            1.9162662000         0.3995128300\n",
    "            0.6232293000         0.7001154700"
   ]
  },
  {
   "cell_type": "code",
   "execution_count": 10,
   "metadata": {
    "scrolled": true
   },
   "outputs": [
    {
     "data": {
      "text/plain": [
       "[<matplotlib.lines.Line2D at 0x7fa7c92133d0>]"
      ]
     },
     "execution_count": 10,
     "metadata": {},
     "output_type": "execute_result"
    },
    {
     "data": {
      "image/png": "[encoded data removed]",
      "text/plain": [
       "<Figure size 360x216 with 1 Axes>"
      ]
     },
     "metadata": {
      "needs_background": "light"
     },
     "output_type": "display_data"
    }
   ],
   "source": [
    "GTO_2s = -0.0999672300*(2*8.2463151000/np.pi)**(0.75)*np.exp(-8.2463151000*r**2) \\\n",
    "                + 0.3995128300*(2*1.9162662000/np.pi)**(0.75)*np.exp(-1.9162662000*r**2) \\\n",
    "                +  0.7001154700*(2*0.6232293000/np.pi)**(0.75)*np.exp(-0.6232293000*r**2)\n",
    "\n",
    "plt.figure(figsize=(5,3))\n",
    "plt.title(\"GTO_2s\")\n",
    "plt.plot(x,GTO_2s)"
   ]
  },
  {
   "cell_type": "markdown",
   "metadata": {},
   "source": [
    "This is weird.  The 2s AO doesn't look like this.  Most of the AOs are simply the GTOs (the coeffiecient is 1).  But the 2s AO needs a radial node, and the GTOs don't have any.  So the 2s AO is defined as a Linear Combination of the GTO_1s and GTO_2s functions.  You can see the coefficients in the Molden File under the second orbital:\n",
    "\n",
    "     Sym= A\n",
    "     Ene= -1.70608008491765339e+00\n",
    "     Spin= Alpha\n",
    "     Occup=  2.00000000000000000e+00\n",
    "      1  2.69407349843027555e-01\n",
    "      2 -1.03065209431487670e+00\n",
    "      3 -1.53722094003921071e-15\n",
    "      4 -7.38693396902810166e-16\n",
    "      5 -1.39519597842396162e-15\n",
    "\n",
    "We can use these coefficients and plot its radial distribution function to see the radial node."
   ]
  },
  {
   "cell_type": "code",
   "execution_count": 11,
   "metadata": {},
   "outputs": [],
   "source": [
    "psi_2s = 2.69407349843027555e-01 * GTO_1s + -1.03065209431487670e+00 * GTO_2s"
   ]
  },
  {
   "cell_type": "code",
   "execution_count": 12,
   "metadata": {},
   "outputs": [
    {
     "data": {
      "text/plain": [
       "[<matplotlib.lines.Line2D at 0x7fa7c91e7f10>]"
      ]
     },
     "execution_count": 12,
     "metadata": {},
     "output_type": "execute_result"
    },
    {
     "data": {
      "image/png": "[encoded data removed]",
      "text/plain": [
       "<Figure size 360x216 with 1 Axes>"
      ]
     },
     "metadata": {
      "needs_background": "light"
     },
     "output_type": "display_data"
    }
   ],
   "source": [
    "plt.figure(figsize=(5,3))\n",
    "plt.title(\"2s orbital is a linear combination of two GTOs\")\n",
    "plt.plot(r,4*np.pi*r**2*psi_2s**2)"
   ]
  },
  {
   "cell_type": "markdown",
   "metadata": {},
   "source": [
    "Visually estimate the radius of the 2s orbital from the graph."
   ]
  },
  {
   "cell_type": "markdown",
   "metadata": {},
   "source": [
    "The p GTOs are defined by:\n",
    "\n",
    "    p    3  1.00\n",
    "            8.2463151000         0.1559162700\n",
    "            1.9162662000         0.6076837200\n",
    "            0.6232293000         0.3919573900"
   ]
  },
  {
   "cell_type": "markdown",
   "metadata": {},
   "source": [
    "The 2p AOs have a node at the origin and are + and - on each side.  Always remember that this is just the sign of the wavefunction and has nothing to do with the charge!  The wavefunction represent the position of electrons and their charge is always negative!"
   ]
  },
  {
   "cell_type": "code",
   "execution_count": 13,
   "metadata": {
    "scrolled": true
   },
   "outputs": [
    {
     "data": {
      "text/plain": [
       "[<matplotlib.lines.Line2D at 0x7fa7c9163820>]"
      ]
     },
     "execution_count": 13,
     "metadata": {},
     "output_type": "execute_result"
    },
    {
     "data": {
      "image/png": "[encoded data removed]",
      "text/plain": [
       "<Figure size 360x216 with 1 Axes>"
      ]
     },
     "metadata": {
      "needs_background": "light"
     },
     "output_type": "display_data"
    }
   ],
   "source": [
    "\n",
    "psi_2px = 0.1559162700*x*(2*8.2463151000/np.pi)**(0.75)*np.exp(-8.2463151000*r**2) \\\n",
    "                +  0.6076837200*x*(2*1.9162662000/np.pi)**(0.75)*np.exp(-1.9162662000*r**2) \\\n",
    "                +  0.3919573900*x*(2*0.6232293000 /np.pi)**(0.75)*np.exp(-0.6232293000*r**2)\n",
    "\n",
    "psi_2py = 0.1559162700*y*(2*8.2463151000/np.pi)**(0.75)*np.exp(-8.2463151000*r**2) \\\n",
    "                +  0.6076837200*y*(2*1.9162662000/np.pi)**(0.75)*np.exp(-1.9162662000*r**2) \\\n",
    "                +  0.3919573900*y*(2*0.6232293000 /np.pi)**(0.75)*np.exp(-0.6232293000*r**2)\n",
    "\n",
    "psi_2pz = 0.1559162700*z*(2*8.2463151000/np.pi)**(0.75)*np.exp(-8.2463151000*r**2) \\\n",
    "                +  0.6076837200*z*(2*1.9162662000/np.pi)**(0.75)*np.exp(-1.9162662000*r**2) \\\n",
    "                +  0.3919573900*z*(2*0.6232293000 /np.pi)**(0.75)*np.exp(-0.6232293000*r**2)\n",
    "\n",
    "plt.figure(figsize=(5,3))\n",
    "plt.title(\"GTO_2px\")\n",
    "plt.plot(x,psi_2px)"
   ]
  },
  {
   "cell_type": "markdown",
   "metadata": {},
   "source": [
    "We can use JSmol to display these orbitals now.  Right click on the JSmol window, select surfaces, and Molecular Orbitals to view different atomic orbitals."
   ]
  },
  {
   "cell_type": "code",
   "execution_count": 14,
   "metadata": {},
   "outputs": [
    {
     "data": {
      "application/vnd.jupyter.widget-view+json": {
       "model_id": "dbd5f845309542b79eb0ece9e76868a2",
       "version_major": 2,
       "version_minor": 0
      },
      "text/plain": [
       "JsmolView(layout=Layout(align_self='stretch', height='400px'))"
      ]
     },
     "metadata": {},
     "output_type": "display_data"
    }
   ],
   "source": [
    "from jupyter_jsmol import JsmolView\n",
    "view1 = JsmolView.from_file(\"Ne.molden\", inline=False) \n",
    "view1"
   ]
  },
  {
   "cell_type": "markdown",
   "metadata": {},
   "source": [
    "You can also use the JSmol script language to look at different orbitals."
   ]
  },
  {
   "cell_type": "code",
   "execution_count": 15,
   "metadata": {},
   "outputs": [],
   "source": [
    "view1.script('mo 4')"
   ]
  },
  {
   "cell_type": "code",
   "execution_count": null,
   "metadata": {},
   "outputs": [],
   "source": []
  },
  {
   "cell_type": "code",
   "execution_count": null,
   "metadata": {},
   "outputs": [],
   "source": []
  }
 ],
 "metadata": {
  "kernelspec": {
   "display_name": "Python 3 (ipykernel)",
   "language": "python",
   "name": "python3"
  },
  "language_info": {
   "codemirror_mode": {
    "name": "ipython",
    "version": 3
   },
   "file_extension": ".py",
   "mimetype": "text/x-python",
   "name": "python",
   "nbconvert_exporter": "python",
   "pygments_lexer": "ipython3",
   "version": "3.8.11"
  }
 },
 "nbformat": 4,
 "nbformat_minor": 4
}
